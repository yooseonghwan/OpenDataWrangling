{
  "nbformat": 4,
  "nbformat_minor": 0,
  "metadata": {
    "colab": {
      "name": "01 국민청원 분석 및 시각화",
      "version": "0.3.2",
      "provenance": [],
      "collapsed_sections": [
        "Sy3JT42oP9y3",
        "6zc9ccHUP9zB",
        "Y4MykXlgP9zE",
        "LioAky8HP9zI",
        "kv6ta8DBP9zL",
        "m8I7xSF1P9zP",
        "lSUyHJxJP9zZ",
        "WQMH_ScfP9ze",
        "zTdDAELFP9ze",
        "Kh5I494eP9zi",
        "vJLTnI61P9zo",
        "yjgU4blpP9zs",
        "A4ybmUiyP9zu",
        "oV6rrfHwP9z1",
        "wsjANi34P9z7",
        "zwRgmYMiP9z-",
        "xFdQEshDP90D",
        "__3b0MP_P90H",
        "cGMz2bnOP90g",
        "N3kWCup_P91C",
        "OLtABDWzP91L",
        "pwVtc2IZP91R",
        "uFpSDQOeP91g"
      ],
      "include_colab_link": true
    },
    "kernelspec": {
      "display_name": "Python 3",
      "language": "python",
      "name": "python3"
    }
  },
  "cells": [
    {
      "cell_type": "markdown",
      "metadata": {
        "id": "view-in-github",
        "colab_type": "text"
      },
      "source": [
        "[View in Colaboratory](https://colab.research.google.com/github/yooseonghwan/OpenDataWrangling/blob/master/01_%EA%B5%AD%EB%AF%BC%EC%B2%AD%EC%9B%90_%EB%B6%84%EC%84%9D_%EB%B0%8F_%EC%8B%9C%EA%B0%81%ED%99%94_teacher.ipynb)"
      ]
    },
    {
      "metadata": {
        "id": "topCdeI3P9yL",
        "colab_type": "text"
      },
      "cell_type": "markdown",
      "source": [
        "# 국민청원 데이터 분석하기"
      ]
    },
    {
      "metadata": {
        "id": "zztJzDy5P9yL",
        "colab_type": "code",
        "colab": {}
      },
      "cell_type": "code",
      "source": [
        "# 출력데이터가 지저분하게 보이지 않도록\n",
        "import warnings\n",
        "warnings.filterwarnings('ignore')"
      ],
      "execution_count": 0,
      "outputs": []
    },
    {
      "metadata": {
        "id": "Yy5YKCjRRNWE",
        "colab_type": "code",
        "colab": {
          "base_uri": "https://localhost:8080/",
          "height": 447
        },
        "outputId": "425e28c8-3928-44c2-9c64-e7d3bd3f8aae"
      },
      "cell_type": "code",
      "source": [
        "!pip install plotnine"
      ],
      "execution_count": 16,
      "outputs": [
        {
          "output_type": "stream",
          "text": [
            "Requirement already satisfied: plotnine in /usr/local/lib/python3.6/dist-packages (0.4.0)\r\n",
            "Requirement already satisfied: descartes>=1.1.0 in /usr/local/lib/python3.6/dist-packages (from plotnine) (1.1.0)\r\n",
            "Requirement already satisfied: six in /usr/local/lib/python3.6/dist-packages (from plotnine) (1.11.0)\r\n",
            "Requirement already satisfied: matplotlib>=2.1.0 in /usr/local/lib/python3.6/dist-packages (from plotnine) (2.1.2)\n",
            "Requirement already satisfied: geopandas>=0.3.0 in /usr/local/lib/python3.6/dist-packages (from plotnine) (0.4.0)\n",
            "Requirement already satisfied: patsy>=0.4.1 in /usr/local/lib/python3.6/dist-packages (from plotnine) (0.5.0)\n",
            "Requirement already satisfied: mizani>=0.4.5 in /usr/local/lib/python3.6/dist-packages (from plotnine) (0.4.6)\n",
            "Requirement already satisfied: numpy in /usr/local/lib/python3.6/dist-packages (from plotnine) (1.14.5)\n",
            "Requirement already satisfied: statsmodels>=0.8.0 in /usr/local/lib/python3.6/dist-packages (from plotnine) (0.8.0)\n",
            "Requirement already satisfied: pandas>=0.21.0 in /usr/local/lib/python3.6/dist-packages (from plotnine) (0.22.0)\n",
            "Requirement already satisfied: scipy>=1.0.0 in /usr/local/lib/python3.6/dist-packages (from plotnine) (1.1.0)\n",
            "Requirement already satisfied: pyparsing!=2.0.4,!=2.1.2,!=2.1.6,>=2.0.1 in /usr/local/lib/python3.6/dist-packages (from matplotlib>=2.1.0->plotnine) (2.2.0)\n",
            "Requirement already satisfied: pytz in /usr/local/lib/python3.6/dist-packages (from matplotlib>=2.1.0->plotnine) (2018.5)\n",
            "Requirement already satisfied: python-dateutil>=2.1 in /usr/local/lib/python3.6/dist-packages (from matplotlib>=2.1.0->plotnine) (2.5.3)\n",
            "Requirement already satisfied: cycler>=0.10 in /usr/local/lib/python3.6/dist-packages (from matplotlib>=2.1.0->plotnine) (0.10.0)\n",
            "Requirement already satisfied: pyproj in /usr/local/lib/python3.6/dist-packages (from geopandas>=0.3.0->plotnine) (1.9.5.1)\n",
            "Requirement already satisfied: fiona in /usr/local/lib/python3.6/dist-packages (from geopandas>=0.3.0->plotnine) (1.7.13)\n",
            "Requirement already satisfied: shapely in /usr/local/lib/python3.6/dist-packages (from geopandas>=0.3.0->plotnine) (1.6.4.post2)\n",
            "Requirement already satisfied: palettable in /usr/local/lib/python3.6/dist-packages (from mizani>=0.4.5->plotnine) (3.1.1)\n",
            "Requirement already satisfied: cligj>=0.4 in /usr/local/lib/python3.6/dist-packages (from fiona->geopandas>=0.3.0->plotnine) (0.4.0)\n",
            "Requirement already satisfied: munch in /usr/local/lib/python3.6/dist-packages (from fiona->geopandas>=0.3.0->plotnine) (2.3.2)\n",
            "Requirement already satisfied: click-plugins in /usr/local/lib/python3.6/dist-packages (from fiona->geopandas>=0.3.0->plotnine) (1.0.3)\n",
            "Requirement already satisfied: click>=4.0 in /usr/local/lib/python3.6/dist-packages (from cligj>=0.4->fiona->geopandas>=0.3.0->plotnine) (6.7)\n"
          ],
          "name": "stdout"
        }
      ]
    },
    {
      "metadata": {
        "id": "MTKsZGE8P9yP",
        "colab_type": "code",
        "colab": {
          "base_uri": "https://localhost:8080/",
          "height": 55
        },
        "outputId": "228bb0aa-5fe9-4675-a711-51b1918255bb"
      },
      "cell_type": "code",
      "source": [
        "import pandas as pd\n",
        "from pandas.api.types import CategoricalDtype # 그래프의 값을 정렬해서 보기위해\n",
        "import numpy as np\n",
        "\n",
        "print(pd.__version__)\n",
        "print(np.__version__)"
      ],
      "execution_count": 17,
      "outputs": [
        {
          "output_type": "stream",
          "text": [
            "0.22.0\n",
            "1.14.5\n"
          ],
          "name": "stdout"
        }
      ]
    },
    {
      "metadata": {
        "id": "wvC6r52UP9yU",
        "colab_type": "text"
      },
      "cell_type": "markdown",
      "source": [
        "여기에서는 시각화 도구로 [plotnine(A grammar of graphics for Python)](https://github.com/has2k1/plotnine)을 사용한다."
      ]
    },
    {
      "metadata": {
        "id": "fhFsef-6P9yV",
        "colab_type": "code",
        "colab": {}
      },
      "cell_type": "code",
      "source": [
        "from plotnine import *"
      ],
      "execution_count": 0,
      "outputs": []
    },
    {
      "metadata": {
        "id": "W67MBNrCP9yY",
        "colab_type": "text"
      },
      "cell_type": "markdown",
      "source": [
        "# Pandas로 데이터 살펴보기\n",
        "* 데이터 출처 : https://github.com/akngs/petitions"
      ]
    },
    {
      "metadata": {
        "id": "uFhE4ybSROs2",
        "colab_type": "code",
        "colab": {
          "resources": {
            "http://localhost:8080/nbextensions/google.colab/files.js": {
              "data": "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",
              "ok": true,
              "headers": [
                [
                  "content-type",
                  "application/javascript"
                ]
              ],
              "status": 200,
              "status_text": ""
            }
          },
          "base_uri": "https://localhost:8080/",
          "height": 96
        },
        "outputId": "c5215702-3556-42f4-909a-3a9b55ad152e"
      },
      "cell_type": "code",
      "source": [
        "# 드라이브 폴더에 있는 petition.csv를 업로드 합니다.\n",
        "from google.colab import files\n",
        "\n",
        "uploaded = files.upload()\n",
        "\n",
        "for fn in uploaded.keys():\n",
        "  print('User uploaded file \"{name}\" with length {length} bytes'.format(\n",
        "      name=fn, length=len(uploaded[fn])))"
      ],
      "execution_count": 19,
      "outputs": [
        {
          "output_type": "display_data",
          "data": {
            "text/html": [
              "\n",
              "     <input type=\"file\" id=\"files-5a13a9fb-1ccd-4e99-aae3-25e44ffafc26\" name=\"files[]\" multiple disabled />\n",
              "     <output id=\"result-5a13a9fb-1ccd-4e99-aae3-25e44ffafc26\">\n",
              "      Upload widget is only available when the cell has been executed in the\n",
              "      current browser session. Please rerun this cell to enable.\n",
              "      </output>\n",
              "      <script src=\"/nbextensions/google.colab/files.js\"></script> "
            ],
            "text/plain": [
              "<IPython.core.display.HTML object>"
            ]
          },
          "metadata": {
            "tags": []
          }
        },
        {
          "output_type": "stream",
          "text": [
            "Saving petition.csv to petition.csv\n",
            "User uploaded file \"petition.csv\" with length 276083931 bytes\n"
          ],
          "name": "stdout"
        }
      ]
    },
    {
      "metadata": {
        "id": "wOzHfCB2RVM2",
        "colab_type": "code",
        "colab": {
          "base_uri": "https://localhost:8080/",
          "height": 55
        },
        "outputId": "890fdfe8-62c5-4a32-8f36-0dbf8d8b78ed"
      },
      "cell_type": "code",
      "source": [
        "%ls"
      ],
      "execution_count": 21,
      "outputs": [
        {
          "output_type": "stream",
          "text": [
            "전국_평균_분양가격_2018.6월_.csv  petition.csv\r\n",
            "\u001b[0m\u001b[01;36mdatalab\u001b[0m@                                           \u001b[01;34msample_data\u001b[0m/\r\n"
          ],
          "name": "stdout"
        }
      ]
    },
    {
      "metadata": {
        "id": "L_8CfH2pP9yY",
        "colab_type": "code",
        "colab": {
          "base_uri": "https://localhost:8080/",
          "height": 36
        },
        "outputId": "29c6666d-6434-4729-efad-0cd83bea106c"
      },
      "cell_type": "code",
      "source": [
        "# 크롤링해 온 국민청원 데이터를 판다스를 통해 읽어온다.\n",
        "petitions = pd.read_csv('petition.csv', index_col=0, \\\n",
        "                        parse_dates=['start', 'end'])\n",
        "# 데이터의 크기가 어느정도인지 본다.\n",
        "petitions.shape"
      ],
      "execution_count": 22,
      "outputs": [
        {
          "output_type": "execute_result",
          "data": {
            "text/plain": [
              "(210424, 7)"
            ]
          },
          "metadata": {
            "tags": []
          },
          "execution_count": 22
        }
      ]
    },
    {
      "metadata": {
        "id": "1MBBIDKqP9yc",
        "colab_type": "text"
      },
      "cell_type": "markdown",
      "source": [
        "## 일부 데이터 미리보기\n",
        "* 전체 데이터를 한꺼번에 읽어오면 스크롤도 길고 내용이 너무 많기 때문에 일부 데이터만을 본다.\n",
        "* head()는 윗부분의 데이터 5개를 기본값으로 읽어오고 tail()은 마지막 부분의 데이터를 읽어온다.\n",
        "* 터미널에서 파일을 미리보기 할 때 사용하는 명령어와 같다."
      ]
    },
    {
      "metadata": {
        "id": "y76qj9sLP9yd",
        "colab_type": "code",
        "colab": {
          "base_uri": "https://localhost:8080/",
          "height": 171
        },
        "outputId": "42a19199-f02f-4ca7-e524-dd9dad628b1a"
      },
      "cell_type": "code",
      "source": [
        "# head를 통해 상위 몇 개의 데이터만을 본다.\n",
        "# 기본은 5개를 불러오며, 괄호안에 숫자를 적어주면 숫자만큼 불러온다.\n",
        "petitions.head(3)"
      ],
      "execution_count": 23,
      "outputs": [
        {
          "output_type": "execute_result",
          "data": {
            "text/html": [
              "<div>\n",
              "<style scoped>\n",
              "    .dataframe tbody tr th:only-of-type {\n",
              "        vertical-align: middle;\n",
              "    }\n",
              "\n",
              "    .dataframe tbody tr th {\n",
              "        vertical-align: top;\n",
              "    }\n",
              "\n",
              "    .dataframe thead th {\n",
              "        text-align: right;\n",
              "    }\n",
              "</style>\n",
              "<table border=\"1\" class=\"dataframe\">\n",
              "  <thead>\n",
              "    <tr style=\"text-align: right;\">\n",
              "      <th></th>\n",
              "      <th>start</th>\n",
              "      <th>end</th>\n",
              "      <th>answered</th>\n",
              "      <th>votes</th>\n",
              "      <th>category</th>\n",
              "      <th>title</th>\n",
              "      <th>content</th>\n",
              "    </tr>\n",
              "    <tr>\n",
              "      <th>article_id</th>\n",
              "      <th></th>\n",
              "      <th></th>\n",
              "      <th></th>\n",
              "      <th></th>\n",
              "      <th></th>\n",
              "      <th></th>\n",
              "      <th></th>\n",
              "    </tr>\n",
              "  </thead>\n",
              "  <tbody>\n",
              "    <tr>\n",
              "      <th>21</th>\n",
              "      <td>2017-08-19</td>\n",
              "      <td>2017-11-17</td>\n",
              "      <td>0</td>\n",
              "      <td>9</td>\n",
              "      <td>안전/환경</td>\n",
              "      <td>스텔라 데이지호에 대한 제안입니다.</td>\n",
              "      <td>스텔라 데이지호에 대한 제안입니다.\\n3월31일 스텔라 데이지호가 침몰하고 5달째가...</td>\n",
              "    </tr>\n",
              "    <tr>\n",
              "      <th>22</th>\n",
              "      <td>2017-08-19</td>\n",
              "      <td>2017-11-17</td>\n",
              "      <td>0</td>\n",
              "      <td>17</td>\n",
              "      <td>기타</td>\n",
              "      <td>비리제보처를 만들어주세요.</td>\n",
              "      <td>현 정부에 국민들이 가장 원하는 것은 부패척결입니다.  우리 사회에 각종 비리들이 ...</td>\n",
              "    </tr>\n",
              "    <tr>\n",
              "      <th>23</th>\n",
              "      <td>2017-08-19</td>\n",
              "      <td>2017-09-03</td>\n",
              "      <td>0</td>\n",
              "      <td>0</td>\n",
              "      <td>미래</td>\n",
              "      <td>제2의 개성공단</td>\n",
              "      <td>만일 하시는 대통령님 및 각 부처 장관님,주무관님들 안녕하세요!!\\n전남 목포에서 ...</td>\n",
              "    </tr>\n",
              "  </tbody>\n",
              "</table>\n",
              "</div>"
            ],
            "text/plain": [
              "                start        end  answered  votes category  \\\n",
              "article_id                                                   \n",
              "21         2017-08-19 2017-11-17         0      9    안전/환경   \n",
              "22         2017-08-19 2017-11-17         0     17       기타   \n",
              "23         2017-08-19 2017-09-03         0      0       미래   \n",
              "\n",
              "                          title  \\\n",
              "article_id                        \n",
              "21          스텔라 데이지호에 대한 제안입니다.   \n",
              "22               비리제보처를 만들어주세요.   \n",
              "23                     제2의 개성공단   \n",
              "\n",
              "                                                      content  \n",
              "article_id                                                     \n",
              "21          스텔라 데이지호에 대한 제안입니다.\\n3월31일 스텔라 데이지호가 침몰하고 5달째가...  \n",
              "22          현 정부에 국민들이 가장 원하는 것은 부패척결입니다.  우리 사회에 각종 비리들이 ...  \n",
              "23          만일 하시는 대통령님 및 각 부처 장관님,주무관님들 안녕하세요!!\\n전남 목포에서 ...  "
            ]
          },
          "metadata": {
            "tags": []
          },
          "execution_count": 23
        }
      ]
    },
    {
      "metadata": {
        "id": "TojAL5fRP9yg",
        "colab_type": "code",
        "colab": {
          "base_uri": "https://localhost:8080/",
          "height": 223
        },
        "outputId": "465eddb2-5774-4516-d527-87c86aa80816"
      },
      "cell_type": "code",
      "source": [
        "# 위에서 불러온 head와 반대로 뒤에서부터 데이터를 읽어온다.\n",
        "# 터미널에서 크롤링을 하며 tail 파일명으로 크롤링 데이터를 읽었던 기억을 떠올려 보자.\n",
        "petitions.tail(3)"
      ],
      "execution_count": 24,
      "outputs": [
        {
          "output_type": "execute_result",
          "data": {
            "text/html": [
              "<div>\n",
              "<style scoped>\n",
              "    .dataframe tbody tr th:only-of-type {\n",
              "        vertical-align: middle;\n",
              "    }\n",
              "\n",
              "    .dataframe tbody tr th {\n",
              "        vertical-align: top;\n",
              "    }\n",
              "\n",
              "    .dataframe thead th {\n",
              "        text-align: right;\n",
              "    }\n",
              "</style>\n",
              "<table border=\"1\" class=\"dataframe\">\n",
              "  <thead>\n",
              "    <tr style=\"text-align: right;\">\n",
              "      <th></th>\n",
              "      <th>start</th>\n",
              "      <th>end</th>\n",
              "      <th>answered</th>\n",
              "      <th>votes</th>\n",
              "      <th>category</th>\n",
              "      <th>title</th>\n",
              "      <th>content</th>\n",
              "    </tr>\n",
              "    <tr>\n",
              "      <th>article_id</th>\n",
              "      <th></th>\n",
              "      <th></th>\n",
              "      <th></th>\n",
              "      <th></th>\n",
              "      <th></th>\n",
              "      <th></th>\n",
              "      <th></th>\n",
              "    </tr>\n",
              "  </thead>\n",
              "  <tbody>\n",
              "    <tr>\n",
              "      <th>271765</th>\n",
              "      <td>2018-06-15</td>\n",
              "      <td>2018-07-15</td>\n",
              "      <td>0</td>\n",
              "      <td>3</td>\n",
              "      <td>일자리</td>\n",
              "      <td>판교 롯데마트에서</td>\n",
              "      <td>모 음식코너에서  시식을  위해  주 5일  일하는  50대  여성  알바  근로자...</td>\n",
              "    </tr>\n",
              "    <tr>\n",
              "      <th>271766</th>\n",
              "      <td>2018-06-15</td>\n",
              "      <td>2018-07-15</td>\n",
              "      <td>0</td>\n",
              "      <td>12</td>\n",
              "      <td>인권/성평등</td>\n",
              "      <td>여탕에 남자아이들이 들어오자못하게 해주세요.</td>\n",
              "      <td>안녕하세요.청원자입니다.저는 보다시피 고 2입니다. 제가 어제 목욕탕(사우나)를 같...</td>\n",
              "    </tr>\n",
              "    <tr>\n",
              "      <th>271767</th>\n",
              "      <td>2018-06-15</td>\n",
              "      <td>2018-07-15</td>\n",
              "      <td>0</td>\n",
              "      <td>2</td>\n",
              "      <td>미래</td>\n",
              "      <td>인천과 강원도 원주와 태백에도 중앙정부행정기관 청사를 설치해주세요</td>\n",
              "      <td>인천광역시 서구 원창동과 강원도 원주시 무실동과 강원도 정선에도 강원도 태백시 동점...</td>\n",
              "    </tr>\n",
              "  </tbody>\n",
              "</table>\n",
              "</div>"
            ],
            "text/plain": [
              "                start        end  answered  votes category  \\\n",
              "article_id                                                   \n",
              "271765     2018-06-15 2018-07-15         0      3      일자리   \n",
              "271766     2018-06-15 2018-07-15         0     12   인권/성평등   \n",
              "271767     2018-06-15 2018-07-15         0      2       미래   \n",
              "\n",
              "                                           title  \\\n",
              "article_id                                         \n",
              "271765                                 판교 롯데마트에서   \n",
              "271766                  여탕에 남자아이들이 들어오자못하게 해주세요.   \n",
              "271767      인천과 강원도 원주와 태백에도 중앙정부행정기관 청사를 설치해주세요   \n",
              "\n",
              "                                                      content  \n",
              "article_id                                                     \n",
              "271765      모 음식코너에서  시식을  위해  주 5일  일하는  50대  여성  알바  근로자...  \n",
              "271766      안녕하세요.청원자입니다.저는 보다시피 고 2입니다. 제가 어제 목욕탕(사우나)를 같...  \n",
              "271767      인천광역시 서구 원창동과 강원도 원주시 무실동과 강원도 정선에도 강원도 태백시 동점...  "
            ]
          },
          "metadata": {
            "tags": []
          },
          "execution_count": 24
        }
      ]
    },
    {
      "metadata": {
        "id": "Hyc9mnoxP9yk",
        "colab_type": "code",
        "colab": {
          "base_uri": "https://localhost:8080/",
          "height": 36
        },
        "outputId": "e7ea46ac-82df-454f-e52f-f1ed793d3d56"
      },
      "cell_type": "code",
      "source": [
        "# 데이터프레임의 컬럼만을 불러올 수 있다.\n",
        "petitions.columns"
      ],
      "execution_count": 25,
      "outputs": [
        {
          "output_type": "execute_result",
          "data": {
            "text/plain": [
              "Index(['start', 'end', 'answered', 'votes', 'category', 'title', 'content'], dtype='object')"
            ]
          },
          "metadata": {
            "tags": []
          },
          "execution_count": 25
        }
      ]
    },
    {
      "metadata": {
        "id": "9j1-woXAP9yq",
        "colab_type": "code",
        "colab": {
          "base_uri": "https://localhost:8080/",
          "height": 241
        },
        "outputId": "226d84d1-e648-4e55-c976-cbafdcf46c28"
      },
      "cell_type": "code",
      "source": [
        "# 데이터셋의 정보를 볼 수 있다.\n",
        "# 어떤 컬럼이 있고 몇 개의 데이터가 있으며 어떤 타입인지 볼 수 있다.\n",
        "petitions.info()"
      ],
      "execution_count": 26,
      "outputs": [
        {
          "output_type": "stream",
          "text": [
            "<class 'pandas.core.frame.DataFrame'>\n",
            "Int64Index: 210424 entries, 21 to 271767\n",
            "Data columns (total 7 columns):\n",
            "start       210424 non-null datetime64[ns]\n",
            "end         210424 non-null datetime64[ns]\n",
            "answered    210424 non-null int64\n",
            "votes       210424 non-null int64\n",
            "category    210424 non-null object\n",
            "title       210424 non-null object\n",
            "content     210423 non-null object\n",
            "dtypes: datetime64[ns](2), int64(2), object(3)\n",
            "memory usage: 12.8+ MB\n"
          ],
          "name": "stdout"
        }
      ]
    },
    {
      "metadata": {
        "id": "ImZ2V6oRP9yt",
        "colab_type": "code",
        "colab": {
          "base_uri": "https://localhost:8080/",
          "height": 294
        },
        "outputId": "fe96c861-6210-45f0-eed7-c0f67ffc54a0"
      },
      "cell_type": "code",
      "source": [
        "# 숫자로 된 데이터에 대해 count, mean, std, min, max값 등을 볼 수 있다.\n",
        "petitions.describe()"
      ],
      "execution_count": 27,
      "outputs": [
        {
          "output_type": "execute_result",
          "data": {
            "text/html": [
              "<div>\n",
              "<style scoped>\n",
              "    .dataframe tbody tr th:only-of-type {\n",
              "        vertical-align: middle;\n",
              "    }\n",
              "\n",
              "    .dataframe tbody tr th {\n",
              "        vertical-align: top;\n",
              "    }\n",
              "\n",
              "    .dataframe thead th {\n",
              "        text-align: right;\n",
              "    }\n",
              "</style>\n",
              "<table border=\"1\" class=\"dataframe\">\n",
              "  <thead>\n",
              "    <tr style=\"text-align: right;\">\n",
              "      <th></th>\n",
              "      <th>answered</th>\n",
              "      <th>votes</th>\n",
              "    </tr>\n",
              "  </thead>\n",
              "  <tbody>\n",
              "    <tr>\n",
              "      <th>count</th>\n",
              "      <td>210424.000000</td>\n",
              "      <td>210424.000000</td>\n",
              "    </tr>\n",
              "    <tr>\n",
              "      <th>mean</th>\n",
              "      <td>0.000128</td>\n",
              "      <td>146.814508</td>\n",
              "    </tr>\n",
              "    <tr>\n",
              "      <th>std</th>\n",
              "      <td>0.011327</td>\n",
              "      <td>4595.002647</td>\n",
              "    </tr>\n",
              "    <tr>\n",
              "      <th>min</th>\n",
              "      <td>0.000000</td>\n",
              "      <td>0.000000</td>\n",
              "    </tr>\n",
              "    <tr>\n",
              "      <th>25%</th>\n",
              "      <td>0.000000</td>\n",
              "      <td>1.000000</td>\n",
              "    </tr>\n",
              "    <tr>\n",
              "      <th>50%</th>\n",
              "      <td>0.000000</td>\n",
              "      <td>3.000000</td>\n",
              "    </tr>\n",
              "    <tr>\n",
              "      <th>75%</th>\n",
              "      <td>0.000000</td>\n",
              "      <td>10.000000</td>\n",
              "    </tr>\n",
              "    <tr>\n",
              "      <th>max</th>\n",
              "      <td>1.000000</td>\n",
              "      <td>714875.000000</td>\n",
              "    </tr>\n",
              "  </tbody>\n",
              "</table>\n",
              "</div>"
            ],
            "text/plain": [
              "            answered          votes\n",
              "count  210424.000000  210424.000000\n",
              "mean        0.000128     146.814508\n",
              "std         0.011327    4595.002647\n",
              "min         0.000000       0.000000\n",
              "25%         0.000000       1.000000\n",
              "50%         0.000000       3.000000\n",
              "75%         0.000000      10.000000\n",
              "max         1.000000  714875.000000"
            ]
          },
          "metadata": {
            "tags": []
          },
          "execution_count": 27
        }
      ]
    },
    {
      "metadata": {
        "id": "gmVTvkuHP9yx",
        "colab_type": "text"
      },
      "cell_type": "markdown",
      "source": [
        "## 결측치가 있는지 확인\n",
        "\n",
        "* N/A인 컬럼을 요약해 보여준다.\n",
        "* 결측치가 있다면 보정이 필요하다. 하지만 이 데이터는 너무나 깔끔하다! 결측치가 없다.\n",
        "* 하지만 때론, 결측치가 0이나 다른 숫자로 대체해서 들어가 있을 수도 있음으로 데이터를 좀 더 살펴봐야 한다."
      ]
    },
    {
      "metadata": {
        "id": "eUmfXnhFP9yx",
        "colab_type": "code",
        "colab": {
          "base_uri": "https://localhost:8080/",
          "height": 167
        },
        "outputId": "2f7d172c-a55d-435f-92d7-71dd662c3d33"
      },
      "cell_type": "code",
      "source": [
        "petitions.isnull().sum()"
      ],
      "execution_count": 28,
      "outputs": [
        {
          "output_type": "execute_result",
          "data": {
            "text/plain": [
              "start       0\n",
              "end         0\n",
              "answered    0\n",
              "votes       0\n",
              "category    0\n",
              "title       0\n",
              "content     1\n",
              "dtype: int64"
            ]
          },
          "metadata": {
            "tags": []
          },
          "execution_count": 28
        }
      ]
    },
    {
      "metadata": {
        "id": "-M3Y6tT_P9y1",
        "colab_type": "text"
      },
      "cell_type": "markdown",
      "source": [
        "## 사용하지 않는 컬럼 지우기\n",
        "* 20만건 이상 투표를 받은 청원에 대해 답변을 받기 때문에 답변 여부 컬럼은 사용하지 않는다.\n",
        "* 만약 데이터 프레임에 이 컬럼이 없다면 수집시 제외했기 때문이다.\n",
        "\n",
        "https://pandas.pydata.org/pandas-docs/stable/generated/pandas.DataFrame.drop.html"
      ]
    },
    {
      "metadata": {
        "id": "nlAHIweKP9y1",
        "colab_type": "code",
        "colab": {
          "base_uri": "https://localhost:8080/",
          "height": 36
        },
        "outputId": "c24864b3-655d-4f1a-daf4-822f6f55759e"
      },
      "cell_type": "code",
      "source": [
        "petitions = petitions.drop(columns=['answered'])\n",
        "# 답변 받은 컬럼을 제외 시키고 나면 6개의 컬럼이 남는다.\n",
        "petitions.shape"
      ],
      "execution_count": 29,
      "outputs": [
        {
          "output_type": "execute_result",
          "data": {
            "text/plain": [
              "(210424, 6)"
            ]
          },
          "metadata": {
            "tags": []
          },
          "execution_count": 29
        }
      ]
    },
    {
      "metadata": {
        "id": "Sy3JT42oP9y3",
        "colab_type": "text"
      },
      "cell_type": "markdown",
      "source": [
        "### 답변대상 청원 컬럼 다시 만들기\n",
        "기존 `answerd`컬럼은 답변 여부가 있었다. \n",
        "여기에서는 답변 받은 것과 상관없이 답변 대상 건에 대해 새로운 컬럼을 추가해 주었다."
      ]
    },
    {
      "metadata": {
        "id": "Lg1nBS0fP9y4",
        "colab_type": "code",
        "colab": {
          "base_uri": "https://localhost:8080/",
          "height": 36
        },
        "outputId": "d9406404-0038-457f-e6f3-6e43227c3712"
      },
      "cell_type": "code",
      "source": [
        "petitions['answer'] = (petitions['votes'] > 200000) == 1\n",
        "petitions.shape"
      ],
      "execution_count": 30,
      "outputs": [
        {
          "output_type": "execute_result",
          "data": {
            "text/plain": [
              "(210424, 7)"
            ]
          },
          "metadata": {
            "tags": []
          },
          "execution_count": 30
        }
      ]
    },
    {
      "metadata": {
        "id": "yLKSAWPPP9y8",
        "colab_type": "code",
        "colab": {
          "base_uri": "https://localhost:8080/",
          "height": 319
        },
        "outputId": "0ac758d2-17ce-4fab-d319-0611ed26edc3"
      },
      "cell_type": "code",
      "source": [
        "petitions.head()"
      ],
      "execution_count": 31,
      "outputs": [
        {
          "output_type": "execute_result",
          "data": {
            "text/html": [
              "<div>\n",
              "<style scoped>\n",
              "    .dataframe tbody tr th:only-of-type {\n",
              "        vertical-align: middle;\n",
              "    }\n",
              "\n",
              "    .dataframe tbody tr th {\n",
              "        vertical-align: top;\n",
              "    }\n",
              "\n",
              "    .dataframe thead th {\n",
              "        text-align: right;\n",
              "    }\n",
              "</style>\n",
              "<table border=\"1\" class=\"dataframe\">\n",
              "  <thead>\n",
              "    <tr style=\"text-align: right;\">\n",
              "      <th></th>\n",
              "      <th>start</th>\n",
              "      <th>end</th>\n",
              "      <th>votes</th>\n",
              "      <th>category</th>\n",
              "      <th>title</th>\n",
              "      <th>content</th>\n",
              "      <th>answer</th>\n",
              "    </tr>\n",
              "    <tr>\n",
              "      <th>article_id</th>\n",
              "      <th></th>\n",
              "      <th></th>\n",
              "      <th></th>\n",
              "      <th></th>\n",
              "      <th></th>\n",
              "      <th></th>\n",
              "      <th></th>\n",
              "    </tr>\n",
              "  </thead>\n",
              "  <tbody>\n",
              "    <tr>\n",
              "      <th>21</th>\n",
              "      <td>2017-08-19</td>\n",
              "      <td>2017-11-17</td>\n",
              "      <td>9</td>\n",
              "      <td>안전/환경</td>\n",
              "      <td>스텔라 데이지호에 대한 제안입니다.</td>\n",
              "      <td>스텔라 데이지호에 대한 제안입니다.\\n3월31일 스텔라 데이지호가 침몰하고 5달째가...</td>\n",
              "      <td>False</td>\n",
              "    </tr>\n",
              "    <tr>\n",
              "      <th>22</th>\n",
              "      <td>2017-08-19</td>\n",
              "      <td>2017-11-17</td>\n",
              "      <td>17</td>\n",
              "      <td>기타</td>\n",
              "      <td>비리제보처를 만들어주세요.</td>\n",
              "      <td>현 정부에 국민들이 가장 원하는 것은 부패척결입니다.  우리 사회에 각종 비리들이 ...</td>\n",
              "      <td>False</td>\n",
              "    </tr>\n",
              "    <tr>\n",
              "      <th>23</th>\n",
              "      <td>2017-08-19</td>\n",
              "      <td>2017-09-03</td>\n",
              "      <td>0</td>\n",
              "      <td>미래</td>\n",
              "      <td>제2의 개성공단</td>\n",
              "      <td>만일 하시는 대통령님 및 각 부처 장관님,주무관님들 안녕하세요!!\\n전남 목포에서 ...</td>\n",
              "      <td>False</td>\n",
              "    </tr>\n",
              "    <tr>\n",
              "      <th>24</th>\n",
              "      <td>2017-08-19</td>\n",
              "      <td>2017-08-26</td>\n",
              "      <td>53</td>\n",
              "      <td>일자리</td>\n",
              "      <td>공공기관 무조건적인 정규직전환을 반대합니다.</td>\n",
              "      <td>현정부에서 정규직 일자리를 늘리는 것에 찬성합니다. 그런데 공공기관 비정규직들은 인...</td>\n",
              "      <td>False</td>\n",
              "    </tr>\n",
              "    <tr>\n",
              "      <th>25</th>\n",
              "      <td>2017-08-19</td>\n",
              "      <td>2017-09-03</td>\n",
              "      <td>0</td>\n",
              "      <td>미래</td>\n",
              "      <td>제2의 개성공단</td>\n",
              "      <td>만일 하시는 대통령님 및 각 부처 장관님,주무관님들 안녕하세요!!\\n전남 목포에서 ...</td>\n",
              "      <td>False</td>\n",
              "    </tr>\n",
              "  </tbody>\n",
              "</table>\n",
              "</div>"
            ],
            "text/plain": [
              "                start        end  votes category                     title  \\\n",
              "article_id                                                                   \n",
              "21         2017-08-19 2017-11-17      9    안전/환경       스텔라 데이지호에 대한 제안입니다.   \n",
              "22         2017-08-19 2017-11-17     17       기타            비리제보처를 만들어주세요.   \n",
              "23         2017-08-19 2017-09-03      0       미래                  제2의 개성공단   \n",
              "24         2017-08-19 2017-08-26     53      일자리  공공기관 무조건적인 정규직전환을 반대합니다.   \n",
              "25         2017-08-19 2017-09-03      0       미래                  제2의 개성공단   \n",
              "\n",
              "                                                      content  answer  \n",
              "article_id                                                             \n",
              "21          스텔라 데이지호에 대한 제안입니다.\\n3월31일 스텔라 데이지호가 침몰하고 5달째가...   False  \n",
              "22          현 정부에 국민들이 가장 원하는 것은 부패척결입니다.  우리 사회에 각종 비리들이 ...   False  \n",
              "23          만일 하시는 대통령님 및 각 부처 장관님,주무관님들 안녕하세요!!\\n전남 목포에서 ...   False  \n",
              "24          현정부에서 정규직 일자리를 늘리는 것에 찬성합니다. 그런데 공공기관 비정규직들은 인...   False  \n",
              "25          만일 하시는 대통령님 및 각 부처 장관님,주무관님들 안녕하세요!!\\n전남 목포에서 ...   False  "
            ]
          },
          "metadata": {
            "tags": []
          },
          "execution_count": 31
        }
      ]
    },
    {
      "metadata": {
        "id": "LMompCZ8P9y_",
        "colab_type": "code",
        "colab": {
          "base_uri": "https://localhost:8080/",
          "height": 319
        },
        "outputId": "a2ad316d-5380-4d22-e9e1-17804c2e803e"
      },
      "cell_type": "code",
      "source": [
        "petitions.tail()"
      ],
      "execution_count": 32,
      "outputs": [
        {
          "output_type": "execute_result",
          "data": {
            "text/html": [
              "<div>\n",
              "<style scoped>\n",
              "    .dataframe tbody tr th:only-of-type {\n",
              "        vertical-align: middle;\n",
              "    }\n",
              "\n",
              "    .dataframe tbody tr th {\n",
              "        vertical-align: top;\n",
              "    }\n",
              "\n",
              "    .dataframe thead th {\n",
              "        text-align: right;\n",
              "    }\n",
              "</style>\n",
              "<table border=\"1\" class=\"dataframe\">\n",
              "  <thead>\n",
              "    <tr style=\"text-align: right;\">\n",
              "      <th></th>\n",
              "      <th>start</th>\n",
              "      <th>end</th>\n",
              "      <th>votes</th>\n",
              "      <th>category</th>\n",
              "      <th>title</th>\n",
              "      <th>content</th>\n",
              "      <th>answer</th>\n",
              "    </tr>\n",
              "    <tr>\n",
              "      <th>article_id</th>\n",
              "      <th></th>\n",
              "      <th></th>\n",
              "      <th></th>\n",
              "      <th></th>\n",
              "      <th></th>\n",
              "      <th></th>\n",
              "      <th></th>\n",
              "    </tr>\n",
              "  </thead>\n",
              "  <tbody>\n",
              "    <tr>\n",
              "      <th>271763</th>\n",
              "      <td>2018-06-15</td>\n",
              "      <td>2018-07-15</td>\n",
              "      <td>2921</td>\n",
              "      <td>육아/교육</td>\n",
              "      <td>국립 제주대학교 교수 갑질  및 성희롱</td>\n",
              "      <td>지금 제주대학교에서는  전임교수의 말도 안되는  전횡이 이슈가되고있습니다.\\n재학생...</td>\n",
              "      <td>False</td>\n",
              "    </tr>\n",
              "    <tr>\n",
              "      <th>271764</th>\n",
              "      <td>2018-06-15</td>\n",
              "      <td>2018-07-15</td>\n",
              "      <td>0</td>\n",
              "      <td>경제민주화</td>\n",
              "      <td>재판거래를 검찰이!!!</td>\n",
              "      <td>협박과 착취가 가장 손쉬운 거래이다.\\n언제부턴가 법 불신은  도독놈 사기꾼 세상으...</td>\n",
              "      <td>False</td>\n",
              "    </tr>\n",
              "    <tr>\n",
              "      <th>271765</th>\n",
              "      <td>2018-06-15</td>\n",
              "      <td>2018-07-15</td>\n",
              "      <td>3</td>\n",
              "      <td>일자리</td>\n",
              "      <td>판교 롯데마트에서</td>\n",
              "      <td>모 음식코너에서  시식을  위해  주 5일  일하는  50대  여성  알바  근로자...</td>\n",
              "      <td>False</td>\n",
              "    </tr>\n",
              "    <tr>\n",
              "      <th>271766</th>\n",
              "      <td>2018-06-15</td>\n",
              "      <td>2018-07-15</td>\n",
              "      <td>12</td>\n",
              "      <td>인권/성평등</td>\n",
              "      <td>여탕에 남자아이들이 들어오자못하게 해주세요.</td>\n",
              "      <td>안녕하세요.청원자입니다.저는 보다시피 고 2입니다. 제가 어제 목욕탕(사우나)를 같...</td>\n",
              "      <td>False</td>\n",
              "    </tr>\n",
              "    <tr>\n",
              "      <th>271767</th>\n",
              "      <td>2018-06-15</td>\n",
              "      <td>2018-07-15</td>\n",
              "      <td>2</td>\n",
              "      <td>미래</td>\n",
              "      <td>인천과 강원도 원주와 태백에도 중앙정부행정기관 청사를 설치해주세요</td>\n",
              "      <td>인천광역시 서구 원창동과 강원도 원주시 무실동과 강원도 정선에도 강원도 태백시 동점...</td>\n",
              "      <td>False</td>\n",
              "    </tr>\n",
              "  </tbody>\n",
              "</table>\n",
              "</div>"
            ],
            "text/plain": [
              "                start        end  votes category  \\\n",
              "article_id                                         \n",
              "271763     2018-06-15 2018-07-15   2921    육아/교육   \n",
              "271764     2018-06-15 2018-07-15      0    경제민주화   \n",
              "271765     2018-06-15 2018-07-15      3      일자리   \n",
              "271766     2018-06-15 2018-07-15     12   인권/성평등   \n",
              "271767     2018-06-15 2018-07-15      2       미래   \n",
              "\n",
              "                                           title  \\\n",
              "article_id                                         \n",
              "271763                     국립 제주대학교 교수 갑질  및 성희롱   \n",
              "271764                              재판거래를 검찰이!!!   \n",
              "271765                                 판교 롯데마트에서   \n",
              "271766                  여탕에 남자아이들이 들어오자못하게 해주세요.   \n",
              "271767      인천과 강원도 원주와 태백에도 중앙정부행정기관 청사를 설치해주세요   \n",
              "\n",
              "                                                      content  answer  \n",
              "article_id                                                             \n",
              "271763      지금 제주대학교에서는  전임교수의 말도 안되는  전횡이 이슈가되고있습니다.\\n재학생...   False  \n",
              "271764      협박과 착취가 가장 손쉬운 거래이다.\\n언제부턴가 법 불신은  도독놈 사기꾼 세상으...   False  \n",
              "271765      모 음식코너에서  시식을  위해  주 5일  일하는  50대  여성  알바  근로자...   False  \n",
              "271766      안녕하세요.청원자입니다.저는 보다시피 고 2입니다. 제가 어제 목욕탕(사우나)를 같...   False  \n",
              "271767      인천광역시 서구 원창동과 강원도 원주시 무실동과 강원도 정선에도 강원도 태백시 동점...   False  "
            ]
          },
          "metadata": {
            "tags": []
          },
          "execution_count": 32
        }
      ]
    },
    {
      "metadata": {
        "id": "6zc9ccHUP9zB",
        "colab_type": "text"
      },
      "cell_type": "markdown",
      "source": [
        "### 청원기간 컬럼 생성"
      ]
    },
    {
      "metadata": {
        "id": "sTGPwZ1qP9zB",
        "colab_type": "code",
        "colab": {
          "base_uri": "https://localhost:8080/",
          "height": 223
        },
        "outputId": "bbfbba84-ecd1-42ef-ffbc-5b8230822a35"
      },
      "cell_type": "code",
      "source": [
        "petitions['duration'] = petitions['end'] - petitions['start']\n",
        "petitions.sort_values('duration', ascending=True).head(3)"
      ],
      "execution_count": 34,
      "outputs": [
        {
          "output_type": "execute_result",
          "data": {
            "text/html": [
              "<div>\n",
              "<style scoped>\n",
              "    .dataframe tbody tr th:only-of-type {\n",
              "        vertical-align: middle;\n",
              "    }\n",
              "\n",
              "    .dataframe tbody tr th {\n",
              "        vertical-align: top;\n",
              "    }\n",
              "\n",
              "    .dataframe thead th {\n",
              "        text-align: right;\n",
              "    }\n",
              "</style>\n",
              "<table border=\"1\" class=\"dataframe\">\n",
              "  <thead>\n",
              "    <tr style=\"text-align: right;\">\n",
              "      <th></th>\n",
              "      <th>start</th>\n",
              "      <th>end</th>\n",
              "      <th>votes</th>\n",
              "      <th>category</th>\n",
              "      <th>title</th>\n",
              "      <th>content</th>\n",
              "      <th>answer</th>\n",
              "      <th>duration</th>\n",
              "    </tr>\n",
              "    <tr>\n",
              "      <th>article_id</th>\n",
              "      <th></th>\n",
              "      <th></th>\n",
              "      <th></th>\n",
              "      <th></th>\n",
              "      <th></th>\n",
              "      <th></th>\n",
              "      <th></th>\n",
              "      <th></th>\n",
              "    </tr>\n",
              "  </thead>\n",
              "  <tbody>\n",
              "    <tr>\n",
              "      <th>5856</th>\n",
              "      <td>2017-09-05</td>\n",
              "      <td>2017-09-12</td>\n",
              "      <td>3</td>\n",
              "      <td>인권/성평등</td>\n",
              "      <td>부산여중생 강력한 처벌해주세요</td>\n",
              "      <td>10살아이를 키우는 엄마입니다.\\n인천 8살아이 살인사건을 접하고 충격이 다가시지도...</td>\n",
              "      <td>False</td>\n",
              "      <td>7 days</td>\n",
              "    </tr>\n",
              "    <tr>\n",
              "      <th>8054</th>\n",
              "      <td>2017-09-05</td>\n",
              "      <td>2017-09-12</td>\n",
              "      <td>0</td>\n",
              "      <td>미래</td>\n",
              "      <td>청소년 법 폐지해주세요.</td>\n",
              "      <td>청소년법 폐지해주세요. 제 동생일이라고 생각하니 너무 분하고 억울해요 국민들의 세금...</td>\n",
              "      <td>False</td>\n",
              "      <td>7 days</td>\n",
              "    </tr>\n",
              "    <tr>\n",
              "      <th>6366</th>\n",
              "      <td>2017-09-05</td>\n",
              "      <td>2017-09-12</td>\n",
              "      <td>0</td>\n",
              "      <td>인권/성평등</td>\n",
              "      <td>청소년 보호법 폐지</td>\n",
              "      <td>아무리 나이가 어리다고해도 범죄자인데 이런식으로 형량을 줄여주면 여중생 폭행범 처럼...</td>\n",
              "      <td>False</td>\n",
              "      <td>7 days</td>\n",
              "    </tr>\n",
              "  </tbody>\n",
              "</table>\n",
              "</div>"
            ],
            "text/plain": [
              "                start        end  votes category             title  \\\n",
              "article_id                                                           \n",
              "5856       2017-09-05 2017-09-12      3   인권/성평등  부산여중생 강력한 처벌해주세요   \n",
              "8054       2017-09-05 2017-09-12      0       미래     청소년 법 폐지해주세요.   \n",
              "6366       2017-09-05 2017-09-12      0   인권/성평등        청소년 보호법 폐지   \n",
              "\n",
              "                                                      content  answer duration  \n",
              "article_id                                                                      \n",
              "5856        10살아이를 키우는 엄마입니다.\\n인천 8살아이 살인사건을 접하고 충격이 다가시지도...   False   7 days  \n",
              "8054        청소년법 폐지해주세요. 제 동생일이라고 생각하니 너무 분하고 억울해요 국민들의 세금...   False   7 days  \n",
              "6366        아무리 나이가 어리다고해도 범죄자인데 이런식으로 형량을 줄여주면 여중생 폭행범 처럼...   False   7 days  "
            ]
          },
          "metadata": {
            "tags": []
          },
          "execution_count": 34
        }
      ]
    },
    {
      "metadata": {
        "id": "Y4MykXlgP9zE",
        "colab_type": "text"
      },
      "cell_type": "markdown",
      "source": [
        "#### 청원기간별 건\n",
        "\n",
        "30일이 가장 많고 다음으로 90일, 7일 순이다. "
      ]
    },
    {
      "metadata": {
        "id": "6iOPkOizP9zF",
        "colab_type": "code",
        "colab": {
          "base_uri": "https://localhost:8080/",
          "height": 129
        },
        "outputId": "7e6cb21d-bd19-40e9-def2-a9dad290ad37"
      },
      "cell_type": "code",
      "source": [
        "petitions['duration'].value_counts()"
      ],
      "execution_count": 35,
      "outputs": [
        {
          "output_type": "execute_result",
          "data": {
            "text/plain": [
              "30 days    199224\n",
              "90 days      6754\n",
              "7 days       2436\n",
              "15 days      1204\n",
              "60 days       806\n",
              "Name: duration, dtype: int64"
            ]
          },
          "metadata": {
            "tags": []
          },
          "execution_count": 35
        }
      ]
    },
    {
      "metadata": {
        "id": "LioAky8HP9zI",
        "colab_type": "text"
      },
      "cell_type": "markdown",
      "source": [
        "#### 청원기간이 90일이고 답변 대상 건"
      ]
    },
    {
      "metadata": {
        "id": "MU6txd1qP9zI",
        "colab_type": "code",
        "colab": {
          "base_uri": "https://localhost:8080/",
          "height": 110
        },
        "outputId": "ebc4e1b0-c1aa-4263-bd1a-415a3c84aff4"
      },
      "cell_type": "code",
      "source": [
        "petitions.loc[(petitions['duration'] == '90 days') & (petitions['answer'] == 1)]"
      ],
      "execution_count": 36,
      "outputs": [
        {
          "output_type": "execute_result",
          "data": {
            "text/html": [
              "<div>\n",
              "<style scoped>\n",
              "    .dataframe tbody tr th:only-of-type {\n",
              "        vertical-align: middle;\n",
              "    }\n",
              "\n",
              "    .dataframe tbody tr th {\n",
              "        vertical-align: top;\n",
              "    }\n",
              "\n",
              "    .dataframe thead th {\n",
              "        text-align: right;\n",
              "    }\n",
              "</style>\n",
              "<table border=\"1\" class=\"dataframe\">\n",
              "  <thead>\n",
              "    <tr style=\"text-align: right;\">\n",
              "      <th></th>\n",
              "      <th>start</th>\n",
              "      <th>end</th>\n",
              "      <th>votes</th>\n",
              "      <th>category</th>\n",
              "      <th>title</th>\n",
              "      <th>content</th>\n",
              "      <th>answer</th>\n",
              "      <th>duration</th>\n",
              "    </tr>\n",
              "    <tr>\n",
              "      <th>article_id</th>\n",
              "      <th></th>\n",
              "      <th></th>\n",
              "      <th></th>\n",
              "      <th></th>\n",
              "      <th></th>\n",
              "      <th></th>\n",
              "      <th></th>\n",
              "      <th></th>\n",
              "    </tr>\n",
              "  </thead>\n",
              "  <tbody>\n",
              "    <tr>\n",
              "      <th>10949</th>\n",
              "      <td>2017-09-06</td>\n",
              "      <td>2017-12-05</td>\n",
              "      <td>615354</td>\n",
              "      <td>미래</td>\n",
              "      <td>조두순 출소반대</td>\n",
              "      <td>제발 조두순 재심다시해서 무기징역으로 해야됩니다!!!</td>\n",
              "      <td>True</td>\n",
              "      <td>90 days</td>\n",
              "    </tr>\n",
              "  </tbody>\n",
              "</table>\n",
              "</div>"
            ],
            "text/plain": [
              "                start        end   votes category     title  \\\n",
              "article_id                                                    \n",
              "10949      2017-09-06 2017-12-05  615354       미래  조두순 출소반대   \n",
              "\n",
              "                                  content  answer duration  \n",
              "article_id                                                  \n",
              "10949       제발 조두순 재심다시해서 무기징역으로 해야됩니다!!!    True  90 days  "
            ]
          },
          "metadata": {
            "tags": []
          },
          "execution_count": 36
        }
      ]
    },
    {
      "metadata": {
        "id": "kv6ta8DBP9zL",
        "colab_type": "text"
      },
      "cell_type": "markdown",
      "source": [
        "#### 청원기간이 60일이고 답변 대상 건"
      ]
    },
    {
      "metadata": {
        "id": "ExZ_JavpP9zM",
        "colab_type": "code",
        "colab": {
          "base_uri": "https://localhost:8080/",
          "height": 146
        },
        "outputId": "db280940-c3c7-4886-9318-9a934f612382"
      },
      "cell_type": "code",
      "source": [
        "petitions_60_answer = petitions.loc[(petitions['duration'] == '60 days') & (petitions['answer'] == 1)]\n",
        "print(petitions_60_answer.shape)\n",
        "petitions_60_answer.head()"
      ],
      "execution_count": 37,
      "outputs": [
        {
          "output_type": "stream",
          "text": [
            "(1, 8)\n"
          ],
          "name": "stdout"
        },
        {
          "output_type": "execute_result",
          "data": {
            "text/html": [
              "<div>\n",
              "<style scoped>\n",
              "    .dataframe tbody tr th:only-of-type {\n",
              "        vertical-align: middle;\n",
              "    }\n",
              "\n",
              "    .dataframe tbody tr th {\n",
              "        vertical-align: top;\n",
              "    }\n",
              "\n",
              "    .dataframe thead th {\n",
              "        text-align: right;\n",
              "    }\n",
              "</style>\n",
              "<table border=\"1\" class=\"dataframe\">\n",
              "  <thead>\n",
              "    <tr style=\"text-align: right;\">\n",
              "      <th></th>\n",
              "      <th>start</th>\n",
              "      <th>end</th>\n",
              "      <th>votes</th>\n",
              "      <th>category</th>\n",
              "      <th>title</th>\n",
              "      <th>content</th>\n",
              "      <th>answer</th>\n",
              "      <th>duration</th>\n",
              "    </tr>\n",
              "    <tr>\n",
              "      <th>article_id</th>\n",
              "      <th></th>\n",
              "      <th></th>\n",
              "      <th></th>\n",
              "      <th></th>\n",
              "      <th></th>\n",
              "      <th></th>\n",
              "      <th></th>\n",
              "      <th></th>\n",
              "    </tr>\n",
              "  </thead>\n",
              "  <tbody>\n",
              "    <tr>\n",
              "      <th>1785</th>\n",
              "      <td>2017-09-03</td>\n",
              "      <td>2017-11-02</td>\n",
              "      <td>296330</td>\n",
              "      <td>인권/성평등</td>\n",
              "      <td>청소년이란 이유로 보호법을 악용하는 잔인무도한 청소년들이 늘어나고있습니다. 반드시 ...</td>\n",
              "      <td>안녕하십니까. 청소년보호법이란 명목하에 나쁜짓을 일삼는 청소년들이 너무나 많아지고 ...</td>\n",
              "      <td>True</td>\n",
              "      <td>60 days</td>\n",
              "    </tr>\n",
              "  </tbody>\n",
              "</table>\n",
              "</div>"
            ],
            "text/plain": [
              "                start        end   votes category  \\\n",
              "article_id                                          \n",
              "1785       2017-09-03 2017-11-02  296330   인권/성평등   \n",
              "\n",
              "                                                        title  \\\n",
              "article_id                                                      \n",
              "1785        청소년이란 이유로 보호법을 악용하는 잔인무도한 청소년들이 늘어나고있습니다. 반드시 ...   \n",
              "\n",
              "                                                      content  answer duration  \n",
              "article_id                                                                      \n",
              "1785        안녕하십니까. 청소년보호법이란 명목하에 나쁜짓을 일삼는 청소년들이 너무나 많아지고 ...    True  60 days  "
            ]
          },
          "metadata": {
            "tags": []
          },
          "execution_count": 37
        }
      ]
    },
    {
      "metadata": {
        "id": "m8I7xSF1P9zP",
        "colab_type": "text"
      },
      "cell_type": "markdown",
      "source": [
        "#### 청원기간이 30일이고 답변 대상 건"
      ]
    },
    {
      "metadata": {
        "id": "vuMBf2wFP9zQ",
        "colab_type": "code",
        "colab": {
          "base_uri": "https://localhost:8080/",
          "height": 338
        },
        "outputId": "27fcdf2b-7af0-40ea-8ac6-41dbf8add885"
      },
      "cell_type": "code",
      "source": [
        "petitions_30_answer = petitions.loc[(petitions['duration'] == '30 days') \\\n",
        "                                    & (petitions['answer'] == 1)]\n",
        "print(petitions_30_answer.shape)\n",
        "petitions_30_answer.head()"
      ],
      "execution_count": 38,
      "outputs": [
        {
          "output_type": "stream",
          "text": [
            "(41, 8)\n"
          ],
          "name": "stdout"
        },
        {
          "output_type": "execute_result",
          "data": {
            "text/html": [
              "<div>\n",
              "<style scoped>\n",
              "    .dataframe tbody tr th:only-of-type {\n",
              "        vertical-align: middle;\n",
              "    }\n",
              "\n",
              "    .dataframe tbody tr th {\n",
              "        vertical-align: top;\n",
              "    }\n",
              "\n",
              "    .dataframe thead th {\n",
              "        text-align: right;\n",
              "    }\n",
              "</style>\n",
              "<table border=\"1\" class=\"dataframe\">\n",
              "  <thead>\n",
              "    <tr style=\"text-align: right;\">\n",
              "      <th></th>\n",
              "      <th>start</th>\n",
              "      <th>end</th>\n",
              "      <th>votes</th>\n",
              "      <th>category</th>\n",
              "      <th>title</th>\n",
              "      <th>content</th>\n",
              "      <th>answer</th>\n",
              "      <th>duration</th>\n",
              "    </tr>\n",
              "    <tr>\n",
              "      <th>article_id</th>\n",
              "      <th></th>\n",
              "      <th></th>\n",
              "      <th></th>\n",
              "      <th></th>\n",
              "      <th></th>\n",
              "      <th></th>\n",
              "      <th></th>\n",
              "      <th></th>\n",
              "    </tr>\n",
              "  </thead>\n",
              "  <tbody>\n",
              "    <tr>\n",
              "      <th>18278</th>\n",
              "      <td>2017-09-30</td>\n",
              "      <td>2017-10-30</td>\n",
              "      <td>235372</td>\n",
              "      <td>인권/성평등</td>\n",
              "      <td>낙태죄 폐지와 자연유산 유도약(미프진) 합법화 및 도입을 부탁드립니다.</td>\n",
              "      <td>안녕하세요. 존경하는 대통령님 의원님\\n낙태죄 폐지를 청원합니다.\\n현재 대한민국은...</td>\n",
              "      <td>True</td>\n",
              "      <td>30 days</td>\n",
              "    </tr>\n",
              "    <tr>\n",
              "      <th>26024</th>\n",
              "      <td>2017-11-04</td>\n",
              "      <td>2017-12-04</td>\n",
              "      <td>216774</td>\n",
              "      <td>안전/환경</td>\n",
              "      <td>'주취감형(술을 먹으면 형벌 감형)' 폐지를 건의(청원)합니다.</td>\n",
              "      <td>'주취감형'이란, 술을 먹고 범행을 저지를 때, 심신미약 (이성이 없고 우발적)이라...</td>\n",
              "      <td>True</td>\n",
              "      <td>30 days</td>\n",
              "    </tr>\n",
              "    <tr>\n",
              "      <th>45581</th>\n",
              "      <td>2017-11-17</td>\n",
              "      <td>2017-12-17</td>\n",
              "      <td>281985</td>\n",
              "      <td>보건복지</td>\n",
              "      <td>권역외상센터 (이국종 교수님) 추가적, 제도적, 환경적, 인력 지원</td>\n",
              "      <td>청원사항)\\n중증외상분야의 추가적, 제도적, 환경적, 인력 지원 방안마련\\n현 의료...</td>\n",
              "      <td>True</td>\n",
              "      <td>30 days</td>\n",
              "    </tr>\n",
              "    <tr>\n",
              "      <th>49083</th>\n",
              "      <td>2017-11-24</td>\n",
              "      <td>2017-12-24</td>\n",
              "      <td>211064</td>\n",
              "      <td>기타</td>\n",
              "      <td>전안법. 18살, 미성년자에게 정부가 직접 찍어주는 범죄자 낙인!</td>\n",
              "      <td>3년 이하의 징역, 또는3천만원 이하의 벌금. 혹은 500만원 이하의 과태료.\\n설...</td>\n",
              "      <td>True</td>\n",
              "      <td>30 days</td>\n",
              "    </tr>\n",
              "    <tr>\n",
              "      <th>57132</th>\n",
              "      <td>2017-12-03</td>\n",
              "      <td>2018-01-02</td>\n",
              "      <td>255554</td>\n",
              "      <td>성장동력</td>\n",
              "      <td>전안법 합리적으로 개정 또는 폐지해주세요.(소상공인 소비자 모두 죽는법안입니다.)</td>\n",
              "      <td>2017년 1월 28일부터 시행되는 법령으로 국가기술표준원에서 관리하는 전기제품에만...</td>\n",
              "      <td>True</td>\n",
              "      <td>30 days</td>\n",
              "    </tr>\n",
              "  </tbody>\n",
              "</table>\n",
              "</div>"
            ],
            "text/plain": [
              "                start        end   votes category  \\\n",
              "article_id                                          \n",
              "18278      2017-09-30 2017-10-30  235372   인권/성평등   \n",
              "26024      2017-11-04 2017-12-04  216774    안전/환경   \n",
              "45581      2017-11-17 2017-12-17  281985     보건복지   \n",
              "49083      2017-11-24 2017-12-24  211064       기타   \n",
              "57132      2017-12-03 2018-01-02  255554     성장동력   \n",
              "\n",
              "                                                    title  \\\n",
              "article_id                                                  \n",
              "18278             낙태죄 폐지와 자연유산 유도약(미프진) 합법화 및 도입을 부탁드립니다.   \n",
              "26024                 '주취감형(술을 먹으면 형벌 감형)' 폐지를 건의(청원)합니다.   \n",
              "45581               권역외상센터 (이국종 교수님) 추가적, 제도적, 환경적, 인력 지원   \n",
              "49083                전안법. 18살, 미성년자에게 정부가 직접 찍어주는 범죄자 낙인!   \n",
              "57132       전안법 합리적으로 개정 또는 폐지해주세요.(소상공인 소비자 모두 죽는법안입니다.)   \n",
              "\n",
              "                                                      content  answer duration  \n",
              "article_id                                                                      \n",
              "18278       안녕하세요. 존경하는 대통령님 의원님\\n낙태죄 폐지를 청원합니다.\\n현재 대한민국은...    True  30 days  \n",
              "26024       '주취감형'이란, 술을 먹고 범행을 저지를 때, 심신미약 (이성이 없고 우발적)이라...    True  30 days  \n",
              "45581       청원사항)\\n중증외상분야의 추가적, 제도적, 환경적, 인력 지원 방안마련\\n현 의료...    True  30 days  \n",
              "49083       3년 이하의 징역, 또는3천만원 이하의 벌금. 혹은 500만원 이하의 과태료.\\n설...    True  30 days  \n",
              "57132       2017년 1월 28일부터 시행되는 법령으로 국가기술표준원에서 관리하는 전기제품에만...    True  30 days  "
            ]
          },
          "metadata": {
            "tags": []
          },
          "execution_count": 38
        }
      ]
    },
    {
      "metadata": {
        "id": "lSUyHJxJP9zZ",
        "colab_type": "text"
      },
      "cell_type": "markdown",
      "source": [
        "#### 청원기간이 7일이고 답변 대상 건\n",
        "* 청원기간이 7일인데 답변 대상인 건은 없다.\n",
        "* 청원기간이 7일인 데이터의 시작 날짜를 그룹화 해보면 청원 초기(2017년 8월 19일~9월 14일)에는 답변 대기 기간이 7일 이었던 것으로 추정된다."
      ]
    },
    {
      "metadata": {
        "id": "kQy8im2pP9za",
        "colab_type": "code",
        "colab": {
          "base_uri": "https://localhost:8080/",
          "height": 914
        },
        "outputId": "1fa6a4c9-2ba5-42a6-cf75-3be87f4f5833"
      },
      "cell_type": "code",
      "source": [
        "petitions_7_answer = petitions.loc[(petitions['duration'] == '7 days') \\\n",
        "                                   & (petitions['answer'] == 1)]\n",
        "print(petitions_7_answer.shape)\n",
        "petitions_7 = petitions.loc[(petitions['duration'] == '7 days')]\n",
        "print(petitions_7.shape)\n",
        "petitions_7_count = petitions_7['start'].value_counts().reset_index()\n",
        "petitions_7_count.columns = ['start', 'count']\n",
        "petitions_7_count.sort_values('start', ascending=True)"
      ],
      "execution_count": 39,
      "outputs": [
        {
          "output_type": "stream",
          "text": [
            "(0, 8)\n",
            "(2436, 8)\n"
          ],
          "name": "stdout"
        },
        {
          "output_type": "execute_result",
          "data": {
            "text/html": [
              "<div>\n",
              "<style scoped>\n",
              "    .dataframe tbody tr th:only-of-type {\n",
              "        vertical-align: middle;\n",
              "    }\n",
              "\n",
              "    .dataframe tbody tr th {\n",
              "        vertical-align: top;\n",
              "    }\n",
              "\n",
              "    .dataframe thead th {\n",
              "        text-align: right;\n",
              "    }\n",
              "</style>\n",
              "<table border=\"1\" class=\"dataframe\">\n",
              "  <thead>\n",
              "    <tr style=\"text-align: right;\">\n",
              "      <th></th>\n",
              "      <th>start</th>\n",
              "      <th>count</th>\n",
              "    </tr>\n",
              "  </thead>\n",
              "  <tbody>\n",
              "    <tr>\n",
              "      <th>25</th>\n",
              "      <td>2017-08-19</td>\n",
              "      <td>9</td>\n",
              "    </tr>\n",
              "    <tr>\n",
              "      <th>22</th>\n",
              "      <td>2017-08-20</td>\n",
              "      <td>18</td>\n",
              "    </tr>\n",
              "    <tr>\n",
              "      <th>17</th>\n",
              "      <td>2017-08-21</td>\n",
              "      <td>21</td>\n",
              "    </tr>\n",
              "    <tr>\n",
              "      <th>23</th>\n",
              "      <td>2017-08-22</td>\n",
              "      <td>15</td>\n",
              "    </tr>\n",
              "    <tr>\n",
              "      <th>16</th>\n",
              "      <td>2017-08-23</td>\n",
              "      <td>22</td>\n",
              "    </tr>\n",
              "    <tr>\n",
              "      <th>21</th>\n",
              "      <td>2017-08-24</td>\n",
              "      <td>18</td>\n",
              "    </tr>\n",
              "    <tr>\n",
              "      <th>19</th>\n",
              "      <td>2017-08-25</td>\n",
              "      <td>20</td>\n",
              "    </tr>\n",
              "    <tr>\n",
              "      <th>20</th>\n",
              "      <td>2017-08-26</td>\n",
              "      <td>19</td>\n",
              "    </tr>\n",
              "    <tr>\n",
              "      <th>24</th>\n",
              "      <td>2017-08-27</td>\n",
              "      <td>11</td>\n",
              "    </tr>\n",
              "    <tr>\n",
              "      <th>15</th>\n",
              "      <td>2017-08-28</td>\n",
              "      <td>24</td>\n",
              "    </tr>\n",
              "    <tr>\n",
              "      <th>14</th>\n",
              "      <td>2017-08-29</td>\n",
              "      <td>27</td>\n",
              "    </tr>\n",
              "    <tr>\n",
              "      <th>9</th>\n",
              "      <td>2017-08-30</td>\n",
              "      <td>40</td>\n",
              "    </tr>\n",
              "    <tr>\n",
              "      <th>12</th>\n",
              "      <td>2017-08-31</td>\n",
              "      <td>37</td>\n",
              "    </tr>\n",
              "    <tr>\n",
              "      <th>6</th>\n",
              "      <td>2017-09-01</td>\n",
              "      <td>52</td>\n",
              "    </tr>\n",
              "    <tr>\n",
              "      <th>10</th>\n",
              "      <td>2017-09-02</td>\n",
              "      <td>39</td>\n",
              "    </tr>\n",
              "    <tr>\n",
              "      <th>5</th>\n",
              "      <td>2017-09-03</td>\n",
              "      <td>53</td>\n",
              "    </tr>\n",
              "    <tr>\n",
              "      <th>2</th>\n",
              "      <td>2017-09-04</td>\n",
              "      <td>331</td>\n",
              "    </tr>\n",
              "    <tr>\n",
              "      <th>0</th>\n",
              "      <td>2017-09-05</td>\n",
              "      <td>942</td>\n",
              "    </tr>\n",
              "    <tr>\n",
              "      <th>1</th>\n",
              "      <td>2017-09-06</td>\n",
              "      <td>335</td>\n",
              "    </tr>\n",
              "    <tr>\n",
              "      <th>3</th>\n",
              "      <td>2017-09-07</td>\n",
              "      <td>129</td>\n",
              "    </tr>\n",
              "    <tr>\n",
              "      <th>4</th>\n",
              "      <td>2017-09-08</td>\n",
              "      <td>94</td>\n",
              "    </tr>\n",
              "    <tr>\n",
              "      <th>7</th>\n",
              "      <td>2017-09-09</td>\n",
              "      <td>43</td>\n",
              "    </tr>\n",
              "    <tr>\n",
              "      <th>13</th>\n",
              "      <td>2017-09-10</td>\n",
              "      <td>32</td>\n",
              "    </tr>\n",
              "    <tr>\n",
              "      <th>18</th>\n",
              "      <td>2017-09-11</td>\n",
              "      <td>20</td>\n",
              "    </tr>\n",
              "    <tr>\n",
              "      <th>8</th>\n",
              "      <td>2017-09-12</td>\n",
              "      <td>41</td>\n",
              "    </tr>\n",
              "    <tr>\n",
              "      <th>11</th>\n",
              "      <td>2017-09-13</td>\n",
              "      <td>37</td>\n",
              "    </tr>\n",
              "    <tr>\n",
              "      <th>26</th>\n",
              "      <td>2017-09-14</td>\n",
              "      <td>7</td>\n",
              "    </tr>\n",
              "  </tbody>\n",
              "</table>\n",
              "</div>"
            ],
            "text/plain": [
              "        start  count\n",
              "25 2017-08-19      9\n",
              "22 2017-08-20     18\n",
              "17 2017-08-21     21\n",
              "23 2017-08-22     15\n",
              "16 2017-08-23     22\n",
              "21 2017-08-24     18\n",
              "19 2017-08-25     20\n",
              "20 2017-08-26     19\n",
              "24 2017-08-27     11\n",
              "15 2017-08-28     24\n",
              "14 2017-08-29     27\n",
              "9  2017-08-30     40\n",
              "12 2017-08-31     37\n",
              "6  2017-09-01     52\n",
              "10 2017-09-02     39\n",
              "5  2017-09-03     53\n",
              "2  2017-09-04    331\n",
              "0  2017-09-05    942\n",
              "1  2017-09-06    335\n",
              "3  2017-09-07    129\n",
              "4  2017-09-08     94\n",
              "7  2017-09-09     43\n",
              "13 2017-09-10     32\n",
              "18 2017-09-11     20\n",
              "8  2017-09-12     41\n",
              "11 2017-09-13     37\n",
              "26 2017-09-14      7"
            ]
          },
          "metadata": {
            "tags": []
          },
          "execution_count": 39
        }
      ]
    },
    {
      "metadata": {
        "id": "WQMH_ScfP9ze",
        "colab_type": "text"
      },
      "cell_type": "markdown",
      "source": [
        "## Groupby 메서드 사용하기\n",
        "\n",
        "https://pandas.pydata.org/pandas-docs/stable/api.html#groupby"
      ]
    },
    {
      "metadata": {
        "id": "zTdDAELFP9ze",
        "colab_type": "text"
      },
      "cell_type": "markdown",
      "source": [
        "## 어느 분야의 청원이 가장 많이 들어왔는지\n",
        "* pandas의 value_counts로 특정 컬럼의 데이터를 그룹화하여 카운된 숫자를 볼 수 있다.\n",
        "* 이 데이터로는 정치개혁과 관련된 국민청원이 가장 많다는 것을 알 수 있다."
      ]
    },
    {
      "metadata": {
        "id": "aaUvDG57P9zf",
        "colab_type": "code",
        "colab": {
          "base_uri": "https://localhost:8080/",
          "height": 570
        },
        "outputId": "65ec4221-5313-4d89-8f5b-e750119f50a3"
      },
      "cell_type": "code",
      "source": [
        "category = pd.DataFrame(petitions['category'].value_counts()).reset_index()\n",
        "category.columns = ['category', 'counts']\n",
        "category"
      ],
      "execution_count": 40,
      "outputs": [
        {
          "output_type": "execute_result",
          "data": {
            "text/html": [
              "<div>\n",
              "<style scoped>\n",
              "    .dataframe tbody tr th:only-of-type {\n",
              "        vertical-align: middle;\n",
              "    }\n",
              "\n",
              "    .dataframe tbody tr th {\n",
              "        vertical-align: top;\n",
              "    }\n",
              "\n",
              "    .dataframe thead th {\n",
              "        text-align: right;\n",
              "    }\n",
              "</style>\n",
              "<table border=\"1\" class=\"dataframe\">\n",
              "  <thead>\n",
              "    <tr style=\"text-align: right;\">\n",
              "      <th></th>\n",
              "      <th>category</th>\n",
              "      <th>counts</th>\n",
              "    </tr>\n",
              "  </thead>\n",
              "  <tbody>\n",
              "    <tr>\n",
              "      <th>0</th>\n",
              "      <td>정치개혁</td>\n",
              "      <td>38835</td>\n",
              "    </tr>\n",
              "    <tr>\n",
              "      <th>1</th>\n",
              "      <td>기타</td>\n",
              "      <td>25985</td>\n",
              "    </tr>\n",
              "    <tr>\n",
              "      <th>2</th>\n",
              "      <td>인권/성평등</td>\n",
              "      <td>21089</td>\n",
              "    </tr>\n",
              "    <tr>\n",
              "      <th>3</th>\n",
              "      <td>안전/환경</td>\n",
              "      <td>16264</td>\n",
              "    </tr>\n",
              "    <tr>\n",
              "      <th>4</th>\n",
              "      <td>육아/교육</td>\n",
              "      <td>14384</td>\n",
              "    </tr>\n",
              "    <tr>\n",
              "      <th>5</th>\n",
              "      <td>외교/통일/국방</td>\n",
              "      <td>13881</td>\n",
              "    </tr>\n",
              "    <tr>\n",
              "      <th>6</th>\n",
              "      <td>보건복지</td>\n",
              "      <td>11623</td>\n",
              "    </tr>\n",
              "    <tr>\n",
              "      <th>7</th>\n",
              "      <td>행정</td>\n",
              "      <td>10919</td>\n",
              "    </tr>\n",
              "    <tr>\n",
              "      <th>8</th>\n",
              "      <td>일자리</td>\n",
              "      <td>10503</td>\n",
              "    </tr>\n",
              "    <tr>\n",
              "      <th>9</th>\n",
              "      <td>문화/예술/체육/언론</td>\n",
              "      <td>10437</td>\n",
              "    </tr>\n",
              "    <tr>\n",
              "      <th>10</th>\n",
              "      <td>교통/건축/국토</td>\n",
              "      <td>9906</td>\n",
              "    </tr>\n",
              "    <tr>\n",
              "      <th>11</th>\n",
              "      <td>미래</td>\n",
              "      <td>9406</td>\n",
              "    </tr>\n",
              "    <tr>\n",
              "      <th>12</th>\n",
              "      <td>경제민주화</td>\n",
              "      <td>8404</td>\n",
              "    </tr>\n",
              "    <tr>\n",
              "      <th>13</th>\n",
              "      <td>성장동력</td>\n",
              "      <td>4001</td>\n",
              "    </tr>\n",
              "    <tr>\n",
              "      <th>14</th>\n",
              "      <td>반려동물</td>\n",
              "      <td>2113</td>\n",
              "    </tr>\n",
              "    <tr>\n",
              "      <th>15</th>\n",
              "      <td>저출산/고령화대책</td>\n",
              "      <td>1763</td>\n",
              "    </tr>\n",
              "    <tr>\n",
              "      <th>16</th>\n",
              "      <td>농산어촌</td>\n",
              "      <td>911</td>\n",
              "    </tr>\n",
              "  </tbody>\n",
              "</table>\n",
              "</div>"
            ],
            "text/plain": [
              "       category  counts\n",
              "0          정치개혁   38835\n",
              "1            기타   25985\n",
              "2        인권/성평등   21089\n",
              "3         안전/환경   16264\n",
              "4         육아/교육   14384\n",
              "5      외교/통일/국방   13881\n",
              "6          보건복지   11623\n",
              "7            행정   10919\n",
              "8           일자리   10503\n",
              "9   문화/예술/체육/언론   10437\n",
              "10     교통/건축/국토    9906\n",
              "11           미래    9406\n",
              "12        경제민주화    8404\n",
              "13         성장동력    4001\n",
              "14         반려동물    2113\n",
              "15    저출산/고령화대책    1763\n",
              "16         농산어촌     911"
            ]
          },
          "metadata": {
            "tags": []
          },
          "execution_count": 40
        }
      ]
    },
    {
      "metadata": {
        "id": "Kh5I494eP9zi",
        "colab_type": "text"
      },
      "cell_type": "markdown",
      "source": [
        "## 청원이 얼마 동안 집계되었는지\n",
        "청원이 가장 많이 들어 온 날은 언제인지 정렬해 본다."
      ]
    },
    {
      "metadata": {
        "id": "KuquTDWzP9zk",
        "colab_type": "code",
        "colab": {
          "base_uri": "https://localhost:8080/",
          "height": 221
        },
        "outputId": "e405598b-137d-4e57-eee1-0c4b1ba8dadf"
      },
      "cell_type": "code",
      "source": [
        "start_df = pd.DataFrame(petitions['start'].value_counts()).reset_index()\n",
        "start_df.columns = ['start', 'counts']\n",
        "start_df = start_df.sort_values('counts', ascending=False)\n",
        "print('청원 집계: {}일'.format(start_df.shape[0]))\n",
        "start_df.head()"
      ],
      "execution_count": 41,
      "outputs": [
        {
          "output_type": "stream",
          "text": [
            "청원 집계: 301일\n"
          ],
          "name": "stdout"
        },
        {
          "output_type": "execute_result",
          "data": {
            "text/html": [
              "<div>\n",
              "<style scoped>\n",
              "    .dataframe tbody tr th:only-of-type {\n",
              "        vertical-align: middle;\n",
              "    }\n",
              "\n",
              "    .dataframe tbody tr th {\n",
              "        vertical-align: top;\n",
              "    }\n",
              "\n",
              "    .dataframe thead th {\n",
              "        text-align: right;\n",
              "    }\n",
              "</style>\n",
              "<table border=\"1\" class=\"dataframe\">\n",
              "  <thead>\n",
              "    <tr style=\"text-align: right;\">\n",
              "      <th></th>\n",
              "      <th>start</th>\n",
              "      <th>counts</th>\n",
              "    </tr>\n",
              "  </thead>\n",
              "  <tbody>\n",
              "    <tr>\n",
              "      <th>0</th>\n",
              "      <td>2017-11-11</td>\n",
              "      <td>9623</td>\n",
              "    </tr>\n",
              "    <tr>\n",
              "      <th>1</th>\n",
              "      <td>2017-09-05</td>\n",
              "      <td>5952</td>\n",
              "    </tr>\n",
              "    <tr>\n",
              "      <th>2</th>\n",
              "      <td>2018-01-11</td>\n",
              "      <td>3368</td>\n",
              "    </tr>\n",
              "    <tr>\n",
              "      <th>3</th>\n",
              "      <td>2018-02-06</td>\n",
              "      <td>2631</td>\n",
              "    </tr>\n",
              "    <tr>\n",
              "      <th>4</th>\n",
              "      <td>2017-11-09</td>\n",
              "      <td>2487</td>\n",
              "    </tr>\n",
              "  </tbody>\n",
              "</table>\n",
              "</div>"
            ],
            "text/plain": [
              "       start  counts\n",
              "0 2017-11-11    9623\n",
              "1 2017-09-05    5952\n",
              "2 2018-01-11    3368\n",
              "3 2018-02-06    2631\n",
              "4 2017-11-09    2487"
            ]
          },
          "metadata": {
            "tags": []
          },
          "execution_count": 41
        }
      ]
    },
    {
      "metadata": {
        "id": "vJLTnI61P9zo",
        "colab_type": "text"
      },
      "cell_type": "markdown",
      "source": [
        "## 피봇 테이블로 투표를 가장 많이 받은 분야 보기"
      ]
    },
    {
      "metadata": {
        "id": "86eJesitP9zo",
        "colab_type": "code",
        "colab": {
          "base_uri": "https://localhost:8080/",
          "height": 570
        },
        "outputId": "982dc84f-e4dc-4c2a-bccb-5682a3e0d57e"
      },
      "cell_type": "code",
      "source": [
        "petitions_unique = pd.pivot_table(petitions, index=['category'], aggfunc=np.sum)\n",
        "petitions_best = petitions_unique.sort_values(by='votes', ascending=False).reset_index()\n",
        "petitions_best"
      ],
      "execution_count": 42,
      "outputs": [
        {
          "output_type": "execute_result",
          "data": {
            "text/html": [
              "<div>\n",
              "<style scoped>\n",
              "    .dataframe tbody tr th:only-of-type {\n",
              "        vertical-align: middle;\n",
              "    }\n",
              "\n",
              "    .dataframe tbody tr th {\n",
              "        vertical-align: top;\n",
              "    }\n",
              "\n",
              "    .dataframe thead th {\n",
              "        text-align: right;\n",
              "    }\n",
              "</style>\n",
              "<table border=\"1\" class=\"dataframe\">\n",
              "  <thead>\n",
              "    <tr style=\"text-align: right;\">\n",
              "      <th></th>\n",
              "      <th>category</th>\n",
              "      <th>answer</th>\n",
              "      <th>votes</th>\n",
              "    </tr>\n",
              "  </thead>\n",
              "  <tbody>\n",
              "    <tr>\n",
              "      <th>0</th>\n",
              "      <td>인권/성평등</td>\n",
              "      <td>11.0</td>\n",
              "      <td>5842796</td>\n",
              "    </tr>\n",
              "    <tr>\n",
              "      <th>1</th>\n",
              "      <td>정치개혁</td>\n",
              "      <td>3.0</td>\n",
              "      <td>3053479</td>\n",
              "    </tr>\n",
              "    <tr>\n",
              "      <th>2</th>\n",
              "      <td>문화/예술/체육/언론</td>\n",
              "      <td>5.0</td>\n",
              "      <td>3045112</td>\n",
              "    </tr>\n",
              "    <tr>\n",
              "      <th>3</th>\n",
              "      <td>기타</td>\n",
              "      <td>5.0</td>\n",
              "      <td>2905688</td>\n",
              "    </tr>\n",
              "    <tr>\n",
              "      <th>4</th>\n",
              "      <td>안전/환경</td>\n",
              "      <td>5.0</td>\n",
              "      <td>2575066</td>\n",
              "    </tr>\n",
              "    <tr>\n",
              "      <th>5</th>\n",
              "      <td>보건복지</td>\n",
              "      <td>2.0</td>\n",
              "      <td>2518928</td>\n",
              "    </tr>\n",
              "    <tr>\n",
              "      <th>6</th>\n",
              "      <td>외교/통일/국방</td>\n",
              "      <td>3.0</td>\n",
              "      <td>2330451</td>\n",
              "    </tr>\n",
              "    <tr>\n",
              "      <th>7</th>\n",
              "      <td>육아/교육</td>\n",
              "      <td>1.0</td>\n",
              "      <td>2038942</td>\n",
              "    </tr>\n",
              "    <tr>\n",
              "      <th>8</th>\n",
              "      <td>행정</td>\n",
              "      <td>1.0</td>\n",
              "      <td>1157404</td>\n",
              "    </tr>\n",
              "    <tr>\n",
              "      <th>9</th>\n",
              "      <td>경제민주화</td>\n",
              "      <td>2.0</td>\n",
              "      <td>1107672</td>\n",
              "    </tr>\n",
              "    <tr>\n",
              "      <th>10</th>\n",
              "      <td>교통/건축/국토</td>\n",
              "      <td>1.0</td>\n",
              "      <td>1097105</td>\n",
              "    </tr>\n",
              "    <tr>\n",
              "      <th>11</th>\n",
              "      <td>반려동물</td>\n",
              "      <td>1.0</td>\n",
              "      <td>935071</td>\n",
              "    </tr>\n",
              "    <tr>\n",
              "      <th>12</th>\n",
              "      <td>미래</td>\n",
              "      <td>1.0</td>\n",
              "      <td>853645</td>\n",
              "    </tr>\n",
              "    <tr>\n",
              "      <th>13</th>\n",
              "      <td>성장동력</td>\n",
              "      <td>2.0</td>\n",
              "      <td>673733</td>\n",
              "    </tr>\n",
              "    <tr>\n",
              "      <th>14</th>\n",
              "      <td>일자리</td>\n",
              "      <td>0.0</td>\n",
              "      <td>590351</td>\n",
              "    </tr>\n",
              "    <tr>\n",
              "      <th>15</th>\n",
              "      <td>저출산/고령화대책</td>\n",
              "      <td>0.0</td>\n",
              "      <td>86197</td>\n",
              "    </tr>\n",
              "    <tr>\n",
              "      <th>16</th>\n",
              "      <td>농산어촌</td>\n",
              "      <td>0.0</td>\n",
              "      <td>81656</td>\n",
              "    </tr>\n",
              "  </tbody>\n",
              "</table>\n",
              "</div>"
            ],
            "text/plain": [
              "       category  answer    votes\n",
              "0        인권/성평등    11.0  5842796\n",
              "1          정치개혁     3.0  3053479\n",
              "2   문화/예술/체육/언론     5.0  3045112\n",
              "3            기타     5.0  2905688\n",
              "4         안전/환경     5.0  2575066\n",
              "5          보건복지     2.0  2518928\n",
              "6      외교/통일/국방     3.0  2330451\n",
              "7         육아/교육     1.0  2038942\n",
              "8            행정     1.0  1157404\n",
              "9         경제민주화     2.0  1107672\n",
              "10     교통/건축/국토     1.0  1097105\n",
              "11         반려동물     1.0   935071\n",
              "12           미래     1.0   853645\n",
              "13         성장동력     2.0   673733\n",
              "14          일자리     0.0   590351\n",
              "15    저출산/고령화대책     0.0    86197\n",
              "16         농산어촌     0.0    81656"
            ]
          },
          "metadata": {
            "tags": []
          },
          "execution_count": 42
        }
      ]
    },
    {
      "metadata": {
        "id": "yjgU4blpP9zs",
        "colab_type": "text"
      },
      "cell_type": "markdown",
      "source": [
        "## 투표를 가장 많이 받은 날"
      ]
    },
    {
      "metadata": {
        "id": "ss3jcBQbP9zs",
        "colab_type": "code",
        "colab": {
          "base_uri": "https://localhost:8080/",
          "height": 662
        },
        "outputId": "bacf5854-54af-49da-8a03-079c9273813d"
      },
      "cell_type": "code",
      "source": [
        "petitions_start = pd.pivot_table(petitions, index=['start'], aggfunc=np.sum)\n",
        "votes_df = petitions_start.sort_values(by='votes', ascending=False)\n",
        "votes_df.loc[petitions_start['votes'] > 350000]"
      ],
      "execution_count": 43,
      "outputs": [
        {
          "output_type": "execute_result",
          "data": {
            "text/html": [
              "<div>\n",
              "<style scoped>\n",
              "    .dataframe tbody tr th:only-of-type {\n",
              "        vertical-align: middle;\n",
              "    }\n",
              "\n",
              "    .dataframe tbody tr th {\n",
              "        vertical-align: top;\n",
              "    }\n",
              "\n",
              "    .dataframe thead th {\n",
              "        text-align: right;\n",
              "    }\n",
              "</style>\n",
              "<table border=\"1\" class=\"dataframe\">\n",
              "  <thead>\n",
              "    <tr style=\"text-align: right;\">\n",
              "      <th></th>\n",
              "      <th>answer</th>\n",
              "      <th>votes</th>\n",
              "    </tr>\n",
              "    <tr>\n",
              "      <th>start</th>\n",
              "      <th></th>\n",
              "      <th></th>\n",
              "    </tr>\n",
              "  </thead>\n",
              "  <tbody>\n",
              "    <tr>\n",
              "      <th>2018-06-13</th>\n",
              "      <td>1.0</td>\n",
              "      <td>786157</td>\n",
              "    </tr>\n",
              "    <tr>\n",
              "      <th>2018-02-19</th>\n",
              "      <td>1.0</td>\n",
              "      <td>701520</td>\n",
              "    </tr>\n",
              "    <tr>\n",
              "      <th>2017-09-06</th>\n",
              "      <td>1.0</td>\n",
              "      <td>648209</td>\n",
              "    </tr>\n",
              "    <tr>\n",
              "      <th>2018-02-23</th>\n",
              "      <td>2.0</td>\n",
              "      <td>608530</td>\n",
              "    </tr>\n",
              "    <tr>\n",
              "      <th>2018-05-18</th>\n",
              "      <td>1.0</td>\n",
              "      <td>574483</td>\n",
              "    </tr>\n",
              "    <tr>\n",
              "      <th>2018-05-11</th>\n",
              "      <td>1.0</td>\n",
              "      <td>556549</td>\n",
              "    </tr>\n",
              "    <tr>\n",
              "      <th>2018-05-25</th>\n",
              "      <td>2.0</td>\n",
              "      <td>514253</td>\n",
              "    </tr>\n",
              "    <tr>\n",
              "      <th>2018-04-17</th>\n",
              "      <td>1.0</td>\n",
              "      <td>446950</td>\n",
              "    </tr>\n",
              "    <tr>\n",
              "      <th>2018-05-02</th>\n",
              "      <td>1.0</td>\n",
              "      <td>445493</td>\n",
              "    </tr>\n",
              "    <tr>\n",
              "      <th>2017-09-03</th>\n",
              "      <td>1.0</td>\n",
              "      <td>433356</td>\n",
              "    </tr>\n",
              "    <tr>\n",
              "      <th>2018-06-14</th>\n",
              "      <td>1.0</td>\n",
              "      <td>403351</td>\n",
              "    </tr>\n",
              "    <tr>\n",
              "      <th>2018-01-20</th>\n",
              "      <td>1.0</td>\n",
              "      <td>399683</td>\n",
              "    </tr>\n",
              "    <tr>\n",
              "      <th>2017-11-17</th>\n",
              "      <td>1.0</td>\n",
              "      <td>393348</td>\n",
              "    </tr>\n",
              "    <tr>\n",
              "      <th>2017-11-24</th>\n",
              "      <td>1.0</td>\n",
              "      <td>392782</td>\n",
              "    </tr>\n",
              "    <tr>\n",
              "      <th>2018-03-24</th>\n",
              "      <td>1.0</td>\n",
              "      <td>385480</td>\n",
              "    </tr>\n",
              "    <tr>\n",
              "      <th>2018-03-03</th>\n",
              "      <td>1.0</td>\n",
              "      <td>380016</td>\n",
              "    </tr>\n",
              "    <tr>\n",
              "      <th>2018-01-15</th>\n",
              "      <td>1.0</td>\n",
              "      <td>376187</td>\n",
              "    </tr>\n",
              "    <tr>\n",
              "      <th>2018-04-16</th>\n",
              "      <td>1.0</td>\n",
              "      <td>369318</td>\n",
              "    </tr>\n",
              "    <tr>\n",
              "      <th>2018-01-25</th>\n",
              "      <td>1.0</td>\n",
              "      <td>364926</td>\n",
              "    </tr>\n",
              "  </tbody>\n",
              "</table>\n",
              "</div>"
            ],
            "text/plain": [
              "            answer   votes\n",
              "start                     \n",
              "2018-06-13     1.0  786157\n",
              "2018-02-19     1.0  701520\n",
              "2017-09-06     1.0  648209\n",
              "2018-02-23     2.0  608530\n",
              "2018-05-18     1.0  574483\n",
              "2018-05-11     1.0  556549\n",
              "2018-05-25     2.0  514253\n",
              "2018-04-17     1.0  446950\n",
              "2018-05-02     1.0  445493\n",
              "2017-09-03     1.0  433356\n",
              "2018-06-14     1.0  403351\n",
              "2018-01-20     1.0  399683\n",
              "2017-11-17     1.0  393348\n",
              "2017-11-24     1.0  392782\n",
              "2018-03-24     1.0  385480\n",
              "2018-03-03     1.0  380016\n",
              "2018-01-15     1.0  376187\n",
              "2018-04-16     1.0  369318\n",
              "2018-01-25     1.0  364926"
            ]
          },
          "metadata": {
            "tags": []
          },
          "execution_count": 43
        }
      ]
    },
    {
      "metadata": {
        "id": "A4ybmUiyP9zu",
        "colab_type": "text"
      },
      "cell_type": "markdown",
      "source": [
        "## 청원을 많이 받은 날 VS 투표를 많이 받은 날"
      ]
    },
    {
      "metadata": {
        "id": "OMIch8QDP9zv",
        "colab_type": "code",
        "colab": {}
      },
      "cell_type": "code",
      "source": [
        "# 두 개의 데이터프레임을 합치기 위해 인덱스를 생성한다.\n",
        "votes_df = votes_df.reset_index()"
      ],
      "execution_count": 0,
      "outputs": []
    },
    {
      "metadata": {
        "id": "cKlJ8fChP9zw",
        "colab_type": "code",
        "colab": {
          "base_uri": "https://localhost:8080/",
          "height": 202
        },
        "outputId": "6201167e-ae56-4635-ba21-82f4fc4478f3"
      },
      "cell_type": "code",
      "source": [
        "hottest_day_df = start_df.merge(votes_df, on='start', how='left')\n",
        "hottest_day_df.sort_values('votes', ascending=False)[:5]"
      ],
      "execution_count": 45,
      "outputs": [
        {
          "output_type": "execute_result",
          "data": {
            "text/html": [
              "<div>\n",
              "<style scoped>\n",
              "    .dataframe tbody tr th:only-of-type {\n",
              "        vertical-align: middle;\n",
              "    }\n",
              "\n",
              "    .dataframe tbody tr th {\n",
              "        vertical-align: top;\n",
              "    }\n",
              "\n",
              "    .dataframe thead th {\n",
              "        text-align: right;\n",
              "    }\n",
              "</style>\n",
              "<table border=\"1\" class=\"dataframe\">\n",
              "  <thead>\n",
              "    <tr style=\"text-align: right;\">\n",
              "      <th></th>\n",
              "      <th>start</th>\n",
              "      <th>counts</th>\n",
              "      <th>answer</th>\n",
              "      <th>votes</th>\n",
              "    </tr>\n",
              "  </thead>\n",
              "  <tbody>\n",
              "    <tr>\n",
              "      <th>180</th>\n",
              "      <td>2018-06-13</td>\n",
              "      <td>542</td>\n",
              "      <td>1.0</td>\n",
              "      <td>786157</td>\n",
              "    </tr>\n",
              "    <tr>\n",
              "      <th>119</th>\n",
              "      <td>2018-02-19</td>\n",
              "      <td>698</td>\n",
              "      <td>1.0</td>\n",
              "      <td>701520</td>\n",
              "    </tr>\n",
              "    <tr>\n",
              "      <th>6</th>\n",
              "      <td>2017-09-06</td>\n",
              "      <td>2121</td>\n",
              "      <td>1.0</td>\n",
              "      <td>648209</td>\n",
              "    </tr>\n",
              "    <tr>\n",
              "      <th>30</th>\n",
              "      <td>2018-02-23</td>\n",
              "      <td>1135</td>\n",
              "      <td>2.0</td>\n",
              "      <td>608530</td>\n",
              "    </tr>\n",
              "    <tr>\n",
              "      <th>81</th>\n",
              "      <td>2018-05-18</td>\n",
              "      <td>806</td>\n",
              "      <td>1.0</td>\n",
              "      <td>574483</td>\n",
              "    </tr>\n",
              "  </tbody>\n",
              "</table>\n",
              "</div>"
            ],
            "text/plain": [
              "         start  counts  answer   votes\n",
              "180 2018-06-13     542     1.0  786157\n",
              "119 2018-02-19     698     1.0  701520\n",
              "6   2017-09-06    2121     1.0  648209\n",
              "30  2018-02-23    1135     2.0  608530\n",
              "81  2018-05-18     806     1.0  574483"
            ]
          },
          "metadata": {
            "tags": []
          },
          "execution_count": 45
        }
      ]
    },
    {
      "metadata": {
        "id": "C9SvGdj2P9zz",
        "colab_type": "code",
        "colab": {
          "base_uri": "https://localhost:8080/",
          "height": 202
        },
        "outputId": "3eb18e61-38c9-4087-865f-34e3f68dcdfa"
      },
      "cell_type": "code",
      "source": [
        "hottest_day_df.sort_values('counts', ascending=False)[:5]"
      ],
      "execution_count": 46,
      "outputs": [
        {
          "output_type": "execute_result",
          "data": {
            "text/html": [
              "<div>\n",
              "<style scoped>\n",
              "    .dataframe tbody tr th:only-of-type {\n",
              "        vertical-align: middle;\n",
              "    }\n",
              "\n",
              "    .dataframe tbody tr th {\n",
              "        vertical-align: top;\n",
              "    }\n",
              "\n",
              "    .dataframe thead th {\n",
              "        text-align: right;\n",
              "    }\n",
              "</style>\n",
              "<table border=\"1\" class=\"dataframe\">\n",
              "  <thead>\n",
              "    <tr style=\"text-align: right;\">\n",
              "      <th></th>\n",
              "      <th>start</th>\n",
              "      <th>counts</th>\n",
              "      <th>answer</th>\n",
              "      <th>votes</th>\n",
              "    </tr>\n",
              "  </thead>\n",
              "  <tbody>\n",
              "    <tr>\n",
              "      <th>0</th>\n",
              "      <td>2017-11-11</td>\n",
              "      <td>9623</td>\n",
              "      <td>0.0</td>\n",
              "      <td>85074</td>\n",
              "    </tr>\n",
              "    <tr>\n",
              "      <th>1</th>\n",
              "      <td>2017-09-05</td>\n",
              "      <td>5952</td>\n",
              "      <td>0.0</td>\n",
              "      <td>48808</td>\n",
              "    </tr>\n",
              "    <tr>\n",
              "      <th>2</th>\n",
              "      <td>2018-01-11</td>\n",
              "      <td>3368</td>\n",
              "      <td>0.0</td>\n",
              "      <td>44570</td>\n",
              "    </tr>\n",
              "    <tr>\n",
              "      <th>3</th>\n",
              "      <td>2018-02-06</td>\n",
              "      <td>2631</td>\n",
              "      <td>0.0</td>\n",
              "      <td>83038</td>\n",
              "    </tr>\n",
              "    <tr>\n",
              "      <th>4</th>\n",
              "      <td>2017-11-09</td>\n",
              "      <td>2487</td>\n",
              "      <td>0.0</td>\n",
              "      <td>34774</td>\n",
              "    </tr>\n",
              "  </tbody>\n",
              "</table>\n",
              "</div>"
            ],
            "text/plain": [
              "       start  counts  answer  votes\n",
              "0 2017-11-11    9623     0.0  85074\n",
              "1 2017-09-05    5952     0.0  48808\n",
              "2 2018-01-11    3368     0.0  44570\n",
              "3 2018-02-06    2631     0.0  83038\n",
              "4 2017-11-09    2487     0.0  34774"
            ]
          },
          "metadata": {
            "tags": []
          },
          "execution_count": 46
        }
      ]
    },
    {
      "metadata": {
        "id": "oV6rrfHwP9z1",
        "colab_type": "text"
      },
      "cell_type": "markdown",
      "source": [
        "## 답변 대상 청원\n",
        "- 20만건 이상의 투표를 받으면 답변을 받을 수 있는 청원이 된다."
      ]
    },
    {
      "metadata": {
        "id": "tyyZ6aOQP9z2",
        "colab_type": "code",
        "colab": {
          "base_uri": "https://localhost:8080/",
          "height": 36
        },
        "outputId": "7873fb29-090e-4faa-8e9b-989922642125"
      },
      "cell_type": "code",
      "source": [
        "answered_df = petitions.loc[petitions['votes'] > 200000]\n",
        "print('답변 대상 청원: {}건'.format(answered_df.shape[0]))"
      ],
      "execution_count": 47,
      "outputs": [
        {
          "output_type": "stream",
          "text": [
            "답변 대상 청원: 43건\n"
          ],
          "name": "stdout"
        }
      ]
    },
    {
      "metadata": {
        "id": "b_KjxrwoP9z5",
        "colab_type": "code",
        "colab": {},
        "outputId": "979dc5ad-5e8c-484a-e39a-b3b1ce6caae9"
      },
      "cell_type": "code",
      "source": [
        "answered_df.head()"
      ],
      "execution_count": 0,
      "outputs": [
        {
          "output_type": "execute_result",
          "data": {
            "text/html": [
              "<div>\n",
              "<style scoped>\n",
              "    .dataframe tbody tr th:only-of-type {\n",
              "        vertical-align: middle;\n",
              "    }\n",
              "\n",
              "    .dataframe tbody tr th {\n",
              "        vertical-align: top;\n",
              "    }\n",
              "\n",
              "    .dataframe thead th {\n",
              "        text-align: right;\n",
              "    }\n",
              "</style>\n",
              "<table border=\"1\" class=\"dataframe\">\n",
              "  <thead>\n",
              "    <tr style=\"text-align: right;\">\n",
              "      <th></th>\n",
              "      <th>start</th>\n",
              "      <th>end</th>\n",
              "      <th>votes</th>\n",
              "      <th>category</th>\n",
              "      <th>title</th>\n",
              "      <th>content</th>\n",
              "      <th>answer</th>\n",
              "      <th>duration</th>\n",
              "    </tr>\n",
              "    <tr>\n",
              "      <th>article_id</th>\n",
              "      <th></th>\n",
              "      <th></th>\n",
              "      <th></th>\n",
              "      <th></th>\n",
              "      <th></th>\n",
              "      <th></th>\n",
              "      <th></th>\n",
              "      <th></th>\n",
              "    </tr>\n",
              "  </thead>\n",
              "  <tbody>\n",
              "    <tr>\n",
              "      <th>1785</th>\n",
              "      <td>2017-09-03</td>\n",
              "      <td>2017-11-02</td>\n",
              "      <td>296330</td>\n",
              "      <td>인권/성평등</td>\n",
              "      <td>청소년이란 이유로 보호법을 악용하는 잔인무도한 청소년들이 늘어나고있습니다. 반드시 ...</td>\n",
              "      <td>안녕하십니까. 청소년보호법이란 명목하에 나쁜짓을 일삼는 청소년들이 너무나 많아지고 ...</td>\n",
              "      <td>True</td>\n",
              "      <td>60 days</td>\n",
              "    </tr>\n",
              "    <tr>\n",
              "      <th>10949</th>\n",
              "      <td>2017-09-06</td>\n",
              "      <td>2017-12-05</td>\n",
              "      <td>615354</td>\n",
              "      <td>미래</td>\n",
              "      <td>조두순 출소반대</td>\n",
              "      <td>제발 조두순 재심다시해서 무기징역으로 해야됩니다!!!</td>\n",
              "      <td>True</td>\n",
              "      <td>90 days</td>\n",
              "    </tr>\n",
              "    <tr>\n",
              "      <th>18278</th>\n",
              "      <td>2017-09-30</td>\n",
              "      <td>2017-10-30</td>\n",
              "      <td>235372</td>\n",
              "      <td>인권/성평등</td>\n",
              "      <td>낙태죄 폐지와 자연유산 유도약(미프진) 합법화 및 도입을 부탁드립니다.</td>\n",
              "      <td>안녕하세요. 존경하는 대통령님 의원님\\n낙태죄 폐지를 청원합니다.\\n현재 대한민국은...</td>\n",
              "      <td>True</td>\n",
              "      <td>30 days</td>\n",
              "    </tr>\n",
              "    <tr>\n",
              "      <th>26024</th>\n",
              "      <td>2017-11-04</td>\n",
              "      <td>2017-12-04</td>\n",
              "      <td>216774</td>\n",
              "      <td>안전/환경</td>\n",
              "      <td>'주취감형(술을 먹으면 형벌 감형)' 폐지를 건의(청원)합니다.</td>\n",
              "      <td>'주취감형'이란, 술을 먹고 범행을 저지를 때, 심신미약 (이성이 없고 우발적)이라...</td>\n",
              "      <td>True</td>\n",
              "      <td>30 days</td>\n",
              "    </tr>\n",
              "    <tr>\n",
              "      <th>45581</th>\n",
              "      <td>2017-11-17</td>\n",
              "      <td>2017-12-17</td>\n",
              "      <td>281985</td>\n",
              "      <td>보건복지</td>\n",
              "      <td>권역외상센터 (이국종 교수님) 추가적, 제도적, 환경적, 인력 지원</td>\n",
              "      <td>청원사항)\\n중증외상분야의 추가적, 제도적, 환경적, 인력 지원 방안마련\\n현 의료...</td>\n",
              "      <td>True</td>\n",
              "      <td>30 days</td>\n",
              "    </tr>\n",
              "  </tbody>\n",
              "</table>\n",
              "</div>"
            ],
            "text/plain": [
              "                start        end   votes category  \\\n",
              "article_id                                          \n",
              "1785       2017-09-03 2017-11-02  296330   인권/성평등   \n",
              "10949      2017-09-06 2017-12-05  615354       미래   \n",
              "18278      2017-09-30 2017-10-30  235372   인권/성평등   \n",
              "26024      2017-11-04 2017-12-04  216774    안전/환경   \n",
              "45581      2017-11-17 2017-12-17  281985     보건복지   \n",
              "\n",
              "                                                        title  \\\n",
              "article_id                                                      \n",
              "1785        청소년이란 이유로 보호법을 악용하는 잔인무도한 청소년들이 늘어나고있습니다. 반드시 ...   \n",
              "10949                                                조두순 출소반대   \n",
              "18278                 낙태죄 폐지와 자연유산 유도약(미프진) 합법화 및 도입을 부탁드립니다.   \n",
              "26024                     '주취감형(술을 먹으면 형벌 감형)' 폐지를 건의(청원)합니다.   \n",
              "45581                   권역외상센터 (이국종 교수님) 추가적, 제도적, 환경적, 인력 지원   \n",
              "\n",
              "                                                      content  answer duration  \n",
              "article_id                                                                      \n",
              "1785        안녕하십니까. 청소년보호법이란 명목하에 나쁜짓을 일삼는 청소년들이 너무나 많아지고 ...    True  60 days  \n",
              "10949                           제발 조두순 재심다시해서 무기징역으로 해야됩니다!!!    True  90 days  \n",
              "18278       안녕하세요. 존경하는 대통령님 의원님\\n낙태죄 폐지를 청원합니다.\\n현재 대한민국은...    True  30 days  \n",
              "26024       '주취감형'이란, 술을 먹고 범행을 저지를 때, 심신미약 (이성이 없고 우발적)이라...    True  30 days  \n",
              "45581       청원사항)\\n중증외상분야의 추가적, 제도적, 환경적, 인력 지원 방안마련\\n현 의료...    True  30 days  "
            ]
          },
          "metadata": {
            "tags": []
          },
          "execution_count": 29
        }
      ]
    },
    {
      "metadata": {
        "id": "wsjANi34P9z7",
        "colab_type": "text"
      },
      "cell_type": "markdown",
      "source": [
        "### 답변 대상 청원 중 투표를 가장 많이 받은 것"
      ]
    },
    {
      "metadata": {
        "id": "eSYu8pvSP9z7",
        "colab_type": "code",
        "colab": {
          "base_uri": "https://localhost:8080/",
          "height": 319
        },
        "outputId": "8c00e85f-c60e-43b8-d12a-2d8d71c3806b"
      },
      "cell_type": "code",
      "source": [
        "answered_df.sort_values('votes', ascending=False).head(5)"
      ],
      "execution_count": 48,
      "outputs": [
        {
          "output_type": "execute_result",
          "data": {
            "text/html": [
              "<div>\n",
              "<style scoped>\n",
              "    .dataframe tbody tr th:only-of-type {\n",
              "        vertical-align: middle;\n",
              "    }\n",
              "\n",
              "    .dataframe tbody tr th {\n",
              "        vertical-align: top;\n",
              "    }\n",
              "\n",
              "    .dataframe thead th {\n",
              "        text-align: right;\n",
              "    }\n",
              "</style>\n",
              "<table border=\"1\" class=\"dataframe\">\n",
              "  <thead>\n",
              "    <tr style=\"text-align: right;\">\n",
              "      <th></th>\n",
              "      <th>start</th>\n",
              "      <th>end</th>\n",
              "      <th>votes</th>\n",
              "      <th>category</th>\n",
              "      <th>title</th>\n",
              "      <th>content</th>\n",
              "      <th>answer</th>\n",
              "      <th>duration</th>\n",
              "    </tr>\n",
              "    <tr>\n",
              "      <th>article_id</th>\n",
              "      <th></th>\n",
              "      <th></th>\n",
              "      <th></th>\n",
              "      <th></th>\n",
              "      <th></th>\n",
              "      <th></th>\n",
              "      <th></th>\n",
              "      <th></th>\n",
              "    </tr>\n",
              "  </thead>\n",
              "  <tbody>\n",
              "    <tr>\n",
              "      <th>269548</th>\n",
              "      <td>2018-06-13</td>\n",
              "      <td>2018-07-13</td>\n",
              "      <td>714875</td>\n",
              "      <td>외교/통일/국방</td>\n",
              "      <td>제주도 불법 난민 신청 문제에 따른 난민법, 무사증 입국, 난민신청허가 폐지/개헌 ...</td>\n",
              "      <td>2012년 난민법 제정으로 인해 외국인은 한달 무비자로 입국할 수 있으나 난민신청자...</td>\n",
              "      <td>True</td>\n",
              "      <td>30 days</td>\n",
              "    </tr>\n",
              "    <tr>\n",
              "      <th>10949</th>\n",
              "      <td>2017-09-06</td>\n",
              "      <td>2017-12-05</td>\n",
              "      <td>615354</td>\n",
              "      <td>미래</td>\n",
              "      <td>조두순 출소반대</td>\n",
              "      <td>제발 조두순 재심다시해서 무기징역으로 해야됩니다!!!</td>\n",
              "      <td>True</td>\n",
              "      <td>90 days</td>\n",
              "    </tr>\n",
              "    <tr>\n",
              "      <th>142600</th>\n",
              "      <td>2018-02-19</td>\n",
              "      <td>2018-03-21</td>\n",
              "      <td>614127</td>\n",
              "      <td>문화/예술/체육/언론</td>\n",
              "      <td>김보름, 박지우 선수의 자격박탈과 적폐 빙상연맹의 엄중 처벌을 청원합니다</td>\n",
              "      <td>오늘 여자 단체전 팀추월에서 김보름, 박지우 선수는 팀전인데도 불구하고 개인의 영달...</td>\n",
              "      <td>True</td>\n",
              "      <td>30 days</td>\n",
              "    </tr>\n",
              "    <tr>\n",
              "      <th>230552</th>\n",
              "      <td>2018-05-11</td>\n",
              "      <td>2018-06-10</td>\n",
              "      <td>419006</td>\n",
              "      <td>인권/성평등</td>\n",
              "      <td>여성도 대한민국 국민입니다. 성별 관계없는 국가의 보호를 요청합니다.</td>\n",
              "      <td>최근 홍대 누드크로키 모델의 불법촬영 사건이 있었습니다.\\n사건은 굉장히 빠르게 처...</td>\n",
              "      <td>True</td>\n",
              "      <td>30 days</td>\n",
              "    </tr>\n",
              "    <tr>\n",
              "      <th>105105</th>\n",
              "      <td>2018-01-20</td>\n",
              "      <td>2018-02-19</td>\n",
              "      <td>360905</td>\n",
              "      <td>외교/통일/국방</td>\n",
              "      <td>나경원 의원 평창올림픽 위원직을 파면시켜주세요</td>\n",
              "      <td>안녕하세요. 청와대에 청원은 처음해 보는 경험인지라 조금은 어색하고 뭐라 말을 시작...</td>\n",
              "      <td>True</td>\n",
              "      <td>30 days</td>\n",
              "    </tr>\n",
              "  </tbody>\n",
              "</table>\n",
              "</div>"
            ],
            "text/plain": [
              "                start        end   votes     category  \\\n",
              "article_id                                              \n",
              "269548     2018-06-13 2018-07-13  714875     외교/통일/국방   \n",
              "10949      2017-09-06 2017-12-05  615354           미래   \n",
              "142600     2018-02-19 2018-03-21  614127  문화/예술/체육/언론   \n",
              "230552     2018-05-11 2018-06-10  419006       인권/성평등   \n",
              "105105     2018-01-20 2018-02-19  360905     외교/통일/국방   \n",
              "\n",
              "                                                        title  \\\n",
              "article_id                                                      \n",
              "269548      제주도 불법 난민 신청 문제에 따른 난민법, 무사증 입국, 난민신청허가 폐지/개헌 ...   \n",
              "10949                                                조두순 출소반대   \n",
              "142600               김보름, 박지우 선수의 자격박탈과 적폐 빙상연맹의 엄중 처벌을 청원합니다   \n",
              "230552                 여성도 대한민국 국민입니다. 성별 관계없는 국가의 보호를 요청합니다.   \n",
              "105105                              나경원 의원 평창올림픽 위원직을 파면시켜주세요   \n",
              "\n",
              "                                                      content  answer duration  \n",
              "article_id                                                                      \n",
              "269548      2012년 난민법 제정으로 인해 외국인은 한달 무비자로 입국할 수 있으나 난민신청자...    True  30 days  \n",
              "10949                           제발 조두순 재심다시해서 무기징역으로 해야됩니다!!!    True  90 days  \n",
              "142600      오늘 여자 단체전 팀추월에서 김보름, 박지우 선수는 팀전인데도 불구하고 개인의 영달...    True  30 days  \n",
              "230552      최근 홍대 누드크로키 모델의 불법촬영 사건이 있었습니다.\\n사건은 굉장히 빠르게 처...    True  30 days  \n",
              "105105      안녕하세요. 청와대에 청원은 처음해 보는 경험인지라 조금은 어색하고 뭐라 말을 시작...    True  30 days  "
            ]
          },
          "metadata": {
            "tags": []
          },
          "execution_count": 48
        }
      ]
    },
    {
      "metadata": {
        "id": "zwRgmYMiP9z-",
        "colab_type": "text"
      },
      "cell_type": "markdown",
      "source": [
        "## 시각화"
      ]
    },
    {
      "metadata": {
        "id": "NVvYsuwJP9z-",
        "colab_type": "code",
        "colab": {
          "base_uri": "https://localhost:8080/",
          "height": 469
        },
        "outputId": "32309ea8-8b2c-4a69-b5a0-ad8cd659e102"
      },
      "cell_type": "code",
      "source": [
        "# 카테고리별로 집계된 데이터를 barplot으로 그려본다.\n",
        "# 그런데 한글이 깨져보이는 것을 볼 수 있다.\n",
        "(ggplot(petitions)\n",
        " + aes('category')\n",
        " + geom_bar(fill='green')\n",
        ")"
      ],
      "execution_count": 49,
      "outputs": [
        {
          "output_type": "display_data",
          "data": {
            "image/png": "[encoded data removed]",
            "text/plain": [
              "<matplotlib.figure.Figure at 0x7fdb100ae8d0>"
            ]
          },
          "metadata": {
            "tags": []
          }
        },
        {
          "output_type": "execute_result",
          "data": {
            "text/plain": [
              "<ggplot: (-9223363250677031778)>"
            ]
          },
          "metadata": {
            "tags": []
          },
          "execution_count": 49
        }
      ]
    },
    {
      "metadata": {
        "id": "xFdQEshDP90D",
        "colab_type": "text"
      },
      "cell_type": "markdown",
      "source": [
        "\n",
        "#### 한글폰트 사용하기\n",
        "* 한글이 깨져보이는 것을 해결하기 위해 한글폰트를 사용해야 한다.\n",
        "* 여기에서는 나눔바른고딕을 사용하도록 한다. \n",
        "    * 이때 폰트가 로컬 컴퓨터에 설치되어 있어야한다. \n",
        "    * 나눔고딕은 무료로 사용할 수 있는 폰트다. \n",
        "    * 참고 : [네이버 나눔글꼴 라이선스](https://help.naver.com/support/contents/contents.nhn?serviceNo=1074&categoryNo=3497)\n",
        "* 한글을 사용하기 위해서는 ggplot에서 theme에 폰트를 지정해 주면된다.\n",
        "* 아래의 문서를 참고하면 **element_text**와 관련된 옵션을 볼 수 있다.\n",
        "* 참고 : [plotnine.themes.element_text — plotnine 0.3.0 documentation](http://plotnine.readthedocs.io/en/stable/generated/plotnine.themes.element_text.html)"
      ]
    },
    {
      "metadata": {
        "id": "9QY0Otl8P90D",
        "colab_type": "code",
        "colab": {
          "base_uri": "https://localhost:8080/",
          "height": 552
        },
        "outputId": "ffc5226b-2a87-491b-d172-f550533e98b5"
      },
      "cell_type": "code",
      "source": [
        "# 글씨가 겹쳐보이지 않도록 rotation도 추가했다.\n",
        "(ggplot(petitions)\n",
        " + aes('category')\n",
        " + geom_bar(fill='green')\n",
        " + theme(text=element_text(family='NanumBarunGothic'),\n",
        "        axis_text_x=element_text(rotation=60))\n",
        ")"
      ],
      "execution_count": 50,
      "outputs": [
        {
          "output_type": "display_data",
          "data": {
            "image/png": "[encoded data removed]",
            "text/plain": [
              "<matplotlib.figure.Figure at 0x7fdb0df54550>"
            ]
          },
          "metadata": {
            "tags": []
          }
        },
        {
          "output_type": "execute_result",
          "data": {
            "text/plain": [
              "<ggplot: (8786177718550)>"
            ]
          },
          "metadata": {
            "tags": []
          },
          "execution_count": 50
        }
      ]
    },
    {
      "metadata": {
        "id": "__3b0MP_P90H",
        "colab_type": "text"
      },
      "cell_type": "markdown",
      "source": [
        "### 카테고리별 투표수"
      ]
    },
    {
      "metadata": {
        "id": "Lf5uTcqtP90I",
        "colab_type": "code",
        "colab": {
          "base_uri": "https://localhost:8080/",
          "height": 558
        },
        "outputId": "3efb7824-14f9-4813-e034-046fd1e2f6d0"
      },
      "cell_type": "code",
      "source": [
        "# 다음으로 투표를 많이 받은 카테고리를 알아본다.\n",
        "# 인권/성평등에 관련된 청원의 숫자가 가장 많았지만 투표를 가장 많이 받은 청원은 육아/교육이다.\n",
        "(ggplot(petitions)\n",
        " + aes(x='category', y='votes')\n",
        " + geom_col(fill='skyblue')\n",
        " + theme(text=element_text(family='NanumBarunGothic'),\n",
        "        axis_text_x=element_text(rotation=70))\n",
        ")"
      ],
      "execution_count": 51,
      "outputs": [
        {
          "output_type": "display_data",
          "data": {
            "image/png": "[encoded data removed]",
            "text/plain": [
              "<matplotlib.figure.Figure at 0x7fdb0df08f28>"
            ]
          },
          "metadata": {
            "tags": []
          }
        },
        {
          "output_type": "execute_result",
          "data": {
            "text/plain": [
              "<ggplot: (8786175515712)>"
            ]
          },
          "metadata": {
            "tags": []
          },
          "execution_count": 51
        }
      ]
    },
    {
      "metadata": {
        "id": "q07poTXLP90R",
        "colab_type": "code",
        "colab": {
          "base_uri": "https://localhost:8080/",
          "height": 493
        },
        "outputId": "137ce6b8-d86c-42a2-81ec-72d025e2120c"
      },
      "cell_type": "code",
      "source": [
        "# coord_flip을 사용해서 x축과 y축을 바꿔본다.\n",
        "(ggplot(petitions)\n",
        " + aes(x='category', y='votes')\n",
        " + geom_col(fill='skyblue')\n",
        " + ggtitle('카테고리별 투표수')\n",
        " + coord_flip()\n",
        " + theme(text=element_text(family='NanumBarunGothic'))\n",
        ")"
      ],
      "execution_count": 52,
      "outputs": [
        {
          "output_type": "display_data",
          "data": {
            "image/png": "[encoded data removed]",
            "text/plain": [
              "<matplotlib.figure.Figure at 0x7fdb080e36a0>"
            ]
          },
          "metadata": {
            "tags": []
          }
        },
        {
          "output_type": "execute_result",
          "data": {
            "text/plain": [
              "<ggplot: (-9223363250675107703)>"
            ]
          },
          "metadata": {
            "tags": []
          },
          "execution_count": 52
        }
      ]
    },
    {
      "metadata": {
        "id": "CSm62-4FP90U",
        "colab_type": "code",
        "colab": {},
        "outputId": "1cd10a1c-4753-430f-e184-cfc637ca2f24"
      },
      "cell_type": "code",
      "source": [
        "(ggplot(petitions) \n",
        " + aes(x='category', y='votes', fill='answer')\n",
        " + geom_point()\n",
        " + theme(text=element_text(family='NanumBarunGothic'),\n",
        "        axis_text_x=element_text(rotation=70))\n",
        ")"
      ],
      "execution_count": 0,
      "outputs": [
        {
          "output_type": "display_data",
          "data": {
            "image/png": "[encoded data removed]",
            "text/plain": [
              "<matplotlib.figure.Figure at 0x11c776a20>"
            ]
          },
          "metadata": {
            "tags": []
          }
        },
        {
          "output_type": "execute_result",
          "data": {
            "text/plain": [
              "<ggplot: (291304042)>"
            ]
          },
          "metadata": {
            "tags": []
          },
          "execution_count": 35
        }
      ]
    },
    {
      "metadata": {
        "id": "5DlzSxc-P90X",
        "colab_type": "code",
        "colab": {},
        "outputId": "bbc75ed3-8bf3-4a99-8e96-107237fe5edf"
      },
      "cell_type": "code",
      "source": [
        "(ggplot(petitions) \n",
        " + aes(x='category', y='votes', fill='answer')\n",
        " + geom_boxplot()\n",
        " + theme(text=element_text(family='NanumBarunGothic'),\n",
        "        axis_text_x=element_text(rotation=70))\n",
        ")"
      ],
      "execution_count": 0,
      "outputs": [
        {
          "output_type": "display_data",
          "data": {
            "image/png": "[encoded data removed]",
            "text/plain": [
              "<matplotlib.figure.Figure at 0x11e4a0390>"
            ]
          },
          "metadata": {
            "tags": []
          }
        },
        {
          "output_type": "execute_result",
          "data": {
            "text/plain": [
              "<ggplot: (-9223372036547344054)>"
            ]
          },
          "metadata": {
            "tags": []
          },
          "execution_count": 36
        }
      ]
    },
    {
      "metadata": {
        "id": "2QuGgCZOP90a",
        "colab_type": "code",
        "colab": {},
        "outputId": "2c7c0b6e-5aee-4b91-84a1-852a7168ec2a"
      },
      "cell_type": "code",
      "source": [
        "(ggplot(petitions, aes(x='category', y='votes', fill='answer'))\n",
        " + geom_col()\n",
        " + theme(text=element_text(family='NanumBarunGothic'),\n",
        "        axis_text_x=element_text(rotation=70))\n",
        ")"
      ],
      "execution_count": 0,
      "outputs": [
        {
          "output_type": "display_data",
          "data": {
            "image/png": "[encoded data removed]",
            "text/plain": [
              "<matplotlib.figure.Figure at 0x149d26470>"
            ]
          },
          "metadata": {
            "tags": []
          }
        },
        {
          "output_type": "execute_result",
          "data": {
            "text/plain": [
              "<ggplot: (321330808)>"
            ]
          },
          "metadata": {
            "tags": []
          },
          "execution_count": 37
        }
      ]
    },
    {
      "metadata": {
        "id": "o_KpQdUJP90e",
        "colab_type": "code",
        "colab": {
          "base_uri": "https://localhost:8080/",
          "height": 559
        },
        "outputId": "76abee92-7c31-447d-ec22-a41e1f809b92"
      },
      "cell_type": "code",
      "source": [
        "# 투표를 가장 많이 받은 카테고리인 인권/성평등에서 투표수가 많은 순으로 상위 10개만 본다.\n",
        "edu = petitions.loc[(petitions['category']=='인권/성평등')]\n",
        "edu.sort_values('votes', ascending=False)[:10]"
      ],
      "execution_count": 53,
      "outputs": [
        {
          "output_type": "execute_result",
          "data": {
            "text/html": [
              "<div>\n",
              "<style scoped>\n",
              "    .dataframe tbody tr th:only-of-type {\n",
              "        vertical-align: middle;\n",
              "    }\n",
              "\n",
              "    .dataframe tbody tr th {\n",
              "        vertical-align: top;\n",
              "    }\n",
              "\n",
              "    .dataframe thead th {\n",
              "        text-align: right;\n",
              "    }\n",
              "</style>\n",
              "<table border=\"1\" class=\"dataframe\">\n",
              "  <thead>\n",
              "    <tr style=\"text-align: right;\">\n",
              "      <th></th>\n",
              "      <th>start</th>\n",
              "      <th>end</th>\n",
              "      <th>votes</th>\n",
              "      <th>category</th>\n",
              "      <th>title</th>\n",
              "      <th>content</th>\n",
              "      <th>answer</th>\n",
              "      <th>duration</th>\n",
              "    </tr>\n",
              "    <tr>\n",
              "      <th>article_id</th>\n",
              "      <th></th>\n",
              "      <th></th>\n",
              "      <th></th>\n",
              "      <th></th>\n",
              "      <th></th>\n",
              "      <th></th>\n",
              "      <th></th>\n",
              "      <th></th>\n",
              "    </tr>\n",
              "  </thead>\n",
              "  <tbody>\n",
              "    <tr>\n",
              "      <th>230552</th>\n",
              "      <td>2018-05-11</td>\n",
              "      <td>2018-06-10</td>\n",
              "      <td>419006</td>\n",
              "      <td>인권/성평등</td>\n",
              "      <td>여성도 대한민국 국민입니다. 성별 관계없는 국가의 보호를 요청합니다.</td>\n",
              "      <td>최근 홍대 누드크로키 모델의 불법촬영 사건이 있었습니다.\\n사건은 굉장히 빠르게 처...</td>\n",
              "      <td>True</td>\n",
              "      <td>30 days</td>\n",
              "    </tr>\n",
              "    <tr>\n",
              "      <th>1785</th>\n",
              "      <td>2017-09-03</td>\n",
              "      <td>2017-11-02</td>\n",
              "      <td>296330</td>\n",
              "      <td>인권/성평등</td>\n",
              "      <td>청소년이란 이유로 보호법을 악용하는 잔인무도한 청소년들이 늘어나고있습니다. 반드시 ...</td>\n",
              "      <td>안녕하십니까. 청소년보호법이란 명목하에 나쁜짓을 일삼는 청소년들이 너무나 많아지고 ...</td>\n",
              "      <td>True</td>\n",
              "      <td>60 days</td>\n",
              "    </tr>\n",
              "    <tr>\n",
              "      <th>148806</th>\n",
              "      <td>2018-02-23</td>\n",
              "      <td>2018-03-25</td>\n",
              "      <td>242687</td>\n",
              "      <td>인권/성평등</td>\n",
              "      <td>조두순 사건의 피해자 가족을 우롱하는 윤서인을 처벌해주십시오</td>\n",
              "      <td>'윤서인'이라는 만화가가 조두순 사건을 인용하여 정치상황을 풍자하는 만화를 그렸는데...</td>\n",
              "      <td>True</td>\n",
              "      <td>30 days</td>\n",
              "    </tr>\n",
              "    <tr>\n",
              "      <th>244045</th>\n",
              "      <td>2018-05-25</td>\n",
              "      <td>2018-06-24</td>\n",
              "      <td>240618</td>\n",
              "      <td>인권/성평등</td>\n",
              "      <td>무고죄 특별법의 제정을 촉구합니다.</td>\n",
              "      <td>최근 위계/권력에 의한 성범죄에 저항하기 위한 미투운동이 일부에 의하여 심각하게 변...</td>\n",
              "      <td>True</td>\n",
              "      <td>30 days</td>\n",
              "    </tr>\n",
              "    <tr>\n",
              "      <th>151430</th>\n",
              "      <td>2018-02-26</td>\n",
              "      <td>2018-03-28</td>\n",
              "      <td>235796</td>\n",
              "      <td>인권/성평등</td>\n",
              "      <td>고 장자연의 한맺힌 죽음의 진실을 밝혀주세요.</td>\n",
              "      <td>힘없고 빽없는  사람이\\n사회적 영향력 금권 기득권으로\\n꽃다운 나이에\\n한 많은 ...</td>\n",
              "      <td>True</td>\n",
              "      <td>30 days</td>\n",
              "    </tr>\n",
              "    <tr>\n",
              "      <th>18278</th>\n",
              "      <td>2017-09-30</td>\n",
              "      <td>2017-10-30</td>\n",
              "      <td>235372</td>\n",
              "      <td>인권/성평등</td>\n",
              "      <td>낙태죄 폐지와 자연유산 유도약(미프진) 합법화 및 도입을 부탁드립니다.</td>\n",
              "      <td>안녕하세요. 존경하는 대통령님 의원님\\n낙태죄 폐지를 청원합니다.\\n현재 대한민국은...</td>\n",
              "      <td>True</td>\n",
              "      <td>30 days</td>\n",
              "    </tr>\n",
              "    <tr>\n",
              "      <th>79162</th>\n",
              "      <td>2018-01-03</td>\n",
              "      <td>2018-02-02</td>\n",
              "      <td>233842</td>\n",
              "      <td>인권/성평등</td>\n",
              "      <td>미성년자 성폭행 형량 올려주세요 종신형원합니다</td>\n",
              "      <td>또 창원에서 조두순사건과 같은 사건이 발생했네요\\n술먹어 심신이 미약하신 50대 대...</td>\n",
              "      <td>True</td>\n",
              "      <td>30 days</td>\n",
              "    </tr>\n",
              "    <tr>\n",
              "      <th>157046</th>\n",
              "      <td>2018-03-03</td>\n",
              "      <td>2018-04-02</td>\n",
              "      <td>222770</td>\n",
              "      <td>인권/성평등</td>\n",
              "      <td>단역배우 자매 자살 사건 제발 재조사를 해주세여.</td>\n",
              "      <td>http://news.naver.com/main/read.nhn?mode=LSD&amp;m...</td>\n",
              "      <td>True</td>\n",
              "      <td>30 days</td>\n",
              "    </tr>\n",
              "    <tr>\n",
              "      <th>246489</th>\n",
              "      <td>2018-05-28</td>\n",
              "      <td>2018-06-27</td>\n",
              "      <td>217143</td>\n",
              "      <td>인권/성평등</td>\n",
              "      <td>대검찰청의 불법적인 성폭력 수사메뉴얼  중단을 요청합니다.</td>\n",
              "      <td>오늘 뉴스를 보니 대검찰청의 황당한 수사메뉴얼 개정안을 보게되었습니다.\\n\"성폭력을...</td>\n",
              "      <td>True</td>\n",
              "      <td>30 days</td>\n",
              "    </tr>\n",
              "    <tr>\n",
              "      <th>81026</th>\n",
              "      <td>2018-01-06</td>\n",
              "      <td>2018-02-05</td>\n",
              "      <td>213219</td>\n",
              "      <td>인권/성평등</td>\n",
              "      <td>초.중.고 학교 페미니즘교육 의무화</td>\n",
              "      <td>아직 판단이 무분별한 어린학생들이 학교에서 여성비하적요소가 들어있는 단어들을 아무렇...</td>\n",
              "      <td>True</td>\n",
              "      <td>30 days</td>\n",
              "    </tr>\n",
              "  </tbody>\n",
              "</table>\n",
              "</div>"
            ],
            "text/plain": [
              "                start        end   votes category  \\\n",
              "article_id                                          \n",
              "230552     2018-05-11 2018-06-10  419006   인권/성평등   \n",
              "1785       2017-09-03 2017-11-02  296330   인권/성평등   \n",
              "148806     2018-02-23 2018-03-25  242687   인권/성평등   \n",
              "244045     2018-05-25 2018-06-24  240618   인권/성평등   \n",
              "151430     2018-02-26 2018-03-28  235796   인권/성평등   \n",
              "18278      2017-09-30 2017-10-30  235372   인권/성평등   \n",
              "79162      2018-01-03 2018-02-02  233842   인권/성평등   \n",
              "157046     2018-03-03 2018-04-02  222770   인권/성평등   \n",
              "246489     2018-05-28 2018-06-27  217143   인권/성평등   \n",
              "81026      2018-01-06 2018-02-05  213219   인권/성평등   \n",
              "\n",
              "                                                        title  \\\n",
              "article_id                                                      \n",
              "230552                 여성도 대한민국 국민입니다. 성별 관계없는 국가의 보호를 요청합니다.   \n",
              "1785        청소년이란 이유로 보호법을 악용하는 잔인무도한 청소년들이 늘어나고있습니다. 반드시 ...   \n",
              "148806                      조두순 사건의 피해자 가족을 우롱하는 윤서인을 처벌해주십시오   \n",
              "244045                                    무고죄 특별법의 제정을 촉구합니다.   \n",
              "151430                              고 장자연의 한맺힌 죽음의 진실을 밝혀주세요.   \n",
              "18278                 낙태죄 폐지와 자연유산 유도약(미프진) 합법화 및 도입을 부탁드립니다.   \n",
              "79162                               미성년자 성폭행 형량 올려주세요 종신형원합니다   \n",
              "157046                            단역배우 자매 자살 사건 제발 재조사를 해주세여.   \n",
              "246489                       대검찰청의 불법적인 성폭력 수사메뉴얼  중단을 요청합니다.   \n",
              "81026                                     초.중.고 학교 페미니즘교육 의무화   \n",
              "\n",
              "                                                      content  answer duration  \n",
              "article_id                                                                      \n",
              "230552      최근 홍대 누드크로키 모델의 불법촬영 사건이 있었습니다.\\n사건은 굉장히 빠르게 처...    True  30 days  \n",
              "1785        안녕하십니까. 청소년보호법이란 명목하에 나쁜짓을 일삼는 청소년들이 너무나 많아지고 ...    True  60 days  \n",
              "148806      '윤서인'이라는 만화가가 조두순 사건을 인용하여 정치상황을 풍자하는 만화를 그렸는데...    True  30 days  \n",
              "244045      최근 위계/권력에 의한 성범죄에 저항하기 위한 미투운동이 일부에 의하여 심각하게 변...    True  30 days  \n",
              "151430      힘없고 빽없는  사람이\\n사회적 영향력 금권 기득권으로\\n꽃다운 나이에\\n한 많은 ...    True  30 days  \n",
              "18278       안녕하세요. 존경하는 대통령님 의원님\\n낙태죄 폐지를 청원합니다.\\n현재 대한민국은...    True  30 days  \n",
              "79162       또 창원에서 조두순사건과 같은 사건이 발생했네요\\n술먹어 심신이 미약하신 50대 대...    True  30 days  \n",
              "157046      http://news.naver.com/main/read.nhn?mode=LSD&m...    True  30 days  \n",
              "246489      오늘 뉴스를 보니 대검찰청의 황당한 수사메뉴얼 개정안을 보게되었습니다.\\n\"성폭력을...    True  30 days  \n",
              "81026       아직 판단이 무분별한 어린학생들이 학교에서 여성비하적요소가 들어있는 단어들을 아무렇...    True  30 days  "
            ]
          },
          "metadata": {
            "tags": []
          },
          "execution_count": 53
        }
      ]
    },
    {
      "metadata": {
        "id": "cGMz2bnOP90g",
        "colab_type": "text"
      },
      "cell_type": "markdown",
      "source": [
        "### 시계열 데이터 보기"
      ]
    },
    {
      "metadata": {
        "id": "xOBhpexMP90h",
        "colab_type": "code",
        "colab": {},
        "outputId": "931bd671-dbed-41fc-847b-4c47d4ad76ae"
      },
      "cell_type": "code",
      "source": [
        "petitions['start_month'] = petitions['start'].dt.month\n",
        "petitions['start_day'] = petitions['start'].dt.day\n",
        "petitions['start_hour'] = petitions['start'].dt.hour\n",
        "petitions.shape"
      ],
      "execution_count": 0,
      "outputs": [
        {
          "output_type": "execute_result",
          "data": {
            "text/plain": [
              "(210424, 11)"
            ]
          },
          "metadata": {
            "tags": []
          },
          "execution_count": 39
        }
      ]
    },
    {
      "metadata": {
        "id": "CVRBijgSP90j",
        "colab_type": "code",
        "colab": {},
        "outputId": "39f2e3d6-b9a9-4ddc-b5d2-528d729d6f5c"
      },
      "cell_type": "code",
      "source": [
        "petitions['start_month'].value_counts()"
      ],
      "execution_count": 0,
      "outputs": [
        {
          "output_type": "execute_result",
          "data": {
            "text/plain": [
              "1     31338\n",
              "11    29473\n",
              "2     25857\n",
              "5     25499\n",
              "4     23227\n",
              "3     21795\n",
              "12    18456\n",
              "9     17068\n",
              "6     10589\n",
              "10     5951\n",
              "8      1171\n",
              "Name: start_month, dtype: int64"
            ]
          },
          "metadata": {
            "tags": []
          },
          "execution_count": 40
        }
      ]
    },
    {
      "metadata": {
        "id": "7Wy3ophlP90o",
        "colab_type": "code",
        "colab": {},
        "outputId": "97a02360-e3a4-42e6-d46c-21de89d5cce9"
      },
      "cell_type": "code",
      "source": [
        "(ggplot(petitions)\n",
        " + aes('start_month')\n",
        " + geom_bar()\n",
        " + ggtitle('시작 월별 청원 수')\n",
        " + theme(text=element_text(family='NanumBarunGothic'),  figure_size=(6, 4))\n",
        ")"
      ],
      "execution_count": 0,
      "outputs": [
        {
          "output_type": "display_data",
          "data": {
            "image/png": "[encoded data removed]",
            "text/plain": [
              "<matplotlib.figure.Figure at 0x132732780>"
            ]
          },
          "metadata": {
            "tags": []
          }
        },
        {
          "output_type": "execute_result",
          "data": {
            "text/plain": [
              "<ggplot: (291342158)>"
            ]
          },
          "metadata": {
            "tags": []
          },
          "execution_count": 41
        }
      ]
    },
    {
      "metadata": {
        "id": "3_AQhKdvP90q",
        "colab_type": "code",
        "colab": {},
        "outputId": "74f1d07b-16bb-486e-908f-ccecd7802f88"
      },
      "cell_type": "code",
      "source": [
        "start_day = petitions['start_day'].value_counts().reset_index()\n",
        "start_day.columns = ['start', 'counts']\n",
        "start_day = start_day.sort_values('start', ascending=True)\n",
        "start_day[:3]"
      ],
      "execution_count": 0,
      "outputs": [
        {
          "output_type": "execute_result",
          "data": {
            "text/html": [
              "<div>\n",
              "<style scoped>\n",
              "    .dataframe tbody tr th:only-of-type {\n",
              "        vertical-align: middle;\n",
              "    }\n",
              "\n",
              "    .dataframe tbody tr th {\n",
              "        vertical-align: top;\n",
              "    }\n",
              "\n",
              "    .dataframe thead th {\n",
              "        text-align: right;\n",
              "    }\n",
              "</style>\n",
              "<table border=\"1\" class=\"dataframe\">\n",
              "  <thead>\n",
              "    <tr style=\"text-align: right;\">\n",
              "      <th></th>\n",
              "      <th>start</th>\n",
              "      <th>counts</th>\n",
              "    </tr>\n",
              "  </thead>\n",
              "  <tbody>\n",
              "    <tr>\n",
              "      <th>24</th>\n",
              "      <td>1</td>\n",
              "      <td>5633</td>\n",
              "    </tr>\n",
              "    <tr>\n",
              "      <th>25</th>\n",
              "      <td>2</td>\n",
              "      <td>5558</td>\n",
              "    </tr>\n",
              "    <tr>\n",
              "      <th>17</th>\n",
              "      <td>3</td>\n",
              "      <td>6031</td>\n",
              "    </tr>\n",
              "  </tbody>\n",
              "</table>\n",
              "</div>"
            ],
            "text/plain": [
              "    start  counts\n",
              "24      1    5633\n",
              "25      2    5558\n",
              "17      3    6031"
            ]
          },
          "metadata": {
            "tags": []
          },
          "execution_count": 42
        }
      ]
    },
    {
      "metadata": {
        "id": "rS8ucdHsP90t",
        "colab_type": "code",
        "colab": {},
        "outputId": "68545633-0ee6-4c39-a2a9-895241ab3d65"
      },
      "cell_type": "code",
      "source": [
        "# 5일과 11일에 청원이 많이 등록되었다.\n",
        "# 데이터를 보면 5일과 11일에 청원이 많이 등록된다기 보다는 특정 시기에 5일과 11일에 같은 내용의 청원이 많이 들어 온 날이 있다.\n",
        "# 따라서 날짜에 따라 규칙성을 찾기는 어렵다.\n",
        "(ggplot(petitions)\n",
        " + aes('start_day')\n",
        " + geom_bar(fill='brown')\n",
        " + ggtitle('시작한 날짜에 대한 청원수')\n",
        " + theme(text=element_text(family='NanumBarunGothic'))\n",
        ")"
      ],
      "execution_count": 0,
      "outputs": [
        {
          "output_type": "display_data",
          "data": {
            "image/png": "[encoded data removed]",
            "text/plain": [
              "<matplotlib.figure.Figure at 0x13e888be0>"
            ]
          },
          "metadata": {
            "tags": []
          }
        },
        {
          "output_type": "execute_result",
          "data": {
            "text/plain": [
              "<ggplot: (-9223372036533436328)>"
            ]
          },
          "metadata": {
            "tags": []
          },
          "execution_count": 43
        }
      ]
    },
    {
      "metadata": {
        "id": "dwj2wpNOP90w",
        "colab_type": "code",
        "colab": {},
        "outputId": "6ce5f06f-7c46-40bb-99e9-83073a8b6452"
      },
      "cell_type": "code",
      "source": [
        "# 날짜 데이터에 시간이 없기 때문에 시간은 의미가 없다.\n",
        "petitions['start_hour'].value_counts()"
      ],
      "execution_count": 0,
      "outputs": [
        {
          "output_type": "execute_result",
          "data": {
            "text/plain": [
              "0    210424\n",
              "Name: start_hour, dtype: int64"
            ]
          },
          "metadata": {
            "tags": []
          },
          "execution_count": 44
        }
      ]
    },
    {
      "metadata": {
        "id": "SpT6jzElP90y",
        "colab_type": "code",
        "colab": {},
        "outputId": "66516606-b642-4b7a-a948-b1f9cf1a3a80"
      },
      "cell_type": "code",
      "source": [
        "start_df = pd.DataFrame(petitions['start'].value_counts()).reset_index()\n",
        "start_df.columns = ['start', 'counts']\n",
        "start_df = start_df.sort_values('start', ascending=True)\n",
        "print('청원 집계: {}일'.format(start_df.shape[0]))\n",
        "start_df.head()"
      ],
      "execution_count": 0,
      "outputs": [
        {
          "output_type": "stream",
          "text": [
            "청원 집계: 301일\n"
          ],
          "name": "stdout"
        },
        {
          "output_type": "execute_result",
          "data": {
            "text/html": [
              "<div>\n",
              "<style scoped>\n",
              "    .dataframe tbody tr th:only-of-type {\n",
              "        vertical-align: middle;\n",
              "    }\n",
              "\n",
              "    .dataframe tbody tr th {\n",
              "        vertical-align: top;\n",
              "    }\n",
              "\n",
              "    .dataframe thead th {\n",
              "        text-align: right;\n",
              "    }\n",
              "</style>\n",
              "<table border=\"1\" class=\"dataframe\">\n",
              "  <thead>\n",
              "    <tr style=\"text-align: right;\">\n",
              "      <th></th>\n",
              "      <th>start</th>\n",
              "      <th>counts</th>\n",
              "    </tr>\n",
              "  </thead>\n",
              "  <tbody>\n",
              "    <tr>\n",
              "      <th>299</th>\n",
              "      <td>2017-08-19</td>\n",
              "      <td>39</td>\n",
              "    </tr>\n",
              "    <tr>\n",
              "      <th>292</th>\n",
              "      <td>2017-08-20</td>\n",
              "      <td>88</td>\n",
              "    </tr>\n",
              "    <tr>\n",
              "      <th>291</th>\n",
              "      <td>2017-08-21</td>\n",
              "      <td>89</td>\n",
              "    </tr>\n",
              "    <tr>\n",
              "      <th>297</th>\n",
              "      <td>2017-08-22</td>\n",
              "      <td>69</td>\n",
              "    </tr>\n",
              "    <tr>\n",
              "      <th>294</th>\n",
              "      <td>2017-08-23</td>\n",
              "      <td>80</td>\n",
              "    </tr>\n",
              "  </tbody>\n",
              "</table>\n",
              "</div>"
            ],
            "text/plain": [
              "         start  counts\n",
              "299 2017-08-19      39\n",
              "292 2017-08-20      88\n",
              "291 2017-08-21      89\n",
              "297 2017-08-22      69\n",
              "294 2017-08-23      80"
            ]
          },
          "metadata": {
            "tags": []
          },
          "execution_count": 45
        }
      ]
    },
    {
      "metadata": {
        "id": "zs-LgjAlP902",
        "colab_type": "code",
        "colab": {},
        "outputId": "789314e9-790a-41ee-8607-27658dee7cdf"
      },
      "cell_type": "code",
      "source": [
        "# 날짜별로 카테고리별 투표수를 본다.\n",
        "# 20만건 이상 투표를 받아야지만 답변을 받을 수 있다는것을 그래프를 통해 짐작해볼 수 있다.\n",
        "# 답변을 받지못한 카테고리도 있다.\n",
        "(ggplot(petitions)\n",
        " + aes('answer', 'votes')\n",
        " + aes(color='answer')\n",
        " + geom_point()\n",
        " + facet_wrap('~category')\n",
        " + theme(text=element_text(family='NanumBarunGothic'))\n",
        ")"
      ],
      "execution_count": 0,
      "outputs": [
        {
          "output_type": "display_data",
          "data": {
            "image/png": "[encoded data removed]",
            "text/plain": [
              "<matplotlib.figure.Figure at 0x11df42358>"
            ]
          },
          "metadata": {
            "tags": []
          }
        },
        {
          "output_type": "execute_result",
          "data": {
            "text/plain": [
              "<ggplot: (-9223372036520763809)>"
            ]
          },
          "metadata": {
            "tags": []
          },
          "execution_count": 46
        }
      ]
    },
    {
      "metadata": {
        "id": "6mTx4x5bP905",
        "colab_type": "code",
        "colab": {},
        "outputId": "f8a74f3b-47bd-4d93-c830-6883ccf206a3"
      },
      "cell_type": "code",
      "source": [
        "start_ordered_df = petitions['start'].value_counts().index.tolist()\n",
        "petitions_start_df = CategoricalDtype(categories=start_ordered_df, ordered=True)\n",
        "petitions_start_df"
      ],
      "execution_count": 0,
      "outputs": [
        {
          "output_type": "execute_result",
          "data": {
            "text/plain": [
              "CategoricalDtype(categories=['2017-11-11', '2017-09-05', '2018-01-11', '2018-02-06',\n",
              "                  '2017-11-09', '2018-01-12', '2017-09-06', '2018-05-30',\n",
              "                  '2018-01-17', '2018-02-20',\n",
              "                  ...\n",
              "                  '2017-08-21', '2017-08-20', '2017-08-25', '2017-08-23',\n",
              "                  '2017-08-26', '2017-09-15', '2017-08-22', '2017-08-27',\n",
              "                  '2017-08-19', '2017-09-16'],\n",
              "                 ordered=True)"
            ]
          },
          "metadata": {
            "tags": []
          },
          "execution_count": 47
        }
      ]
    },
    {
      "metadata": {
        "id": "wjHfhWxmP907",
        "colab_type": "code",
        "colab": {},
        "outputId": "ccc4e45a-3029-4858-88f5-ffd3420138e2"
      },
      "cell_type": "code",
      "source": [
        "# 특히 청원이 많은 날이 있다. 그날 무슨 이슈가 있었는지 궁금하다.\n",
        "(ggplot(start_df)\n",
        " + aes('start', 'counts')\n",
        " + geom_col(color='green')\n",
        " + ggtitle('청원 시작일별 집계수')\n",
        " + coord_flip()\n",
        " + theme(text=element_text(family='NanumBarunGothic'))\n",
        ")"
      ],
      "execution_count": 0,
      "outputs": [
        {
          "output_type": "display_data",
          "data": {
            "image/png": "[encoded data removed]",
            "text/plain": [
              "<matplotlib.figure.Figure at 0x149d220b8>"
            ]
          },
          "metadata": {
            "tags": []
          }
        },
        {
          "output_type": "execute_result",
          "data": {
            "text/plain": [
              "<ggplot: (307437176)>"
            ]
          },
          "metadata": {
            "tags": []
          },
          "execution_count": 48
        }
      ]
    },
    {
      "metadata": {
        "id": "Hry0x-5rP909",
        "colab_type": "code",
        "colab": {},
        "outputId": "efd9978f-16a9-42e9-cf3d-1fc96491b24b"
      },
      "cell_type": "code",
      "source": [
        "# 청원 시작 날짜별 투표수를 본다.\n",
        "(ggplot(petitions)\n",
        " + aes('start', 'votes')\n",
        " + geom_col(color='brown')\n",
        " + ggtitle('청원 시작일별 투표수')\n",
        " + coord_flip()\n",
        " + theme(text=element_text(family='NanumBarunGothic'))\n",
        ")"
      ],
      "execution_count": 0,
      "outputs": [
        {
          "output_type": "display_data",
          "data": {
            "image/png": "[encoded data removed]",
            "text/plain": [
              "<matplotlib.figure.Figure at 0x132e85eb8>"
            ]
          },
          "metadata": {
            "tags": []
          }
        },
        {
          "output_type": "execute_result",
          "data": {
            "text/plain": [
              "<ggplot: (-9223372036532942553)>"
            ]
          },
          "metadata": {
            "tags": []
          },
          "execution_count": 49
        }
      ]
    },
    {
      "metadata": {
        "id": "AgpsElZUP91A",
        "colab_type": "code",
        "colab": {},
        "outputId": "bd70fa2f-3444-48d9-faaa-4e6fc776d52b"
      },
      "cell_type": "code",
      "source": [
        "start_df.head()"
      ],
      "execution_count": 0,
      "outputs": [
        {
          "output_type": "execute_result",
          "data": {
            "text/html": [
              "<div>\n",
              "<style scoped>\n",
              "    .dataframe tbody tr th:only-of-type {\n",
              "        vertical-align: middle;\n",
              "    }\n",
              "\n",
              "    .dataframe tbody tr th {\n",
              "        vertical-align: top;\n",
              "    }\n",
              "\n",
              "    .dataframe thead th {\n",
              "        text-align: right;\n",
              "    }\n",
              "</style>\n",
              "<table border=\"1\" class=\"dataframe\">\n",
              "  <thead>\n",
              "    <tr style=\"text-align: right;\">\n",
              "      <th></th>\n",
              "      <th>start</th>\n",
              "      <th>counts</th>\n",
              "    </tr>\n",
              "  </thead>\n",
              "  <tbody>\n",
              "    <tr>\n",
              "      <th>299</th>\n",
              "      <td>2017-08-19</td>\n",
              "      <td>39</td>\n",
              "    </tr>\n",
              "    <tr>\n",
              "      <th>292</th>\n",
              "      <td>2017-08-20</td>\n",
              "      <td>88</td>\n",
              "    </tr>\n",
              "    <tr>\n",
              "      <th>291</th>\n",
              "      <td>2017-08-21</td>\n",
              "      <td>89</td>\n",
              "    </tr>\n",
              "    <tr>\n",
              "      <th>297</th>\n",
              "      <td>2017-08-22</td>\n",
              "      <td>69</td>\n",
              "    </tr>\n",
              "    <tr>\n",
              "      <th>294</th>\n",
              "      <td>2017-08-23</td>\n",
              "      <td>80</td>\n",
              "    </tr>\n",
              "  </tbody>\n",
              "</table>\n",
              "</div>"
            ],
            "text/plain": [
              "         start  counts\n",
              "299 2017-08-19      39\n",
              "292 2017-08-20      88\n",
              "291 2017-08-21      89\n",
              "297 2017-08-22      69\n",
              "294 2017-08-23      80"
            ]
          },
          "metadata": {
            "tags": []
          },
          "execution_count": 50
        }
      ]
    },
    {
      "metadata": {
        "id": "N3kWCup_P91C",
        "colab_type": "text"
      },
      "cell_type": "markdown",
      "source": [
        "## 청원이 많이 등록된 날\n",
        "- 3천건 이상 청원이 등록된 날 어떤 청원이 있는지 본다."
      ]
    },
    {
      "metadata": {
        "id": "wegpZpcqP91D",
        "colab_type": "code",
        "colab": {},
        "outputId": "5632984c-9950-43de-af97-445814a9dd50"
      },
      "cell_type": "code",
      "source": [
        "# 청원이 3000 건이 넘는 날이 있다.\n",
        "start_df.loc[start_df['counts'] > 3000]"
      ],
      "execution_count": 0,
      "outputs": [
        {
          "output_type": "execute_result",
          "data": {
            "text/html": [
              "<div>\n",
              "<style scoped>\n",
              "    .dataframe tbody tr th:only-of-type {\n",
              "        vertical-align: middle;\n",
              "    }\n",
              "\n",
              "    .dataframe tbody tr th {\n",
              "        vertical-align: top;\n",
              "    }\n",
              "\n",
              "    .dataframe thead th {\n",
              "        text-align: right;\n",
              "    }\n",
              "</style>\n",
              "<table border=\"1\" class=\"dataframe\">\n",
              "  <thead>\n",
              "    <tr style=\"text-align: right;\">\n",
              "      <th></th>\n",
              "      <th>start</th>\n",
              "      <th>counts</th>\n",
              "    </tr>\n",
              "  </thead>\n",
              "  <tbody>\n",
              "    <tr>\n",
              "      <th>1</th>\n",
              "      <td>2017-09-05</td>\n",
              "      <td>5952</td>\n",
              "    </tr>\n",
              "    <tr>\n",
              "      <th>0</th>\n",
              "      <td>2017-11-11</td>\n",
              "      <td>9623</td>\n",
              "    </tr>\n",
              "    <tr>\n",
              "      <th>2</th>\n",
              "      <td>2018-01-11</td>\n",
              "      <td>3368</td>\n",
              "    </tr>\n",
              "  </tbody>\n",
              "</table>\n",
              "</div>"
            ],
            "text/plain": [
              "       start  counts\n",
              "1 2017-09-05    5952\n",
              "0 2017-11-11    9623\n",
              "2 2018-01-11    3368"
            ]
          },
          "metadata": {
            "tags": []
          },
          "execution_count": 51
        }
      ]
    },
    {
      "metadata": {
        "id": "pJ3mSWFNP91F",
        "colab_type": "code",
        "colab": {},
        "outputId": "dce3a21e-4305-4c71-c9f3-d182890c47d9"
      },
      "cell_type": "code",
      "source": [
        "petitions_20170905 = petitions.loc[petitions['start'] == '2017-09-05']\n",
        "petitions_20170905.head()"
      ],
      "execution_count": 0,
      "outputs": [
        {
          "output_type": "execute_result",
          "data": {
            "text/html": [
              "<div>\n",
              "<style scoped>\n",
              "    .dataframe tbody tr th:only-of-type {\n",
              "        vertical-align: middle;\n",
              "    }\n",
              "\n",
              "    .dataframe tbody tr th {\n",
              "        vertical-align: top;\n",
              "    }\n",
              "\n",
              "    .dataframe thead th {\n",
              "        text-align: right;\n",
              "    }\n",
              "</style>\n",
              "<table border=\"1\" class=\"dataframe\">\n",
              "  <thead>\n",
              "    <tr style=\"text-align: right;\">\n",
              "      <th></th>\n",
              "      <th>start</th>\n",
              "      <th>end</th>\n",
              "      <th>votes</th>\n",
              "      <th>category</th>\n",
              "      <th>title</th>\n",
              "      <th>content</th>\n",
              "      <th>answer</th>\n",
              "      <th>duration</th>\n",
              "      <th>start_month</th>\n",
              "      <th>start_day</th>\n",
              "      <th>start_hour</th>\n",
              "    </tr>\n",
              "    <tr>\n",
              "      <th>article_id</th>\n",
              "      <th></th>\n",
              "      <th></th>\n",
              "      <th></th>\n",
              "      <th></th>\n",
              "      <th></th>\n",
              "      <th></th>\n",
              "      <th></th>\n",
              "      <th></th>\n",
              "      <th></th>\n",
              "      <th></th>\n",
              "      <th></th>\n",
              "    </tr>\n",
              "  </thead>\n",
              "  <tbody>\n",
              "    <tr>\n",
              "      <th>3474</th>\n",
              "      <td>2017-09-05</td>\n",
              "      <td>2017-12-04</td>\n",
              "      <td>0</td>\n",
              "      <td>안전/환경</td>\n",
              "      <td>소년법 폐지 죄질은 나이가 없다</td>\n",
              "      <td>소년법 폐지  무서워서 애들을 키울수가 없어요</td>\n",
              "      <td>False</td>\n",
              "      <td>90 days</td>\n",
              "      <td>9</td>\n",
              "      <td>5</td>\n",
              "      <td>0</td>\n",
              "    </tr>\n",
              "    <tr>\n",
              "      <th>3475</th>\n",
              "      <td>2017-09-05</td>\n",
              "      <td>2017-12-04</td>\n",
              "      <td>0</td>\n",
              "      <td>인권/성평등</td>\n",
              "      <td>소년법폐지 제발 부탁드립니다</td>\n",
              "      <td>대통령님..부산여중생폭행사건 보셨는지요\\n정말 아이를 키우고있는 부모로써 너무나 마...</td>\n",
              "      <td>False</td>\n",
              "      <td>90 days</td>\n",
              "      <td>9</td>\n",
              "      <td>5</td>\n",
              "      <td>0</td>\n",
              "    </tr>\n",
              "    <tr>\n",
              "      <th>3476</th>\n",
              "      <td>2017-09-05</td>\n",
              "      <td>2017-12-04</td>\n",
              "      <td>0</td>\n",
              "      <td>인권/성평등</td>\n",
              "      <td>청소년 보호법 폐지</td>\n",
              "      <td>청소년 보호법 폐지</td>\n",
              "      <td>False</td>\n",
              "      <td>90 days</td>\n",
              "      <td>9</td>\n",
              "      <td>5</td>\n",
              "      <td>0</td>\n",
              "    </tr>\n",
              "    <tr>\n",
              "      <th>3477</th>\n",
              "      <td>2017-09-05</td>\n",
              "      <td>2017-09-12</td>\n",
              "      <td>0</td>\n",
              "      <td>기타</td>\n",
              "      <td>청소년법 폐지해주세요</td>\n",
              "      <td>폐지해주세요 아이낳고 키우는게 이나라에선 너무 무섭습니다.</td>\n",
              "      <td>False</td>\n",
              "      <td>7 days</td>\n",
              "      <td>9</td>\n",
              "      <td>5</td>\n",
              "      <td>0</td>\n",
              "    </tr>\n",
              "    <tr>\n",
              "      <th>3478</th>\n",
              "      <td>2017-09-05</td>\n",
              "      <td>2017-09-12</td>\n",
              "      <td>0</td>\n",
              "      <td>기타</td>\n",
              "      <td>청소년법 폐지해주세요</td>\n",
              "      <td>폐지해주세요 아이낳고 키우는게 이나라에선 너무 무섭습니다.</td>\n",
              "      <td>False</td>\n",
              "      <td>7 days</td>\n",
              "      <td>9</td>\n",
              "      <td>5</td>\n",
              "      <td>0</td>\n",
              "    </tr>\n",
              "  </tbody>\n",
              "</table>\n",
              "</div>"
            ],
            "text/plain": [
              "                start        end  votes category              title  \\\n",
              "article_id                                                            \n",
              "3474       2017-09-05 2017-12-04      0    안전/환경  소년법 폐지 죄질은 나이가 없다   \n",
              "3475       2017-09-05 2017-12-04      0   인권/성평등    소년법폐지 제발 부탁드립니다   \n",
              "3476       2017-09-05 2017-12-04      0   인권/성평등         청소년 보호법 폐지   \n",
              "3477       2017-09-05 2017-09-12      0       기타        청소년법 폐지해주세요   \n",
              "3478       2017-09-05 2017-09-12      0       기타        청소년법 폐지해주세요   \n",
              "\n",
              "                                                      content  answer  \\\n",
              "article_id                                                              \n",
              "3474                                소년법 폐지  무서워서 애들을 키울수가 없어요   False   \n",
              "3475        대통령님..부산여중생폭행사건 보셨는지요\\n정말 아이를 키우고있는 부모로써 너무나 마...   False   \n",
              "3476                                               청소년 보호법 폐지   False   \n",
              "3477                         폐지해주세요 아이낳고 키우는게 이나라에선 너무 무섭습니다.   False   \n",
              "3478                         폐지해주세요 아이낳고 키우는게 이나라에선 너무 무섭습니다.   False   \n",
              "\n",
              "           duration  start_month  start_day  start_hour  \n",
              "article_id                                               \n",
              "3474        90 days            9          5           0  \n",
              "3475        90 days            9          5           0  \n",
              "3476        90 days            9          5           0  \n",
              "3477         7 days            9          5           0  \n",
              "3478         7 days            9          5           0  "
            ]
          },
          "metadata": {
            "tags": []
          },
          "execution_count": 52
        }
      ]
    },
    {
      "metadata": {
        "id": "7L-QL7fvP91I",
        "colab_type": "code",
        "colab": {},
        "outputId": "9a122696-9506-4dcf-dc76-2695348facae"
      },
      "cell_type": "code",
      "source": [
        "petitions_20170905['category'].value_counts()"
      ],
      "execution_count": 0,
      "outputs": [
        {
          "output_type": "execute_result",
          "data": {
            "text/plain": [
              "인권/성평등         2202\n",
              "육아/교육          1105\n",
              "안전/환경           880\n",
              "기타              697\n",
              "미래              436\n",
              "정치개혁            319\n",
              "행정              121\n",
              "보건복지             41\n",
              "외교/통일/국방         40\n",
              "교통/건축/국토         25\n",
              "일자리              25\n",
              "성장동력             20\n",
              "문화/예술/체육/언론      13\n",
              "저출산/고령화대책        10\n",
              "경제민주화             9\n",
              "반려동물              7\n",
              "농산어촌              2\n",
              "Name: category, dtype: int64"
            ]
          },
          "metadata": {
            "tags": []
          },
          "execution_count": 53
        }
      ]
    },
    {
      "metadata": {
        "id": "YJc_szYfP91J",
        "colab_type": "code",
        "colab": {},
        "outputId": "10e09252-660f-4a1c-9ab4-96258a5e95f4"
      },
      "cell_type": "code",
      "source": [
        "(ggplot(petitions_20170905)\n",
        " + aes(x='category', y='votes')\n",
        " + geom_col(fill='skyblue')\n",
        " + ggtitle('카테고리별 투표수')\n",
        " + coord_flip()\n",
        " + theme(text=element_text(family='NanumBarunGothic'))\n",
        ")"
      ],
      "execution_count": 0,
      "outputs": [
        {
          "output_type": "display_data",
          "data": {
            "image/png": "[encoded data removed]",
            "text/plain": [
              "<matplotlib.figure.Figure at 0x1327111d0>"
            ]
          },
          "metadata": {
            "tags": []
          }
        },
        {
          "output_type": "execute_result",
          "data": {
            "text/plain": [
              "<ggplot: (290608143)>"
            ]
          },
          "metadata": {
            "tags": []
          },
          "execution_count": 54
        }
      ]
    },
    {
      "metadata": {
        "id": "OLtABDWzP91L",
        "colab_type": "text"
      },
      "cell_type": "markdown",
      "source": [
        "## 정치개혁 분야의 청원이 많이 들어 온 날의 청원 내용보기\n",
        "- 하지만 투표를 가장 많이 받은 청원은 보건/복지 분야의 청원이다."
      ]
    },
    {
      "metadata": {
        "id": "6tg3WnaTP91M",
        "colab_type": "code",
        "colab": {},
        "outputId": "bbdff238-28b0-4291-baa5-f0f8083f7386"
      },
      "cell_type": "code",
      "source": [
        "petitions_20171111 = petitions.loc[petitions['start'] == '2017-11-11']\n",
        "petitions_20171111.head()"
      ],
      "execution_count": 0,
      "outputs": [
        {
          "output_type": "execute_result",
          "data": {
            "text/html": [
              "<div>\n",
              "<style scoped>\n",
              "    .dataframe tbody tr th:only-of-type {\n",
              "        vertical-align: middle;\n",
              "    }\n",
              "\n",
              "    .dataframe tbody tr th {\n",
              "        vertical-align: top;\n",
              "    }\n",
              "\n",
              "    .dataframe thead th {\n",
              "        text-align: right;\n",
              "    }\n",
              "</style>\n",
              "<table border=\"1\" class=\"dataframe\">\n",
              "  <thead>\n",
              "    <tr style=\"text-align: right;\">\n",
              "      <th></th>\n",
              "      <th>start</th>\n",
              "      <th>end</th>\n",
              "      <th>votes</th>\n",
              "      <th>category</th>\n",
              "      <th>title</th>\n",
              "      <th>content</th>\n",
              "      <th>answer</th>\n",
              "      <th>duration</th>\n",
              "      <th>start_month</th>\n",
              "      <th>start_day</th>\n",
              "      <th>start_hour</th>\n",
              "    </tr>\n",
              "    <tr>\n",
              "      <th>article_id</th>\n",
              "      <th></th>\n",
              "      <th></th>\n",
              "      <th></th>\n",
              "      <th></th>\n",
              "      <th></th>\n",
              "      <th></th>\n",
              "      <th></th>\n",
              "      <th></th>\n",
              "      <th></th>\n",
              "      <th></th>\n",
              "      <th></th>\n",
              "    </tr>\n",
              "  </thead>\n",
              "  <tbody>\n",
              "    <tr>\n",
              "      <th>31383</th>\n",
              "      <td>2017-11-11</td>\n",
              "      <td>2017-12-11</td>\n",
              "      <td>1</td>\n",
              "      <td>정치개혁</td>\n",
              "      <td>이명박 출국금지</td>\n",
              "      <td>이명박 출국금지\\n조속한 구속수사</td>\n",
              "      <td>False</td>\n",
              "      <td>30 days</td>\n",
              "      <td>11</td>\n",
              "      <td>11</td>\n",
              "      <td>0</td>\n",
              "    </tr>\n",
              "    <tr>\n",
              "      <th>31384</th>\n",
              "      <td>2017-11-11</td>\n",
              "      <td>2017-12-11</td>\n",
              "      <td>3</td>\n",
              "      <td>인권/성평등</td>\n",
              "      <td>조두순 출소 금지</td>\n",
              "      <td>조두순의 출소금지 특별법 제정을 촉구 합니다.</td>\n",
              "      <td>False</td>\n",
              "      <td>30 days</td>\n",
              "      <td>11</td>\n",
              "      <td>11</td>\n",
              "      <td>0</td>\n",
              "    </tr>\n",
              "    <tr>\n",
              "      <th>31386</th>\n",
              "      <td>2017-11-11</td>\n",
              "      <td>2017-12-11</td>\n",
              "      <td>39</td>\n",
              "      <td>정치개혁</td>\n",
              "      <td>이명박 출국금지</td>\n",
              "      <td>정의가 바로 선 나라를 만들기 위해 꼭...!</td>\n",
              "      <td>False</td>\n",
              "      <td>30 days</td>\n",
              "      <td>11</td>\n",
              "      <td>11</td>\n",
              "      <td>0</td>\n",
              "    </tr>\n",
              "    <tr>\n",
              "      <th>31387</th>\n",
              "      <td>2017-11-11</td>\n",
              "      <td>2017-12-11</td>\n",
              "      <td>2</td>\n",
              "      <td>정치개혁</td>\n",
              "      <td>이명박출국금지시켜라</td>\n",
              "      <td>명박이을출국금지시키고  수사하라</td>\n",
              "      <td>False</td>\n",
              "      <td>30 days</td>\n",
              "      <td>11</td>\n",
              "      <td>11</td>\n",
              "      <td>0</td>\n",
              "    </tr>\n",
              "    <tr>\n",
              "      <th>31388</th>\n",
              "      <td>2017-11-11</td>\n",
              "      <td>2017-12-11</td>\n",
              "      <td>1</td>\n",
              "      <td>정치개혁</td>\n",
              "      <td>이명박출국금지시켜라</td>\n",
              "      <td>명박이을출국금지시키고  수사하라</td>\n",
              "      <td>False</td>\n",
              "      <td>30 days</td>\n",
              "      <td>11</td>\n",
              "      <td>11</td>\n",
              "      <td>0</td>\n",
              "    </tr>\n",
              "  </tbody>\n",
              "</table>\n",
              "</div>"
            ],
            "text/plain": [
              "                start        end  votes category       title  \\\n",
              "article_id                                                     \n",
              "31383      2017-11-11 2017-12-11      1     정치개혁    이명박 출국금지   \n",
              "31384      2017-11-11 2017-12-11      3   인권/성평등   조두순 출소 금지   \n",
              "31386      2017-11-11 2017-12-11     39     정치개혁    이명박 출국금지   \n",
              "31387      2017-11-11 2017-12-11      2     정치개혁  이명박출국금지시켜라   \n",
              "31388      2017-11-11 2017-12-11      1     정치개혁  이명박출국금지시켜라   \n",
              "\n",
              "                              content  answer duration  start_month  \\\n",
              "article_id                                                            \n",
              "31383              이명박 출국금지\\n조속한 구속수사   False  30 days           11   \n",
              "31384       조두순의 출소금지 특별법 제정을 촉구 합니다.   False  30 days           11   \n",
              "31386       정의가 바로 선 나라를 만들기 위해 꼭...!   False  30 days           11   \n",
              "31387               명박이을출국금지시키고  수사하라   False  30 days           11   \n",
              "31388               명박이을출국금지시키고  수사하라   False  30 days           11   \n",
              "\n",
              "            start_day  start_hour  \n",
              "article_id                         \n",
              "31383              11           0  \n",
              "31384              11           0  \n",
              "31386              11           0  \n",
              "31387              11           0  \n",
              "31388              11           0  "
            ]
          },
          "metadata": {
            "tags": []
          },
          "execution_count": 55
        }
      ]
    },
    {
      "metadata": {
        "id": "ZB3HZMHyP91N",
        "colab_type": "code",
        "colab": {},
        "outputId": "d67e4eab-9622-40b0-b8da-a74b6e179392"
      },
      "cell_type": "code",
      "source": [
        "petitions_20171111['category'].value_counts()"
      ],
      "execution_count": 0,
      "outputs": [
        {
          "output_type": "execute_result",
          "data": {
            "text/plain": [
              "정치개혁           7961\n",
              "기타              865\n",
              "미래              170\n",
              "인권/성평등          154\n",
              "안전/환경           128\n",
              "외교/통일/국방         61\n",
              "행정               59\n",
              "경제민주화            47\n",
              "육아/교육            46\n",
              "일자리              25\n",
              "반려동물             24\n",
              "보건복지             20\n",
              "문화/예술/체육/언론      19\n",
              "교통/건축/국토         16\n",
              "성장동력             15\n",
              "저출산/고령화대책         7\n",
              "농산어촌              6\n",
              "Name: category, dtype: int64"
            ]
          },
          "metadata": {
            "tags": []
          },
          "execution_count": 56
        }
      ]
    },
    {
      "metadata": {
        "id": "_RdxFtBbP91P",
        "colab_type": "code",
        "colab": {},
        "outputId": "75445070-8587-4208-9189-900846ce720a"
      },
      "cell_type": "code",
      "source": [
        "# 각 데이터의 수를 집계했다. 2017년 11월 11일에 가장 많은 청원이 들어 온 것은 정치개혁이다.\n",
        "petitions_unique = pd.pivot_table(petitions_20171111, index=['category'], aggfunc=np.sum)\n",
        "petitions_best = petitions_unique.sort_values(by='votes', ascending=False)\n",
        "petitions_best"
      ],
      "execution_count": 0,
      "outputs": [
        {
          "output_type": "execute_result",
          "data": {
            "text/html": [
              "<div>\n",
              "<style scoped>\n",
              "    .dataframe tbody tr th:only-of-type {\n",
              "        vertical-align: middle;\n",
              "    }\n",
              "\n",
              "    .dataframe tbody tr th {\n",
              "        vertical-align: top;\n",
              "    }\n",
              "\n",
              "    .dataframe thead th {\n",
              "        text-align: right;\n",
              "    }\n",
              "</style>\n",
              "<table border=\"1\" class=\"dataframe\">\n",
              "  <thead>\n",
              "    <tr style=\"text-align: right;\">\n",
              "      <th></th>\n",
              "      <th>answer</th>\n",
              "      <th>start_day</th>\n",
              "      <th>start_hour</th>\n",
              "      <th>start_month</th>\n",
              "      <th>votes</th>\n",
              "    </tr>\n",
              "    <tr>\n",
              "      <th>category</th>\n",
              "      <th></th>\n",
              "      <th></th>\n",
              "      <th></th>\n",
              "      <th></th>\n",
              "      <th></th>\n",
              "    </tr>\n",
              "  </thead>\n",
              "  <tbody>\n",
              "    <tr>\n",
              "      <th>보건복지</th>\n",
              "      <td>False</td>\n",
              "      <td>220</td>\n",
              "      <td>0</td>\n",
              "      <td>220</td>\n",
              "      <td>58498</td>\n",
              "    </tr>\n",
              "    <tr>\n",
              "      <th>인권/성평등</th>\n",
              "      <td>False</td>\n",
              "      <td>1694</td>\n",
              "      <td>0</td>\n",
              "      <td>1694</td>\n",
              "      <td>16338</td>\n",
              "    </tr>\n",
              "    <tr>\n",
              "      <th>정치개혁</th>\n",
              "      <td>False</td>\n",
              "      <td>87571</td>\n",
              "      <td>0</td>\n",
              "      <td>87571</td>\n",
              "      <td>5080</td>\n",
              "    </tr>\n",
              "    <tr>\n",
              "      <th>외교/통일/국방</th>\n",
              "      <td>False</td>\n",
              "      <td>671</td>\n",
              "      <td>0</td>\n",
              "      <td>671</td>\n",
              "      <td>1924</td>\n",
              "    </tr>\n",
              "    <tr>\n",
              "      <th>문화/예술/체육/언론</th>\n",
              "      <td>False</td>\n",
              "      <td>209</td>\n",
              "      <td>0</td>\n",
              "      <td>209</td>\n",
              "      <td>1378</td>\n",
              "    </tr>\n",
              "    <tr>\n",
              "      <th>교통/건축/국토</th>\n",
              "      <td>False</td>\n",
              "      <td>176</td>\n",
              "      <td>0</td>\n",
              "      <td>176</td>\n",
              "      <td>976</td>\n",
              "    </tr>\n",
              "    <tr>\n",
              "      <th>기타</th>\n",
              "      <td>False</td>\n",
              "      <td>9515</td>\n",
              "      <td>0</td>\n",
              "      <td>9515</td>\n",
              "      <td>461</td>\n",
              "    </tr>\n",
              "    <tr>\n",
              "      <th>미래</th>\n",
              "      <td>False</td>\n",
              "      <td>1870</td>\n",
              "      <td>0</td>\n",
              "      <td>1870</td>\n",
              "      <td>132</td>\n",
              "    </tr>\n",
              "    <tr>\n",
              "      <th>육아/교육</th>\n",
              "      <td>False</td>\n",
              "      <td>506</td>\n",
              "      <td>0</td>\n",
              "      <td>506</td>\n",
              "      <td>98</td>\n",
              "    </tr>\n",
              "    <tr>\n",
              "      <th>안전/환경</th>\n",
              "      <td>False</td>\n",
              "      <td>1408</td>\n",
              "      <td>0</td>\n",
              "      <td>1408</td>\n",
              "      <td>78</td>\n",
              "    </tr>\n",
              "    <tr>\n",
              "      <th>경제민주화</th>\n",
              "      <td>False</td>\n",
              "      <td>517</td>\n",
              "      <td>0</td>\n",
              "      <td>517</td>\n",
              "      <td>25</td>\n",
              "    </tr>\n",
              "    <tr>\n",
              "      <th>행정</th>\n",
              "      <td>False</td>\n",
              "      <td>649</td>\n",
              "      <td>0</td>\n",
              "      <td>649</td>\n",
              "      <td>24</td>\n",
              "    </tr>\n",
              "    <tr>\n",
              "      <th>반려동물</th>\n",
              "      <td>False</td>\n",
              "      <td>264</td>\n",
              "      <td>0</td>\n",
              "      <td>264</td>\n",
              "      <td>22</td>\n",
              "    </tr>\n",
              "    <tr>\n",
              "      <th>일자리</th>\n",
              "      <td>False</td>\n",
              "      <td>275</td>\n",
              "      <td>0</td>\n",
              "      <td>275</td>\n",
              "      <td>20</td>\n",
              "    </tr>\n",
              "    <tr>\n",
              "      <th>저출산/고령화대책</th>\n",
              "      <td>False</td>\n",
              "      <td>77</td>\n",
              "      <td>0</td>\n",
              "      <td>77</td>\n",
              "      <td>10</td>\n",
              "    </tr>\n",
              "    <tr>\n",
              "      <th>농산어촌</th>\n",
              "      <td>False</td>\n",
              "      <td>66</td>\n",
              "      <td>0</td>\n",
              "      <td>66</td>\n",
              "      <td>6</td>\n",
              "    </tr>\n",
              "    <tr>\n",
              "      <th>성장동력</th>\n",
              "      <td>False</td>\n",
              "      <td>165</td>\n",
              "      <td>0</td>\n",
              "      <td>165</td>\n",
              "      <td>4</td>\n",
              "    </tr>\n",
              "  </tbody>\n",
              "</table>\n",
              "</div>"
            ],
            "text/plain": [
              "             answer  start_day  start_hour  start_month  votes\n",
              "category                                                      \n",
              "보건복지          False        220           0          220  58498\n",
              "인권/성평등        False       1694           0         1694  16338\n",
              "정치개혁          False      87571           0        87571   5080\n",
              "외교/통일/국방      False        671           0          671   1924\n",
              "문화/예술/체육/언론   False        209           0          209   1378\n",
              "교통/건축/국토      False        176           0          176    976\n",
              "기타            False       9515           0         9515    461\n",
              "미래            False       1870           0         1870    132\n",
              "육아/교육         False        506           0          506     98\n",
              "안전/환경         False       1408           0         1408     78\n",
              "경제민주화         False        517           0          517     25\n",
              "행정            False        649           0          649     24\n",
              "반려동물          False        264           0          264     22\n",
              "일자리           False        275           0          275     20\n",
              "저출산/고령화대책     False         77           0           77     10\n",
              "농산어촌          False         66           0           66      6\n",
              "성장동력          False        165           0          165      4"
            ]
          },
          "metadata": {
            "tags": []
          },
          "execution_count": 57
        }
      ]
    },
    {
      "metadata": {
        "id": "pwVtc2IZP91R",
        "colab_type": "text"
      },
      "cell_type": "markdown",
      "source": [
        "## 제목과 내용에 들어가는 단어수"
      ]
    },
    {
      "metadata": {
        "id": "VxOgch0wP91R",
        "colab_type": "code",
        "colab": {}
      },
      "cell_type": "code",
      "source": [
        "# 단어 수\n",
        "petitions['title_num_words'] = petitions['title'].apply(lambda x: len(str(x).split()))\n",
        "# 중복을 제거한 단어 수\n",
        "petitions['title_num_uniq_words'] = petitions['title'].apply(lambda x: len(set(str(x).split())))"
      ],
      "execution_count": 0,
      "outputs": []
    },
    {
      "metadata": {
        "id": "LAi8CI2MP91S",
        "colab_type": "code",
        "colab": {}
      },
      "cell_type": "code",
      "source": [
        "# 단어 수\n",
        "petitions['content_num_words'] = petitions['content'].apply(lambda x: len(str(x).split()))\n",
        "# 중복을 제거한 단어 수\n",
        "petitions['content_num_uniq_words'] = petitions['content'].apply(lambda x: len(set(str(x).split())))"
      ],
      "execution_count": 0,
      "outputs": []
    },
    {
      "metadata": {
        "id": "t1OzysXjP91U",
        "colab_type": "code",
        "colab": {},
        "outputId": "6dbf9759-a00f-4804-ed11-b06132a956d1"
      },
      "cell_type": "code",
      "source": [
        "petitions.head()"
      ],
      "execution_count": 0,
      "outputs": [
        {
          "output_type": "execute_result",
          "data": {
            "text/html": [
              "<div>\n",
              "<style scoped>\n",
              "    .dataframe tbody tr th:only-of-type {\n",
              "        vertical-align: middle;\n",
              "    }\n",
              "\n",
              "    .dataframe tbody tr th {\n",
              "        vertical-align: top;\n",
              "    }\n",
              "\n",
              "    .dataframe thead th {\n",
              "        text-align: right;\n",
              "    }\n",
              "</style>\n",
              "<table border=\"1\" class=\"dataframe\">\n",
              "  <thead>\n",
              "    <tr style=\"text-align: right;\">\n",
              "      <th></th>\n",
              "      <th>start</th>\n",
              "      <th>end</th>\n",
              "      <th>votes</th>\n",
              "      <th>category</th>\n",
              "      <th>title</th>\n",
              "      <th>content</th>\n",
              "      <th>answer</th>\n",
              "      <th>duration</th>\n",
              "      <th>start_month</th>\n",
              "      <th>start_day</th>\n",
              "      <th>start_hour</th>\n",
              "      <th>title_num_words</th>\n",
              "      <th>title_num_uniq_words</th>\n",
              "      <th>content_num_words</th>\n",
              "      <th>content_num_uniq_words</th>\n",
              "    </tr>\n",
              "    <tr>\n",
              "      <th>article_id</th>\n",
              "      <th></th>\n",
              "      <th></th>\n",
              "      <th></th>\n",
              "      <th></th>\n",
              "      <th></th>\n",
              "      <th></th>\n",
              "      <th></th>\n",
              "      <th></th>\n",
              "      <th></th>\n",
              "      <th></th>\n",
              "      <th></th>\n",
              "      <th></th>\n",
              "      <th></th>\n",
              "      <th></th>\n",
              "      <th></th>\n",
              "    </tr>\n",
              "  </thead>\n",
              "  <tbody>\n",
              "    <tr>\n",
              "      <th>21</th>\n",
              "      <td>2017-08-19</td>\n",
              "      <td>2017-11-17</td>\n",
              "      <td>9</td>\n",
              "      <td>안전/환경</td>\n",
              "      <td>스텔라 데이지호에 대한 제안입니다.</td>\n",
              "      <td>스텔라 데이지호에 대한 제안입니다.\\n3월31일 스텔라 데이지호가 침몰하고 5달째가...</td>\n",
              "      <td>False</td>\n",
              "      <td>90 days</td>\n",
              "      <td>8</td>\n",
              "      <td>19</td>\n",
              "      <td>0</td>\n",
              "      <td>4</td>\n",
              "      <td>4</td>\n",
              "      <td>292</td>\n",
              "      <td>252</td>\n",
              "    </tr>\n",
              "    <tr>\n",
              "      <th>22</th>\n",
              "      <td>2017-08-19</td>\n",
              "      <td>2017-11-17</td>\n",
              "      <td>17</td>\n",
              "      <td>기타</td>\n",
              "      <td>비리제보처를 만들어주세요.</td>\n",
              "      <td>현 정부에 국민들이 가장 원하는 것은 부패척결입니다.  우리 사회에 각종 비리들이 ...</td>\n",
              "      <td>False</td>\n",
              "      <td>90 days</td>\n",
              "      <td>8</td>\n",
              "      <td>19</td>\n",
              "      <td>0</td>\n",
              "      <td>2</td>\n",
              "      <td>2</td>\n",
              "      <td>67</td>\n",
              "      <td>62</td>\n",
              "    </tr>\n",
              "    <tr>\n",
              "      <th>23</th>\n",
              "      <td>2017-08-19</td>\n",
              "      <td>2017-09-03</td>\n",
              "      <td>0</td>\n",
              "      <td>미래</td>\n",
              "      <td>제2의 개성공단</td>\n",
              "      <td>만일 하시는 대통령님 및 각 부처 장관님,주무관님들 안녕하세요!!\\n전남 목포에서 ...</td>\n",
              "      <td>False</td>\n",
              "      <td>15 days</td>\n",
              "      <td>8</td>\n",
              "      <td>19</td>\n",
              "      <td>0</td>\n",
              "      <td>2</td>\n",
              "      <td>2</td>\n",
              "      <td>118</td>\n",
              "      <td>105</td>\n",
              "    </tr>\n",
              "    <tr>\n",
              "      <th>24</th>\n",
              "      <td>2017-08-19</td>\n",
              "      <td>2017-08-26</td>\n",
              "      <td>53</td>\n",
              "      <td>일자리</td>\n",
              "      <td>공공기관 무조건적인 정규직전환을 반대합니다.</td>\n",
              "      <td>현정부에서 정규직 일자리를 늘리는 것에 찬성합니다. 그런데 공공기관 비정규직들은 인...</td>\n",
              "      <td>False</td>\n",
              "      <td>7 days</td>\n",
              "      <td>8</td>\n",
              "      <td>19</td>\n",
              "      <td>0</td>\n",
              "      <td>4</td>\n",
              "      <td>4</td>\n",
              "      <td>108</td>\n",
              "      <td>101</td>\n",
              "    </tr>\n",
              "    <tr>\n",
              "      <th>25</th>\n",
              "      <td>2017-08-19</td>\n",
              "      <td>2017-09-03</td>\n",
              "      <td>0</td>\n",
              "      <td>미래</td>\n",
              "      <td>제2의 개성공단</td>\n",
              "      <td>만일 하시는 대통령님 및 각 부처 장관님,주무관님들 안녕하세요!!\\n전남 목포에서 ...</td>\n",
              "      <td>False</td>\n",
              "      <td>15 days</td>\n",
              "      <td>8</td>\n",
              "      <td>19</td>\n",
              "      <td>0</td>\n",
              "      <td>2</td>\n",
              "      <td>2</td>\n",
              "      <td>118</td>\n",
              "      <td>105</td>\n",
              "    </tr>\n",
              "  </tbody>\n",
              "</table>\n",
              "</div>"
            ],
            "text/plain": [
              "                start        end  votes category                     title  \\\n",
              "article_id                                                                   \n",
              "21         2017-08-19 2017-11-17      9    안전/환경       스텔라 데이지호에 대한 제안입니다.   \n",
              "22         2017-08-19 2017-11-17     17       기타            비리제보처를 만들어주세요.   \n",
              "23         2017-08-19 2017-09-03      0       미래                  제2의 개성공단   \n",
              "24         2017-08-19 2017-08-26     53      일자리  공공기관 무조건적인 정규직전환을 반대합니다.   \n",
              "25         2017-08-19 2017-09-03      0       미래                  제2의 개성공단   \n",
              "\n",
              "                                                      content  answer  \\\n",
              "article_id                                                              \n",
              "21          스텔라 데이지호에 대한 제안입니다.\\n3월31일 스텔라 데이지호가 침몰하고 5달째가...   False   \n",
              "22          현 정부에 국민들이 가장 원하는 것은 부패척결입니다.  우리 사회에 각종 비리들이 ...   False   \n",
              "23          만일 하시는 대통령님 및 각 부처 장관님,주무관님들 안녕하세요!!\\n전남 목포에서 ...   False   \n",
              "24          현정부에서 정규직 일자리를 늘리는 것에 찬성합니다. 그런데 공공기관 비정규직들은 인...   False   \n",
              "25          만일 하시는 대통령님 및 각 부처 장관님,주무관님들 안녕하세요!!\\n전남 목포에서 ...   False   \n",
              "\n",
              "           duration  start_month  start_day  start_hour  title_num_words  \\\n",
              "article_id                                                                 \n",
              "21          90 days            8         19           0                4   \n",
              "22          90 days            8         19           0                2   \n",
              "23          15 days            8         19           0                2   \n",
              "24           7 days            8         19           0                4   \n",
              "25          15 days            8         19           0                2   \n",
              "\n",
              "            title_num_uniq_words  content_num_words  content_num_uniq_words  \n",
              "article_id                                                                   \n",
              "21                             4                292                     252  \n",
              "22                             2                 67                      62  \n",
              "23                             2                118                     105  \n",
              "24                             4                108                     101  \n",
              "25                             2                118                     105  "
            ]
          },
          "metadata": {
            "tags": []
          },
          "execution_count": 60
        }
      ]
    },
    {
      "metadata": {
        "id": "YWzkvlGQP91Z",
        "colab_type": "code",
        "colab": {},
        "outputId": "3e37ac63-b686-4b15-b00b-706e97db082c"
      },
      "cell_type": "code",
      "source": [
        "(ggplot(petitions)\n",
        " + aes('title_num_words', 'content_num_words')\n",
        " + geom_point(fill='red', color='lightgray', alpha=0.25)\n",
        " + ggtitle('제목, 내용 단어 수')\n",
        " + coord_flip()\n",
        " + theme(text=element_text(family='NanumBarunGothic'))\n",
        ")"
      ],
      "execution_count": 0,
      "outputs": [
        {
          "output_type": "display_data",
          "data": {
            "image/png": "[encoded data removed]",
            "text/plain": [
              "<matplotlib.figure.Figure at 0x13cc5c390>"
            ]
          },
          "metadata": {
            "tags": []
          }
        },
        {
          "output_type": "execute_result",
          "data": {
            "text/plain": [
              "<ggplot: (-9223372036520771156)>"
            ]
          },
          "metadata": {
            "tags": []
          },
          "execution_count": 61
        }
      ]
    },
    {
      "metadata": {
        "id": "o7XwFtWVP91e",
        "colab_type": "code",
        "colab": {},
        "outputId": "d1309605-fb84-4503-9398-7fc5c17d1d02"
      },
      "cell_type": "code",
      "source": [
        "(ggplot(petitions)\n",
        " + aes('votes', 'content_num_words')\n",
        " + geom_jitter(fill='red', color='lightgray', alpha=0.25)\n",
        " + ggtitle('투표수와 내용 단어 수')\n",
        " + coord_flip()\n",
        " + theme(text=element_text(family='NanumBarunGothic'))\n",
        " + scale_fill_gradient(low = 'red', high = 'yellow') \n",
        ")"
      ],
      "execution_count": 0,
      "outputs": [
        {
          "output_type": "stream",
          "text": [
            "/Users/corazzon/codes/jupyter/lib/python3.6/site-packages/plotnine/guides/guides.py:199: UserWarning: Cannot generate legend for the 'fill' aesthetic. Make sure you have mapped a variable to it\n",
            "  \"variable to it\".format(output))\n"
          ],
          "name": "stderr"
        },
        {
          "output_type": "display_data",
          "data": {
            "image/png": "[encoded data removed]",
            "text/plain": [
              "<matplotlib.figure.Figure at 0x132ed3630>"
            ]
          },
          "metadata": {
            "tags": []
          }
        },
        {
          "output_type": "execute_result",
          "data": {
            "text/plain": [
              "<ggplot: (-9223372036557019683)>"
            ]
          },
          "metadata": {
            "tags": []
          },
          "execution_count": 62
        }
      ]
    },
    {
      "metadata": {
        "id": "uFpSDQOeP91g",
        "colab_type": "text"
      },
      "cell_type": "markdown",
      "source": [
        "## 특정 단어가 들어가는 청원보기"
      ]
    },
    {
      "metadata": {
        "id": "4fiJM9xNP91g",
        "colab_type": "code",
        "colab": {},
        "outputId": "04b30f08-ce48-4a0a-a4de-8304ccdc6f4f"
      },
      "cell_type": "code",
      "source": [
        "crypto = petitions[( petitions.title.str.find('가상화폐') != -1 ) | ( petitions.content.str.find('가상화폐') != -1  )]\n",
        "crypto.shape"
      ],
      "execution_count": 0,
      "outputs": [
        {
          "output_type": "execute_result",
          "data": {
            "text/plain": [
              "(7773, 15)"
            ]
          },
          "metadata": {
            "tags": []
          },
          "execution_count": 63
        }
      ]
    },
    {
      "metadata": {
        "id": "bIK05SowP91i",
        "colab_type": "code",
        "colab": {},
        "outputId": "bd3af5e6-31f6-4432-8ca9-a6912ce7b212"
      },
      "cell_type": "code",
      "source": [
        "import re\n",
        "p = r'.*(돌봄|아이|초등|보육).*'\n",
        "care = petitions[petitions['title'].str.match(p) |\n",
        "           petitions['content'].str.match(p, flags=re.MULTILINE)]\n",
        "care.shape"
      ],
      "execution_count": 0,
      "outputs": [
        {
          "output_type": "execute_result",
          "data": {
            "text/plain": [
              "(25655, 15)"
            ]
          },
          "metadata": {
            "tags": []
          },
          "execution_count": 64
        }
      ]
    },
    {
      "metadata": {
        "id": "z9VGz701P91k",
        "colab_type": "code",
        "colab": {}
      },
      "cell_type": "code",
      "source": [
        ""
      ],
      "execution_count": 0,
      "outputs": []
    }
  ]
}