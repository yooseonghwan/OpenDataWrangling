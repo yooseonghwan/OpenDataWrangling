{
  "nbformat": 4,
  "nbformat_minor": 0,
  "metadata": {
    "colab": {
      "name": "05 국민청원 카테고리 분류",
      "version": "0.3.2",
      "provenance": [],
      "collapsed_sections": [
        "z3HWXdrYt0zc",
        "TW7ezgBFt0zs",
        "iXQ4-fp8t00F",
        "lXbYgIwzt00M",
        "eRmOcniRt00m",
        "M9u6sKOet00v",
        "nqJ8PZ8Nt006",
        "2MX3Uafzt01Y",
        "qtBaHB1Bt01c"
      ],
      "include_colab_link": true
    },
    "kernelspec": {
      "display_name": "Python 3",
      "language": "python",
      "name": "python3"
    }
  },
  "cells": [
    {
      "cell_type": "markdown",
      "metadata": {
        "id": "view-in-github",
        "colab_type": "text"
      },
      "source": [
        "[View in Colaboratory](https://colab.research.google.com/github/yooseonghwan/OpenDataWrangling/blob/master/05_%EA%B5%AD%EB%AF%BC%EC%B2%AD%EC%9B%90_%EC%B9%B4%ED%85%8C%EA%B3%A0%EB%A6%AC_%EB%B6%84%EB%A5%98_teacher.ipynb)"
      ]
    },
    {
      "metadata": {
        "id": "DN8TDD_gt0yy",
        "colab_type": "text"
      },
      "cell_type": "markdown",
      "source": [
        "# 국민청원 데이터로 청원 카테고리 분류하기"
      ]
    },
    {
      "metadata": {
        "id": "e7MNAfcMt0y0",
        "colab_type": "text"
      },
      "cell_type": "markdown",
      "source": [
        "* 청원의 카테고리를 분류해 봅니다."
      ]
    },
    {
      "metadata": {
        "id": "PHdzuhsQt0y1",
        "colab_type": "code",
        "colab": {
          "base_uri": "https://localhost:8080/",
          "height": 55
        },
        "outputId": "8fbf6797-8023-4d05-de35-e699964f4df1"
      },
      "cell_type": "code",
      "source": [
        "import pandas as pd\n",
        "import numpy as np\n",
        "import re\n",
        "print(pd.__version__)\n",
        "print(np.__version__)"
      ],
      "execution_count": 10,
      "outputs": [
        {
          "output_type": "stream",
          "text": [
            "0.22.0\n",
            "1.14.5\n"
          ],
          "name": "stdout"
        }
      ]
    },
    {
      "metadata": {
        "id": "AIr149Cht0y6",
        "colab_type": "text"
      },
      "cell_type": "markdown",
      "source": [
        "# 데이터 로드하기\n",
        "*  데이터 출처 : https://github.com/akngs/petitions"
      ]
    },
    {
      "metadata": {
        "id": "PSBHQlsbgVhU",
        "colab_type": "code",
        "colab": {}
      },
      "cell_type": "code",
      "source": [
        "# 드라이브 폴더에 있는 petition.csv를 업로드 합니다. 01 국민청원 분석 및 시각화 에서 이미 해주었다면 다시 해줄 필요는 없습니다.\n",
        "# from google.colab import files\n",
        "\n",
        "# uploaded = files.upload()\n",
        "\n",
        "# for fn in uploaded.keys():\n",
        "#   print('User uploaded file \"{name}\" with length {length} bytes'.format(\n",
        "#       name=fn, length=len(uploaded[fn])))"
      ],
      "execution_count": 0,
      "outputs": []
    },
    {
      "metadata": {
        "id": "Q5lI8Si7LP64",
        "colab_type": "code",
        "colab": {
          "base_uri": "https://localhost:8080/",
          "height": 92
        },
        "outputId": "ae694ff9-be41-4501-a4d0-0ffdfd042baf"
      },
      "cell_type": "code",
      "source": [
        "%ls"
      ],
      "execution_count": 11,
      "outputs": [
        {
          "output_type": "stream",
          "text": [
            "1minwords                                          \u001b[0m\u001b[01;36mdatalab\u001b[0m@\r\n",
            "1minwords.trainables.syn1neg.npy                   petition.csv\r\n",
            "1minwords.wv.vectors.npy                           \u001b[01;34msample_data\u001b[0m/\r\n",
            "전국_평균_분양가격_2018.6월_.csv\r\n"
          ],
          "name": "stdout"
        }
      ]
    },
    {
      "metadata": {
        "id": "ZIJALYwBEske",
        "colab_type": "code",
        "colab": {
          "base_uri": "https://localhost:8080/",
          "height": 36
        },
        "outputId": "a428f305-7bc3-405f-ffda-eee6a223a49c"
      },
      "cell_type": "code",
      "source": [
        "petitions = pd.read_csv('petition.csv', parse_dates=['start', 'end'])\n",
        "petitions.shape"
      ],
      "execution_count": 13,
      "outputs": [
        {
          "output_type": "execute_result",
          "data": {
            "text/plain": [
              "(210424, 8)"
            ]
          },
          "metadata": {
            "tags": []
          },
          "execution_count": 13
        }
      ]
    },
    {
      "metadata": {
        "id": "ixDZW6f0t0y9",
        "colab_type": "code",
        "colab": {
          "base_uri": "https://localhost:8080/",
          "height": 294
        },
        "outputId": "654973a6-fd73-4e55-ffaf-b9134e3c1a76"
      },
      "cell_type": "code",
      "source": [
        "petitions.describe()"
      ],
      "execution_count": 14,
      "outputs": [
        {
          "output_type": "execute_result",
          "data": {
            "text/html": [
              "<div>\n",
              "<style scoped>\n",
              "    .dataframe tbody tr th:only-of-type {\n",
              "        vertical-align: middle;\n",
              "    }\n",
              "\n",
              "    .dataframe tbody tr th {\n",
              "        vertical-align: top;\n",
              "    }\n",
              "\n",
              "    .dataframe thead th {\n",
              "        text-align: right;\n",
              "    }\n",
              "</style>\n",
              "<table border=\"1\" class=\"dataframe\">\n",
              "  <thead>\n",
              "    <tr style=\"text-align: right;\">\n",
              "      <th></th>\n",
              "      <th>article_id</th>\n",
              "      <th>answered</th>\n",
              "      <th>votes</th>\n",
              "    </tr>\n",
              "  </thead>\n",
              "  <tbody>\n",
              "    <tr>\n",
              "      <th>count</th>\n",
              "      <td>210424.000000</td>\n",
              "      <td>210424.000000</td>\n",
              "      <td>210424.000000</td>\n",
              "    </tr>\n",
              "    <tr>\n",
              "      <th>mean</th>\n",
              "      <td>126356.643358</td>\n",
              "      <td>0.000128</td>\n",
              "      <td>146.814508</td>\n",
              "    </tr>\n",
              "    <tr>\n",
              "      <th>std</th>\n",
              "      <td>79120.580606</td>\n",
              "      <td>0.011327</td>\n",
              "      <td>4595.002647</td>\n",
              "    </tr>\n",
              "    <tr>\n",
              "      <th>min</th>\n",
              "      <td>21.000000</td>\n",
              "      <td>0.000000</td>\n",
              "      <td>0.000000</td>\n",
              "    </tr>\n",
              "    <tr>\n",
              "      <th>25%</th>\n",
              "      <td>54617.750000</td>\n",
              "      <td>0.000000</td>\n",
              "      <td>1.000000</td>\n",
              "    </tr>\n",
              "    <tr>\n",
              "      <th>50%</th>\n",
              "      <td>126121.500000</td>\n",
              "      <td>0.000000</td>\n",
              "      <td>3.000000</td>\n",
              "    </tr>\n",
              "    <tr>\n",
              "      <th>75%</th>\n",
              "      <td>192984.500000</td>\n",
              "      <td>0.000000</td>\n",
              "      <td>10.000000</td>\n",
              "    </tr>\n",
              "    <tr>\n",
              "      <th>max</th>\n",
              "      <td>271767.000000</td>\n",
              "      <td>1.000000</td>\n",
              "      <td>714875.000000</td>\n",
              "    </tr>\n",
              "  </tbody>\n",
              "</table>\n",
              "</div>"
            ],
            "text/plain": [
              "          article_id       answered          votes\n",
              "count  210424.000000  210424.000000  210424.000000\n",
              "mean   126356.643358       0.000128     146.814508\n",
              "std     79120.580606       0.011327    4595.002647\n",
              "min        21.000000       0.000000       0.000000\n",
              "25%     54617.750000       0.000000       1.000000\n",
              "50%    126121.500000       0.000000       3.000000\n",
              "75%    192984.500000       0.000000      10.000000\n",
              "max    271767.000000       1.000000  714875.000000"
            ]
          },
          "metadata": {
            "tags": []
          },
          "execution_count": 14
        }
      ]
    },
    {
      "metadata": {
        "id": "Wd8-AqNut0zA",
        "colab_type": "code",
        "colab": {
          "base_uri": "https://localhost:8080/",
          "height": 36
        },
        "outputId": "95fcdb38-5ed7-44b7-e1ec-ab7d475cff39"
      },
      "cell_type": "code",
      "source": [
        "# 전체 데이터 중 투표가 1000건 이상인 데이터를 기준으로 가져옵니다. 아웃라이어 데이터 제거를 위해 10만건 이상 데이터도 제거합니다.\n",
        "df = petitions.loc[(petitions['votes'] > 1000) & (petitions['votes'] < 100000)].copy()\n",
        "df.shape"
      ],
      "execution_count": 15,
      "outputs": [
        {
          "output_type": "execute_result",
          "data": {
            "text/plain": [
              "(1785, 8)"
            ]
          },
          "metadata": {
            "tags": []
          },
          "execution_count": 15
        }
      ]
    },
    {
      "metadata": {
        "id": "J3UylGHVt0zD",
        "colab_type": "code",
        "colab": {
          "base_uri": "https://localhost:8080/",
          "height": 294
        },
        "outputId": "ab2e7c86-1fcc-49af-9bf4-5e5bc6cd4cc5"
      },
      "cell_type": "code",
      "source": [
        "df.describe()"
      ],
      "execution_count": 16,
      "outputs": [
        {
          "output_type": "execute_result",
          "data": {
            "text/html": [
              "<div>\n",
              "<style scoped>\n",
              "    .dataframe tbody tr th:only-of-type {\n",
              "        vertical-align: middle;\n",
              "    }\n",
              "\n",
              "    .dataframe tbody tr th {\n",
              "        vertical-align: top;\n",
              "    }\n",
              "\n",
              "    .dataframe thead th {\n",
              "        text-align: right;\n",
              "    }\n",
              "</style>\n",
              "<table border=\"1\" class=\"dataframe\">\n",
              "  <thead>\n",
              "    <tr style=\"text-align: right;\">\n",
              "      <th></th>\n",
              "      <th>article_id</th>\n",
              "      <th>answered</th>\n",
              "      <th>votes</th>\n",
              "    </tr>\n",
              "  </thead>\n",
              "  <tbody>\n",
              "    <tr>\n",
              "      <th>count</th>\n",
              "      <td>1785.000000</td>\n",
              "      <td>1785.0</td>\n",
              "      <td>1785.000000</td>\n",
              "    </tr>\n",
              "    <tr>\n",
              "      <th>mean</th>\n",
              "      <td>140930.977031</td>\n",
              "      <td>0.0</td>\n",
              "      <td>7482.421849</td>\n",
              "    </tr>\n",
              "    <tr>\n",
              "      <th>std</th>\n",
              "      <td>77121.557639</td>\n",
              "      <td>0.0</td>\n",
              "      <td>12757.981560</td>\n",
              "    </tr>\n",
              "    <tr>\n",
              "      <th>min</th>\n",
              "      <td>28.000000</td>\n",
              "      <td>0.0</td>\n",
              "      <td>1002.000000</td>\n",
              "    </tr>\n",
              "    <tr>\n",
              "      <th>25%</th>\n",
              "      <td>70879.000000</td>\n",
              "      <td>0.0</td>\n",
              "      <td>1551.000000</td>\n",
              "    </tr>\n",
              "    <tr>\n",
              "      <th>50%</th>\n",
              "      <td>148870.000000</td>\n",
              "      <td>0.0</td>\n",
              "      <td>2690.000000</td>\n",
              "    </tr>\n",
              "    <tr>\n",
              "      <th>75%</th>\n",
              "      <td>207870.000000</td>\n",
              "      <td>0.0</td>\n",
              "      <td>6620.000000</td>\n",
              "    </tr>\n",
              "    <tr>\n",
              "      <th>max</th>\n",
              "      <td>271763.000000</td>\n",
              "      <td>0.0</td>\n",
              "      <td>99947.000000</td>\n",
              "    </tr>\n",
              "  </tbody>\n",
              "</table>\n",
              "</div>"
            ],
            "text/plain": [
              "          article_id  answered         votes\n",
              "count    1785.000000    1785.0   1785.000000\n",
              "mean   140930.977031       0.0   7482.421849\n",
              "std     77121.557639       0.0  12757.981560\n",
              "min        28.000000       0.0   1002.000000\n",
              "25%     70879.000000       0.0   1551.000000\n",
              "50%    148870.000000       0.0   2690.000000\n",
              "75%    207870.000000       0.0   6620.000000\n",
              "max    271763.000000       0.0  99947.000000"
            ]
          },
          "metadata": {
            "tags": []
          },
          "execution_count": 16
        }
      ]
    },
    {
      "metadata": {
        "id": "JJYlPg80t0zG",
        "colab_type": "code",
        "colab": {
          "base_uri": "https://localhost:8080/",
          "height": 353
        },
        "outputId": "affa5ab1-ff53-4bd0-af57-76d26655cabe"
      },
      "cell_type": "code",
      "source": [
        "category_count = df['category'].value_counts()\n",
        "category_count"
      ],
      "execution_count": 17,
      "outputs": [
        {
          "output_type": "execute_result",
          "data": {
            "text/plain": [
              "인권/성평등         231\n",
              "보건복지           188\n",
              "육아/교육          179\n",
              "안전/환경          171\n",
              "정치개혁           166\n",
              "기타             139\n",
              "교통/건축/국토       131\n",
              "문화/예술/체육/언론    128\n",
              "행정              89\n",
              "일자리             83\n",
              "외교/통일/국방        72\n",
              "반려동물            69\n",
              "경제민주화           67\n",
              "미래              29\n",
              "성장동력            18\n",
              "저출산/고령화대책       14\n",
              "농산어촌            11\n",
              "Name: category, dtype: int64"
            ]
          },
          "metadata": {
            "tags": []
          },
          "execution_count": 17
        }
      ]
    },
    {
      "metadata": {
        "id": "3MMJK1mkt0zJ",
        "colab_type": "code",
        "colab": {
          "base_uri": "https://localhost:8080/",
          "height": 312
        },
        "outputId": "804ea4da-4107-4ae8-bb86-f4b6b6c78aac"
      },
      "cell_type": "code",
      "source": [
        "%matplotlib inline \n",
        "category_count.plot(kind='bar')"
      ],
      "execution_count": 18,
      "outputs": [
        {
          "output_type": "execute_result",
          "data": {
            "text/plain": [
              "<matplotlib.axes._subplots.AxesSubplot at 0x7fa72544c668>"
            ]
          },
          "metadata": {
            "tags": []
          },
          "execution_count": 18
        },
        {
          "output_type": "display_data",
          "data": {
            "image/png": "[encoded data removed]",
            "text/plain": [
              "<matplotlib.figure.Figure at 0x7fa7236eef28>"
            ]
          },
          "metadata": {
            "tags": []
          }
        }
      ]
    },
    {
      "metadata": {
        "id": "YkQ2_4c2t0zM",
        "colab_type": "code",
        "colab": {}
      },
      "cell_type": "code",
      "source": [
        "# 예측값과 실제값 비교를 위해 컬럼을 하나 더 생성합니다.\n",
        "df['category_pred'] = df['category'].copy()"
      ],
      "execution_count": 0,
      "outputs": []
    },
    {
      "metadata": {
        "id": "m8I3Xs5Bt0zP",
        "colab_type": "code",
        "colab": {},
        "outputId": "e7a62291-78fe-4a39-dd7c-a770a68d16d5"
      },
      "cell_type": "code",
      "source": [
        "df.head()"
      ],
      "execution_count": 0,
      "outputs": [
        {
          "output_type": "execute_result",
          "data": {
            "text/html": [
              "<div>\n",
              "<style scoped>\n",
              "    .dataframe tbody tr th:only-of-type {\n",
              "        vertical-align: middle;\n",
              "    }\n",
              "\n",
              "    .dataframe tbody tr th {\n",
              "        vertical-align: top;\n",
              "    }\n",
              "\n",
              "    .dataframe thead th {\n",
              "        text-align: right;\n",
              "    }\n",
              "</style>\n",
              "<table border=\"1\" class=\"dataframe\">\n",
              "  <thead>\n",
              "    <tr style=\"text-align: right;\">\n",
              "      <th></th>\n",
              "      <th>article_id</th>\n",
              "      <th>start</th>\n",
              "      <th>end</th>\n",
              "      <th>answered</th>\n",
              "      <th>votes</th>\n",
              "      <th>category</th>\n",
              "      <th>title</th>\n",
              "      <th>content</th>\n",
              "      <th>category_pred</th>\n",
              "    </tr>\n",
              "  </thead>\n",
              "  <tbody>\n",
              "    <tr>\n",
              "      <th>7</th>\n",
              "      <td>28</td>\n",
              "      <td>2017-08-19</td>\n",
              "      <td>2017-08-26</td>\n",
              "      <td>0</td>\n",
              "      <td>2137</td>\n",
              "      <td>경제민주화</td>\n",
              "      <td>소액주주를 보호해주십시오</td>\n",
              "      <td>**  존경하옵는 문재인대통령님께\\n저는 중국원양자원이라는 KOSPI상장사의 소액 ...</td>\n",
              "      <td>경제민주화</td>\n",
              "    </tr>\n",
              "    <tr>\n",
              "      <th>21</th>\n",
              "      <td>43</td>\n",
              "      <td>2017-08-19</td>\n",
              "      <td>2017-09-18</td>\n",
              "      <td>0</td>\n",
              "      <td>11293</td>\n",
              "      <td>육아/교육</td>\n",
              "      <td>기간제 교사의 정규직화를 반대합니다.</td>\n",
              "      <td>대통령님, 안녕하세요. 저는 임용을 준비하고 수험생입니다. 처음 기간제 정규직화 된...</td>\n",
              "      <td>육아/교육</td>\n",
              "    </tr>\n",
              "    <tr>\n",
              "      <th>24</th>\n",
              "      <td>46</td>\n",
              "      <td>2017-08-19</td>\n",
              "      <td>2017-09-18</td>\n",
              "      <td>0</td>\n",
              "      <td>1933</td>\n",
              "      <td>육아/교육</td>\n",
              "      <td>기간제교사의 정규직화를 반대합니다.</td>\n",
              "      <td>대통령님, 안녕하세요. 저는 임용을 준비하고 수험생입니다. 처음 기간제 정규직화 된...</td>\n",
              "      <td>육아/교육</td>\n",
              "    </tr>\n",
              "    <tr>\n",
              "      <th>28</th>\n",
              "      <td>50</td>\n",
              "      <td>2017-08-19</td>\n",
              "      <td>2017-10-18</td>\n",
              "      <td>0</td>\n",
              "      <td>1251</td>\n",
              "      <td>일자리</td>\n",
              "      <td>치과위생사 국가고시 날짜 변경 억울합니다</td>\n",
              "      <td>안녕하십니까? 대통령님 간단하게 제소개 부터 하겠습니다. 저는 치위생과 3학년 학생...</td>\n",
              "      <td>일자리</td>\n",
              "    </tr>\n",
              "    <tr>\n",
              "      <th>38</th>\n",
              "      <td>61</td>\n",
              "      <td>2017-08-19</td>\n",
              "      <td>2017-08-26</td>\n",
              "      <td>0</td>\n",
              "      <td>1185</td>\n",
              "      <td>일자리</td>\n",
              "      <td>영어회화전문강사제도는 유지되어야합니다.</td>\n",
              "      <td>1. 영전강의고용안정을 원합니다\\n2.1년단위계약직으로 임신 출산육아 매우 곤란합니...</td>\n",
              "      <td>일자리</td>\n",
              "    </tr>\n",
              "  </tbody>\n",
              "</table>\n",
              "</div>"
            ],
            "text/plain": [
              "    article_id      start        end  answered  votes category  \\\n",
              "7           28 2017-08-19 2017-08-26         0   2137    경제민주화   \n",
              "21          43 2017-08-19 2017-09-18         0  11293    육아/교육   \n",
              "24          46 2017-08-19 2017-09-18         0   1933    육아/교육   \n",
              "28          50 2017-08-19 2017-10-18         0   1251      일자리   \n",
              "38          61 2017-08-19 2017-08-26         0   1185      일자리   \n",
              "\n",
              "                     title                                            content  \\\n",
              "7            소액주주를 보호해주십시오  **  존경하옵는 문재인대통령님께\\n저는 중국원양자원이라는 KOSPI상장사의 소액 ...   \n",
              "21    기간제 교사의 정규직화를 반대합니다.  대통령님, 안녕하세요. 저는 임용을 준비하고 수험생입니다. 처음 기간제 정규직화 된...   \n",
              "24     기간제교사의 정규직화를 반대합니다.  대통령님, 안녕하세요. 저는 임용을 준비하고 수험생입니다. 처음 기간제 정규직화 된...   \n",
              "28  치과위생사 국가고시 날짜 변경 억울합니다  안녕하십니까? 대통령님 간단하게 제소개 부터 하겠습니다. 저는 치위생과 3학년 학생...   \n",
              "38   영어회화전문강사제도는 유지되어야합니다.  1. 영전강의고용안정을 원합니다\\n2.1년단위계약직으로 임신 출산육아 매우 곤란합니...   \n",
              "\n",
              "   category_pred  \n",
              "7          경제민주화  \n",
              "21         육아/교육  \n",
              "24         육아/교육  \n",
              "28           일자리  \n",
              "38           일자리  "
            ]
          },
          "metadata": {
            "tags": []
          },
          "execution_count": 9
        }
      ]
    },
    {
      "metadata": {
        "id": "oka02vApt0zT",
        "colab_type": "code",
        "colab": {
          "base_uri": "https://localhost:8080/",
          "height": 36
        },
        "outputId": "a9dfd599-0379-49eb-f61a-8ee3b519af21"
      },
      "cell_type": "code",
      "source": [
        "# 첫 번째 인덱스를 가져와 봅니다.\n",
        "sample_index = df.iloc[0][0]\n",
        "sample_index"
      ],
      "execution_count": 20,
      "outputs": [
        {
          "output_type": "execute_result",
          "data": {
            "text/plain": [
              "28"
            ]
          },
          "metadata": {
            "tags": []
          },
          "execution_count": 20
        }
      ]
    },
    {
      "metadata": {
        "id": "dOOdl4Rft0zX",
        "colab_type": "code",
        "colab": {
          "base_uri": "https://localhost:8080/",
          "height": 36
        },
        "outputId": "cc6b61bc-4e8c-4c4b-844c-484bdde3a46c"
      },
      "cell_type": "code",
      "source": [
        "sample_title = df['title'][sample_index]\n",
        "sample_title"
      ],
      "execution_count": 21,
      "outputs": [
        {
          "output_type": "execute_result",
          "data": {
            "text/plain": [
              "'치과위생사 국가고시 날짜 변경 억울합니다'"
            ]
          },
          "metadata": {
            "tags": []
          },
          "execution_count": 21
        }
      ]
    },
    {
      "metadata": {
        "id": "T-GAIfxUt0za",
        "colab_type": "code",
        "colab": {
          "base_uri": "https://localhost:8080/",
          "height": 56
        },
        "outputId": "02051ff7-f1fe-4435-daff-f5da7901cc9e"
      },
      "cell_type": "code",
      "source": [
        "sample_content = petitions['content'][sample_index]\n",
        "sample_content"
      ],
      "execution_count": 22,
      "outputs": [
        {
          "output_type": "execute_result",
          "data": {
            "text/plain": [
              "'안녕하십니까? 대통령님 간단하게 제소개 부터 하겠습니다. 저는 치위생과 3학년 학생입니다. 다름이 아니라 너무 억울한\\\\n일이 생겨  이렇게 글을 적어봅니다. 저희 3학년들은 올해 아주 중요한 시험이  있었습니다.3년동안 힘들게 고생하여 이제곧\\\\n끝난다.조금만 힘을내자 라는 생각으로 견뎌내고 있었는데 갑자기 어제 과 단톡방의  이내용이 사실이냐면서 한장의 사진을\\\\n보내주었습니다. 그사진은 국시원에서 올린 공지글을 캡쳐한 사진이였습니다.국시원에서 국가고시 날짜가 변경 되었다.\\\\n그러니 이글을  널리퍼트려줘라라는 의미를 가진 내용이였습니다. 그내용을 읽고 너무 황당하고 어이가 없어서 국시원쪽으로 전화를 해보니 자신들은 어쩔수없었다 나라에서 그날 공무원 시험을 봐야한다 하루의 2번 국시를 볼수없다\\\\n그래서 자신들과 보건복지부에서  다시 날짜를 정했는데 그날이 내년 18년 1월 5일이다 라는것입니다.\\\\n그 말을  듣고 더욱 이해할수가 없었습니다. 먼저 그날 시험을 보기로한 국시생은 저희였는데 갑자기 아무런 말도 문자도\\\\n없고 그공지글도 그냥 통보였습니다. 국가에서보는 시험이 일반 초중고 수행평가도 아니고 갑자기 이런식으로  바뀐다는게\\\\n말이 됩니까? 고등학생들이 보는 모의고사,수능도 이런식으로  변경 하지않습니다.  통보로 날짜를 변경하는건  저희\\\\n에비 의료기사들을 무시하는걸로 보입니다. 저희학교 교수님들은 학생들에게 자부심을 가져라 치과위생사라는 직업을 아끼고 사랑하고 자부심을 가져도 되는 직업이니깐  당당 해져도 괜찮다고  말씀하셨습니다. 하지만 저는  그러지 못할꺼같습니다.  아마 저뿐만이아니라 마음 학생들도 자존심도 낮아지고 무시받는다고 생각했을것입니다.\\\\n17년 12월16일날의 시험을 봐야하는  국시생들은 저희 예비 치과위생사들 입니다. 공무원 시험이 갑자기 잡혀서  봐야한다면 다른날로 정하는게 맞지않을까요? 먼저 그날의 시험을 보기로 한 학생들은 저희입니다\\\\n왜 갑자기 저희가 양보해야하고  피해를봐야합니까?  저희국시 앞으로 4달남은상태였고 지금 많은 학생들이 지쳐지만\\\\n12월만 참으면 된다 라는 생각으로  견딘 학생들에게는 1월에 본다는 통보는 너무 가혹합니다.\\\\n제발  원래대로12월 16일날 국시를 볼수 있도록  도와주세요  제발 다시 정정 해주세요.\\\\n부탁드립니다.\\\\n꼭  끝까지  읽어보셨으면 좋겠습니다.'"
            ]
          },
          "metadata": {
            "tags": []
          },
          "execution_count": 22
        }
      ]
    },
    {
      "metadata": {
        "id": "z3HWXdrYt0zc",
        "colab_type": "text"
      },
      "cell_type": "markdown",
      "source": [
        "# 전처리 하기 "
      ]
    },
    {
      "metadata": {
        "id": "COgoYusHt0zd",
        "colab_type": "code",
        "colab": {}
      },
      "cell_type": "code",
      "source": [
        "def preprocessing(text):\n",
        "    # 개행문자 제거\n",
        "    text= str(text)\n",
        "    text = re.sub('\\\\\\\\n', ' ', text)\n",
        "    # 특수문자 제거\n",
        "    # 특수문자나 이모티콘 등은 때로는 의미를 갖기도 하지만 여기에서는 제거했습니다.\n",
        "    # text = re.sub('[?.,;:|\\)*~`’!^\\-_+<>@\\#$%&-=#}※]', '', text)\n",
        "    # 한글, 영문, 숫자만 남기고 모두 제거하도록 합니다.\n",
        "    # text = re.sub('[^가-힣ㄱ-ㅎㅏ-ㅣa-zA-Z0-9]', ' ', text)\n",
        "    # 한글, 영문만 남기고 모두 제거하도록 합니다.\n",
        "    text = re.sub('[^가-힣ㄱ-ㅎㅏ-ㅣa-zA-Z]', ' ', text)\n",
        "    return text"
      ],
      "execution_count": 0,
      "outputs": []
    },
    {
      "metadata": {
        "id": "Wdomu75mt0zg",
        "colab_type": "code",
        "colab": {}
      },
      "cell_type": "code",
      "source": [
        "# 불용어 제거\n",
        "def remove_stopwords(text):\n",
        "    tokens = text.split(' ')\n",
        "    stops = ['수', '현', '있는', '있습니다', '그', '년도', '합니다', '하는', '및', '제', '할', '하고', '더', '대한', '한', '그리고', '월', '저는', '없는', '입니다', '등', '일', '많은', '이런', '것은', '왜','같은', '같습니다', '없습니다', '위해', '한다']\n",
        "    meaningful_words = [w for w in tokens if not w in stops]\n",
        "    return ' '.join(meaningful_words)"
      ],
      "execution_count": 0,
      "outputs": []
    },
    {
      "metadata": {
        "id": "dzBqqRz7t0zh",
        "colab_type": "code",
        "colab": {}
      },
      "cell_type": "code",
      "source": [
        "# 샘플데이터에 적용\n",
        "pre_sample_content = preprocessing(sample_content)"
      ],
      "execution_count": 0,
      "outputs": []
    },
    {
      "metadata": {
        "id": "95yMeIm1t0zj",
        "colab_type": "code",
        "colab": {}
      },
      "cell_type": "code",
      "source": [
        "pre_sample_content = remove_stopwords(pre_sample_content)"
      ],
      "execution_count": 0,
      "outputs": []
    },
    {
      "metadata": {
        "id": "BJfd8GDSt0zl",
        "colab_type": "code",
        "colab": {
          "base_uri": "https://localhost:8080/",
          "height": 56
        },
        "outputId": "b3cf74f0-c3b3-4bee-bbe8-957c1c4413b1"
      },
      "cell_type": "code",
      "source": [
        "pre_sample_content"
      ],
      "execution_count": 27,
      "outputs": [
        {
          "output_type": "execute_result",
          "data": {
            "text/plain": [
              "'안녕하십니까  대통령님 간단하게 제소개 부터 하겠습니다  치위생과  학년 학생입니다  다름이 아니라 너무 억울한 일이 생겨  이렇게 글을 적어봅니다  저희  학년들은 올해 아주 중요한 시험이  있었습니다  년동안 힘들게 고생하여 이제곧 끝난다 조금만 힘을내자 라는 생각으로 견뎌내고 있었는데 갑자기 어제 과 단톡방의  이내용이 사실이냐면서 한장의 사진을 보내주었습니다  그사진은 국시원에서 올린 공지글을 캡쳐한 사진이였습니다 국시원에서 국가고시 날짜가 변경 되었다  그러니 이글을  널리퍼트려줘라라는 의미를 가진 내용이였습니다  그내용을 읽고 너무 황당하고 어이가 없어서 국시원쪽으로 전화를 해보니 자신들은 어쩔수없었다 나라에서 그날 공무원 시험을 봐야한다 하루의  번 국시를 볼수없다 그래서 자신들과 보건복지부에서  다시 날짜를 정했는데 그날이 내년   년   일이다 라는것입니다  말을  듣고 더욱 이해할수가 없었습니다  먼저 그날 시험을 보기로한 국시생은 저희였는데 갑자기 아무런 말도 문자도 없고 그공지글도 그냥 통보였습니다  국가에서보는 시험이 일반 초중고 수행평가도 아니고 갑자기 이런식으로  바뀐다는게 말이 됩니까  고등학생들이 보는 모의고사 수능도 이런식으로  변경 하지않습니다   통보로 날짜를 변경하는건  저희 에비 의료기사들을 무시하는걸로 보입니다  저희학교 교수님들은 학생들에게 자부심을 가져라 치과위생사라는 직업을 아끼고 사랑하고 자부심을 가져도 되는 직업이니깐  당당 해져도 괜찮다고  말씀하셨습니다  하지만  그러지 못할꺼같습니다   아마 저뿐만이아니라 마음 학생들도 자존심도 낮아지고 무시받는다고 생각했을것입니다    년    일날의 시험을 봐야하는  국시생들은 저희 예비 치과위생사들  공무원 시험이 갑자기 잡혀서  봐야한다면 다른날로 정하는게 맞지않을까요  먼저 그날의 시험을 보기로 학생들은 저희입니다 갑자기 저희가 양보해야하고  피해를봐야합니까   저희국시 앞으로  달남은상태였고 지금 학생들이 지쳐지만   월만 참으면 된다 라는 생각으로  견딘 학생들에게는  월에 본다는 통보는 너무 가혹합니다  제발  원래대로    일날 국시를 볼수 있도록  도와주세요  제발 다시 정정 해주세요  부탁드립니다  꼭  끝까지  읽어보셨으면 좋겠습니다 '"
            ]
          },
          "metadata": {
            "tags": []
          },
          "execution_count": 27
        }
      ]
    },
    {
      "metadata": {
        "id": "7GZqVmQQt0zn",
        "colab_type": "code",
        "colab": {
          "base_uri": "https://localhost:8080/",
          "height": 55
        },
        "outputId": "d9628986-5c8a-4d93-d397-5484a01b3c8b"
      },
      "cell_type": "code",
      "source": [
        "%time df['content_preprocessing'] = df['content'].apply(preprocessing)"
      ],
      "execution_count": 28,
      "outputs": [
        {
          "output_type": "stream",
          "text": [
            "CPU times: user 134 ms, sys: 0 ns, total: 134 ms\n",
            "Wall time: 136 ms\n"
          ],
          "name": "stdout"
        }
      ]
    },
    {
      "metadata": {
        "id": "10tjDPZjt0zq",
        "colab_type": "code",
        "colab": {
          "base_uri": "https://localhost:8080/",
          "height": 55
        },
        "outputId": "d5780a06-46ad-44bc-9c4b-24a062bb6c30"
      },
      "cell_type": "code",
      "source": [
        "%time df['content_preprocessing2'] = df['content_preprocessing'].apply(remove_stopwords)"
      ],
      "execution_count": 29,
      "outputs": [
        {
          "output_type": "stream",
          "text": [
            "CPU times: user 306 ms, sys: 909 µs, total: 307 ms\n",
            "Wall time: 309 ms\n"
          ],
          "name": "stdout"
        }
      ]
    },
    {
      "metadata": {
        "id": "TW7ezgBFt0zs",
        "colab_type": "text"
      },
      "cell_type": "markdown",
      "source": [
        "# 학습세트와 테스트세트 만들기\n",
        "* 학습세트와 테스트세트를 7:3의 비율로 나눠 줍니다."
      ]
    },
    {
      "metadata": {
        "id": "bwmGTRmrt0zt",
        "colab_type": "code",
        "colab": {}
      },
      "cell_type": "code",
      "source": [
        "df = df.reindex()"
      ],
      "execution_count": 0,
      "outputs": []
    },
    {
      "metadata": {
        "id": "to53_TKAt0zw",
        "colab_type": "code",
        "colab": {
          "base_uri": "https://localhost:8080/",
          "height": 36
        },
        "outputId": "1614d19a-d2c2-4c0f-a340-dd225cb3ae8e"
      },
      "cell_type": "code",
      "source": [
        "df.shape"
      ],
      "execution_count": 31,
      "outputs": [
        {
          "output_type": "execute_result",
          "data": {
            "text/plain": [
              "(1785, 11)"
            ]
          },
          "metadata": {
            "tags": []
          },
          "execution_count": 31
        }
      ]
    },
    {
      "metadata": {
        "id": "yIIr4nu_t0zy",
        "colab_type": "code",
        "colab": {
          "base_uri": "https://localhost:8080/",
          "height": 36
        },
        "outputId": "b75d635b-dcbe-4f79-bde6-074a016d84bb"
      },
      "cell_type": "code",
      "source": [
        "split_count = int(df.shape[0] * 0.7)\n",
        "split_count"
      ],
      "execution_count": 32,
      "outputs": [
        {
          "output_type": "execute_result",
          "data": {
            "text/plain": [
              "1249"
            ]
          },
          "metadata": {
            "tags": []
          },
          "execution_count": 32
        }
      ]
    },
    {
      "metadata": {
        "id": "C53UGWANt0z0",
        "colab_type": "code",
        "colab": {
          "base_uri": "https://localhost:8080/",
          "height": 36
        },
        "outputId": "b22bcd8b-70d7-48ae-82a0-86f94a4baa49"
      },
      "cell_type": "code",
      "source": [
        "df_train = df[:split_count].copy()\n",
        "df_train.shape"
      ],
      "execution_count": 33,
      "outputs": [
        {
          "output_type": "execute_result",
          "data": {
            "text/plain": [
              "(1249, 11)"
            ]
          },
          "metadata": {
            "tags": []
          },
          "execution_count": 33
        }
      ]
    },
    {
      "metadata": {
        "id": "6964i_D_t0z5",
        "colab_type": "code",
        "colab": {
          "base_uri": "https://localhost:8080/",
          "height": 375
        },
        "outputId": "b73b464b-7bcc-4932-ff67-635c5d8ec570"
      },
      "cell_type": "code",
      "source": [
        "df_train.head()"
      ],
      "execution_count": 34,
      "outputs": [
        {
          "output_type": "execute_result",
          "data": {
            "text/html": [
              "<div>\n",
              "<style scoped>\n",
              "    .dataframe tbody tr th:only-of-type {\n",
              "        vertical-align: middle;\n",
              "    }\n",
              "\n",
              "    .dataframe tbody tr th {\n",
              "        vertical-align: top;\n",
              "    }\n",
              "\n",
              "    .dataframe thead th {\n",
              "        text-align: right;\n",
              "    }\n",
              "</style>\n",
              "<table border=\"1\" class=\"dataframe\">\n",
              "  <thead>\n",
              "    <tr style=\"text-align: right;\">\n",
              "      <th></th>\n",
              "      <th>article_id</th>\n",
              "      <th>start</th>\n",
              "      <th>end</th>\n",
              "      <th>answered</th>\n",
              "      <th>votes</th>\n",
              "      <th>category</th>\n",
              "      <th>title</th>\n",
              "      <th>content</th>\n",
              "      <th>category_pred</th>\n",
              "      <th>content_preprocessing</th>\n",
              "      <th>content_preprocessing2</th>\n",
              "    </tr>\n",
              "  </thead>\n",
              "  <tbody>\n",
              "    <tr>\n",
              "      <th>7</th>\n",
              "      <td>28</td>\n",
              "      <td>2017-08-19</td>\n",
              "      <td>2017-08-26</td>\n",
              "      <td>0</td>\n",
              "      <td>2137</td>\n",
              "      <td>경제민주화</td>\n",
              "      <td>소액주주를 보호해주십시오</td>\n",
              "      <td>**  존경하옵는 문재인대통령님께\\n저는 중국원양자원이라는 KOSPI상장사의 소액 ...</td>\n",
              "      <td>경제민주화</td>\n",
              "      <td>존경하옵는 문재인대통령님께 저는 중국원양자원이라는 KOSPI상장사의 소액 주...</td>\n",
              "      <td>존경하옵는 문재인대통령님께 중국원양자원이라는 KOSPI상장사의 소액 주주입니...</td>\n",
              "    </tr>\n",
              "    <tr>\n",
              "      <th>21</th>\n",
              "      <td>43</td>\n",
              "      <td>2017-08-19</td>\n",
              "      <td>2017-09-18</td>\n",
              "      <td>0</td>\n",
              "      <td>11293</td>\n",
              "      <td>육아/교육</td>\n",
              "      <td>기간제 교사의 정규직화를 반대합니다.</td>\n",
              "      <td>대통령님, 안녕하세요. 저는 임용을 준비하고 수험생입니다. 처음 기간제 정규직화 된...</td>\n",
              "      <td>육아/교육</td>\n",
              "      <td>대통령님  안녕하세요  저는 임용을 준비하고 수험생입니다  처음 기간제 정규직화 된...</td>\n",
              "      <td>대통령님  안녕하세요  임용을 준비하고 수험생입니다  처음 기간제 정규직화 된다고 ...</td>\n",
              "    </tr>\n",
              "    <tr>\n",
              "      <th>24</th>\n",
              "      <td>46</td>\n",
              "      <td>2017-08-19</td>\n",
              "      <td>2017-09-18</td>\n",
              "      <td>0</td>\n",
              "      <td>1933</td>\n",
              "      <td>육아/교육</td>\n",
              "      <td>기간제교사의 정규직화를 반대합니다.</td>\n",
              "      <td>대통령님, 안녕하세요. 저는 임용을 준비하고 수험생입니다. 처음 기간제 정규직화 된...</td>\n",
              "      <td>육아/교육</td>\n",
              "      <td>대통령님  안녕하세요  저는 임용을 준비하고 수험생입니다  처음 기간제 정규직화 된...</td>\n",
              "      <td>대통령님  안녕하세요  임용을 준비하고 수험생입니다  처음 기간제 정규직화 된다고 ...</td>\n",
              "    </tr>\n",
              "    <tr>\n",
              "      <th>28</th>\n",
              "      <td>50</td>\n",
              "      <td>2017-08-19</td>\n",
              "      <td>2017-10-18</td>\n",
              "      <td>0</td>\n",
              "      <td>1251</td>\n",
              "      <td>일자리</td>\n",
              "      <td>치과위생사 국가고시 날짜 변경 억울합니다</td>\n",
              "      <td>안녕하십니까? 대통령님 간단하게 제소개 부터 하겠습니다. 저는 치위생과 3학년 학생...</td>\n",
              "      <td>일자리</td>\n",
              "      <td>안녕하십니까  대통령님 간단하게 제소개 부터 하겠습니다  저는 치위생과  학년 학생...</td>\n",
              "      <td>안녕하십니까  대통령님 간단하게 제소개 부터 하겠습니다  치위생과  학년 학생입니다...</td>\n",
              "    </tr>\n",
              "    <tr>\n",
              "      <th>38</th>\n",
              "      <td>61</td>\n",
              "      <td>2017-08-19</td>\n",
              "      <td>2017-08-26</td>\n",
              "      <td>0</td>\n",
              "      <td>1185</td>\n",
              "      <td>일자리</td>\n",
              "      <td>영어회화전문강사제도는 유지되어야합니다.</td>\n",
              "      <td>1. 영전강의고용안정을 원합니다\\n2.1년단위계약직으로 임신 출산육아 매우 곤란합니...</td>\n",
              "      <td>일자리</td>\n",
              "      <td>영전강의고용안정을 원합니다    년단위계약직으로 임신 출산육아 매우 곤란합니다...</td>\n",
              "      <td>영전강의고용안정을 원합니다    년단위계약직으로 임신 출산육아 매우 곤란합니다...</td>\n",
              "    </tr>\n",
              "  </tbody>\n",
              "</table>\n",
              "</div>"
            ],
            "text/plain": [
              "    article_id      start        end  answered  votes category  \\\n",
              "7           28 2017-08-19 2017-08-26         0   2137    경제민주화   \n",
              "21          43 2017-08-19 2017-09-18         0  11293    육아/교육   \n",
              "24          46 2017-08-19 2017-09-18         0   1933    육아/교육   \n",
              "28          50 2017-08-19 2017-10-18         0   1251      일자리   \n",
              "38          61 2017-08-19 2017-08-26         0   1185      일자리   \n",
              "\n",
              "                     title                                            content  \\\n",
              "7            소액주주를 보호해주십시오  **  존경하옵는 문재인대통령님께\\n저는 중국원양자원이라는 KOSPI상장사의 소액 ...   \n",
              "21    기간제 교사의 정규직화를 반대합니다.  대통령님, 안녕하세요. 저는 임용을 준비하고 수험생입니다. 처음 기간제 정규직화 된...   \n",
              "24     기간제교사의 정규직화를 반대합니다.  대통령님, 안녕하세요. 저는 임용을 준비하고 수험생입니다. 처음 기간제 정규직화 된...   \n",
              "28  치과위생사 국가고시 날짜 변경 억울합니다  안녕하십니까? 대통령님 간단하게 제소개 부터 하겠습니다. 저는 치위생과 3학년 학생...   \n",
              "38   영어회화전문강사제도는 유지되어야합니다.  1. 영전강의고용안정을 원합니다\\n2.1년단위계약직으로 임신 출산육아 매우 곤란합니...   \n",
              "\n",
              "   category_pred                              content_preprocessing  \\\n",
              "7          경제민주화      존경하옵는 문재인대통령님께 저는 중국원양자원이라는 KOSPI상장사의 소액 주...   \n",
              "21         육아/교육  대통령님  안녕하세요  저는 임용을 준비하고 수험생입니다  처음 기간제 정규직화 된...   \n",
              "24         육아/교육  대통령님  안녕하세요  저는 임용을 준비하고 수험생입니다  처음 기간제 정규직화 된...   \n",
              "28           일자리  안녕하십니까  대통령님 간단하게 제소개 부터 하겠습니다  저는 치위생과  학년 학생...   \n",
              "38           일자리     영전강의고용안정을 원합니다    년단위계약직으로 임신 출산육아 매우 곤란합니다...   \n",
              "\n",
              "                               content_preprocessing2  \n",
              "7       존경하옵는 문재인대통령님께 중국원양자원이라는 KOSPI상장사의 소액 주주입니...  \n",
              "21  대통령님  안녕하세요  임용을 준비하고 수험생입니다  처음 기간제 정규직화 된다고 ...  \n",
              "24  대통령님  안녕하세요  임용을 준비하고 수험생입니다  처음 기간제 정규직화 된다고 ...  \n",
              "28  안녕하십니까  대통령님 간단하게 제소개 부터 하겠습니다  치위생과  학년 학생입니다...  \n",
              "38     영전강의고용안정을 원합니다    년단위계약직으로 임신 출산육아 매우 곤란합니다...  "
            ]
          },
          "metadata": {
            "tags": []
          },
          "execution_count": 34
        }
      ]
    },
    {
      "metadata": {
        "id": "Z_yGqh8gt0z9",
        "colab_type": "code",
        "colab": {
          "base_uri": "https://localhost:8080/",
          "height": 36
        },
        "outputId": "056cac40-4495-43bb-e0bb-c0877719a505"
      },
      "cell_type": "code",
      "source": [
        "df_test = df[split_count:].copy()\n",
        "df_test.shape"
      ],
      "execution_count": 35,
      "outputs": [
        {
          "output_type": "execute_result",
          "data": {
            "text/plain": [
              "(536, 11)"
            ]
          },
          "metadata": {
            "tags": []
          },
          "execution_count": 35
        }
      ]
    },
    {
      "metadata": {
        "id": "ALV6WLqIt00B",
        "colab_type": "code",
        "colab": {
          "base_uri": "https://localhost:8080/",
          "height": 462
        },
        "outputId": "a9440a5a-e329-4863-b2fb-7e37d464a55b"
      },
      "cell_type": "code",
      "source": [
        "df_test.head()"
      ],
      "execution_count": 36,
      "outputs": [
        {
          "output_type": "execute_result",
          "data": {
            "text/html": [
              "<div>\n",
              "<style scoped>\n",
              "    .dataframe tbody tr th:only-of-type {\n",
              "        vertical-align: middle;\n",
              "    }\n",
              "\n",
              "    .dataframe tbody tr th {\n",
              "        vertical-align: top;\n",
              "    }\n",
              "\n",
              "    .dataframe thead th {\n",
              "        text-align: right;\n",
              "    }\n",
              "</style>\n",
              "<table border=\"1\" class=\"dataframe\">\n",
              "  <thead>\n",
              "    <tr style=\"text-align: right;\">\n",
              "      <th></th>\n",
              "      <th>article_id</th>\n",
              "      <th>start</th>\n",
              "      <th>end</th>\n",
              "      <th>answered</th>\n",
              "      <th>votes</th>\n",
              "      <th>category</th>\n",
              "      <th>title</th>\n",
              "      <th>content</th>\n",
              "      <th>category_pred</th>\n",
              "      <th>content_preprocessing</th>\n",
              "      <th>content_preprocessing2</th>\n",
              "    </tr>\n",
              "  </thead>\n",
              "  <tbody>\n",
              "    <tr>\n",
              "      <th>159074</th>\n",
              "      <td>195181</td>\n",
              "      <td>2018-04-11</td>\n",
              "      <td>2018-05-11</td>\n",
              "      <td>0</td>\n",
              "      <td>1033</td>\n",
              "      <td>경제민주화</td>\n",
              "      <td>삼성재벌의 노조탄압 진상조사를 위한 청문회개최를 청원합니다.</td>\n",
              "      <td>삼성전자서비스 노조설립 방해에 항의농성중 자살한 노조원의\\n죽음을 둘러싼 의혹에 대...</td>\n",
              "      <td>경제민주화</td>\n",
              "      <td>삼성전자서비스 노조설립 방해에 항의농성중 자살한 노조원의 죽음을 둘러싼 의혹에 대하...</td>\n",
              "      <td>삼성전자서비스 노조설립 방해에 항의농성중 자살한 노조원의 죽음을 둘러싼 의혹에 대하...</td>\n",
              "    </tr>\n",
              "    <tr>\n",
              "      <th>159216</th>\n",
              "      <td>195377</td>\n",
              "      <td>2018-04-11</td>\n",
              "      <td>2018-05-11</td>\n",
              "      <td>0</td>\n",
              "      <td>1508</td>\n",
              "      <td>보건복지</td>\n",
              "      <td>외국인영주권자 처우 및 복지혜택 개선 관련 청원  取得永住权的在韩外国人待遇\u000b及福利改...</td>\n",
              "      <td>알고 계시나요? 대한민국의 외국인 영주권 납세자 아동 및 노인을 복지 혜택이 없는 ...</td>\n",
              "      <td>보건복지</td>\n",
              "      <td>알고 계시나요  대한민국의 외국인 영주권 납세자 아동 및 노인을 복지 혜택이 없는 ...</td>\n",
              "      <td>알고 계시나요  대한민국의 외국인 영주권 납세자 아동 노인을 복지 혜택이 사실  영...</td>\n",
              "    </tr>\n",
              "    <tr>\n",
              "      <th>159218</th>\n",
              "      <td>195379</td>\n",
              "      <td>2018-04-11</td>\n",
              "      <td>2018-05-11</td>\n",
              "      <td>0</td>\n",
              "      <td>1958</td>\n",
              "      <td>안전/환경</td>\n",
              "      <td>퍼스널모빌리티 자전거도로 이용</td>\n",
              "      <td>현재 전동킥보드를 이용하여 출퇴근을 하고 있습니다.\\n오늘 자전거도로 출근도중 관할...</td>\n",
              "      <td>안전/환경</td>\n",
              "      <td>현재 전동킥보드를 이용하여 출퇴근을 하고 있습니다  오늘 자전거도로 출근도중 관할 ...</td>\n",
              "      <td>현재 전동킥보드를 이용하여 출퇴근을  오늘 자전거도로 출근도중 관할 경찰서 지구대의...</td>\n",
              "    </tr>\n",
              "    <tr>\n",
              "      <th>159505</th>\n",
              "      <td>195778</td>\n",
              "      <td>2018-04-11</td>\n",
              "      <td>2018-05-11</td>\n",
              "      <td>0</td>\n",
              "      <td>4518</td>\n",
              "      <td>행정</td>\n",
              "      <td>이단사이비단체로부터 안전한 대한민국에서 살고 싶습니다.</td>\n",
              "      <td>안녕하세요 저는 김포시에 거주중인 30대초반의 가장입니다.\\n제가 이렇게 청원을 드...</td>\n",
              "      <td>행정</td>\n",
              "      <td>안녕하세요 저는 김포시에 거주중인   대초반의 가장입니다  제가 이렇게 청원을 드리...</td>\n",
              "      <td>안녕하세요 김포시에 거주중인   대초반의 가장입니다  제가 이렇게 청원을 드리게된 ...</td>\n",
              "    </tr>\n",
              "    <tr>\n",
              "      <th>159650</th>\n",
              "      <td>195997</td>\n",
              "      <td>2018-04-11</td>\n",
              "      <td>2018-05-11</td>\n",
              "      <td>0</td>\n",
              "      <td>1471</td>\n",
              "      <td>보건복지</td>\n",
              "      <td>생리대 무상보급을 요구합니다</td>\n",
              "      <td>생리대는 여성의 필수불가결한 물품입니다.\\n약 11세~50세까지 한 달에 한 번 3...</td>\n",
              "      <td>보건복지</td>\n",
              "      <td>생리대는 여성의 필수불가결한 물품입니다  약   세   세까지 한 달에 한 번   ...</td>\n",
              "      <td>생리대는 여성의 필수불가결한 물품입니다  약   세   세까지 달에 번    일을 ...</td>\n",
              "    </tr>\n",
              "  </tbody>\n",
              "</table>\n",
              "</div>"
            ],
            "text/plain": [
              "        article_id      start        end  answered  votes category  \\\n",
              "159074      195181 2018-04-11 2018-05-11         0   1033    경제민주화   \n",
              "159216      195377 2018-04-11 2018-05-11         0   1508     보건복지   \n",
              "159218      195379 2018-04-11 2018-05-11         0   1958    안전/환경   \n",
              "159505      195778 2018-04-11 2018-05-11         0   4518       행정   \n",
              "159650      195997 2018-04-11 2018-05-11         0   1471     보건복지   \n",
              "\n",
              "                                                    title  \\\n",
              "159074                  삼성재벌의 노조탄압 진상조사를 위한 청문회개최를 청원합니다.   \n",
              "159216  외국인영주권자 처우 및 복지혜택 개선 관련 청원  取得永住权的在韩外国人待遇\n",
              "及福利改...   \n",
              "159218                                   퍼스널모빌리티 자전거도로 이용   \n",
              "159505                     이단사이비단체로부터 안전한 대한민국에서 살고 싶습니다.   \n",
              "159650                                    생리대 무상보급을 요구합니다   \n",
              "\n",
              "                                                  content category_pred  \\\n",
              "159074  삼성전자서비스 노조설립 방해에 항의농성중 자살한 노조원의\\n죽음을 둘러싼 의혹에 대...         경제민주화   \n",
              "159216  알고 계시나요? 대한민국의 외국인 영주권 납세자 아동 및 노인을 복지 혜택이 없는 ...          보건복지   \n",
              "159218  현재 전동킥보드를 이용하여 출퇴근을 하고 있습니다.\\n오늘 자전거도로 출근도중 관할...         안전/환경   \n",
              "159505  안녕하세요 저는 김포시에 거주중인 30대초반의 가장입니다.\\n제가 이렇게 청원을 드...            행정   \n",
              "159650  생리대는 여성의 필수불가결한 물품입니다.\\n약 11세~50세까지 한 달에 한 번 3...          보건복지   \n",
              "\n",
              "                                    content_preprocessing  \\\n",
              "159074  삼성전자서비스 노조설립 방해에 항의농성중 자살한 노조원의 죽음을 둘러싼 의혹에 대하...   \n",
              "159216  알고 계시나요  대한민국의 외국인 영주권 납세자 아동 및 노인을 복지 혜택이 없는 ...   \n",
              "159218  현재 전동킥보드를 이용하여 출퇴근을 하고 있습니다  오늘 자전거도로 출근도중 관할 ...   \n",
              "159505  안녕하세요 저는 김포시에 거주중인   대초반의 가장입니다  제가 이렇게 청원을 드리...   \n",
              "159650  생리대는 여성의 필수불가결한 물품입니다  약   세   세까지 한 달에 한 번   ...   \n",
              "\n",
              "                                   content_preprocessing2  \n",
              "159074  삼성전자서비스 노조설립 방해에 항의농성중 자살한 노조원의 죽음을 둘러싼 의혹에 대하...  \n",
              "159216  알고 계시나요  대한민국의 외국인 영주권 납세자 아동 노인을 복지 혜택이 사실  영...  \n",
              "159218  현재 전동킥보드를 이용하여 출퇴근을  오늘 자전거도로 출근도중 관할 경찰서 지구대의...  \n",
              "159505  안녕하세요 김포시에 거주중인   대초반의 가장입니다  제가 이렇게 청원을 드리게된 ...  \n",
              "159650  생리대는 여성의 필수불가결한 물품입니다  약   세   세까지 달에 번    일을 ...  "
            ]
          },
          "metadata": {
            "tags": []
          },
          "execution_count": 36
        }
      ]
    },
    {
      "metadata": {
        "id": "iXQ4-fp8t00F",
        "colab_type": "text"
      },
      "cell_type": "markdown",
      "source": [
        "## 카테고리 "
      ]
    },
    {
      "metadata": {
        "id": "l17Ky-xOt00F",
        "colab_type": "code",
        "colab": {
          "base_uri": "https://localhost:8080/",
          "height": 570
        },
        "outputId": "441e0ac3-f284-4e23-bec2-40775118a93e"
      },
      "cell_type": "code",
      "source": [
        "df_train_category_value = pd.DataFrame(df_train['category'].value_counts())\n",
        "df_train_category_percent = pd.DataFrame(df_train['category'].value_counts(normalize=True))\n",
        "df_train_category_value.merge(df_train_category_percent, left_index=True, right_index=True)"
      ],
      "execution_count": 37,
      "outputs": [
        {
          "output_type": "execute_result",
          "data": {
            "text/html": [
              "<div>\n",
              "<style scoped>\n",
              "    .dataframe tbody tr th:only-of-type {\n",
              "        vertical-align: middle;\n",
              "    }\n",
              "\n",
              "    .dataframe tbody tr th {\n",
              "        vertical-align: top;\n",
              "    }\n",
              "\n",
              "    .dataframe thead th {\n",
              "        text-align: right;\n",
              "    }\n",
              "</style>\n",
              "<table border=\"1\" class=\"dataframe\">\n",
              "  <thead>\n",
              "    <tr style=\"text-align: right;\">\n",
              "      <th></th>\n",
              "      <th>category_x</th>\n",
              "      <th>category_y</th>\n",
              "    </tr>\n",
              "  </thead>\n",
              "  <tbody>\n",
              "    <tr>\n",
              "      <th>보건복지</th>\n",
              "      <td>145</td>\n",
              "      <td>0.116093</td>\n",
              "    </tr>\n",
              "    <tr>\n",
              "      <th>인권/성평등</th>\n",
              "      <td>140</td>\n",
              "      <td>0.112090</td>\n",
              "    </tr>\n",
              "    <tr>\n",
              "      <th>육아/교육</th>\n",
              "      <td>132</td>\n",
              "      <td>0.105685</td>\n",
              "    </tr>\n",
              "    <tr>\n",
              "      <th>안전/환경</th>\n",
              "      <td>120</td>\n",
              "      <td>0.096077</td>\n",
              "    </tr>\n",
              "    <tr>\n",
              "      <th>정치개혁</th>\n",
              "      <td>105</td>\n",
              "      <td>0.084067</td>\n",
              "    </tr>\n",
              "    <tr>\n",
              "      <th>문화/예술/체육/언론</th>\n",
              "      <td>104</td>\n",
              "      <td>0.083267</td>\n",
              "    </tr>\n",
              "    <tr>\n",
              "      <th>교통/건축/국토</th>\n",
              "      <td>92</td>\n",
              "      <td>0.073659</td>\n",
              "    </tr>\n",
              "    <tr>\n",
              "      <th>기타</th>\n",
              "      <td>90</td>\n",
              "      <td>0.072058</td>\n",
              "    </tr>\n",
              "    <tr>\n",
              "      <th>일자리</th>\n",
              "      <td>62</td>\n",
              "      <td>0.049640</td>\n",
              "    </tr>\n",
              "    <tr>\n",
              "      <th>행정</th>\n",
              "      <td>57</td>\n",
              "      <td>0.045637</td>\n",
              "    </tr>\n",
              "    <tr>\n",
              "      <th>외교/통일/국방</th>\n",
              "      <td>53</td>\n",
              "      <td>0.042434</td>\n",
              "    </tr>\n",
              "    <tr>\n",
              "      <th>반려동물</th>\n",
              "      <td>46</td>\n",
              "      <td>0.036829</td>\n",
              "    </tr>\n",
              "    <tr>\n",
              "      <th>경제민주화</th>\n",
              "      <td>44</td>\n",
              "      <td>0.035228</td>\n",
              "    </tr>\n",
              "    <tr>\n",
              "      <th>미래</th>\n",
              "      <td>26</td>\n",
              "      <td>0.020817</td>\n",
              "    </tr>\n",
              "    <tr>\n",
              "      <th>성장동력</th>\n",
              "      <td>14</td>\n",
              "      <td>0.011209</td>\n",
              "    </tr>\n",
              "    <tr>\n",
              "      <th>저출산/고령화대책</th>\n",
              "      <td>10</td>\n",
              "      <td>0.008006</td>\n",
              "    </tr>\n",
              "    <tr>\n",
              "      <th>농산어촌</th>\n",
              "      <td>9</td>\n",
              "      <td>0.007206</td>\n",
              "    </tr>\n",
              "  </tbody>\n",
              "</table>\n",
              "</div>"
            ],
            "text/plain": [
              "             category_x  category_y\n",
              "보건복지                145    0.116093\n",
              "인권/성평등              140    0.112090\n",
              "육아/교육               132    0.105685\n",
              "안전/환경               120    0.096077\n",
              "정치개혁                105    0.084067\n",
              "문화/예술/체육/언론         104    0.083267\n",
              "교통/건축/국토             92    0.073659\n",
              "기타                   90    0.072058\n",
              "일자리                  62    0.049640\n",
              "행정                   57    0.045637\n",
              "외교/통일/국방             53    0.042434\n",
              "반려동물                 46    0.036829\n",
              "경제민주화                44    0.035228\n",
              "미래                   26    0.020817\n",
              "성장동력                 14    0.011209\n",
              "저출산/고령화대책            10    0.008006\n",
              "농산어촌                  9    0.007206"
            ]
          },
          "metadata": {
            "tags": []
          },
          "execution_count": 37
        }
      ]
    },
    {
      "metadata": {
        "id": "Ejqr2j0Rt00I",
        "colab_type": "code",
        "colab": {
          "base_uri": "https://localhost:8080/",
          "height": 570
        },
        "outputId": "2f6126df-f403-4c0d-b186-8e9855c305c9"
      },
      "cell_type": "code",
      "source": [
        "df_test_category_value = pd.DataFrame(df_test['category'].value_counts())\n",
        "df_test_category_percent = pd.DataFrame(df_test['category'].value_counts(normalize=True))\n",
        "df_test_category_value.merge(df_test_category_percent, left_index=True, right_index=True)"
      ],
      "execution_count": 38,
      "outputs": [
        {
          "output_type": "execute_result",
          "data": {
            "text/html": [
              "<div>\n",
              "<style scoped>\n",
              "    .dataframe tbody tr th:only-of-type {\n",
              "        vertical-align: middle;\n",
              "    }\n",
              "\n",
              "    .dataframe tbody tr th {\n",
              "        vertical-align: top;\n",
              "    }\n",
              "\n",
              "    .dataframe thead th {\n",
              "        text-align: right;\n",
              "    }\n",
              "</style>\n",
              "<table border=\"1\" class=\"dataframe\">\n",
              "  <thead>\n",
              "    <tr style=\"text-align: right;\">\n",
              "      <th></th>\n",
              "      <th>category_x</th>\n",
              "      <th>category_y</th>\n",
              "    </tr>\n",
              "  </thead>\n",
              "  <tbody>\n",
              "    <tr>\n",
              "      <th>인권/성평등</th>\n",
              "      <td>91</td>\n",
              "      <td>0.169776</td>\n",
              "    </tr>\n",
              "    <tr>\n",
              "      <th>정치개혁</th>\n",
              "      <td>61</td>\n",
              "      <td>0.113806</td>\n",
              "    </tr>\n",
              "    <tr>\n",
              "      <th>안전/환경</th>\n",
              "      <td>51</td>\n",
              "      <td>0.095149</td>\n",
              "    </tr>\n",
              "    <tr>\n",
              "      <th>기타</th>\n",
              "      <td>49</td>\n",
              "      <td>0.091418</td>\n",
              "    </tr>\n",
              "    <tr>\n",
              "      <th>육아/교육</th>\n",
              "      <td>47</td>\n",
              "      <td>0.087687</td>\n",
              "    </tr>\n",
              "    <tr>\n",
              "      <th>보건복지</th>\n",
              "      <td>43</td>\n",
              "      <td>0.080224</td>\n",
              "    </tr>\n",
              "    <tr>\n",
              "      <th>교통/건축/국토</th>\n",
              "      <td>39</td>\n",
              "      <td>0.072761</td>\n",
              "    </tr>\n",
              "    <tr>\n",
              "      <th>행정</th>\n",
              "      <td>32</td>\n",
              "      <td>0.059701</td>\n",
              "    </tr>\n",
              "    <tr>\n",
              "      <th>문화/예술/체육/언론</th>\n",
              "      <td>24</td>\n",
              "      <td>0.044776</td>\n",
              "    </tr>\n",
              "    <tr>\n",
              "      <th>반려동물</th>\n",
              "      <td>23</td>\n",
              "      <td>0.042910</td>\n",
              "    </tr>\n",
              "    <tr>\n",
              "      <th>경제민주화</th>\n",
              "      <td>23</td>\n",
              "      <td>0.042910</td>\n",
              "    </tr>\n",
              "    <tr>\n",
              "      <th>일자리</th>\n",
              "      <td>21</td>\n",
              "      <td>0.039179</td>\n",
              "    </tr>\n",
              "    <tr>\n",
              "      <th>외교/통일/국방</th>\n",
              "      <td>19</td>\n",
              "      <td>0.035448</td>\n",
              "    </tr>\n",
              "    <tr>\n",
              "      <th>저출산/고령화대책</th>\n",
              "      <td>4</td>\n",
              "      <td>0.007463</td>\n",
              "    </tr>\n",
              "    <tr>\n",
              "      <th>성장동력</th>\n",
              "      <td>4</td>\n",
              "      <td>0.007463</td>\n",
              "    </tr>\n",
              "    <tr>\n",
              "      <th>미래</th>\n",
              "      <td>3</td>\n",
              "      <td>0.005597</td>\n",
              "    </tr>\n",
              "    <tr>\n",
              "      <th>농산어촌</th>\n",
              "      <td>2</td>\n",
              "      <td>0.003731</td>\n",
              "    </tr>\n",
              "  </tbody>\n",
              "</table>\n",
              "</div>"
            ],
            "text/plain": [
              "             category_x  category_y\n",
              "인권/성평등               91    0.169776\n",
              "정치개혁                 61    0.113806\n",
              "안전/환경                51    0.095149\n",
              "기타                   49    0.091418\n",
              "육아/교육                47    0.087687\n",
              "보건복지                 43    0.080224\n",
              "교통/건축/국토             39    0.072761\n",
              "행정                   32    0.059701\n",
              "문화/예술/체육/언론          24    0.044776\n",
              "반려동물                 23    0.042910\n",
              "경제민주화                23    0.042910\n",
              "일자리                  21    0.039179\n",
              "외교/통일/국방             19    0.035448\n",
              "저출산/고령화대책             4    0.007463\n",
              "성장동력                  4    0.007463\n",
              "미래                    3    0.005597\n",
              "농산어촌                  2    0.003731"
            ]
          },
          "metadata": {
            "tags": []
          },
          "execution_count": 38
        }
      ]
    },
    {
      "metadata": {
        "id": "-z-keU8zt00K",
        "colab_type": "code",
        "colab": {
          "base_uri": "https://localhost:8080/",
          "height": 588
        },
        "outputId": "e2cdcf18-7bb6-4190-88b2-6bc6ef4ad2e6"
      },
      "cell_type": "code",
      "source": [
        "df_train_category_value.plot(kind='bar')\n",
        "df_test_category_value.plot(kind='bar')"
      ],
      "execution_count": 39,
      "outputs": [
        {
          "output_type": "execute_result",
          "data": {
            "text/plain": [
              "<matplotlib.axes._subplots.AxesSubplot at 0x7fa7258a5c18>"
            ]
          },
          "metadata": {
            "tags": []
          },
          "execution_count": 39
        },
        {
          "output_type": "display_data",
          "data": {
            "image/png": "[encoded data removed]",
            "text/plain": [
              "<matplotlib.figure.Figure at 0x7fa725570400>"
            ]
          },
          "metadata": {
            "tags": []
          }
        },
        {
          "output_type": "display_data",
          "data": {
            "image/png": "[encoded data removed]",
            "text/plain": [
              "<matplotlib.figure.Figure at 0x7fa7262c9518>"
            ]
          },
          "metadata": {
            "tags": []
          }
        }
      ]
    },
    {
      "metadata": {
        "id": "lXbYgIwzt00M",
        "colab_type": "text"
      },
      "cell_type": "markdown",
      "source": [
        "# 단어 벡터화 하기"
      ]
    },
    {
      "metadata": {
        "id": "A8wDI1vht00M",
        "colab_type": "code",
        "colab": {
          "base_uri": "https://localhost:8080/",
          "height": 129
        },
        "outputId": "e4cf7114-c77c-4edf-c64d-58b868f3e505"
      },
      "cell_type": "code",
      "source": [
        "from sklearn.feature_extraction.text import CountVectorizer\n",
        "\n",
        "vectorizer = CountVectorizer(analyzer = 'word', # 캐릭터 단위로 벡터화 할 수도 있습니다.\n",
        "                             tokenizer = None, # 토크나이저를 따로 지정해 줄 수도 있습니다.\n",
        "                             preprocessor = None, # 전처리 도구\n",
        "                             stop_words = None, # 불용어 nltk등의 도구를 사용할 수도 있습니다.\n",
        "                             min_df = 2, # 토큰이 나타날 최소 문서 개수로 오타나 자주 나오지 않는 특수한 전문용어 제거에 좋다. \n",
        "                             ngram_range=(1, 3), # BOW의 단위를 1~3개로 지정합니다.\n",
        "                             max_features = 2000 # 만들 피처의 수, 단어의 수가 된다.\n",
        "                            )\n",
        "vectorizer"
      ],
      "execution_count": 40,
      "outputs": [
        {
          "output_type": "execute_result",
          "data": {
            "text/plain": [
              "CountVectorizer(analyzer='word', binary=False, decode_error='strict',\n",
              "        dtype=<class 'numpy.int64'>, encoding='utf-8', input='content',\n",
              "        lowercase=True, max_df=1.0, max_features=2000, min_df=2,\n",
              "        ngram_range=(1, 3), preprocessor=None, stop_words=None,\n",
              "        strip_accents=None, token_pattern='(?u)\\\\b\\\\w\\\\w+\\\\b',\n",
              "        tokenizer=None, vocabulary=None)"
            ]
          },
          "metadata": {
            "tags": []
          },
          "execution_count": 40
        }
      ]
    },
    {
      "metadata": {
        "id": "DbyBKIFEt00P",
        "colab_type": "code",
        "colab": {
          "base_uri": "https://localhost:8080/",
          "height": 55
        },
        "outputId": "1e710592-e4c6-4bf6-9bb6-63f089a1e39e"
      },
      "cell_type": "code",
      "source": [
        "%%time \n",
        "train_feature_vector = vectorizer.fit_transform(df_train['content_preprocessing2'])\n",
        "train_feature_vector.shape"
      ],
      "execution_count": 41,
      "outputs": [
        {
          "output_type": "stream",
          "text": [
            "CPU times: user 4.18 s, sys: 128 ms, total: 4.3 s\n",
            "Wall time: 4.31 s\n"
          ],
          "name": "stdout"
        }
      ]
    },
    {
      "metadata": {
        "id": "XqPkzrgWt00R",
        "colab_type": "code",
        "colab": {
          "base_uri": "https://localhost:8080/",
          "height": 55
        },
        "outputId": "0ba0b731-9e76-4143-82e4-7f1d28083167"
      },
      "cell_type": "code",
      "source": [
        "%%time \n",
        "test_feature_vector = vectorizer.fit_transform(df_test['content_preprocessing2'])\n",
        "test_feature_vector.shape"
      ],
      "execution_count": 42,
      "outputs": [
        {
          "output_type": "stream",
          "text": [
            "CPU times: user 1.64 s, sys: 35.9 ms, total: 1.67 s\n",
            "Wall time: 1.68 s\n"
          ],
          "name": "stdout"
        }
      ]
    },
    {
      "metadata": {
        "id": "Sgdf7tQnt00U",
        "colab_type": "code",
        "colab": {
          "base_uri": "https://localhost:8080/",
          "height": 223
        },
        "outputId": "57ff8923-880a-4236-ab64-77d25feb861b"
      },
      "cell_type": "code",
      "source": [
        "vocab = vectorizer.get_feature_names()\n",
        "print(len(vocab))\n",
        "vocab[:10]"
      ],
      "execution_count": 43,
      "outputs": [
        {
          "output_type": "stream",
          "text": [
            "2000\n"
          ],
          "name": "stdout"
        },
        {
          "output_type": "execute_result",
          "data": {
            "text/plain": [
              "['aid',\n",
              " 'and',\n",
              " 'article',\n",
              " 'as',\n",
              " 'be',\n",
              " 'cctv',\n",
              " 'co',\n",
              " 'co kr',\n",
              " 'co kr news',\n",
              " 'com']"
            ]
          },
          "metadata": {
            "tags": []
          },
          "execution_count": 43
        }
      ]
    },
    {
      "metadata": {
        "id": "FnQYvfWAt00W",
        "colab_type": "code",
        "colab": {
          "base_uri": "https://localhost:8080/",
          "height": 109
        },
        "outputId": "bf14d8ee-9226-4782-ff84-c8e989dd8ee8"
      },
      "cell_type": "code",
      "source": [
        "dist = np.sum(train_feature_vector, axis=0)\n",
        "\n",
        "pd.DataFrame(dist, columns=vocab)"
      ],
      "execution_count": 44,
      "outputs": [
        {
          "output_type": "execute_result",
          "data": {
            "text/html": [
              "<div>\n",
              "<style scoped>\n",
              "    .dataframe tbody tr th:only-of-type {\n",
              "        vertical-align: middle;\n",
              "    }\n",
              "\n",
              "    .dataframe tbody tr th {\n",
              "        vertical-align: top;\n",
              "    }\n",
              "\n",
              "    .dataframe thead th {\n",
              "        text-align: right;\n",
              "    }\n",
              "</style>\n",
              "<table border=\"1\" class=\"dataframe\">\n",
              "  <thead>\n",
              "    <tr style=\"text-align: right;\">\n",
              "      <th></th>\n",
              "      <th>aid</th>\n",
              "      <th>and</th>\n",
              "      <th>article</th>\n",
              "      <th>as</th>\n",
              "      <th>be</th>\n",
              "      <th>cctv</th>\n",
              "      <th>co</th>\n",
              "      <th>co kr</th>\n",
              "      <th>co kr news</th>\n",
              "      <th>com</th>\n",
              "      <th>...</th>\n",
              "      <th>훨씬</th>\n",
              "      <th>휴게시간</th>\n",
              "      <th>휴게시간을</th>\n",
              "      <th>희망을</th>\n",
              "      <th>힘든</th>\n",
              "      <th>힘들게</th>\n",
              "      <th>힘들어</th>\n",
              "      <th>힘없는</th>\n",
              "      <th>힘을</th>\n",
              "      <th>힘이</th>\n",
              "    </tr>\n",
              "  </thead>\n",
              "  <tbody>\n",
              "    <tr>\n",
              "      <th>0</th>\n",
              "      <td>47</td>\n",
              "      <td>30</td>\n",
              "      <td>61</td>\n",
              "      <td>48</td>\n",
              "      <td>48</td>\n",
              "      <td>19</td>\n",
              "      <td>109</td>\n",
              "      <td>103</td>\n",
              "      <td>51</td>\n",
              "      <td>209</td>\n",
              "      <td>...</td>\n",
              "      <td>27</td>\n",
              "      <td>44</td>\n",
              "      <td>34</td>\n",
              "      <td>73</td>\n",
              "      <td>35</td>\n",
              "      <td>21</td>\n",
              "      <td>21</td>\n",
              "      <td>22</td>\n",
              "      <td>51</td>\n",
              "      <td>28</td>\n",
              "    </tr>\n",
              "  </tbody>\n",
              "</table>\n",
              "<p>1 rows × 2000 columns</p>\n",
              "</div>"
            ],
            "text/plain": [
              "   aid  and  article  as  be  cctv   co  co kr  co kr news  com ...  훨씬  휴게시간  \\\n",
              "0   47   30       61  48  48    19  109    103          51  209 ...  27    44   \n",
              "\n",
              "   휴게시간을  희망을  힘든  힘들게  힘들어  힘없는  힘을  힘이  \n",
              "0     34   73  35   21   21   22  51  28  \n",
              "\n",
              "[1 rows x 2000 columns]"
            ]
          },
          "metadata": {
            "tags": []
          },
          "execution_count": 44
        }
      ]
    },
    {
      "metadata": {
        "id": "zoMQQvcft00Y",
        "colab_type": "code",
        "colab": {
          "base_uri": "https://localhost:8080/",
          "height": 55
        },
        "outputId": "cd071ae2-4108-46aa-bba1-6e15327f2ddc"
      },
      "cell_type": "code",
      "source": [
        "from sklearn.feature_extraction.text import TfidfTransformer\n",
        "transformer = TfidfTransformer(smooth_idf=False)\n",
        "transformer"
      ],
      "execution_count": 45,
      "outputs": [
        {
          "output_type": "execute_result",
          "data": {
            "text/plain": [
              "TfidfTransformer(norm='l2', smooth_idf=False, sublinear_tf=False,\n",
              "         use_idf=True)"
            ]
          },
          "metadata": {
            "tags": []
          },
          "execution_count": 45
        }
      ]
    },
    {
      "metadata": {
        "id": "X5YduNwHt00b",
        "colab_type": "code",
        "colab": {
          "base_uri": "https://localhost:8080/",
          "height": 55
        },
        "outputId": "ad25d59c-e9b5-4a1c-d7fb-b08240d68923"
      },
      "cell_type": "code",
      "source": [
        "%%time \n",
        "train_feature_tfidf = transformer.fit_transform(train_feature_vector)\n",
        "train_feature_tfidf.shape"
      ],
      "execution_count": 46,
      "outputs": [
        {
          "output_type": "stream",
          "text": [
            "CPU times: user 6.1 ms, sys: 100 µs, total: 6.2 ms\n",
            "Wall time: 6.93 ms\n"
          ],
          "name": "stdout"
        }
      ]
    },
    {
      "metadata": {
        "id": "4YMLzW_Ut00d",
        "colab_type": "code",
        "colab": {
          "base_uri": "https://localhost:8080/",
          "height": 55
        },
        "outputId": "63520c1d-d1dd-4bb7-dda4-dfe7520d1f8d"
      },
      "cell_type": "code",
      "source": [
        "%%time \n",
        "test_feature_tfidf = transformer.fit_transform(test_feature_vector)\n",
        "test_feature_tfidf.shape"
      ],
      "execution_count": 47,
      "outputs": [
        {
          "output_type": "stream",
          "text": [
            "CPU times: user 3.45 ms, sys: 40 µs, total: 3.49 ms\n",
            "Wall time: 6.55 ms\n"
          ],
          "name": "stdout"
        }
      ]
    },
    {
      "metadata": {
        "id": "3fneDxSBt00i",
        "colab_type": "code",
        "colab": {
          "base_uri": "https://localhost:8080/",
          "height": 36
        },
        "outputId": "b6972a66-09f3-45f3-a037-c45f8d563e33"
      },
      "cell_type": "code",
      "source": [
        "test_feature_tfidf.shape"
      ],
      "execution_count": 48,
      "outputs": [
        {
          "output_type": "execute_result",
          "data": {
            "text/plain": [
              "(536, 2000)"
            ]
          },
          "metadata": {
            "tags": []
          },
          "execution_count": 48
        }
      ]
    },
    {
      "metadata": {
        "id": "eRmOcniRt00m",
        "colab_type": "text"
      },
      "cell_type": "markdown",
      "source": [
        "# 랜덤 포레스트로 학습시키기\n",
        "* 공식문서 : http://scikit-learn.org/stable/modules/generated/sklearn.ensemble.RandomForestClassifier.html"
      ]
    },
    {
      "metadata": {
        "id": "xSEe8bUFt00m",
        "colab_type": "code",
        "colab": {
          "base_uri": "https://localhost:8080/",
          "height": 148
        },
        "outputId": "3dc2f21f-75ca-4913-bede-d6e220e40231"
      },
      "cell_type": "code",
      "source": [
        "from sklearn.ensemble import RandomForestClassifier\n",
        "\n",
        "# 랜덤포레스트 분류기를 사용\n",
        "forest = RandomForestClassifier(\n",
        "    n_estimators = 100, n_jobs = -1, random_state=2018)\n",
        "forest"
      ],
      "execution_count": 49,
      "outputs": [
        {
          "output_type": "execute_result",
          "data": {
            "text/plain": [
              "RandomForestClassifier(bootstrap=True, class_weight=None, criterion='gini',\n",
              "            max_depth=None, max_features='auto', max_leaf_nodes=None,\n",
              "            min_impurity_decrease=0.0, min_impurity_split=None,\n",
              "            min_samples_leaf=1, min_samples_split=2,\n",
              "            min_weight_fraction_leaf=0.0, n_estimators=100, n_jobs=-1,\n",
              "            oob_score=False, random_state=2018, verbose=0,\n",
              "            warm_start=False)"
            ]
          },
          "metadata": {
            "tags": []
          },
          "execution_count": 49
        }
      ]
    },
    {
      "metadata": {
        "id": "jXmfdPoDt00r",
        "colab_type": "code",
        "colab": {
          "base_uri": "https://localhost:8080/",
          "height": 55
        },
        "outputId": "5152abd2-cd9c-48c2-ab83-6d0e26a72237"
      },
      "cell_type": "code",
      "source": [
        "# 학습에 사용할 y_label 을 넣어줍니다.\n",
        "# 어떤 분야의 청원인지 예측할 것이기 때문에 category를 넣어줍니다.\n",
        "y_label = df_train['category']\n",
        "%time forest = forest.fit(train_feature_tfidf, y_label)"
      ],
      "execution_count": 50,
      "outputs": [
        {
          "output_type": "stream",
          "text": [
            "CPU times: user 2.34 s, sys: 16.9 ms, total: 2.36 s\n",
            "Wall time: 1.29 s\n"
          ],
          "name": "stdout"
        }
      ]
    },
    {
      "metadata": {
        "id": "M9u6sKOet00v",
        "colab_type": "text"
      },
      "cell_type": "markdown",
      "source": [
        "# 학습이 잘 되었는지 평가하기\n",
        "\n",
        "시험공부에 비유해 보면, (feat.애란쌤)\n",
        "1. 기출문제를 모은다\n",
        "2. 공부한다\n",
        "3. 시험본다\n",
        "\n",
        "여기에서 2번 단계를 하는 여러 전략이 있을텐데요, 기출문제를 모두 외워버리면 과연 내가 실제 시험을 잘 치룰 수 있을지 아니면 공부를 더 해야할지 판단하기가 애매합니다. 괜찮은 전략 중 하나는 기출문제 중 일부를 임의로 뽑아내서 공부하고(training set을 이용한 학습), 나머지 기출문제를 풀어보며 내가 얼마나 잘 푸는지 평가를 해보는겁니다(validation set을 통해 학습의 성과를 검증). 잘 된다 싶으면 시험을 볼 준비가 된 것입니다(실전 투입).\n",
        "\n",
        "\n",
        "기출문제를 몽땅 외우면 기출문제 내에서는 100점을 받겠지만(overfitting), 실전에서도 그러한 성적을 가두리라 기대하기 어렵습니다."
      ]
    },
    {
      "metadata": {
        "id": "-CIOuMRCt00v",
        "colab_type": "code",
        "colab": {
          "base_uri": "https://localhost:8080/",
          "height": 73
        },
        "outputId": "5cd43c32-d876-4e24-83e9-154d69cb4682"
      },
      "cell_type": "code",
      "source": [
        "from sklearn.model_selection import KFold\n",
        "from sklearn.model_selection import cross_val_score\n",
        "k_fold = KFold(n_splits=5, shuffle=True, random_state=0)\n",
        "\n",
        "scoring = 'accuracy'\n",
        "%time score = cross_val_score(forest, train_feature_vector, y_label, cv=k_fold, n_jobs=-1, scoring=scoring)\n",
        "score"
      ],
      "execution_count": 52,
      "outputs": [
        {
          "output_type": "stream",
          "text": [
            "CPU times: user 108 ms, sys: 60.1 ms, total: 168 ms\n",
            "Wall time: 4.57 s\n"
          ],
          "name": "stdout"
        },
        {
          "output_type": "execute_result",
          "data": {
            "text/plain": [
              "array([0.404     , 0.432     , 0.372     , 0.364     , 0.36144578])"
            ]
          },
          "metadata": {
            "tags": []
          },
          "execution_count": 52
        }
      ]
    },
    {
      "metadata": {
        "id": "Tnzp0LHEt00y",
        "colab_type": "code",
        "colab": {
          "base_uri": "https://localhost:8080/",
          "height": 36
        },
        "outputId": "6e948013-a622-4067-b250-e55e3daaaa35"
      },
      "cell_type": "code",
      "source": [
        "round(np.mean(score)*100,2)"
      ],
      "execution_count": 53,
      "outputs": [
        {
          "output_type": "execute_result",
          "data": {
            "text/plain": [
              "38.67"
            ]
          },
          "metadata": {
            "tags": []
          },
          "execution_count": 53
        }
      ]
    },
    {
      "metadata": {
        "id": "nqJ8PZ8Nt006",
        "colab_type": "text"
      },
      "cell_type": "markdown",
      "source": [
        "# 예측"
      ]
    },
    {
      "metadata": {
        "id": "fgbYa1kbt007",
        "colab_type": "code",
        "colab": {
          "base_uri": "https://localhost:8080/",
          "height": 36
        },
        "outputId": "e6ad8dfc-c787-4007-9153-a1b36162f06a"
      },
      "cell_type": "code",
      "source": [
        "# 테스트 데이터를 넣고 예측합니다.\n",
        "y_pred = forest.predict(test_feature_vector)\n",
        "y_pred[:3]"
      ],
      "execution_count": 54,
      "outputs": [
        {
          "output_type": "execute_result",
          "data": {
            "text/plain": [
              "array(['기타', '인권/성평등', '안전/환경'], dtype=object)"
            ]
          },
          "metadata": {
            "tags": []
          },
          "execution_count": 54
        }
      ]
    },
    {
      "metadata": {
        "id": "ZIkjk2RMt00-",
        "colab_type": "code",
        "colab": {
          "base_uri": "https://localhost:8080/",
          "height": 36
        },
        "outputId": "ae7fed16-b30a-423e-8e72-0388ff57e8f8"
      },
      "cell_type": "code",
      "source": [
        "y_pred.shape"
      ],
      "execution_count": 55,
      "outputs": [
        {
          "output_type": "execute_result",
          "data": {
            "text/plain": [
              "(536,)"
            ]
          },
          "metadata": {
            "tags": []
          },
          "execution_count": 55
        }
      ]
    },
    {
      "metadata": {
        "id": "TF6oSPTNt01A",
        "colab_type": "code",
        "colab": {
          "base_uri": "https://localhost:8080/",
          "height": 202
        },
        "outputId": "d75f4eb3-70c3-4ee5-fc02-44ab3fe8438c"
      },
      "cell_type": "code",
      "source": [
        "# 예측 결과를 저장하기 위해 데이터프레임에 담아 줍니다.\n",
        "output = pd.DataFrame(data={'category_pred':y_pred})\n",
        "output.head()"
      ],
      "execution_count": 56,
      "outputs": [
        {
          "output_type": "execute_result",
          "data": {
            "text/html": [
              "<div>\n",
              "<style scoped>\n",
              "    .dataframe tbody tr th:only-of-type {\n",
              "        vertical-align: middle;\n",
              "    }\n",
              "\n",
              "    .dataframe tbody tr th {\n",
              "        vertical-align: top;\n",
              "    }\n",
              "\n",
              "    .dataframe thead th {\n",
              "        text-align: right;\n",
              "    }\n",
              "</style>\n",
              "<table border=\"1\" class=\"dataframe\">\n",
              "  <thead>\n",
              "    <tr style=\"text-align: right;\">\n",
              "      <th></th>\n",
              "      <th>category_pred</th>\n",
              "    </tr>\n",
              "  </thead>\n",
              "  <tbody>\n",
              "    <tr>\n",
              "      <th>0</th>\n",
              "      <td>기타</td>\n",
              "    </tr>\n",
              "    <tr>\n",
              "      <th>1</th>\n",
              "      <td>인권/성평등</td>\n",
              "    </tr>\n",
              "    <tr>\n",
              "      <th>2</th>\n",
              "      <td>안전/환경</td>\n",
              "    </tr>\n",
              "    <tr>\n",
              "      <th>3</th>\n",
              "      <td>문화/예술/체육/언론</td>\n",
              "    </tr>\n",
              "    <tr>\n",
              "      <th>4</th>\n",
              "      <td>문화/예술/체육/언론</td>\n",
              "    </tr>\n",
              "  </tbody>\n",
              "</table>\n",
              "</div>"
            ],
            "text/plain": [
              "  category_pred\n",
              "0            기타\n",
              "1        인권/성평등\n",
              "2         안전/환경\n",
              "3   문화/예술/체육/언론\n",
              "4   문화/예술/체육/언론"
            ]
          },
          "metadata": {
            "tags": []
          },
          "execution_count": 56
        }
      ]
    },
    {
      "metadata": {
        "id": "MOiHATeJt01D",
        "colab_type": "code",
        "colab": {
          "base_uri": "https://localhost:8080/",
          "height": 279
        },
        "outputId": "5eb07de2-3bc0-45af-c251-2fdc5083c08c"
      },
      "cell_type": "code",
      "source": [
        "# 0과 1이 어떻게 집계 되었는지 확인합니다.\n",
        "# 실제 데이터에는 답변 대상 건이 있는데 없는 것으로 예측되었\n",
        "output['category_pred'].value_counts()"
      ],
      "execution_count": 57,
      "outputs": [
        {
          "output_type": "execute_result",
          "data": {
            "text/plain": [
              "문화/예술/체육/언론    102\n",
              "육아/교육           86\n",
              "보건복지            75\n",
              "인권/성평등          72\n",
              "안전/환경           58\n",
              "정치개혁            44\n",
              "반려동물            29\n",
              "기타              22\n",
              "교통/건축/국토        18\n",
              "외교/통일/국방        13\n",
              "일자리              7\n",
              "경제민주화            6\n",
              "행정               4\n",
              "Name: category_pred, dtype: int64"
            ]
          },
          "metadata": {
            "tags": []
          },
          "execution_count": 57
        }
      ]
    },
    {
      "metadata": {
        "id": "1jrfcS9Pt01G",
        "colab_type": "code",
        "colab": {}
      },
      "cell_type": "code",
      "source": [
        "df_test['category_pred'] = y_pred"
      ],
      "execution_count": 0,
      "outputs": []
    },
    {
      "metadata": {
        "id": "H7Ukpi7Yt01H",
        "colab_type": "code",
        "colab": {
          "base_uri": "https://localhost:8080/",
          "height": 497
        },
        "outputId": "de3ddb63-0b93-4624-fe95-42ceb0dc6540"
      },
      "cell_type": "code",
      "source": [
        "df_test['pred_diff'] = 0\n",
        "df_test['pred_diff'] = (df_test['category'] == df_test['category_pred'] ) == 1\n",
        "df_test['pred_diff'] = df_test['pred_diff'].astype(int)\n",
        "df_test.head()"
      ],
      "execution_count": 59,
      "outputs": [
        {
          "output_type": "execute_result",
          "data": {
            "text/html": [
              "<div>\n",
              "<style scoped>\n",
              "    .dataframe tbody tr th:only-of-type {\n",
              "        vertical-align: middle;\n",
              "    }\n",
              "\n",
              "    .dataframe tbody tr th {\n",
              "        vertical-align: top;\n",
              "    }\n",
              "\n",
              "    .dataframe thead th {\n",
              "        text-align: right;\n",
              "    }\n",
              "</style>\n",
              "<table border=\"1\" class=\"dataframe\">\n",
              "  <thead>\n",
              "    <tr style=\"text-align: right;\">\n",
              "      <th></th>\n",
              "      <th>article_id</th>\n",
              "      <th>start</th>\n",
              "      <th>end</th>\n",
              "      <th>answered</th>\n",
              "      <th>votes</th>\n",
              "      <th>category</th>\n",
              "      <th>title</th>\n",
              "      <th>content</th>\n",
              "      <th>category_pred</th>\n",
              "      <th>content_preprocessing</th>\n",
              "      <th>content_preprocessing2</th>\n",
              "      <th>pred_diff</th>\n",
              "    </tr>\n",
              "  </thead>\n",
              "  <tbody>\n",
              "    <tr>\n",
              "      <th>159074</th>\n",
              "      <td>195181</td>\n",
              "      <td>2018-04-11</td>\n",
              "      <td>2018-05-11</td>\n",
              "      <td>0</td>\n",
              "      <td>1033</td>\n",
              "      <td>경제민주화</td>\n",
              "      <td>삼성재벌의 노조탄압 진상조사를 위한 청문회개최를 청원합니다.</td>\n",
              "      <td>삼성전자서비스 노조설립 방해에 항의농성중 자살한 노조원의\\n죽음을 둘러싼 의혹에 대...</td>\n",
              "      <td>기타</td>\n",
              "      <td>삼성전자서비스 노조설립 방해에 항의농성중 자살한 노조원의 죽음을 둘러싼 의혹에 대하...</td>\n",
              "      <td>삼성전자서비스 노조설립 방해에 항의농성중 자살한 노조원의 죽음을 둘러싼 의혹에 대하...</td>\n",
              "      <td>0</td>\n",
              "    </tr>\n",
              "    <tr>\n",
              "      <th>159216</th>\n",
              "      <td>195377</td>\n",
              "      <td>2018-04-11</td>\n",
              "      <td>2018-05-11</td>\n",
              "      <td>0</td>\n",
              "      <td>1508</td>\n",
              "      <td>보건복지</td>\n",
              "      <td>외국인영주권자 처우 및 복지혜택 개선 관련 청원  取得永住权的在韩外国人待遇\u000b及福利改...</td>\n",
              "      <td>알고 계시나요? 대한민국의 외국인 영주권 납세자 아동 및 노인을 복지 혜택이 없는 ...</td>\n",
              "      <td>인권/성평등</td>\n",
              "      <td>알고 계시나요  대한민국의 외국인 영주권 납세자 아동 및 노인을 복지 혜택이 없는 ...</td>\n",
              "      <td>알고 계시나요  대한민국의 외국인 영주권 납세자 아동 노인을 복지 혜택이 사실  영...</td>\n",
              "      <td>0</td>\n",
              "    </tr>\n",
              "    <tr>\n",
              "      <th>159218</th>\n",
              "      <td>195379</td>\n",
              "      <td>2018-04-11</td>\n",
              "      <td>2018-05-11</td>\n",
              "      <td>0</td>\n",
              "      <td>1958</td>\n",
              "      <td>안전/환경</td>\n",
              "      <td>퍼스널모빌리티 자전거도로 이용</td>\n",
              "      <td>현재 전동킥보드를 이용하여 출퇴근을 하고 있습니다.\\n오늘 자전거도로 출근도중 관할...</td>\n",
              "      <td>안전/환경</td>\n",
              "      <td>현재 전동킥보드를 이용하여 출퇴근을 하고 있습니다  오늘 자전거도로 출근도중 관할 ...</td>\n",
              "      <td>현재 전동킥보드를 이용하여 출퇴근을  오늘 자전거도로 출근도중 관할 경찰서 지구대의...</td>\n",
              "      <td>1</td>\n",
              "    </tr>\n",
              "    <tr>\n",
              "      <th>159505</th>\n",
              "      <td>195778</td>\n",
              "      <td>2018-04-11</td>\n",
              "      <td>2018-05-11</td>\n",
              "      <td>0</td>\n",
              "      <td>4518</td>\n",
              "      <td>행정</td>\n",
              "      <td>이단사이비단체로부터 안전한 대한민국에서 살고 싶습니다.</td>\n",
              "      <td>안녕하세요 저는 김포시에 거주중인 30대초반의 가장입니다.\\n제가 이렇게 청원을 드...</td>\n",
              "      <td>문화/예술/체육/언론</td>\n",
              "      <td>안녕하세요 저는 김포시에 거주중인   대초반의 가장입니다  제가 이렇게 청원을 드리...</td>\n",
              "      <td>안녕하세요 김포시에 거주중인   대초반의 가장입니다  제가 이렇게 청원을 드리게된 ...</td>\n",
              "      <td>0</td>\n",
              "    </tr>\n",
              "    <tr>\n",
              "      <th>159650</th>\n",
              "      <td>195997</td>\n",
              "      <td>2018-04-11</td>\n",
              "      <td>2018-05-11</td>\n",
              "      <td>0</td>\n",
              "      <td>1471</td>\n",
              "      <td>보건복지</td>\n",
              "      <td>생리대 무상보급을 요구합니다</td>\n",
              "      <td>생리대는 여성의 필수불가결한 물품입니다.\\n약 11세~50세까지 한 달에 한 번 3...</td>\n",
              "      <td>문화/예술/체육/언론</td>\n",
              "      <td>생리대는 여성의 필수불가결한 물품입니다  약   세   세까지 한 달에 한 번   ...</td>\n",
              "      <td>생리대는 여성의 필수불가결한 물품입니다  약   세   세까지 달에 번    일을 ...</td>\n",
              "      <td>0</td>\n",
              "    </tr>\n",
              "  </tbody>\n",
              "</table>\n",
              "</div>"
            ],
            "text/plain": [
              "        article_id      start        end  answered  votes category  \\\n",
              "159074      195181 2018-04-11 2018-05-11         0   1033    경제민주화   \n",
              "159216      195377 2018-04-11 2018-05-11         0   1508     보건복지   \n",
              "159218      195379 2018-04-11 2018-05-11         0   1958    안전/환경   \n",
              "159505      195778 2018-04-11 2018-05-11         0   4518       행정   \n",
              "159650      195997 2018-04-11 2018-05-11         0   1471     보건복지   \n",
              "\n",
              "                                                    title  \\\n",
              "159074                  삼성재벌의 노조탄압 진상조사를 위한 청문회개최를 청원합니다.   \n",
              "159216  외국인영주권자 처우 및 복지혜택 개선 관련 청원  取得永住权的在韩外国人待遇\n",
              "及福利改...   \n",
              "159218                                   퍼스널모빌리티 자전거도로 이용   \n",
              "159505                     이단사이비단체로부터 안전한 대한민국에서 살고 싶습니다.   \n",
              "159650                                    생리대 무상보급을 요구합니다   \n",
              "\n",
              "                                                  content category_pred  \\\n",
              "159074  삼성전자서비스 노조설립 방해에 항의농성중 자살한 노조원의\\n죽음을 둘러싼 의혹에 대...            기타   \n",
              "159216  알고 계시나요? 대한민국의 외국인 영주권 납세자 아동 및 노인을 복지 혜택이 없는 ...        인권/성평등   \n",
              "159218  현재 전동킥보드를 이용하여 출퇴근을 하고 있습니다.\\n오늘 자전거도로 출근도중 관할...         안전/환경   \n",
              "159505  안녕하세요 저는 김포시에 거주중인 30대초반의 가장입니다.\\n제가 이렇게 청원을 드...   문화/예술/체육/언론   \n",
              "159650  생리대는 여성의 필수불가결한 물품입니다.\\n약 11세~50세까지 한 달에 한 번 3...   문화/예술/체육/언론   \n",
              "\n",
              "                                    content_preprocessing  \\\n",
              "159074  삼성전자서비스 노조설립 방해에 항의농성중 자살한 노조원의 죽음을 둘러싼 의혹에 대하...   \n",
              "159216  알고 계시나요  대한민국의 외국인 영주권 납세자 아동 및 노인을 복지 혜택이 없는 ...   \n",
              "159218  현재 전동킥보드를 이용하여 출퇴근을 하고 있습니다  오늘 자전거도로 출근도중 관할 ...   \n",
              "159505  안녕하세요 저는 김포시에 거주중인   대초반의 가장입니다  제가 이렇게 청원을 드리...   \n",
              "159650  생리대는 여성의 필수불가결한 물품입니다  약   세   세까지 한 달에 한 번   ...   \n",
              "\n",
              "                                   content_preprocessing2  pred_diff  \n",
              "159074  삼성전자서비스 노조설립 방해에 항의농성중 자살한 노조원의 죽음을 둘러싼 의혹에 대하...          0  \n",
              "159216  알고 계시나요  대한민국의 외국인 영주권 납세자 아동 노인을 복지 혜택이 사실  영...          0  \n",
              "159218  현재 전동킥보드를 이용하여 출퇴근을  오늘 자전거도로 출근도중 관할 경찰서 지구대의...          1  \n",
              "159505  안녕하세요 김포시에 거주중인   대초반의 가장입니다  제가 이렇게 청원을 드리게된 ...          0  \n",
              "159650  생리대는 여성의 필수불가결한 물품입니다  약   세   세까지 달에 번    일을 ...          0  "
            ]
          },
          "metadata": {
            "tags": []
          },
          "execution_count": 59
        }
      ]
    },
    {
      "metadata": {
        "id": "nXmjvRFRt01I",
        "colab_type": "code",
        "colab": {
          "base_uri": "https://localhost:8080/",
          "height": 73
        },
        "outputId": "a4d18414-196c-4d37-a08b-9e3df894b2c9"
      },
      "cell_type": "code",
      "source": [
        "# 맞게 예측한 청원은 1, 틀린 예측은 0으로 표기되었습니다.\n",
        "pred_diff = df_test['pred_diff'].value_counts()\n",
        "pred_diff"
      ],
      "execution_count": 60,
      "outputs": [
        {
          "output_type": "execute_result",
          "data": {
            "text/plain": [
              "0    472\n",
              "1     64\n",
              "Name: pred_diff, dtype: int64"
            ]
          },
          "metadata": {
            "tags": []
          },
          "execution_count": 60
        }
      ]
    },
    {
      "metadata": {
        "id": "UZ6tVFBPt01J",
        "colab_type": "code",
        "colab": {
          "base_uri": "https://localhost:8080/",
          "height": 36
        },
        "outputId": "e681fef0-dbba-45ce-afb8-dfb946e3f393"
      },
      "cell_type": "code",
      "source": [
        "print('전체 {}건의 데이터 중 {}건 예측'.format(y_pred.shape[0], pred_diff[1]))"
      ],
      "execution_count": 61,
      "outputs": [
        {
          "output_type": "stream",
          "text": [
            "전체 536건의 데이터 중 64건 예측\n"
          ],
          "name": "stdout"
        }
      ]
    },
    {
      "metadata": {
        "id": "rVg3paKyt01O",
        "colab_type": "code",
        "colab": {
          "base_uri": "https://localhost:8080/",
          "height": 36
        },
        "outputId": "954b7ede-4a59-4829-fbfc-dcd3766d8e68"
      },
      "cell_type": "code",
      "source": [
        "acc = ( pred_diff[1] / y_pred.shape[0] )*100 \n",
        "print('예측 비율 {}'.format(acc))"
      ],
      "execution_count": 62,
      "outputs": [
        {
          "output_type": "stream",
          "text": [
            "예측 비율 11.940298507462686\n"
          ],
          "name": "stdout"
        }
      ]
    },
    {
      "metadata": {
        "id": "SM9-2Jzpt01P",
        "colab_type": "code",
        "colab": {
          "base_uri": "https://localhost:8080/",
          "height": 462
        },
        "outputId": "5e1fd69d-aa7d-43e1-847b-aff8f02cc4a4"
      },
      "cell_type": "code",
      "source": [
        "# 제대로 예측한 카테고리 데이터를 봅니다.\n",
        "predict_correct = df_test.loc[df_test['pred_diff'] == 1]\n",
        "predict_correct.head()"
      ],
      "execution_count": 63,
      "outputs": [
        {
          "output_type": "execute_result",
          "data": {
            "text/html": [
              "<div>\n",
              "<style scoped>\n",
              "    .dataframe tbody tr th:only-of-type {\n",
              "        vertical-align: middle;\n",
              "    }\n",
              "\n",
              "    .dataframe tbody tr th {\n",
              "        vertical-align: top;\n",
              "    }\n",
              "\n",
              "    .dataframe thead th {\n",
              "        text-align: right;\n",
              "    }\n",
              "</style>\n",
              "<table border=\"1\" class=\"dataframe\">\n",
              "  <thead>\n",
              "    <tr style=\"text-align: right;\">\n",
              "      <th></th>\n",
              "      <th>article_id</th>\n",
              "      <th>start</th>\n",
              "      <th>end</th>\n",
              "      <th>answered</th>\n",
              "      <th>votes</th>\n",
              "      <th>category</th>\n",
              "      <th>title</th>\n",
              "      <th>content</th>\n",
              "      <th>category_pred</th>\n",
              "      <th>content_preprocessing</th>\n",
              "      <th>content_preprocessing2</th>\n",
              "      <th>pred_diff</th>\n",
              "    </tr>\n",
              "  </thead>\n",
              "  <tbody>\n",
              "    <tr>\n",
              "      <th>159218</th>\n",
              "      <td>195379</td>\n",
              "      <td>2018-04-11</td>\n",
              "      <td>2018-05-11</td>\n",
              "      <td>0</td>\n",
              "      <td>1958</td>\n",
              "      <td>안전/환경</td>\n",
              "      <td>퍼스널모빌리티 자전거도로 이용</td>\n",
              "      <td>현재 전동킥보드를 이용하여 출퇴근을 하고 있습니다.\\n오늘 자전거도로 출근도중 관할...</td>\n",
              "      <td>안전/환경</td>\n",
              "      <td>현재 전동킥보드를 이용하여 출퇴근을 하고 있습니다  오늘 자전거도로 출근도중 관할 ...</td>\n",
              "      <td>현재 전동킥보드를 이용하여 출퇴근을  오늘 자전거도로 출근도중 관할 경찰서 지구대의...</td>\n",
              "      <td>1</td>\n",
              "    </tr>\n",
              "    <tr>\n",
              "      <th>159655</th>\n",
              "      <td>196003</td>\n",
              "      <td>2018-04-11</td>\n",
              "      <td>2018-05-11</td>\n",
              "      <td>0</td>\n",
              "      <td>1890</td>\n",
              "      <td>육아/교육</td>\n",
              "      <td>부산 마린시티 해원초등학교 정면  77층 3동 숙박업소 콘도 건립을 불허하라!</td>\n",
              "      <td>부산 마린시티 해원초등학교 인접한 77층 3동 관광숙박업소 콘도 건립은 불허 해야 ...</td>\n",
              "      <td>육아/교육</td>\n",
              "      <td>부산 마린시티 해원초등학교 인접한   층  동 관광숙박업소 콘도 건립은 불허 해야 ...</td>\n",
              "      <td>부산 마린시티 해원초등학교 인접한   층  동 관광숙박업소 콘도 건립은 불허 해야 ...</td>\n",
              "      <td>1</td>\n",
              "    </tr>\n",
              "    <tr>\n",
              "      <th>161163</th>\n",
              "      <td>198397</td>\n",
              "      <td>2018-04-13</td>\n",
              "      <td>2018-05-13</td>\n",
              "      <td>0</td>\n",
              "      <td>2421</td>\n",
              "      <td>육아/교육</td>\n",
              "      <td>과학탐구실험 교과의 석차 등급 폐지</td>\n",
              "      <td>과학탐구실험 교과의 석차등급을 폐지하고 성취도 평가만 실시할 수 있도록 해주세요.\\...</td>\n",
              "      <td>육아/교육</td>\n",
              "      <td>과학탐구실험 교과의 석차등급을 폐지하고 성취도 평가만 실시할 수 있도록 해주세요  ...</td>\n",
              "      <td>과학탐구실험 교과의 석차등급을 폐지하고 성취도 평가만 실시할 있도록 해주세요    ...</td>\n",
              "      <td>1</td>\n",
              "    </tr>\n",
              "    <tr>\n",
              "      <th>166004</th>\n",
              "      <td>205544</td>\n",
              "      <td>2018-04-19</td>\n",
              "      <td>2018-05-19</td>\n",
              "      <td>0</td>\n",
              "      <td>3383</td>\n",
              "      <td>정치개혁</td>\n",
              "      <td>MB아들 이시형과 당시 검사를 처벌해 주십시오</td>\n",
              "      <td>추적 60분을 보는데 너무 화가 나서 국민 청원을 합니다.\\n마약공급책과 CF감독 ...</td>\n",
              "      <td>정치개혁</td>\n",
              "      <td>추적   분을 보는데 너무 화가 나서 국민 청원을 합니다  마약공급책과 CF감독 등...</td>\n",
              "      <td>추적   분을 보는데 너무 화가 나서 국민 청원을  마약공급책과 CF감독 이시형 마...</td>\n",
              "      <td>1</td>\n",
              "    </tr>\n",
              "    <tr>\n",
              "      <th>168360</th>\n",
              "      <td>208559</td>\n",
              "      <td>2018-04-22</td>\n",
              "      <td>2018-05-22</td>\n",
              "      <td>0</td>\n",
              "      <td>1760</td>\n",
              "      <td>육아/교육</td>\n",
              "      <td>해외거주자도 양육을 하고 있습니다</td>\n",
              "      <td>우리는 대한민국 국민입니다 해외 주재원이란 명목으로 타국에 나와 살고 있지만 우리의...</td>\n",
              "      <td>육아/교육</td>\n",
              "      <td>우리는 대한민국 국민입니다 해외 주재원이란 명목으로 타국에 나와 살고 있지만 우리의...</td>\n",
              "      <td>우리는 대한민국 국민입니다 해외 주재원이란 명목으로 타국에 나와 살고 있지만 우리의...</td>\n",
              "      <td>1</td>\n",
              "    </tr>\n",
              "  </tbody>\n",
              "</table>\n",
              "</div>"
            ],
            "text/plain": [
              "        article_id      start        end  answered  votes category  \\\n",
              "159218      195379 2018-04-11 2018-05-11         0   1958    안전/환경   \n",
              "159655      196003 2018-04-11 2018-05-11         0   1890    육아/교육   \n",
              "161163      198397 2018-04-13 2018-05-13         0   2421    육아/교육   \n",
              "166004      205544 2018-04-19 2018-05-19         0   3383     정치개혁   \n",
              "168360      208559 2018-04-22 2018-05-22         0   1760    육아/교육   \n",
              "\n",
              "                                              title  \\\n",
              "159218                             퍼스널모빌리티 자전거도로 이용   \n",
              "159655  부산 마린시티 해원초등학교 정면  77층 3동 숙박업소 콘도 건립을 불허하라!   \n",
              "161163                          과학탐구실험 교과의 석차 등급 폐지   \n",
              "166004                    MB아들 이시형과 당시 검사를 처벌해 주십시오   \n",
              "168360                           해외거주자도 양육을 하고 있습니다   \n",
              "\n",
              "                                                  content category_pred  \\\n",
              "159218  현재 전동킥보드를 이용하여 출퇴근을 하고 있습니다.\\n오늘 자전거도로 출근도중 관할...         안전/환경   \n",
              "159655  부산 마린시티 해원초등학교 인접한 77층 3동 관광숙박업소 콘도 건립은 불허 해야 ...         육아/교육   \n",
              "161163  과학탐구실험 교과의 석차등급을 폐지하고 성취도 평가만 실시할 수 있도록 해주세요.\\...         육아/교육   \n",
              "166004  추적 60분을 보는데 너무 화가 나서 국민 청원을 합니다.\\n마약공급책과 CF감독 ...          정치개혁   \n",
              "168360  우리는 대한민국 국민입니다 해외 주재원이란 명목으로 타국에 나와 살고 있지만 우리의...         육아/교육   \n",
              "\n",
              "                                    content_preprocessing  \\\n",
              "159218  현재 전동킥보드를 이용하여 출퇴근을 하고 있습니다  오늘 자전거도로 출근도중 관할 ...   \n",
              "159655  부산 마린시티 해원초등학교 인접한   층  동 관광숙박업소 콘도 건립은 불허 해야 ...   \n",
              "161163  과학탐구실험 교과의 석차등급을 폐지하고 성취도 평가만 실시할 수 있도록 해주세요  ...   \n",
              "166004  추적   분을 보는데 너무 화가 나서 국민 청원을 합니다  마약공급책과 CF감독 등...   \n",
              "168360  우리는 대한민국 국민입니다 해외 주재원이란 명목으로 타국에 나와 살고 있지만 우리의...   \n",
              "\n",
              "                                   content_preprocessing2  pred_diff  \n",
              "159218  현재 전동킥보드를 이용하여 출퇴근을  오늘 자전거도로 출근도중 관할 경찰서 지구대의...          1  \n",
              "159655  부산 마린시티 해원초등학교 인접한   층  동 관광숙박업소 콘도 건립은 불허 해야 ...          1  \n",
              "161163  과학탐구실험 교과의 석차등급을 폐지하고 성취도 평가만 실시할 있도록 해주세요    ...          1  \n",
              "166004  추적   분을 보는데 너무 화가 나서 국민 청원을  마약공급책과 CF감독 이시형 마...          1  \n",
              "168360  우리는 대한민국 국민입니다 해외 주재원이란 명목으로 타국에 나와 살고 있지만 우리의...          1  "
            ]
          },
          "metadata": {
            "tags": []
          },
          "execution_count": 63
        }
      ]
    },
    {
      "metadata": {
        "id": "V9uZ4X5Dt01R",
        "colab_type": "code",
        "colab": {
          "base_uri": "https://localhost:8080/",
          "height": 497
        },
        "outputId": "c30f38ec-82d9-4e4c-d897-91533b142322"
      },
      "cell_type": "code",
      "source": [
        "predict_incorrect = df_test.loc[df_test['pred_diff'] == 0].copy()\n",
        "predict_incorrect.head()"
      ],
      "execution_count": 64,
      "outputs": [
        {
          "output_type": "execute_result",
          "data": {
            "text/html": [
              "<div>\n",
              "<style scoped>\n",
              "    .dataframe tbody tr th:only-of-type {\n",
              "        vertical-align: middle;\n",
              "    }\n",
              "\n",
              "    .dataframe tbody tr th {\n",
              "        vertical-align: top;\n",
              "    }\n",
              "\n",
              "    .dataframe thead th {\n",
              "        text-align: right;\n",
              "    }\n",
              "</style>\n",
              "<table border=\"1\" class=\"dataframe\">\n",
              "  <thead>\n",
              "    <tr style=\"text-align: right;\">\n",
              "      <th></th>\n",
              "      <th>article_id</th>\n",
              "      <th>start</th>\n",
              "      <th>end</th>\n",
              "      <th>answered</th>\n",
              "      <th>votes</th>\n",
              "      <th>category</th>\n",
              "      <th>title</th>\n",
              "      <th>content</th>\n",
              "      <th>category_pred</th>\n",
              "      <th>content_preprocessing</th>\n",
              "      <th>content_preprocessing2</th>\n",
              "      <th>pred_diff</th>\n",
              "    </tr>\n",
              "  </thead>\n",
              "  <tbody>\n",
              "    <tr>\n",
              "      <th>159074</th>\n",
              "      <td>195181</td>\n",
              "      <td>2018-04-11</td>\n",
              "      <td>2018-05-11</td>\n",
              "      <td>0</td>\n",
              "      <td>1033</td>\n",
              "      <td>경제민주화</td>\n",
              "      <td>삼성재벌의 노조탄압 진상조사를 위한 청문회개최를 청원합니다.</td>\n",
              "      <td>삼성전자서비스 노조설립 방해에 항의농성중 자살한 노조원의\\n죽음을 둘러싼 의혹에 대...</td>\n",
              "      <td>기타</td>\n",
              "      <td>삼성전자서비스 노조설립 방해에 항의농성중 자살한 노조원의 죽음을 둘러싼 의혹에 대하...</td>\n",
              "      <td>삼성전자서비스 노조설립 방해에 항의농성중 자살한 노조원의 죽음을 둘러싼 의혹에 대하...</td>\n",
              "      <td>0</td>\n",
              "    </tr>\n",
              "    <tr>\n",
              "      <th>159216</th>\n",
              "      <td>195377</td>\n",
              "      <td>2018-04-11</td>\n",
              "      <td>2018-05-11</td>\n",
              "      <td>0</td>\n",
              "      <td>1508</td>\n",
              "      <td>보건복지</td>\n",
              "      <td>외국인영주권자 처우 및 복지혜택 개선 관련 청원  取得永住权的在韩外国人待遇\u000b及福利改...</td>\n",
              "      <td>알고 계시나요? 대한민국의 외국인 영주권 납세자 아동 및 노인을 복지 혜택이 없는 ...</td>\n",
              "      <td>인권/성평등</td>\n",
              "      <td>알고 계시나요  대한민국의 외국인 영주권 납세자 아동 및 노인을 복지 혜택이 없는 ...</td>\n",
              "      <td>알고 계시나요  대한민국의 외국인 영주권 납세자 아동 노인을 복지 혜택이 사실  영...</td>\n",
              "      <td>0</td>\n",
              "    </tr>\n",
              "    <tr>\n",
              "      <th>159505</th>\n",
              "      <td>195778</td>\n",
              "      <td>2018-04-11</td>\n",
              "      <td>2018-05-11</td>\n",
              "      <td>0</td>\n",
              "      <td>4518</td>\n",
              "      <td>행정</td>\n",
              "      <td>이단사이비단체로부터 안전한 대한민국에서 살고 싶습니다.</td>\n",
              "      <td>안녕하세요 저는 김포시에 거주중인 30대초반의 가장입니다.\\n제가 이렇게 청원을 드...</td>\n",
              "      <td>문화/예술/체육/언론</td>\n",
              "      <td>안녕하세요 저는 김포시에 거주중인   대초반의 가장입니다  제가 이렇게 청원을 드리...</td>\n",
              "      <td>안녕하세요 김포시에 거주중인   대초반의 가장입니다  제가 이렇게 청원을 드리게된 ...</td>\n",
              "      <td>0</td>\n",
              "    </tr>\n",
              "    <tr>\n",
              "      <th>159650</th>\n",
              "      <td>195997</td>\n",
              "      <td>2018-04-11</td>\n",
              "      <td>2018-05-11</td>\n",
              "      <td>0</td>\n",
              "      <td>1471</td>\n",
              "      <td>보건복지</td>\n",
              "      <td>생리대 무상보급을 요구합니다</td>\n",
              "      <td>생리대는 여성의 필수불가결한 물품입니다.\\n약 11세~50세까지 한 달에 한 번 3...</td>\n",
              "      <td>문화/예술/체육/언론</td>\n",
              "      <td>생리대는 여성의 필수불가결한 물품입니다  약   세   세까지 한 달에 한 번   ...</td>\n",
              "      <td>생리대는 여성의 필수불가결한 물품입니다  약   세   세까지 달에 번    일을 ...</td>\n",
              "      <td>0</td>\n",
              "    </tr>\n",
              "    <tr>\n",
              "      <th>159795</th>\n",
              "      <td>196229</td>\n",
              "      <td>2018-04-12</td>\n",
              "      <td>2018-05-12</td>\n",
              "      <td>0</td>\n",
              "      <td>28729</td>\n",
              "      <td>반려동물</td>\n",
              "      <td>유튜브 고양이 학대범 강력처벌</td>\n",
              "      <td>최근 유튜브에서 한 유튜버가 고양이를 학대하는 영상을찍어 올렸습니다. 이런 범죄를 ...</td>\n",
              "      <td>정치개혁</td>\n",
              "      <td>최근 유튜브에서 한 유튜버가 고양이를 학대하는 영상을찍어 올렸습니다  이런 범죄를 ...</td>\n",
              "      <td>최근 유튜브에서 유튜버가 고양이를 학대하는 영상을찍어 올렸습니다  범죄를 지켜만보아...</td>\n",
              "      <td>0</td>\n",
              "    </tr>\n",
              "  </tbody>\n",
              "</table>\n",
              "</div>"
            ],
            "text/plain": [
              "        article_id      start        end  answered  votes category  \\\n",
              "159074      195181 2018-04-11 2018-05-11         0   1033    경제민주화   \n",
              "159216      195377 2018-04-11 2018-05-11         0   1508     보건복지   \n",
              "159505      195778 2018-04-11 2018-05-11         0   4518       행정   \n",
              "159650      195997 2018-04-11 2018-05-11         0   1471     보건복지   \n",
              "159795      196229 2018-04-12 2018-05-12         0  28729     반려동물   \n",
              "\n",
              "                                                    title  \\\n",
              "159074                  삼성재벌의 노조탄압 진상조사를 위한 청문회개최를 청원합니다.   \n",
              "159216  외국인영주권자 처우 및 복지혜택 개선 관련 청원  取得永住权的在韩外国人待遇\n",
              "及福利改...   \n",
              "159505                     이단사이비단체로부터 안전한 대한민국에서 살고 싶습니다.   \n",
              "159650                                    생리대 무상보급을 요구합니다   \n",
              "159795                                   유튜브 고양이 학대범 강력처벌   \n",
              "\n",
              "                                                  content category_pred  \\\n",
              "159074  삼성전자서비스 노조설립 방해에 항의농성중 자살한 노조원의\\n죽음을 둘러싼 의혹에 대...            기타   \n",
              "159216  알고 계시나요? 대한민국의 외국인 영주권 납세자 아동 및 노인을 복지 혜택이 없는 ...        인권/성평등   \n",
              "159505  안녕하세요 저는 김포시에 거주중인 30대초반의 가장입니다.\\n제가 이렇게 청원을 드...   문화/예술/체육/언론   \n",
              "159650  생리대는 여성의 필수불가결한 물품입니다.\\n약 11세~50세까지 한 달에 한 번 3...   문화/예술/체육/언론   \n",
              "159795  최근 유튜브에서 한 유튜버가 고양이를 학대하는 영상을찍어 올렸습니다. 이런 범죄를 ...          정치개혁   \n",
              "\n",
              "                                    content_preprocessing  \\\n",
              "159074  삼성전자서비스 노조설립 방해에 항의농성중 자살한 노조원의 죽음을 둘러싼 의혹에 대하...   \n",
              "159216  알고 계시나요  대한민국의 외국인 영주권 납세자 아동 및 노인을 복지 혜택이 없는 ...   \n",
              "159505  안녕하세요 저는 김포시에 거주중인   대초반의 가장입니다  제가 이렇게 청원을 드리...   \n",
              "159650  생리대는 여성의 필수불가결한 물품입니다  약   세   세까지 한 달에 한 번   ...   \n",
              "159795  최근 유튜브에서 한 유튜버가 고양이를 학대하는 영상을찍어 올렸습니다  이런 범죄를 ...   \n",
              "\n",
              "                                   content_preprocessing2  pred_diff  \n",
              "159074  삼성전자서비스 노조설립 방해에 항의농성중 자살한 노조원의 죽음을 둘러싼 의혹에 대하...          0  \n",
              "159216  알고 계시나요  대한민국의 외국인 영주권 납세자 아동 노인을 복지 혜택이 사실  영...          0  \n",
              "159505  안녕하세요 김포시에 거주중인   대초반의 가장입니다  제가 이렇게 청원을 드리게된 ...          0  \n",
              "159650  생리대는 여성의 필수불가결한 물품입니다  약   세   세까지 달에 번    일을 ...          0  \n",
              "159795  최근 유튜브에서 유튜버가 고양이를 학대하는 영상을찍어 올렸습니다  범죄를 지켜만보아...          0  "
            ]
          },
          "metadata": {
            "tags": []
          },
          "execution_count": 64
        }
      ]
    },
    {
      "metadata": {
        "id": "19dauZBlt01T",
        "colab_type": "code",
        "colab": {
          "base_uri": "https://localhost:8080/",
          "height": 353
        },
        "outputId": "87a53131-0009-4c0a-8ea2-d48b86cc506d"
      },
      "cell_type": "code",
      "source": [
        "predict_incorrect_value = predict_incorrect['category'].value_counts()\n",
        "predict_incorrect_value"
      ],
      "execution_count": 65,
      "outputs": [
        {
          "output_type": "execute_result",
          "data": {
            "text/plain": [
              "인권/성평등         78\n",
              "정치개혁           51\n",
              "기타             47\n",
              "안전/환경          46\n",
              "교통/건축/국토       38\n",
              "보건복지           34\n",
              "행정             32\n",
              "육아/교육          28\n",
              "경제민주화          23\n",
              "문화/예술/체육/언론    22\n",
              "일자리            21\n",
              "반려동물           20\n",
              "외교/통일/국방       19\n",
              "성장동력            4\n",
              "저출산/고령화대책       4\n",
              "미래              3\n",
              "농산어촌            2\n",
              "Name: category, dtype: int64"
            ]
          },
          "metadata": {
            "tags": []
          },
          "execution_count": 65
        }
      ]
    },
    {
      "metadata": {
        "id": "kzW0yPVzt01V",
        "colab_type": "code",
        "colab": {
          "base_uri": "https://localhost:8080/",
          "height": 312
        },
        "outputId": "6ea7e8b1-c190-4b45-9a8c-f3a556e62937"
      },
      "cell_type": "code",
      "source": [
        "# 잘못 예측한 카테고리 중 인권/성평등 카테고리가 가장 많습니다.\n",
        "predict_incorrect_value.plot(kind='bar')"
      ],
      "execution_count": 66,
      "outputs": [
        {
          "output_type": "execute_result",
          "data": {
            "text/plain": [
              "<matplotlib.axes._subplots.AxesSubplot at 0x7fa71c5f4e10>"
            ]
          },
          "metadata": {
            "tags": []
          },
          "execution_count": 66
        },
        {
          "output_type": "display_data",
          "data": {
            "image/png": "[encoded data removed]",
            "text/plain": [
              "<matplotlib.figure.Figure at 0x7fa71cb5e7b8>"
            ]
          },
          "metadata": {
            "tags": []
          }
        }
      ]
    },
    {
      "metadata": {
        "id": "2MX3Uafzt01Y",
        "colab_type": "text"
      },
      "cell_type": "markdown",
      "source": [
        "# 왜 예측의 정확도가 낮을까요?\n",
        "* 청원을 입력하는 사람마다 카테고리 분류 기준이 정확하지 않은 것 같습니다.\n",
        "* 기타로 예측한 분류도 특정 카테고리로 분류해도 될 것으로 보여집니다."
      ]
    },
    {
      "metadata": {
        "id": "CIT34Dj3t01Z",
        "colab_type": "code",
        "colab": {
          "base_uri": "https://localhost:8080/",
          "height": 529
        },
        "outputId": "3150e4b0-c344-420f-a558-915e205f511a"
      },
      "cell_type": "code",
      "source": [
        "predict_incorrect[['category', 'category_pred', 'title', 'content']].head(10)"
      ],
      "execution_count": 67,
      "outputs": [
        {
          "output_type": "execute_result",
          "data": {
            "text/html": [
              "<div>\n",
              "<style scoped>\n",
              "    .dataframe tbody tr th:only-of-type {\n",
              "        vertical-align: middle;\n",
              "    }\n",
              "\n",
              "    .dataframe tbody tr th {\n",
              "        vertical-align: top;\n",
              "    }\n",
              "\n",
              "    .dataframe thead th {\n",
              "        text-align: right;\n",
              "    }\n",
              "</style>\n",
              "<table border=\"1\" class=\"dataframe\">\n",
              "  <thead>\n",
              "    <tr style=\"text-align: right;\">\n",
              "      <th></th>\n",
              "      <th>category</th>\n",
              "      <th>category_pred</th>\n",
              "      <th>title</th>\n",
              "      <th>content</th>\n",
              "    </tr>\n",
              "  </thead>\n",
              "  <tbody>\n",
              "    <tr>\n",
              "      <th>159074</th>\n",
              "      <td>경제민주화</td>\n",
              "      <td>기타</td>\n",
              "      <td>삼성재벌의 노조탄압 진상조사를 위한 청문회개최를 청원합니다.</td>\n",
              "      <td>삼성전자서비스 노조설립 방해에 항의농성중 자살한 노조원의\\n죽음을 둘러싼 의혹에 대...</td>\n",
              "    </tr>\n",
              "    <tr>\n",
              "      <th>159216</th>\n",
              "      <td>보건복지</td>\n",
              "      <td>인권/성평등</td>\n",
              "      <td>외국인영주권자 처우 및 복지혜택 개선 관련 청원  取得永住权的在韩外国人待遇\u000b及福利改...</td>\n",
              "      <td>알고 계시나요? 대한민국의 외국인 영주권 납세자 아동 및 노인을 복지 혜택이 없는 ...</td>\n",
              "    </tr>\n",
              "    <tr>\n",
              "      <th>159505</th>\n",
              "      <td>행정</td>\n",
              "      <td>문화/예술/체육/언론</td>\n",
              "      <td>이단사이비단체로부터 안전한 대한민국에서 살고 싶습니다.</td>\n",
              "      <td>안녕하세요 저는 김포시에 거주중인 30대초반의 가장입니다.\\n제가 이렇게 청원을 드...</td>\n",
              "    </tr>\n",
              "    <tr>\n",
              "      <th>159650</th>\n",
              "      <td>보건복지</td>\n",
              "      <td>문화/예술/체육/언론</td>\n",
              "      <td>생리대 무상보급을 요구합니다</td>\n",
              "      <td>생리대는 여성의 필수불가결한 물품입니다.\\n약 11세~50세까지 한 달에 한 번 3...</td>\n",
              "    </tr>\n",
              "    <tr>\n",
              "      <th>159795</th>\n",
              "      <td>반려동물</td>\n",
              "      <td>정치개혁</td>\n",
              "      <td>유튜브 고양이 학대범 강력처벌</td>\n",
              "      <td>최근 유튜브에서 한 유튜버가 고양이를 학대하는 영상을찍어 올렸습니다. 이런 범죄를 ...</td>\n",
              "    </tr>\n",
              "    <tr>\n",
              "      <th>159801</th>\n",
              "      <td>반려동물</td>\n",
              "      <td>안전/환경</td>\n",
              "      <td>고양이 학대하는 영상 올린 유투버,이 외에도 동물학대범들 처벌 강화 시켜주십시오</td>\n",
              "      <td>한 유투버가 고양이 학대하며 '칼빵하겠다'고 말하고 학대하는 영상을 올렸습니다\\n동...</td>\n",
              "    </tr>\n",
              "    <tr>\n",
              "      <th>159827</th>\n",
              "      <td>교통/건축/국토</td>\n",
              "      <td>안전/환경</td>\n",
              "      <td>용인시 수지구 동천지구 도시개발사업 원래 계획대로 추진해주시기를 청원합니다</td>\n",
              "      <td>용인시 수지구 동천역세권 개발계획이 용인시와 용인도시공사의 업무태만으로ㅡ 처음 개발...</td>\n",
              "    </tr>\n",
              "    <tr>\n",
              "      <th>159921</th>\n",
              "      <td>보건복지</td>\n",
              "      <td>인권/성평등</td>\n",
              "      <td>대한치과위생사협회 회장의 부적절한 방법을 통한 재임을 막아 주세요</td>\n",
              "      <td>저는 많은 사람는들이 치과위생사 가 뭐하는 사람인지 모르는 시절부터 치과위생사로 사...</td>\n",
              "    </tr>\n",
              "    <tr>\n",
              "      <th>160122</th>\n",
              "      <td>기타</td>\n",
              "      <td>문화/예술/체육/언론</td>\n",
              "      <td>대한항공 조현민 전무의 갑질을 엄중 처벌해야합니다.</td>\n",
              "      <td>대한항공 조현민의 갑질을 엄중 처벌해야합니다.\\n지난번 땅콩회항 사건 당시 조현아의...</td>\n",
              "    </tr>\n",
              "    <tr>\n",
              "      <th>160147</th>\n",
              "      <td>교통/건축/국토</td>\n",
              "      <td>육아/교육</td>\n",
              "      <td>대한항공 국적기 박탈해주세요 (조씨 가문 악행 관련)</td>\n",
              "      <td>오늘 보도된 조현민 사태를 보고 청원냅니다\\n그 유명한 땅콩 회항 사태때 조현아에게...</td>\n",
              "    </tr>\n",
              "  </tbody>\n",
              "</table>\n",
              "</div>"
            ],
            "text/plain": [
              "        category category_pred  \\\n",
              "159074     경제민주화            기타   \n",
              "159216      보건복지        인권/성평등   \n",
              "159505        행정   문화/예술/체육/언론   \n",
              "159650      보건복지   문화/예술/체육/언론   \n",
              "159795      반려동물          정치개혁   \n",
              "159801      반려동물         안전/환경   \n",
              "159827  교통/건축/국토         안전/환경   \n",
              "159921      보건복지        인권/성평등   \n",
              "160122        기타   문화/예술/체육/언론   \n",
              "160147  교통/건축/국토         육아/교육   \n",
              "\n",
              "                                                    title  \\\n",
              "159074                  삼성재벌의 노조탄압 진상조사를 위한 청문회개최를 청원합니다.   \n",
              "159216  외국인영주권자 처우 및 복지혜택 개선 관련 청원  取得永住权的在韩外国人待遇\n",
              "及福利改...   \n",
              "159505                     이단사이비단체로부터 안전한 대한민국에서 살고 싶습니다.   \n",
              "159650                                    생리대 무상보급을 요구합니다   \n",
              "159795                                   유튜브 고양이 학대범 강력처벌   \n",
              "159801       고양이 학대하는 영상 올린 유투버,이 외에도 동물학대범들 처벌 강화 시켜주십시오   \n",
              "159827          용인시 수지구 동천지구 도시개발사업 원래 계획대로 추진해주시기를 청원합니다   \n",
              "159921               대한치과위생사협회 회장의 부적절한 방법을 통한 재임을 막아 주세요   \n",
              "160122                       대한항공 조현민 전무의 갑질을 엄중 처벌해야합니다.   \n",
              "160147                      대한항공 국적기 박탈해주세요 (조씨 가문 악행 관련)   \n",
              "\n",
              "                                                  content  \n",
              "159074  삼성전자서비스 노조설립 방해에 항의농성중 자살한 노조원의\\n죽음을 둘러싼 의혹에 대...  \n",
              "159216  알고 계시나요? 대한민국의 외국인 영주권 납세자 아동 및 노인을 복지 혜택이 없는 ...  \n",
              "159505  안녕하세요 저는 김포시에 거주중인 30대초반의 가장입니다.\\n제가 이렇게 청원을 드...  \n",
              "159650  생리대는 여성의 필수불가결한 물품입니다.\\n약 11세~50세까지 한 달에 한 번 3...  \n",
              "159795  최근 유튜브에서 한 유튜버가 고양이를 학대하는 영상을찍어 올렸습니다. 이런 범죄를 ...  \n",
              "159801  한 유투버가 고양이 학대하며 '칼빵하겠다'고 말하고 학대하는 영상을 올렸습니다\\n동...  \n",
              "159827  용인시 수지구 동천역세권 개발계획이 용인시와 용인도시공사의 업무태만으로ㅡ 처음 개발...  \n",
              "159921  저는 많은 사람는들이 치과위생사 가 뭐하는 사람인지 모르는 시절부터 치과위생사로 사...  \n",
              "160122  대한항공 조현민의 갑질을 엄중 처벌해야합니다.\\n지난번 땅콩회항 사건 당시 조현아의...  \n",
              "160147  오늘 보도된 조현민 사태를 보고 청원냅니다\\n그 유명한 땅콩 회항 사태때 조현아에게...  "
            ]
          },
          "metadata": {
            "tags": []
          },
          "execution_count": 67
        }
      ]
    },
    {
      "metadata": {
        "id": "qtBaHB1Bt01c",
        "colab_type": "text"
      },
      "cell_type": "markdown",
      "source": [
        "## 원래 데이터 중 기타로 분류되었으나 분류기가 다르게 예측한 청원을 봅니다."
      ]
    },
    {
      "metadata": {
        "id": "vE8eaLzkt01c",
        "colab_type": "code",
        "colab": {
          "base_uri": "https://localhost:8080/",
          "height": 511
        },
        "outputId": "691afcb1-069e-4c62-ca4d-21d184a77519"
      },
      "cell_type": "code",
      "source": [
        "predict_incorrect_etc = predict_incorrect.loc[predict_incorrect['category'] == '기타'].copy()\n",
        "predict_incorrect_etc[['category', 'category_pred', 'title', 'content']].head(10)"
      ],
      "execution_count": 68,
      "outputs": [
        {
          "output_type": "execute_result",
          "data": {
            "text/html": [
              "<div>\n",
              "<style scoped>\n",
              "    .dataframe tbody tr th:only-of-type {\n",
              "        vertical-align: middle;\n",
              "    }\n",
              "\n",
              "    .dataframe tbody tr th {\n",
              "        vertical-align: top;\n",
              "    }\n",
              "\n",
              "    .dataframe thead th {\n",
              "        text-align: right;\n",
              "    }\n",
              "</style>\n",
              "<table border=\"1\" class=\"dataframe\">\n",
              "  <thead>\n",
              "    <tr style=\"text-align: right;\">\n",
              "      <th></th>\n",
              "      <th>category</th>\n",
              "      <th>category_pred</th>\n",
              "      <th>title</th>\n",
              "      <th>content</th>\n",
              "    </tr>\n",
              "  </thead>\n",
              "  <tbody>\n",
              "    <tr>\n",
              "      <th>160122</th>\n",
              "      <td>기타</td>\n",
              "      <td>문화/예술/체육/언론</td>\n",
              "      <td>대한항공 조현민 전무의 갑질을 엄중 처벌해야합니다.</td>\n",
              "      <td>대한항공 조현민의 갑질을 엄중 처벌해야합니다.\\n지난번 땅콩회항 사건 당시 조현아의...</td>\n",
              "    </tr>\n",
              "    <tr>\n",
              "      <th>161075</th>\n",
              "      <td>기타</td>\n",
              "      <td>교통/건축/국토</td>\n",
              "      <td>대한항공 -&gt; 한진항공으로!!</td>\n",
              "      <td>대한은 대한민국을 의미합니다.\\n처음 조현아의 땅콩회항 사건 때 실시해야 했습니다....</td>\n",
              "    </tr>\n",
              "    <tr>\n",
              "      <th>161370</th>\n",
              "      <td>기타</td>\n",
              "      <td>문화/예술/체육/언론</td>\n",
              "      <td>Kar기 대한항공 의 명칭을 못쓰게 해야됩니다.</td>\n",
              "      <td>금수저출신이라고 갑질하는 대한항공 가족들이\\n자기회사가 마치 대한민국을 대표하는것 ...</td>\n",
              "    </tr>\n",
              "    <tr>\n",
              "      <th>161671</th>\n",
              "      <td>기타</td>\n",
              "      <td>육아/교육</td>\n",
              "      <td>‘만민중앙교회’ 등 종교계의 성범죄, 세뇌, 비리, 사기를 밝혀주시고, ‘피해자들’...</td>\n",
              "      <td>존경하고 사랑하는 대통령님!\\n어디에도 호소할 수 없던 저희의 이야기를 이렇게 청원...</td>\n",
              "    </tr>\n",
              "    <tr>\n",
              "      <th>161913</th>\n",
              "      <td>기타</td>\n",
              "      <td>문화/예술/체육/언론</td>\n",
              "      <td>대한항공 ''대한''상호와 태극문양 사용금지</td>\n",
              "      <td>안녕하세요,\\n조현민 전무의 공개된 음성 파일을\\n들었습니다. 직위를 이용해서 그렇...</td>\n",
              "    </tr>\n",
              "    <tr>\n",
              "      <th>162592</th>\n",
              "      <td>기타</td>\n",
              "      <td>보건복지</td>\n",
              "      <td>조씨일가 갑질에 대하여 재수사와 대한한공의 KOREA 라는 단어를 쓰지 못하게 해주세요</td>\n",
              "      <td>과거 조현아의 땅콩회항 사건으로 우리나라는 세계적인 비웃음거리가 되었음에도 불구하고...</td>\n",
              "    </tr>\n",
              "    <tr>\n",
              "      <th>164316</th>\n",
              "      <td>기타</td>\n",
              "      <td>행정</td>\n",
              "      <td>다산신도시 택배 사태 해결에 국고가 사용되는 것을 반대합니다.</td>\n",
              "      <td>다산신도시에서 발생한 택배 배송 거부 사건은\\n입주민의 무분별한 님비현상이고, 건설...</td>\n",
              "    </tr>\n",
              "    <tr>\n",
              "      <th>164633</th>\n",
              "      <td>기타</td>\n",
              "      <td>문화/예술/체육/언론</td>\n",
              "      <td>삼성 반도체 공정 정보 공개를 반대합니다.</td>\n",
              "      <td>현재 고용노동부에서 삼성 반도체의 공정 정보 공개를 강행할려고 하는데 이는 다른 나...</td>\n",
              "    </tr>\n",
              "    <tr>\n",
              "      <th>165853</th>\n",
              "      <td>기타</td>\n",
              "      <td>인권/성평등</td>\n",
              "      <td>우리들은 머슴입니다.</td>\n",
              "      <td>KT서비스 남부,북부 , KTIS, KTCS 등 우리 모두는 KT에 의해 만들어진 ...</td>\n",
              "    </tr>\n",
              "    <tr>\n",
              "      <th>167162</th>\n",
              "      <td>기타</td>\n",
              "      <td>보건복지</td>\n",
              "      <td>가짜뉴스를 생산하는 기자와 그 언론사를 처벌해주세요.</td>\n",
              "      <td>가짜 뉴스를 생산해내는 여러 매체와 기자들이 있습니다.\\n한 마디로 '아님말고'식으...</td>\n",
              "    </tr>\n",
              "  </tbody>\n",
              "</table>\n",
              "</div>"
            ],
            "text/plain": [
              "       category category_pred  \\\n",
              "160122       기타   문화/예술/체육/언론   \n",
              "161075       기타      교통/건축/국토   \n",
              "161370       기타   문화/예술/체육/언론   \n",
              "161671       기타         육아/교육   \n",
              "161913       기타   문화/예술/체육/언론   \n",
              "162592       기타          보건복지   \n",
              "164316       기타            행정   \n",
              "164633       기타   문화/예술/체육/언론   \n",
              "165853       기타        인권/성평등   \n",
              "167162       기타          보건복지   \n",
              "\n",
              "                                                    title  \\\n",
              "160122                       대한항공 조현민 전무의 갑질을 엄중 처벌해야합니다.   \n",
              "161075                                   대한항공 -> 한진항공으로!!   \n",
              "161370                         Kar기 대한항공 의 명칭을 못쓰게 해야됩니다.   \n",
              "161671  ‘만민중앙교회’ 등 종교계의 성범죄, 세뇌, 비리, 사기를 밝혀주시고, ‘피해자들’...   \n",
              "161913                           대한항공 ''대한''상호와 태극문양 사용금지   \n",
              "162592   조씨일가 갑질에 대하여 재수사와 대한한공의 KOREA 라는 단어를 쓰지 못하게 해주세요   \n",
              "164316                 다산신도시 택배 사태 해결에 국고가 사용되는 것을 반대합니다.   \n",
              "164633                            삼성 반도체 공정 정보 공개를 반대합니다.   \n",
              "165853                                        우리들은 머슴입니다.   \n",
              "167162                      가짜뉴스를 생산하는 기자와 그 언론사를 처벌해주세요.   \n",
              "\n",
              "                                                  content  \n",
              "160122  대한항공 조현민의 갑질을 엄중 처벌해야합니다.\\n지난번 땅콩회항 사건 당시 조현아의...  \n",
              "161075  대한은 대한민국을 의미합니다.\\n처음 조현아의 땅콩회항 사건 때 실시해야 했습니다....  \n",
              "161370  금수저출신이라고 갑질하는 대한항공 가족들이\\n자기회사가 마치 대한민국을 대표하는것 ...  \n",
              "161671  존경하고 사랑하는 대통령님!\\n어디에도 호소할 수 없던 저희의 이야기를 이렇게 청원...  \n",
              "161913  안녕하세요,\\n조현민 전무의 공개된 음성 파일을\\n들었습니다. 직위를 이용해서 그렇...  \n",
              "162592  과거 조현아의 땅콩회항 사건으로 우리나라는 세계적인 비웃음거리가 되었음에도 불구하고...  \n",
              "164316  다산신도시에서 발생한 택배 배송 거부 사건은\\n입주민의 무분별한 님비현상이고, 건설...  \n",
              "164633  현재 고용노동부에서 삼성 반도체의 공정 정보 공개를 강행할려고 하는데 이는 다른 나...  \n",
              "165853  KT서비스 남부,북부 , KTIS, KTCS 등 우리 모두는 KT에 의해 만들어진 ...  \n",
              "167162  가짜 뉴스를 생산해내는 여러 매체와 기자들이 있습니다.\\n한 마디로 '아님말고'식으...  "
            ]
          },
          "metadata": {
            "tags": []
          },
          "execution_count": 68
        }
      ]
    },
    {
      "metadata": {
        "id": "0WE6CJGjt01f",
        "colab_type": "code",
        "colab": {}
      },
      "cell_type": "code",
      "source": [
        ""
      ],
      "execution_count": 0,
      "outputs": []
    }
  ]
}