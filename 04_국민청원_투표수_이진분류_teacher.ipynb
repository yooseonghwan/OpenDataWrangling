{
  "nbformat": 4,
  "nbformat_minor": 0,
  "metadata": {
    "colab": {
      "name": "04 국민청원 투표수 이진분류",
      "version": "0.3.2",
      "provenance": [],
      "collapsed_sections": [
        "Ftqshf06GWMg",
        "EvfLGn81GWMw",
        "qglyc-NxGWNL",
        "OLdWKx2iGWN4",
        "mgaCkot3GWN_",
        "1iGf3ldBGWOF"
      ],
      "include_colab_link": true
    },
    "kernelspec": {
      "display_name": "Python 3",
      "language": "python",
      "name": "python3"
    }
  },
  "cells": [
    {
      "cell_type": "markdown",
      "metadata": {
        "id": "view-in-github",
        "colab_type": "text"
      },
      "source": [
        "[View in Colaboratory](https://colab.research.google.com/github/yooseonghwan/OpenDataWrangling/blob/master/04_%EA%B5%AD%EB%AF%BC%EC%B2%AD%EC%9B%90_%ED%88%AC%ED%91%9C%EC%88%98_%EC%9D%B4%EC%A7%84%EB%B6%84%EB%A5%98_teacher.ipynb)"
      ]
    },
    {
      "metadata": {
        "id": "Ddb_N_hoGWLg",
        "colab_type": "text"
      },
      "cell_type": "markdown",
      "source": [
        "# 국민청원 데이터로 이진 분류하기"
      ]
    },
    {
      "metadata": {
        "id": "Ai6XYDVxGWLh",
        "colab_type": "text"
      },
      "cell_type": "markdown",
      "source": [
        "* 예제로 응답여부를 0과 1로 예측합니다.\n",
        "* 응답여부 외에도 청원의 카테고리를 예측하는 분류를 해볼 수도 있을것 같아요. \n",
        "* 이 예제를 참고하여 응답여부외에 청원내용으로 평균 이상의 투표를 받을 것인지 여부를 예측해 보면 좋겠습니다."
      ]
    },
    {
      "metadata": {
        "id": "_wQrrZ86GWLj",
        "colab_type": "code",
        "colab": {
          "base_uri": "https://localhost:8080/",
          "height": 55
        },
        "outputId": "c1c05c96-7fb0-45d4-ac32-f8aea97271e3"
      },
      "cell_type": "code",
      "source": [
        "import pandas as pd\n",
        "import numpy as np\n",
        "import re\n",
        "print(pd.__version__)\n",
        "print(np.__version__)"
      ],
      "execution_count": 6,
      "outputs": [
        {
          "output_type": "stream",
          "text": [
            "0.22.0\n",
            "1.14.5\n"
          ],
          "name": "stdout"
        }
      ]
    },
    {
      "metadata": {
        "id": "0nh1yksKGWLn",
        "colab_type": "text"
      },
      "cell_type": "markdown",
      "source": [
        "# 데이터 로드하기\n",
        "*  데이터 출처 : https://github.com/akngs/petitions"
      ]
    },
    {
      "metadata": {
        "id": "pl0wXl4Gb7SR",
        "colab_type": "code",
        "colab": {}
      },
      "cell_type": "code",
      "source": [
        "# 드라이브 폴더에 있는 petition.csv를 업로드 합니다. 01 국민청원 분석 및 시각화 에서 이미 해주었다면 다시 해줄 필요는 없습니다.\n",
        "# from google.colab import files\n",
        "\n",
        "# uploaded = files.upload()\n",
        "\n",
        "# for fn in uploaded.keys():\n",
        "#   print('User uploaded file \"{name}\" with length {length} bytes'.format(\n",
        "#       name=fn, length=len(uploaded[fn])))"
      ],
      "execution_count": 0,
      "outputs": []
    },
    {
      "metadata": {
        "id": "XKzGmKPRb-DJ",
        "colab_type": "code",
        "colab": {
          "base_uri": "https://localhost:8080/",
          "height": 92
        },
        "outputId": "b4c937e0-2237-4c7d-9087-0d0b448c1666"
      },
      "cell_type": "code",
      "source": [
        "# petition.csv 파일이 보이지 않는다면 위 셀의 주석을 풀고 해당 파일을 업로드 합니다.\n",
        "%ls"
      ],
      "execution_count": 7,
      "outputs": [
        {
          "output_type": "stream",
          "text": [
            "1minwords                                          \u001b[0m\u001b[01;36mdatalab\u001b[0m@\r\n",
            "1minwords.trainables.syn1neg.npy                   petition.csv\r\n",
            "1minwords.wv.vectors.npy                           \u001b[01;34msample_data\u001b[0m/\r\n",
            "전국_평균_분양가격_2018.6월_.csv\r\n"
          ],
          "name": "stdout"
        }
      ]
    },
    {
      "metadata": {
        "id": "qZsZL9eBGWLo",
        "colab_type": "code",
        "colab": {
          "base_uri": "https://localhost:8080/",
          "height": 36
        },
        "outputId": "479df3b1-aa13-4569-c9bb-d2e6d646c362"
      },
      "cell_type": "code",
      "source": [
        "# 크롤링해 온 국민청원 데이터를 판다스를 통해 읽어옵니다.\n",
        "petitions = pd.read_csv('petition.csv', parse_dates=['start', 'end'])\n",
        "# 데이터의 크기가 어느정도인지 봅니다.\n",
        "petitions.shape"
      ],
      "execution_count": 8,
      "outputs": [
        {
          "output_type": "execute_result",
          "data": {
            "text/plain": [
              "(210424, 8)"
            ]
          },
          "metadata": {
            "tags": []
          },
          "execution_count": 8
        }
      ]
    },
    {
      "metadata": {
        "id": "cWPp0PaTGWLs",
        "colab_type": "code",
        "colab": {
          "base_uri": "https://localhost:8080/",
          "height": 294
        },
        "outputId": "8061fea8-2040-453d-e030-8574fba19037"
      },
      "cell_type": "code",
      "source": [
        "petitions.describe()"
      ],
      "execution_count": 9,
      "outputs": [
        {
          "output_type": "execute_result",
          "data": {
            "text/html": [
              "<div>\n",
              "<style scoped>\n",
              "    .dataframe tbody tr th:only-of-type {\n",
              "        vertical-align: middle;\n",
              "    }\n",
              "\n",
              "    .dataframe tbody tr th {\n",
              "        vertical-align: top;\n",
              "    }\n",
              "\n",
              "    .dataframe thead th {\n",
              "        text-align: right;\n",
              "    }\n",
              "</style>\n",
              "<table border=\"1\" class=\"dataframe\">\n",
              "  <thead>\n",
              "    <tr style=\"text-align: right;\">\n",
              "      <th></th>\n",
              "      <th>article_id</th>\n",
              "      <th>answered</th>\n",
              "      <th>votes</th>\n",
              "    </tr>\n",
              "  </thead>\n",
              "  <tbody>\n",
              "    <tr>\n",
              "      <th>count</th>\n",
              "      <td>210424.000000</td>\n",
              "      <td>210424.000000</td>\n",
              "      <td>210424.000000</td>\n",
              "    </tr>\n",
              "    <tr>\n",
              "      <th>mean</th>\n",
              "      <td>126356.643358</td>\n",
              "      <td>0.000128</td>\n",
              "      <td>146.814508</td>\n",
              "    </tr>\n",
              "    <tr>\n",
              "      <th>std</th>\n",
              "      <td>79120.580606</td>\n",
              "      <td>0.011327</td>\n",
              "      <td>4595.002647</td>\n",
              "    </tr>\n",
              "    <tr>\n",
              "      <th>min</th>\n",
              "      <td>21.000000</td>\n",
              "      <td>0.000000</td>\n",
              "      <td>0.000000</td>\n",
              "    </tr>\n",
              "    <tr>\n",
              "      <th>25%</th>\n",
              "      <td>54617.750000</td>\n",
              "      <td>0.000000</td>\n",
              "      <td>1.000000</td>\n",
              "    </tr>\n",
              "    <tr>\n",
              "      <th>50%</th>\n",
              "      <td>126121.500000</td>\n",
              "      <td>0.000000</td>\n",
              "      <td>3.000000</td>\n",
              "    </tr>\n",
              "    <tr>\n",
              "      <th>75%</th>\n",
              "      <td>192984.500000</td>\n",
              "      <td>0.000000</td>\n",
              "      <td>10.000000</td>\n",
              "    </tr>\n",
              "    <tr>\n",
              "      <th>max</th>\n",
              "      <td>271767.000000</td>\n",
              "      <td>1.000000</td>\n",
              "      <td>714875.000000</td>\n",
              "    </tr>\n",
              "  </tbody>\n",
              "</table>\n",
              "</div>"
            ],
            "text/plain": [
              "          article_id       answered          votes\n",
              "count  210424.000000  210424.000000  210424.000000\n",
              "mean   126356.643358       0.000128     146.814508\n",
              "std     79120.580606       0.011327    4595.002647\n",
              "min        21.000000       0.000000       0.000000\n",
              "25%     54617.750000       0.000000       1.000000\n",
              "50%    126121.500000       0.000000       3.000000\n",
              "75%    192984.500000       0.000000      10.000000\n",
              "max    271767.000000       1.000000  714875.000000"
            ]
          },
          "metadata": {
            "tags": []
          },
          "execution_count": 9
        }
      ]
    },
    {
      "metadata": {
        "id": "ZX-Js1ZnGWLx",
        "colab_type": "code",
        "colab": {
          "base_uri": "https://localhost:8080/",
          "height": 36
        },
        "outputId": "030cff68-da73-47ce-d1ae-ca5629c45ece"
      },
      "cell_type": "code",
      "source": [
        "# 전체 데이터 중 투표가 1000건 이상인 데이터를 기준으로 가져옵니다. 아웃라이어 데이터 제거를 위해 20만건 이상 데이터도 제거합니다.\n",
        "petition_remove_outlier = petitions.loc[(petitions['votes'] > 100) & (petitions['votes'] < 10000)]\n",
        "petition_remove_outlier.shape"
      ],
      "execution_count": 10,
      "outputs": [
        {
          "output_type": "execute_result",
          "data": {
            "text/plain": [
              "(8967, 8)"
            ]
          },
          "metadata": {
            "tags": []
          },
          "execution_count": 10
        }
      ]
    },
    {
      "metadata": {
        "id": "zhNm4m1UGWL0",
        "colab_type": "code",
        "colab": {}
      },
      "cell_type": "code",
      "source": [
        "df = petition_remove_outlier.copy()"
      ],
      "execution_count": 0,
      "outputs": []
    },
    {
      "metadata": {
        "id": "WB-ltSN0GWL3",
        "colab_type": "code",
        "colab": {
          "base_uri": "https://localhost:8080/",
          "height": 294
        },
        "outputId": "dda08926-7c02-43dc-c181-557e6d0c878e"
      },
      "cell_type": "code",
      "source": [
        "df.describe()"
      ],
      "execution_count": 12,
      "outputs": [
        {
          "output_type": "execute_result",
          "data": {
            "text/html": [
              "<div>\n",
              "<style scoped>\n",
              "    .dataframe tbody tr th:only-of-type {\n",
              "        vertical-align: middle;\n",
              "    }\n",
              "\n",
              "    .dataframe tbody tr th {\n",
              "        vertical-align: top;\n",
              "    }\n",
              "\n",
              "    .dataframe thead th {\n",
              "        text-align: right;\n",
              "    }\n",
              "</style>\n",
              "<table border=\"1\" class=\"dataframe\">\n",
              "  <thead>\n",
              "    <tr style=\"text-align: right;\">\n",
              "      <th></th>\n",
              "      <th>article_id</th>\n",
              "      <th>answered</th>\n",
              "      <th>votes</th>\n",
              "    </tr>\n",
              "  </thead>\n",
              "  <tbody>\n",
              "    <tr>\n",
              "      <th>count</th>\n",
              "      <td>8967.000000</td>\n",
              "      <td>8967.0</td>\n",
              "      <td>8967.000000</td>\n",
              "    </tr>\n",
              "    <tr>\n",
              "      <th>mean</th>\n",
              "      <td>159248.267425</td>\n",
              "      <td>0.0</td>\n",
              "      <td>718.720085</td>\n",
              "    </tr>\n",
              "    <tr>\n",
              "      <th>std</th>\n",
              "      <td>71006.266735</td>\n",
              "      <td>0.0</td>\n",
              "      <td>1330.500093</td>\n",
              "    </tr>\n",
              "    <tr>\n",
              "      <th>min</th>\n",
              "      <td>28.000000</td>\n",
              "      <td>0.0</td>\n",
              "      <td>101.000000</td>\n",
              "    </tr>\n",
              "    <tr>\n",
              "      <th>25%</th>\n",
              "      <td>110169.000000</td>\n",
              "      <td>0.0</td>\n",
              "      <td>146.000000</td>\n",
              "    </tr>\n",
              "    <tr>\n",
              "      <th>50%</th>\n",
              "      <td>174560.000000</td>\n",
              "      <td>0.0</td>\n",
              "      <td>237.000000</td>\n",
              "    </tr>\n",
              "    <tr>\n",
              "      <th>75%</th>\n",
              "      <td>214746.000000</td>\n",
              "      <td>0.0</td>\n",
              "      <td>571.000000</td>\n",
              "    </tr>\n",
              "    <tr>\n",
              "      <th>max</th>\n",
              "      <td>271763.000000</td>\n",
              "      <td>0.0</td>\n",
              "      <td>9988.000000</td>\n",
              "    </tr>\n",
              "  </tbody>\n",
              "</table>\n",
              "</div>"
            ],
            "text/plain": [
              "          article_id  answered        votes\n",
              "count    8967.000000    8967.0  8967.000000\n",
              "mean   159248.267425       0.0   718.720085\n",
              "std     71006.266735       0.0  1330.500093\n",
              "min        28.000000       0.0   101.000000\n",
              "25%    110169.000000       0.0   146.000000\n",
              "50%    174560.000000       0.0   237.000000\n",
              "75%    214746.000000       0.0   571.000000\n",
              "max    271763.000000       0.0  9988.000000"
            ]
          },
          "metadata": {
            "tags": []
          },
          "execution_count": 12
        }
      ]
    },
    {
      "metadata": {
        "id": "Rm3fY9L7GWL6",
        "colab_type": "text"
      },
      "cell_type": "markdown",
      "source": [
        "# 이진분류 대상 정하기\n",
        "* 답변 여부에 대해 분류해보는 실습을 해볼까 했지만 표준편차가 너무 크고 모수가 적어 분류 데이터로 적합하지 않습니다."
      ]
    },
    {
      "metadata": {
        "id": "xRoBt62WGWL6",
        "colab_type": "code",
        "colab": {
          "base_uri": "https://localhost:8080/",
          "height": 36
        },
        "outputId": "3d566f73-d2d1-49c8-a63a-e7349bd09f3e"
      },
      "cell_type": "code",
      "source": [
        "# 답변대상건이 몇 건인지 봅니다. \n",
        "df.loc[df['answered'] == 1].shape"
      ],
      "execution_count": 13,
      "outputs": [
        {
          "output_type": "execute_result",
          "data": {
            "text/plain": [
              "(0, 8)"
            ]
          },
          "metadata": {
            "tags": []
          },
          "execution_count": 13
        }
      ]
    },
    {
      "metadata": {
        "id": "sqeQ5caHGWL-",
        "colab_type": "code",
        "colab": {
          "base_uri": "https://localhost:8080/",
          "height": 288
        },
        "outputId": "13961e5e-6570-455d-ebe8-994d0df4196f"
      },
      "cell_type": "code",
      "source": [
        "%matplotlib inline \n",
        "df['votes'].plot.hist()"
      ],
      "execution_count": 14,
      "outputs": [
        {
          "output_type": "execute_result",
          "data": {
            "text/plain": [
              "<matplotlib.axes._subplots.AxesSubplot at 0x7f5db0868240>"
            ]
          },
          "metadata": {
            "tags": []
          },
          "execution_count": 14
        },
        {
          "output_type": "display_data",
          "data": {
            "image/png": "[encoded data removed]",
            "text/plain": [
              "<matplotlib.figure.Figure at 0x7f5db3461470>"
            ]
          },
          "metadata": {
            "tags": []
          }
        }
      ]
    },
    {
      "metadata": {
        "id": "MF-j2CiAGWME",
        "colab_type": "text"
      },
      "cell_type": "markdown",
      "source": [
        "# 투표수를 평균보다 높게 혹은 적게 받는지 예측해 보기"
      ]
    },
    {
      "metadata": {
        "id": "UGynO02lGWMF",
        "colab_type": "code",
        "colab": {}
      },
      "cell_type": "code",
      "source": [
        "# 기본값을 0으로 세팅\n",
        "df['votes_pos_neg'] = 0"
      ],
      "execution_count": 0,
      "outputs": []
    },
    {
      "metadata": {
        "id": "vD764md3GWML",
        "colab_type": "code",
        "colab": {
          "base_uri": "https://localhost:8080/",
          "height": 36
        },
        "outputId": "6c15d514-2dcd-4d5b-ef1b-f199feefe142"
      },
      "cell_type": "code",
      "source": [
        "# 평균 투표수를 구해 옵니다.\n",
        "votes_mean = df['votes'].mean()\n",
        "votes_mean"
      ],
      "execution_count": 16,
      "outputs": [
        {
          "output_type": "execute_result",
          "data": {
            "text/plain": [
              "718.7200847552135"
            ]
          },
          "metadata": {
            "tags": []
          },
          "execution_count": 16
        }
      ]
    },
    {
      "metadata": {
        "id": "-qvvZnLrGWMP",
        "colab_type": "code",
        "colab": {}
      },
      "cell_type": "code",
      "source": [
        "# 투표수가 평균을 넘으면 1로 다시 세팅합니다.\n",
        "df['votes_pos_neg'] = (df['votes'] > votes_mean) == 1"
      ],
      "execution_count": 0,
      "outputs": []
    },
    {
      "metadata": {
        "id": "nSEVttZlwt1z",
        "colab_type": "code",
        "colab": {
          "base_uri": "https://localhost:8080/",
          "height": 36
        },
        "outputId": "50635b7d-f0c4-4611-faae-916caf035d07"
      },
      "cell_type": "code",
      "source": [
        "df['votes_pos_neg'] .dtypes"
      ],
      "execution_count": 18,
      "outputs": [
        {
          "output_type": "execute_result",
          "data": {
            "text/plain": [
              "dtype('bool')"
            ]
          },
          "metadata": {
            "tags": []
          },
          "execution_count": 18
        }
      ]
    },
    {
      "metadata": {
        "id": "v_WUfsiBGWMR",
        "colab_type": "code",
        "colab": {}
      },
      "cell_type": "code",
      "source": [
        "# 타입을 boolean 에서 int로 변경해 줍니다.\n",
        "df['votes_pos_neg'] = df['votes_pos_neg'].astype(int)"
      ],
      "execution_count": 0,
      "outputs": []
    },
    {
      "metadata": {
        "id": "qg5gannfGWMT",
        "colab_type": "code",
        "colab": {
          "base_uri": "https://localhost:8080/",
          "height": 289
        },
        "outputId": "13903b43-8996-4fd6-d79a-ad8b40fb0ac1"
      },
      "cell_type": "code",
      "source": [
        "df.head()"
      ],
      "execution_count": 20,
      "outputs": [
        {
          "output_type": "execute_result",
          "data": {
            "text/html": [
              "<div>\n",
              "<style scoped>\n",
              "    .dataframe tbody tr th:only-of-type {\n",
              "        vertical-align: middle;\n",
              "    }\n",
              "\n",
              "    .dataframe tbody tr th {\n",
              "        vertical-align: top;\n",
              "    }\n",
              "\n",
              "    .dataframe thead th {\n",
              "        text-align: right;\n",
              "    }\n",
              "</style>\n",
              "<table border=\"1\" class=\"dataframe\">\n",
              "  <thead>\n",
              "    <tr style=\"text-align: right;\">\n",
              "      <th></th>\n",
              "      <th>article_id</th>\n",
              "      <th>start</th>\n",
              "      <th>end</th>\n",
              "      <th>answered</th>\n",
              "      <th>votes</th>\n",
              "      <th>category</th>\n",
              "      <th>title</th>\n",
              "      <th>content</th>\n",
              "      <th>votes_pos_neg</th>\n",
              "    </tr>\n",
              "  </thead>\n",
              "  <tbody>\n",
              "    <tr>\n",
              "      <th>7</th>\n",
              "      <td>28</td>\n",
              "      <td>2017-08-19</td>\n",
              "      <td>2017-08-26</td>\n",
              "      <td>0</td>\n",
              "      <td>2137</td>\n",
              "      <td>경제민주화</td>\n",
              "      <td>소액주주를 보호해주십시오</td>\n",
              "      <td>**  존경하옵는 문재인대통령님께\\n저는 중국원양자원이라는 KOSPI상장사의 소액 ...</td>\n",
              "      <td>1</td>\n",
              "    </tr>\n",
              "    <tr>\n",
              "      <th>13</th>\n",
              "      <td>34</td>\n",
              "      <td>2017-08-19</td>\n",
              "      <td>2017-09-18</td>\n",
              "      <td>0</td>\n",
              "      <td>679</td>\n",
              "      <td>기타</td>\n",
              "      <td>『국가유공자 등 예우 및 지원에 관한법률』상「6.25전몰군경 자녀수당」의 불합리한 ...</td>\n",
              "      <td>(현황)\\n우리들 아버지께서는 67여년전 북의 남침으로 조국이 위기에 처했을 때 젊...</td>\n",
              "      <td>0</td>\n",
              "    </tr>\n",
              "    <tr>\n",
              "      <th>16</th>\n",
              "      <td>37</td>\n",
              "      <td>2017-08-19</td>\n",
              "      <td>2017-09-18</td>\n",
              "      <td>0</td>\n",
              "      <td>415</td>\n",
              "      <td>기타</td>\n",
              "      <td>황우석박사님 연구재개 허용 촉구합니다.</td>\n",
              "      <td>국민의 70% 이상이 황우석박사님을 응원하고 지지하고 있습니다.\\n*2007년 1월...</td>\n",
              "      <td>0</td>\n",
              "    </tr>\n",
              "    <tr>\n",
              "      <th>18</th>\n",
              "      <td>40</td>\n",
              "      <td>2017-08-19</td>\n",
              "      <td>2017-09-18</td>\n",
              "      <td>0</td>\n",
              "      <td>218</td>\n",
              "      <td>외교/통일/국방</td>\n",
              "      <td>국가유공자등 예우및 지우너에 관한 법률 시행령 개정</td>\n",
              "      <td>지금부터 67년전 1950년 6.25전쟁때 조국 대한민국이 위태로운 시점에 우리들 ...</td>\n",
              "      <td>0</td>\n",
              "    </tr>\n",
              "    <tr>\n",
              "      <th>19</th>\n",
              "      <td>41</td>\n",
              "      <td>2017-08-19</td>\n",
              "      <td>2017-09-18</td>\n",
              "      <td>0</td>\n",
              "      <td>227</td>\n",
              "      <td>외교/통일/국방</td>\n",
              "      <td>국가유공자등 예우및 지우너에 관한 법률 시행령 개정</td>\n",
              "      <td>지금부터 67년전 1950년 6.25전쟁때 조국 대한민국이 위태로운 시점에 우리들 ...</td>\n",
              "      <td>0</td>\n",
              "    </tr>\n",
              "  </tbody>\n",
              "</table>\n",
              "</div>"
            ],
            "text/plain": [
              "    article_id      start        end  answered  votes  category  \\\n",
              "7           28 2017-08-19 2017-08-26         0   2137     경제민주화   \n",
              "13          34 2017-08-19 2017-09-18         0    679        기타   \n",
              "16          37 2017-08-19 2017-09-18         0    415        기타   \n",
              "18          40 2017-08-19 2017-09-18         0    218  외교/통일/국방   \n",
              "19          41 2017-08-19 2017-09-18         0    227  외교/통일/국방   \n",
              "\n",
              "                                                title  \\\n",
              "7                                       소액주주를 보호해주십시오   \n",
              "13  『국가유공자 등 예우 및 지원에 관한법률』상「6.25전몰군경 자녀수당」의 불합리한 ...   \n",
              "16                              황우석박사님 연구재개 허용 촉구합니다.   \n",
              "18                       국가유공자등 예우및 지우너에 관한 법률 시행령 개정   \n",
              "19                       국가유공자등 예우및 지우너에 관한 법률 시행령 개정   \n",
              "\n",
              "                                              content  votes_pos_neg  \n",
              "7   **  존경하옵는 문재인대통령님께\\n저는 중국원양자원이라는 KOSPI상장사의 소액 ...              1  \n",
              "13  (현황)\\n우리들 아버지께서는 67여년전 북의 남침으로 조국이 위기에 처했을 때 젊...              0  \n",
              "16  국민의 70% 이상이 황우석박사님을 응원하고 지지하고 있습니다.\\n*2007년 1월...              0  \n",
              "18  지금부터 67년전 1950년 6.25전쟁때 조국 대한민국이 위태로운 시점에 우리들 ...              0  \n",
              "19  지금부터 67년전 1950년 6.25전쟁때 조국 대한민국이 위태로운 시점에 우리들 ...              0  "
            ]
          },
          "metadata": {
            "tags": []
          },
          "execution_count": 20
        }
      ]
    },
    {
      "metadata": {
        "id": "wGxJIX8PGWMX",
        "colab_type": "code",
        "colab": {}
      },
      "cell_type": "code",
      "source": [
        "# 샘플로 보고 싶은 인덱스의 번호를 넣어주세요.\n",
        "sample_index = 38"
      ],
      "execution_count": 0,
      "outputs": []
    },
    {
      "metadata": {
        "id": "8CuehUNqGWMa",
        "colab_type": "code",
        "colab": {
          "base_uri": "https://localhost:8080/",
          "height": 36
        },
        "outputId": "181c684c-ed96-4d89-bd38-4e8d099c681e"
      },
      "cell_type": "code",
      "source": [
        "sample_title = df['title'][sample_index]\n",
        "sample_title"
      ],
      "execution_count": 22,
      "outputs": [
        {
          "output_type": "execute_result",
          "data": {
            "text/plain": [
              "'영어회화전문강사제도는 유지되어야합니다.'"
            ]
          },
          "metadata": {
            "tags": []
          },
          "execution_count": 22
        }
      ]
    },
    {
      "metadata": {
        "id": "qLIB5jOTGWMc",
        "colab_type": "code",
        "colab": {
          "base_uri": "https://localhost:8080/",
          "height": 56
        },
        "outputId": "a0328278-ad89-4dca-d084-e204253460e7"
      },
      "cell_type": "code",
      "source": [
        "sample_content = petitions['content'][sample_index]\n",
        "sample_content"
      ],
      "execution_count": 23,
      "outputs": [
        {
          "output_type": "execute_result",
          "data": {
            "text/plain": [
              "'1. 영전강의고용안정을 원합니다\\\\n2.1년단위계약직으로 임신 출산육아 매우 곤란합니다\\\\n3. 성과급 호봉인정 상여금 급식비지원 전혀없으며 연봉인상 또한 없습니다\\\\n4.인권위의 무기직으로 전환 권고받았습니다\\\\n5.공공부문 비정규직 없애는건 문정부의 공약이며 이에따라 영전강만 제외하는것은 불공평합니다\\\\n저희는 정교사나 정규직을 원하는것이 아닙니다.\\\\n이 일을 계속 하길 희망할 뿐입니다.  문재인대통령님께선 일자리창출을 매우 중요하게 생각하셨습니다.  일자리창출 만큼 중요한것이 일자리 유지입니다.  창출만 하고 유지가 되지 않는다면 그저  형식적인 정책일 뿐입니다. 하루빨리 결과가 나와  안정된 마음으로 일하고 싶습니다.  감사합니다.'"
            ]
          },
          "metadata": {
            "tags": []
          },
          "execution_count": 23
        }
      ]
    },
    {
      "metadata": {
        "id": "Ftqshf06GWMg",
        "colab_type": "text"
      },
      "cell_type": "markdown",
      "source": [
        "# 전처리 하기 "
      ]
    },
    {
      "metadata": {
        "id": "xwG3rIWUGWMh",
        "colab_type": "code",
        "colab": {}
      },
      "cell_type": "code",
      "source": [
        "def preprocessing(text):\n",
        "    # 개행문자 제거\n",
        "    text = re.sub('\\\\\\\\n', ' ', text)\n",
        "    # 특수문자 제거\n",
        "    # 특수문자나 이모티콘 등은 때로는 의미를 갖기도 하지만 여기에서는 제거했습니다.\n",
        "    # text = re.sub('[?.,;:|\\)*~`’!^\\-_+<>@\\#$%&-=#}※]', '', text)\n",
        "    # 한글, 영문, 숫자만 남기고 모두 제거하도록 합니다.\n",
        "    # text = re.sub('[^가-힣ㄱ-ㅎㅏ-ㅣa-zA-Z0-9]', ' ', text)\n",
        "    # 한글, 영문만 남기고 모두 제거하도록 합니다.\n",
        "    text = re.sub('[^가-힣ㄱ-ㅎㅏ-ㅣa-zA-Z]', ' ', text)\n",
        "    return text"
      ],
      "execution_count": 0,
      "outputs": []
    },
    {
      "metadata": {
        "id": "jgbWrE_jGWMj",
        "colab_type": "code",
        "colab": {}
      },
      "cell_type": "code",
      "source": [
        "# 불용어 제거\n",
        "def remove_stopwords(text):\n",
        "    tokens = text.split(' ')\n",
        "    stops = ['수', '현', '있는', '있습니다', '그', '년도', '합니다', '하는', '및', '제', '할', '하고', '더', '대한', '한', '그리고', '월', '저는', '없는', '입니다', '등', '일', '많은', '이런', '것은', '왜','같은', '같습니다', '없습니다', '위해', '한다']\n",
        "    meaningful_words = [w for w in tokens if not w in stops]\n",
        "    return ' '.join(meaningful_words)"
      ],
      "execution_count": 0,
      "outputs": []
    },
    {
      "metadata": {
        "id": "O32FAOHqGWMk",
        "colab_type": "code",
        "colab": {}
      },
      "cell_type": "code",
      "source": [
        "# 샘플데이터에 적용\n",
        "pre_sample_content = preprocessing(sample_content)"
      ],
      "execution_count": 0,
      "outputs": []
    },
    {
      "metadata": {
        "id": "ib92t6XCGWMm",
        "colab_type": "code",
        "colab": {}
      },
      "cell_type": "code",
      "source": [
        "pre_sample_content = remove_stopwords(pre_sample_content)"
      ],
      "execution_count": 0,
      "outputs": []
    },
    {
      "metadata": {
        "id": "FiJI6mjBGWMp",
        "colab_type": "code",
        "colab": {
          "base_uri": "https://localhost:8080/",
          "height": 55
        },
        "outputId": "12851d6a-c0ac-4ee5-f839-3d0cf037f664"
      },
      "cell_type": "code",
      "source": [
        "%time df['content_preprocessing'] = df['content'].apply(preprocessing)"
      ],
      "execution_count": 28,
      "outputs": [
        {
          "output_type": "stream",
          "text": [
            "CPU times: user 437 ms, sys: 6.77 ms, total: 444 ms\n",
            "Wall time: 448 ms\n"
          ],
          "name": "stdout"
        }
      ]
    },
    {
      "metadata": {
        "id": "lFd-lTxCGWMt",
        "colab_type": "code",
        "colab": {
          "base_uri": "https://localhost:8080/",
          "height": 55
        },
        "outputId": "bbcd7630-39d2-4908-97ca-17ce6fba3552"
      },
      "cell_type": "code",
      "source": [
        "%time df['content_preprocessing2'] = df['content_preprocessing'].apply(remove_stopwords)"
      ],
      "execution_count": 29,
      "outputs": [
        {
          "output_type": "stream",
          "text": [
            "CPU times: user 985 ms, sys: 4.89 ms, total: 990 ms\n",
            "Wall time: 990 ms\n"
          ],
          "name": "stdout"
        }
      ]
    },
    {
      "metadata": {
        "id": "EvfLGn81GWMw",
        "colab_type": "text"
      },
      "cell_type": "markdown",
      "source": [
        "# 학습세트와 테스트세트 만들기\n",
        "* 학습세트와 테스트세트를 7:3의 비율로 나눠 줍니다."
      ]
    },
    {
      "metadata": {
        "id": "vUw2Cu6PGWMx",
        "colab_type": "code",
        "colab": {}
      },
      "cell_type": "code",
      "source": [
        "df = df.reset_index()"
      ],
      "execution_count": 0,
      "outputs": []
    },
    {
      "metadata": {
        "id": "-59nm1yKGWM0",
        "colab_type": "code",
        "colab": {
          "base_uri": "https://localhost:8080/",
          "height": 36
        },
        "outputId": "bdbdbf92-0334-4211-81fb-1174bdc76b04"
      },
      "cell_type": "code",
      "source": [
        "df.shape"
      ],
      "execution_count": 31,
      "outputs": [
        {
          "output_type": "execute_result",
          "data": {
            "text/plain": [
              "(8967, 12)"
            ]
          },
          "metadata": {
            "tags": []
          },
          "execution_count": 31
        }
      ]
    },
    {
      "metadata": {
        "id": "fIPZ3YXmGWM4",
        "colab_type": "code",
        "colab": {
          "base_uri": "https://localhost:8080/",
          "height": 36
        },
        "outputId": "e89f22d3-dd5d-4721-879d-a79d266c90fa"
      },
      "cell_type": "code",
      "source": [
        "split_count = int(df.shape[0] * 0.7)\n",
        "split_count"
      ],
      "execution_count": 32,
      "outputs": [
        {
          "output_type": "execute_result",
          "data": {
            "text/plain": [
              "6276"
            ]
          },
          "metadata": {
            "tags": []
          },
          "execution_count": 32
        }
      ]
    },
    {
      "metadata": {
        "id": "IIha9SluGWM7",
        "colab_type": "code",
        "colab": {
          "base_uri": "https://localhost:8080/",
          "height": 36
        },
        "outputId": "425fdd6f-cd43-41c3-c9fd-6788158d382f"
      },
      "cell_type": "code",
      "source": [
        "df_train = df[:split_count].copy()\n",
        "df_train.shape"
      ],
      "execution_count": 33,
      "outputs": [
        {
          "output_type": "execute_result",
          "data": {
            "text/plain": [
              "(6276, 12)"
            ]
          },
          "metadata": {
            "tags": []
          },
          "execution_count": 33
        }
      ]
    },
    {
      "metadata": {
        "id": "sVOVdV_RGWM9",
        "colab_type": "code",
        "colab": {
          "base_uri": "https://localhost:8080/",
          "height": 410
        },
        "outputId": "8ab36d44-ac40-4ca5-bfbf-22c22163c668"
      },
      "cell_type": "code",
      "source": [
        "df_train.head()"
      ],
      "execution_count": 34,
      "outputs": [
        {
          "output_type": "execute_result",
          "data": {
            "text/html": [
              "<div>\n",
              "<style scoped>\n",
              "    .dataframe tbody tr th:only-of-type {\n",
              "        vertical-align: middle;\n",
              "    }\n",
              "\n",
              "    .dataframe tbody tr th {\n",
              "        vertical-align: top;\n",
              "    }\n",
              "\n",
              "    .dataframe thead th {\n",
              "        text-align: right;\n",
              "    }\n",
              "</style>\n",
              "<table border=\"1\" class=\"dataframe\">\n",
              "  <thead>\n",
              "    <tr style=\"text-align: right;\">\n",
              "      <th></th>\n",
              "      <th>index</th>\n",
              "      <th>article_id</th>\n",
              "      <th>start</th>\n",
              "      <th>end</th>\n",
              "      <th>answered</th>\n",
              "      <th>votes</th>\n",
              "      <th>category</th>\n",
              "      <th>title</th>\n",
              "      <th>content</th>\n",
              "      <th>votes_pos_neg</th>\n",
              "      <th>content_preprocessing</th>\n",
              "      <th>content_preprocessing2</th>\n",
              "    </tr>\n",
              "  </thead>\n",
              "  <tbody>\n",
              "    <tr>\n",
              "      <th>0</th>\n",
              "      <td>7</td>\n",
              "      <td>28</td>\n",
              "      <td>2017-08-19</td>\n",
              "      <td>2017-08-26</td>\n",
              "      <td>0</td>\n",
              "      <td>2137</td>\n",
              "      <td>경제민주화</td>\n",
              "      <td>소액주주를 보호해주십시오</td>\n",
              "      <td>**  존경하옵는 문재인대통령님께\\n저는 중국원양자원이라는 KOSPI상장사의 소액 ...</td>\n",
              "      <td>1</td>\n",
              "      <td>존경하옵는 문재인대통령님께 저는 중국원양자원이라는 KOSPI상장사의 소액 주...</td>\n",
              "      <td>존경하옵는 문재인대통령님께 중국원양자원이라는 KOSPI상장사의 소액 주주입니...</td>\n",
              "    </tr>\n",
              "    <tr>\n",
              "      <th>1</th>\n",
              "      <td>13</td>\n",
              "      <td>34</td>\n",
              "      <td>2017-08-19</td>\n",
              "      <td>2017-09-18</td>\n",
              "      <td>0</td>\n",
              "      <td>679</td>\n",
              "      <td>기타</td>\n",
              "      <td>『국가유공자 등 예우 및 지원에 관한법률』상「6.25전몰군경 자녀수당」의 불합리한 ...</td>\n",
              "      <td>(현황)\\n우리들 아버지께서는 67여년전 북의 남침으로 조국이 위기에 처했을 때 젊...</td>\n",
              "      <td>0</td>\n",
              "      <td>현황  우리들 아버지께서는   여년전 북의 남침으로 조국이 위기에 처했을 때 젊은...</td>\n",
              "      <td>현황  우리들 아버지께서는   여년전 북의 남침으로 조국이 위기에 처했을 때 젊은...</td>\n",
              "    </tr>\n",
              "    <tr>\n",
              "      <th>2</th>\n",
              "      <td>16</td>\n",
              "      <td>37</td>\n",
              "      <td>2017-08-19</td>\n",
              "      <td>2017-09-18</td>\n",
              "      <td>0</td>\n",
              "      <td>415</td>\n",
              "      <td>기타</td>\n",
              "      <td>황우석박사님 연구재개 허용 촉구합니다.</td>\n",
              "      <td>국민의 70% 이상이 황우석박사님을 응원하고 지지하고 있습니다.\\n*2007년 1월...</td>\n",
              "      <td>0</td>\n",
              "      <td>국민의     이상이 황우석박사님을 응원하고 지지하고 있습니다       년  월 ...</td>\n",
              "      <td>국민의     이상이 황우석박사님을 응원하고 지지하고       년  중앙일보 여론...</td>\n",
              "    </tr>\n",
              "    <tr>\n",
              "      <th>3</th>\n",
              "      <td>18</td>\n",
              "      <td>40</td>\n",
              "      <td>2017-08-19</td>\n",
              "      <td>2017-09-18</td>\n",
              "      <td>0</td>\n",
              "      <td>218</td>\n",
              "      <td>외교/통일/국방</td>\n",
              "      <td>국가유공자등 예우및 지우너에 관한 법률 시행령 개정</td>\n",
              "      <td>지금부터 67년전 1950년 6.25전쟁때 조국 대한민국이 위태로운 시점에 우리들 ...</td>\n",
              "      <td>0</td>\n",
              "      <td>지금부터   년전     년     전쟁때 조국 대한민국이 위태로운 시점에 우리들 ...</td>\n",
              "      <td>지금부터   년전     년     전쟁때 조국 대한민국이 위태로운 시점에 우리들 ...</td>\n",
              "    </tr>\n",
              "    <tr>\n",
              "      <th>4</th>\n",
              "      <td>19</td>\n",
              "      <td>41</td>\n",
              "      <td>2017-08-19</td>\n",
              "      <td>2017-09-18</td>\n",
              "      <td>0</td>\n",
              "      <td>227</td>\n",
              "      <td>외교/통일/국방</td>\n",
              "      <td>국가유공자등 예우및 지우너에 관한 법률 시행령 개정</td>\n",
              "      <td>지금부터 67년전 1950년 6.25전쟁때 조국 대한민국이 위태로운 시점에 우리들 ...</td>\n",
              "      <td>0</td>\n",
              "      <td>지금부터   년전     년     전쟁때 조국 대한민국이 위태로운 시점에 우리들 ...</td>\n",
              "      <td>지금부터   년전     년     전쟁때 조국 대한민국이 위태로운 시점에 우리들 ...</td>\n",
              "    </tr>\n",
              "  </tbody>\n",
              "</table>\n",
              "</div>"
            ],
            "text/plain": [
              "   index  article_id      start        end  answered  votes  category  \\\n",
              "0      7          28 2017-08-19 2017-08-26         0   2137     경제민주화   \n",
              "1     13          34 2017-08-19 2017-09-18         0    679        기타   \n",
              "2     16          37 2017-08-19 2017-09-18         0    415        기타   \n",
              "3     18          40 2017-08-19 2017-09-18         0    218  외교/통일/국방   \n",
              "4     19          41 2017-08-19 2017-09-18         0    227  외교/통일/국방   \n",
              "\n",
              "                                               title  \\\n",
              "0                                      소액주주를 보호해주십시오   \n",
              "1  『국가유공자 등 예우 및 지원에 관한법률』상「6.25전몰군경 자녀수당」의 불합리한 ...   \n",
              "2                              황우석박사님 연구재개 허용 촉구합니다.   \n",
              "3                       국가유공자등 예우및 지우너에 관한 법률 시행령 개정   \n",
              "4                       국가유공자등 예우및 지우너에 관한 법률 시행령 개정   \n",
              "\n",
              "                                             content  votes_pos_neg  \\\n",
              "0  **  존경하옵는 문재인대통령님께\\n저는 중국원양자원이라는 KOSPI상장사의 소액 ...              1   \n",
              "1  (현황)\\n우리들 아버지께서는 67여년전 북의 남침으로 조국이 위기에 처했을 때 젊...              0   \n",
              "2  국민의 70% 이상이 황우석박사님을 응원하고 지지하고 있습니다.\\n*2007년 1월...              0   \n",
              "3  지금부터 67년전 1950년 6.25전쟁때 조국 대한민국이 위태로운 시점에 우리들 ...              0   \n",
              "4  지금부터 67년전 1950년 6.25전쟁때 조국 대한민국이 위태로운 시점에 우리들 ...              0   \n",
              "\n",
              "                               content_preprocessing  \\\n",
              "0      존경하옵는 문재인대통령님께 저는 중국원양자원이라는 KOSPI상장사의 소액 주...   \n",
              "1   현황  우리들 아버지께서는   여년전 북의 남침으로 조국이 위기에 처했을 때 젊은...   \n",
              "2  국민의     이상이 황우석박사님을 응원하고 지지하고 있습니다       년  월 ...   \n",
              "3  지금부터   년전     년     전쟁때 조국 대한민국이 위태로운 시점에 우리들 ...   \n",
              "4  지금부터   년전     년     전쟁때 조국 대한민국이 위태로운 시점에 우리들 ...   \n",
              "\n",
              "                              content_preprocessing2  \n",
              "0      존경하옵는 문재인대통령님께 중국원양자원이라는 KOSPI상장사의 소액 주주입니...  \n",
              "1   현황  우리들 아버지께서는   여년전 북의 남침으로 조국이 위기에 처했을 때 젊은...  \n",
              "2  국민의     이상이 황우석박사님을 응원하고 지지하고       년  중앙일보 여론...  \n",
              "3  지금부터   년전     년     전쟁때 조국 대한민국이 위태로운 시점에 우리들 ...  \n",
              "4  지금부터   년전     년     전쟁때 조국 대한민국이 위태로운 시점에 우리들 ...  "
            ]
          },
          "metadata": {
            "tags": []
          },
          "execution_count": 34
        }
      ]
    },
    {
      "metadata": {
        "id": "RqYDEM1zGWNA",
        "colab_type": "code",
        "colab": {
          "base_uri": "https://localhost:8080/",
          "height": 36
        },
        "outputId": "0f887d33-821d-4efb-8aac-5c9e526f0835"
      },
      "cell_type": "code",
      "source": [
        "# 학습 세트에서 투표수가 평균보다 많은 건\n",
        "df_train.loc[df_train['votes_pos_neg'] == 1].shape"
      ],
      "execution_count": 35,
      "outputs": [
        {
          "output_type": "execute_result",
          "data": {
            "text/plain": [
              "(1392, 12)"
            ]
          },
          "metadata": {
            "tags": []
          },
          "execution_count": 35
        }
      ]
    },
    {
      "metadata": {
        "id": "gx5qAlspGWNC",
        "colab_type": "code",
        "colab": {
          "base_uri": "https://localhost:8080/",
          "height": 36
        },
        "outputId": "11a4b5b0-0a57-4fea-a8ee-75390f5bb0c3"
      },
      "cell_type": "code",
      "source": [
        "df_test = df[split_count:].copy()\n",
        "df_test.shape"
      ],
      "execution_count": 36,
      "outputs": [
        {
          "output_type": "execute_result",
          "data": {
            "text/plain": [
              "(2691, 12)"
            ]
          },
          "metadata": {
            "tags": []
          },
          "execution_count": 36
        }
      ]
    },
    {
      "metadata": {
        "id": "od0QhGQ6GWNF",
        "colab_type": "code",
        "colab": {
          "base_uri": "https://localhost:8080/",
          "height": 462
        },
        "outputId": "4f8a7e1e-fa50-415e-c7af-5990a9cabff7"
      },
      "cell_type": "code",
      "source": [
        "df_test.head()"
      ],
      "execution_count": 37,
      "outputs": [
        {
          "output_type": "execute_result",
          "data": {
            "text/html": [
              "<div>\n",
              "<style scoped>\n",
              "    .dataframe tbody tr th:only-of-type {\n",
              "        vertical-align: middle;\n",
              "    }\n",
              "\n",
              "    .dataframe tbody tr th {\n",
              "        vertical-align: top;\n",
              "    }\n",
              "\n",
              "    .dataframe thead th {\n",
              "        text-align: right;\n",
              "    }\n",
              "</style>\n",
              "<table border=\"1\" class=\"dataframe\">\n",
              "  <thead>\n",
              "    <tr style=\"text-align: right;\">\n",
              "      <th></th>\n",
              "      <th>index</th>\n",
              "      <th>article_id</th>\n",
              "      <th>start</th>\n",
              "      <th>end</th>\n",
              "      <th>answered</th>\n",
              "      <th>votes</th>\n",
              "      <th>category</th>\n",
              "      <th>title</th>\n",
              "      <th>content</th>\n",
              "      <th>votes_pos_neg</th>\n",
              "      <th>content_preprocessing</th>\n",
              "      <th>content_preprocessing2</th>\n",
              "    </tr>\n",
              "  </thead>\n",
              "  <tbody>\n",
              "    <tr>\n",
              "      <th>6276</th>\n",
              "      <td>167702</td>\n",
              "      <td>207749</td>\n",
              "      <td>2018-04-20</td>\n",
              "      <td>2018-05-20</td>\n",
              "      <td>0</td>\n",
              "      <td>343</td>\n",
              "      <td>기타</td>\n",
              "      <td>조선일보 tv조선 폐간</td>\n",
              "      <td>조선일보는  친일언론으로 출발해 국가가 바로가는 일에 늘 언론의 역할을  져버린 채...</td>\n",
              "      <td>0</td>\n",
              "      <td>조선일보는  친일언론으로 출발해 국가가 바로가는 일에 늘 언론의 역할을  져버린 채...</td>\n",
              "      <td>조선일보는  친일언론으로 출발해 국가가 바로가는 일에 늘 언론의 역할을  져버린 채...</td>\n",
              "    </tr>\n",
              "    <tr>\n",
              "      <th>6277</th>\n",
              "      <td>167704</td>\n",
              "      <td>207751</td>\n",
              "      <td>2018-04-20</td>\n",
              "      <td>2018-05-20</td>\n",
              "      <td>0</td>\n",
              "      <td>330</td>\n",
              "      <td>행정</td>\n",
              "      <td>한국지엠 국민 혈세 투입금지 . 법정관리 검토해주세요</td>\n",
              "      <td>한국 GM의 국민 혈세를 투입하지말고\\n미국 GM 본사에서의 자금지원이 있도록 이끌...</td>\n",
              "      <td>0</td>\n",
              "      <td>한국 GM의 국민 혈세를 투입하지말고 미국 GM 본사에서의 자금지원이 있도록 이끌어...</td>\n",
              "      <td>한국 GM의 국민 혈세를 투입하지말고 미국 GM 본사에서의 자금지원이 있도록 이끌어...</td>\n",
              "    </tr>\n",
              "    <tr>\n",
              "      <th>6278</th>\n",
              "      <td>167713</td>\n",
              "      <td>207765</td>\n",
              "      <td>2018-04-20</td>\n",
              "      <td>2018-05-20</td>\n",
              "      <td>0</td>\n",
              "      <td>363</td>\n",
              "      <td>경제민주화</td>\n",
              "      <td>국민을 울린 씨그널엔터테인먼트 기업에 대해 아시나요?</td>\n",
              "      <td>대통령님 코스닥 상장사인 씨그널엔터테인먼트라는 연예 기획사가 있습니다\\n이기업은 그...</td>\n",
              "      <td>0</td>\n",
              "      <td>대통령님 코스닥 상장사인 씨그널엔터테인먼트라는 연예 기획사가 있습니다 이기업은 그동...</td>\n",
              "      <td>대통령님 코스닥 상장사인 씨그널엔터테인먼트라는 연예 기획사가 이기업은 그동안 수년간...</td>\n",
              "    </tr>\n",
              "    <tr>\n",
              "      <th>6279</th>\n",
              "      <td>167721</td>\n",
              "      <td>207778</td>\n",
              "      <td>2018-04-21</td>\n",
              "      <td>2018-05-21</td>\n",
              "      <td>0</td>\n",
              "      <td>706</td>\n",
              "      <td>문화/예술/체육/언론</td>\n",
              "      <td>문화 예술계 성폭력 가해자에 대한 국가 지원을 철회해 주십시오.</td>\n",
              "      <td>존경하는 문재인 대통령님께.\\n안녕하세요. 저는 지난 2월 극단 목화 오태석 연출의...</td>\n",
              "      <td>0</td>\n",
              "      <td>존경하는 문재인 대통령님께  안녕하세요  저는 지난  월 극단 목화 오태석 연출의 ...</td>\n",
              "      <td>존경하는 문재인 대통령님께  안녕하세요  지난  극단 목화 오태석 연출의 성추행 사...</td>\n",
              "    </tr>\n",
              "    <tr>\n",
              "      <th>6280</th>\n",
              "      <td>167724</td>\n",
              "      <td>207805</td>\n",
              "      <td>2018-04-21</td>\n",
              "      <td>2018-05-21</td>\n",
              "      <td>0</td>\n",
              "      <td>128</td>\n",
              "      <td>보건복지</td>\n",
              "      <td>흡연카페 합법화 및 전국에 흡연부스 설치를 청원합니다.</td>\n",
              "      <td>저는 비흡연자이며, 4살 딸 아이의 엄마입니다.\\n아이의 아빤 흡연자입니다.\\n담배...</td>\n",
              "      <td>0</td>\n",
              "      <td>저는 비흡연자이며   살 딸 아이의 엄마입니다  아이의 아빤 흡연자입니다  담배 인...</td>\n",
              "      <td>비흡연자이며   살 딸 아이의 엄마입니다  아이의 아빤 흡연자입니다  담배 인상으로...</td>\n",
              "    </tr>\n",
              "  </tbody>\n",
              "</table>\n",
              "</div>"
            ],
            "text/plain": [
              "       index  article_id      start        end  answered  votes     category  \\\n",
              "6276  167702      207749 2018-04-20 2018-05-20         0    343           기타   \n",
              "6277  167704      207751 2018-04-20 2018-05-20         0    330           행정   \n",
              "6278  167713      207765 2018-04-20 2018-05-20         0    363        경제민주화   \n",
              "6279  167721      207778 2018-04-21 2018-05-21         0    706  문화/예술/체육/언론   \n",
              "6280  167724      207805 2018-04-21 2018-05-21         0    128         보건복지   \n",
              "\n",
              "                                    title  \\\n",
              "6276                         조선일보 tv조선 폐간   \n",
              "6277        한국지엠 국민 혈세 투입금지 . 법정관리 검토해주세요   \n",
              "6278        국민을 울린 씨그널엔터테인먼트 기업에 대해 아시나요?   \n",
              "6279  문화 예술계 성폭력 가해자에 대한 국가 지원을 철회해 주십시오.   \n",
              "6280       흡연카페 합법화 및 전국에 흡연부스 설치를 청원합니다.   \n",
              "\n",
              "                                                content  votes_pos_neg  \\\n",
              "6276  조선일보는  친일언론으로 출발해 국가가 바로가는 일에 늘 언론의 역할을  져버린 채...              0   \n",
              "6277  한국 GM의 국민 혈세를 투입하지말고\\n미국 GM 본사에서의 자금지원이 있도록 이끌...              0   \n",
              "6278  대통령님 코스닥 상장사인 씨그널엔터테인먼트라는 연예 기획사가 있습니다\\n이기업은 그...              0   \n",
              "6279  존경하는 문재인 대통령님께.\\n안녕하세요. 저는 지난 2월 극단 목화 오태석 연출의...              0   \n",
              "6280  저는 비흡연자이며, 4살 딸 아이의 엄마입니다.\\n아이의 아빤 흡연자입니다.\\n담배...              0   \n",
              "\n",
              "                                  content_preprocessing  \\\n",
              "6276  조선일보는  친일언론으로 출발해 국가가 바로가는 일에 늘 언론의 역할을  져버린 채...   \n",
              "6277  한국 GM의 국민 혈세를 투입하지말고 미국 GM 본사에서의 자금지원이 있도록 이끌어...   \n",
              "6278  대통령님 코스닥 상장사인 씨그널엔터테인먼트라는 연예 기획사가 있습니다 이기업은 그동...   \n",
              "6279  존경하는 문재인 대통령님께  안녕하세요  저는 지난  월 극단 목화 오태석 연출의 ...   \n",
              "6280  저는 비흡연자이며   살 딸 아이의 엄마입니다  아이의 아빤 흡연자입니다  담배 인...   \n",
              "\n",
              "                                 content_preprocessing2  \n",
              "6276  조선일보는  친일언론으로 출발해 국가가 바로가는 일에 늘 언론의 역할을  져버린 채...  \n",
              "6277  한국 GM의 국민 혈세를 투입하지말고 미국 GM 본사에서의 자금지원이 있도록 이끌어...  \n",
              "6278  대통령님 코스닥 상장사인 씨그널엔터테인먼트라는 연예 기획사가 이기업은 그동안 수년간...  \n",
              "6279  존경하는 문재인 대통령님께  안녕하세요  지난  극단 목화 오태석 연출의 성추행 사...  \n",
              "6280  비흡연자이며   살 딸 아이의 엄마입니다  아이의 아빤 흡연자입니다  담배 인상으로...  "
            ]
          },
          "metadata": {
            "tags": []
          },
          "execution_count": 37
        }
      ]
    },
    {
      "metadata": {
        "id": "Gi49Cp5fGWNH",
        "colab_type": "code",
        "colab": {
          "base_uri": "https://localhost:8080/",
          "height": 36
        },
        "outputId": "874340ba-2510-4f24-890b-5e079a57ab86"
      },
      "cell_type": "code",
      "source": [
        "# 테스트 세트에서 투표수가 평균보다 많은 건\n",
        "df_test.loc[df_test['votes_pos_neg'] == 1].shape"
      ],
      "execution_count": 38,
      "outputs": [
        {
          "output_type": "execute_result",
          "data": {
            "text/plain": [
              "(464, 12)"
            ]
          },
          "metadata": {
            "tags": []
          },
          "execution_count": 38
        }
      ]
    },
    {
      "metadata": {
        "id": "qglyc-NxGWNL",
        "colab_type": "text"
      },
      "cell_type": "markdown",
      "source": [
        "# 단어 벡터화 하기"
      ]
    },
    {
      "metadata": {
        "id": "7j0Ajj5AGWNL",
        "colab_type": "code",
        "colab": {
          "base_uri": "https://localhost:8080/",
          "height": 129
        },
        "outputId": "4d60f99e-a598-42b0-b5bc-ad4d3f2aad83"
      },
      "cell_type": "code",
      "source": [
        "from sklearn.feature_extraction.text import CountVectorizer\n",
        "\n",
        "vectorizer = CountVectorizer(analyzer = 'word', # 캐릭터 단위로 벡터화 할 수도 있습니다.\n",
        "                             tokenizer = None, # 토크나이저를 따로 지정해 줄 수도 있습니다.\n",
        "                             preprocessor = None, # 전처리 도구\n",
        "                             stop_words = None, # 불용어 nltk등의 도구를 사용할 수도 있습니다.\n",
        "                             min_df = 2, # 토큰이 나타날 최소 문서 개수로 오타나 자주 나오지 않는 특수한 전문용어 제거에 좋다. \n",
        "                             ngram_range=(1, 3), # BOW의 단위를 1~3개로 지정합니다.\n",
        "                             max_features = 2000 # 만들 피처의 수, 단어의 수가 된다.\n",
        "                            )\n",
        "vectorizer"
      ],
      "execution_count": 39,
      "outputs": [
        {
          "output_type": "execute_result",
          "data": {
            "text/plain": [
              "CountVectorizer(analyzer='word', binary=False, decode_error='strict',\n",
              "        dtype=<class 'numpy.int64'>, encoding='utf-8', input='content',\n",
              "        lowercase=True, max_df=1.0, max_features=2000, min_df=2,\n",
              "        ngram_range=(1, 3), preprocessor=None, stop_words=None,\n",
              "        strip_accents=None, token_pattern='(?u)\\\\b\\\\w\\\\w+\\\\b',\n",
              "        tokenizer=None, vocabulary=None)"
            ]
          },
          "metadata": {
            "tags": []
          },
          "execution_count": 39
        }
      ]
    },
    {
      "metadata": {
        "id": "8q4bGuwAGWNO",
        "colab_type": "code",
        "colab": {
          "base_uri": "https://localhost:8080/",
          "height": 55
        },
        "outputId": "265a0c25-f55c-4282-914e-db378ee5ad4a"
      },
      "cell_type": "code",
      "source": [
        "%%time \n",
        "train_feature_vector = vectorizer.fit_transform(df_train['content_preprocessing2'])\n",
        "train_feature_vector.shape"
      ],
      "execution_count": 40,
      "outputs": [
        {
          "output_type": "stream",
          "text": [
            "CPU times: user 14.3 s, sys: 803 ms, total: 15.1 s\n",
            "Wall time: 15.2 s\n"
          ],
          "name": "stdout"
        }
      ]
    },
    {
      "metadata": {
        "id": "19A9PuHsGWNQ",
        "colab_type": "code",
        "colab": {
          "base_uri": "https://localhost:8080/",
          "height": 55
        },
        "outputId": "b7a8122a-6c8b-4c41-cd02-e6f22ce6c316"
      },
      "cell_type": "code",
      "source": [
        "%%time \n",
        "test_feature_vector = vectorizer.fit_transform(df_test['content_preprocessing2'])\n",
        "test_feature_vector.shape"
      ],
      "execution_count": 41,
      "outputs": [
        {
          "output_type": "stream",
          "text": [
            "CPU times: user 5.88 s, sys: 108 ms, total: 5.99 s\n",
            "Wall time: 5.99 s\n"
          ],
          "name": "stdout"
        }
      ]
    },
    {
      "metadata": {
        "id": "YMh-0SK8GWNS",
        "colab_type": "code",
        "colab": {
          "base_uri": "https://localhost:8080/",
          "height": 223
        },
        "outputId": "ffe2de02-668d-49c2-8d40-17c6a30cd33c"
      },
      "cell_type": "code",
      "source": [
        "vocab = vectorizer.get_feature_names()\n",
        "print(len(vocab))\n",
        "vocab[:10]"
      ],
      "execution_count": 42,
      "outputs": [
        {
          "output_type": "stream",
          "text": [
            "2000\n"
          ],
          "name": "stdout"
        },
        {
          "output_type": "execute_result",
          "data": {
            "text/plain": [
              "['aid',\n",
              " 'blog',\n",
              " 'cctv',\n",
              " 'cctv를',\n",
              " 'co',\n",
              " 'co kr',\n",
              " 'co kr news',\n",
              " 'com',\n",
              " 'com main',\n",
              " 'com watch']"
            ]
          },
          "metadata": {
            "tags": []
          },
          "execution_count": 42
        }
      ]
    },
    {
      "metadata": {
        "id": "CyaIQQ5cGWNX",
        "colab_type": "code",
        "colab": {
          "base_uri": "https://localhost:8080/",
          "height": 109
        },
        "outputId": "d611c48f-988c-4cde-b7a1-7e45b4949ba8"
      },
      "cell_type": "code",
      "source": [
        "dist = np.sum(train_feature_vector, axis=0)\n",
        "\n",
        "pd.DataFrame(dist, columns=vocab)"
      ],
      "execution_count": 43,
      "outputs": [
        {
          "output_type": "execute_result",
          "data": {
            "text/html": [
              "<div>\n",
              "<style scoped>\n",
              "    .dataframe tbody tr th:only-of-type {\n",
              "        vertical-align: middle;\n",
              "    }\n",
              "\n",
              "    .dataframe tbody tr th {\n",
              "        vertical-align: top;\n",
              "    }\n",
              "\n",
              "    .dataframe thead th {\n",
              "        text-align: right;\n",
              "    }\n",
              "</style>\n",
              "<table border=\"1\" class=\"dataframe\">\n",
              "  <thead>\n",
              "    <tr style=\"text-align: right;\">\n",
              "      <th></th>\n",
              "      <th>aid</th>\n",
              "      <th>blog</th>\n",
              "      <th>cctv</th>\n",
              "      <th>cctv를</th>\n",
              "      <th>co</th>\n",
              "      <th>co kr</th>\n",
              "      <th>co kr news</th>\n",
              "      <th>com</th>\n",
              "      <th>com main</th>\n",
              "      <th>com watch</th>\n",
              "      <th>...</th>\n",
              "      <th>훨씬</th>\n",
              "      <th>휴게시간</th>\n",
              "      <th>휴게시간을</th>\n",
              "      <th>희망을</th>\n",
              "      <th>힘든</th>\n",
              "      <th>힘들게</th>\n",
              "      <th>힘들어</th>\n",
              "      <th>힘없는</th>\n",
              "      <th>힘을</th>\n",
              "      <th>힘이</th>\n",
              "    </tr>\n",
              "  </thead>\n",
              "  <tbody>\n",
              "    <tr>\n",
              "      <th>0</th>\n",
              "      <td>82</td>\n",
              "      <td>155</td>\n",
              "      <td>77</td>\n",
              "      <td>216</td>\n",
              "      <td>203</td>\n",
              "      <td>83</td>\n",
              "      <td>377</td>\n",
              "      <td>69</td>\n",
              "      <td>66</td>\n",
              "      <td>82</td>\n",
              "      <td>...</td>\n",
              "      <td>159</td>\n",
              "      <td>155</td>\n",
              "      <td>220</td>\n",
              "      <td>151</td>\n",
              "      <td>69</td>\n",
              "      <td>66</td>\n",
              "      <td>83</td>\n",
              "      <td>110</td>\n",
              "      <td>166</td>\n",
              "      <td>110</td>\n",
              "    </tr>\n",
              "  </tbody>\n",
              "</table>\n",
              "<p>1 rows × 2000 columns</p>\n",
              "</div>"
            ],
            "text/plain": [
              "   aid  blog  cctv  cctv를   co  co kr  co kr news  com  com main  com watch  \\\n",
              "0   82   155    77    216  203     83         377   69        66         82   \n",
              "\n",
              "  ...    훨씬  휴게시간  휴게시간을  희망을  힘든  힘들게  힘들어  힘없는   힘을   힘이  \n",
              "0 ...   159   155    220  151  69   66   83  110  166  110  \n",
              "\n",
              "[1 rows x 2000 columns]"
            ]
          },
          "metadata": {
            "tags": []
          },
          "execution_count": 43
        }
      ]
    },
    {
      "metadata": {
        "id": "ATlF2CtrGWNZ",
        "colab_type": "code",
        "colab": {
          "base_uri": "https://localhost:8080/",
          "height": 55
        },
        "outputId": "0d238008-5171-47ef-9a57-30ff962f0696"
      },
      "cell_type": "code",
      "source": [
        "from sklearn.feature_extraction.text import TfidfTransformer\n",
        "transformer = TfidfTransformer(smooth_idf=False)\n",
        "transformer"
      ],
      "execution_count": 44,
      "outputs": [
        {
          "output_type": "execute_result",
          "data": {
            "text/plain": [
              "TfidfTransformer(norm='l2', smooth_idf=False, sublinear_tf=False,\n",
              "         use_idf=True)"
            ]
          },
          "metadata": {
            "tags": []
          },
          "execution_count": 44
        }
      ]
    },
    {
      "metadata": {
        "id": "S_RcWReoGWNm",
        "colab_type": "code",
        "colab": {
          "base_uri": "https://localhost:8080/",
          "height": 55
        },
        "outputId": "e002752c-14ef-4e0c-ddea-0f59ccd8da1d"
      },
      "cell_type": "code",
      "source": [
        "%%time \n",
        "train_feature_tfidf = transformer.fit_transform(train_feature_vector)\n",
        "train_feature_tfidf.shape"
      ],
      "execution_count": 45,
      "outputs": [
        {
          "output_type": "stream",
          "text": [
            "CPU times: user 10.6 ms, sys: 888 µs, total: 11.5 ms\n",
            "Wall time: 13.6 ms\n"
          ],
          "name": "stdout"
        }
      ]
    },
    {
      "metadata": {
        "id": "m0m-rdxsGWNt",
        "colab_type": "code",
        "colab": {
          "base_uri": "https://localhost:8080/",
          "height": 55
        },
        "outputId": "81a84625-8b3f-4421-b5f7-d4c34b4e4d74"
      },
      "cell_type": "code",
      "source": [
        "%%time \n",
        "test_feature_tfidf = transformer.fit_transform(test_feature_vector)\n",
        "test_feature_tfidf.shape"
      ],
      "execution_count": 46,
      "outputs": [
        {
          "output_type": "stream",
          "text": [
            "CPU times: user 6.61 ms, sys: 1.05 ms, total: 7.66 ms\n",
            "Wall time: 9.2 ms\n"
          ],
          "name": "stdout"
        }
      ]
    },
    {
      "metadata": {
        "id": "QXtYbXecGWN0",
        "colab_type": "code",
        "colab": {
          "base_uri": "https://localhost:8080/",
          "height": 36
        },
        "outputId": "f89fe897-6333-4f18-b6fb-c709db906b3f"
      },
      "cell_type": "code",
      "source": [
        "test_feature_tfidf.shape"
      ],
      "execution_count": 47,
      "outputs": [
        {
          "output_type": "execute_result",
          "data": {
            "text/plain": [
              "(2691, 2000)"
            ]
          },
          "metadata": {
            "tags": []
          },
          "execution_count": 47
        }
      ]
    },
    {
      "metadata": {
        "id": "OLdWKx2iGWN4",
        "colab_type": "text"
      },
      "cell_type": "markdown",
      "source": [
        "# 랜덤 포레스트로 학습시키기\n",
        "* 공식문서 : http://scikit-learn.org/stable/modules/generated/sklearn.ensemble.RandomForestClassifier.html"
      ]
    },
    {
      "metadata": {
        "id": "0qDw4YDnGWN5",
        "colab_type": "code",
        "colab": {
          "base_uri": "https://localhost:8080/",
          "height": 148
        },
        "outputId": "aa7556cc-a14b-4c3f-a15b-628fd40c20f9"
      },
      "cell_type": "code",
      "source": [
        "from sklearn.ensemble import RandomForestClassifier\n",
        "\n",
        "# 랜덤포레스트 분류기를 사용\n",
        "forest = RandomForestClassifier(\n",
        "    n_estimators = 100, n_jobs = -1, random_state=2018)\n",
        "forest"
      ],
      "execution_count": 48,
      "outputs": [
        {
          "output_type": "execute_result",
          "data": {
            "text/plain": [
              "RandomForestClassifier(bootstrap=True, class_weight=None, criterion='gini',\n",
              "            max_depth=None, max_features='auto', max_leaf_nodes=None,\n",
              "            min_impurity_decrease=0.0, min_impurity_split=None,\n",
              "            min_samples_leaf=1, min_samples_split=2,\n",
              "            min_weight_fraction_leaf=0.0, n_estimators=100, n_jobs=-1,\n",
              "            oob_score=False, random_state=2018, verbose=0,\n",
              "            warm_start=False)"
            ]
          },
          "metadata": {
            "tags": []
          },
          "execution_count": 48
        }
      ]
    },
    {
      "metadata": {
        "id": "pdYoXtz0GWN8",
        "colab_type": "code",
        "colab": {
          "base_uri": "https://localhost:8080/",
          "height": 55
        },
        "outputId": "94d28bb8-0c0d-4ed0-aae3-2481e20081da"
      },
      "cell_type": "code",
      "source": [
        "# 학습에 사용할 y_label 을 넣어준다.\n",
        "y_label = df_train['votes_pos_neg']\n",
        "%time forest = forest.fit(train_feature_tfidf, y_label)"
      ],
      "execution_count": 49,
      "outputs": [
        {
          "output_type": "stream",
          "text": [
            "CPU times: user 11.2 s, sys: 21.9 ms, total: 11.3 s\n",
            "Wall time: 5.81 s\n"
          ],
          "name": "stdout"
        }
      ]
    },
    {
      "metadata": {
        "id": "mgaCkot3GWN_",
        "colab_type": "text"
      },
      "cell_type": "markdown",
      "source": [
        "# 평가하기"
      ]
    },
    {
      "metadata": {
        "id": "Q8f0HUbjGWN_",
        "colab_type": "code",
        "colab": {
          "base_uri": "https://localhost:8080/",
          "height": 36
        },
        "outputId": "055cd7b6-9438-4b86-9e1e-ebe7879fc7ed"
      },
      "cell_type": "code",
      "source": [
        "from sklearn.model_selection import KFold\n",
        "from sklearn.model_selection import cross_val_score\n",
        "k_fold = KFold(n_splits=5, shuffle=True, random_state=0)\n",
        "\n",
        "scoring = 'accuracy'\n",
        "score = cross_val_score(forest, train_feature_tfidf, y_label, cv=k_fold, n_jobs=-1, scoring=scoring)\n",
        "score"
      ],
      "execution_count": 50,
      "outputs": [
        {
          "output_type": "execute_result",
          "data": {
            "text/plain": [
              "array([0.78980892, 0.787251  , 0.77768924, 0.77051793, 0.75378486])"
            ]
          },
          "metadata": {
            "tags": []
          },
          "execution_count": 50
        }
      ]
    },
    {
      "metadata": {
        "id": "G6Y8kClBGWOB",
        "colab_type": "code",
        "colab": {
          "base_uri": "https://localhost:8080/",
          "height": 36
        },
        "outputId": "cab54516-b19e-4c42-c53f-75388be01744"
      },
      "cell_type": "code",
      "source": [
        "round(np.mean(score)*100,2)"
      ],
      "execution_count": 51,
      "outputs": [
        {
          "output_type": "execute_result",
          "data": {
            "text/plain": [
              "77.58"
            ]
          },
          "metadata": {
            "tags": []
          },
          "execution_count": 51
        }
      ]
    },
    {
      "metadata": {
        "id": "1iGf3ldBGWOF",
        "colab_type": "text"
      },
      "cell_type": "markdown",
      "source": [
        "# 예측"
      ]
    },
    {
      "metadata": {
        "id": "MEBSuYTBGWOF",
        "colab_type": "code",
        "colab": {
          "base_uri": "https://localhost:8080/",
          "height": 36
        },
        "outputId": "637e5f42-a6c8-4717-85ee-7a1e44bf77d6"
      },
      "cell_type": "code",
      "source": [
        "# 테스트 데이터를 넣고 예측한다.\n",
        "y_pred = forest.predict(test_feature_tfidf)\n",
        "y_pred[:10]"
      ],
      "execution_count": 52,
      "outputs": [
        {
          "output_type": "execute_result",
          "data": {
            "text/plain": [
              "array([0, 0, 0, 0, 0, 0, 0, 0, 0, 0])"
            ]
          },
          "metadata": {
            "tags": []
          },
          "execution_count": 52
        }
      ]
    },
    {
      "metadata": {
        "id": "FPDz-G45GWOI",
        "colab_type": "code",
        "colab": {
          "base_uri": "https://localhost:8080/",
          "height": 36
        },
        "outputId": "bce7995f-beec-4ae3-a9f0-bea21e6fa29f"
      },
      "cell_type": "code",
      "source": [
        "y_pred.shape"
      ],
      "execution_count": 53,
      "outputs": [
        {
          "output_type": "execute_result",
          "data": {
            "text/plain": [
              "(2691,)"
            ]
          },
          "metadata": {
            "tags": []
          },
          "execution_count": 53
        }
      ]
    },
    {
      "metadata": {
        "id": "ze266zmNGWOK",
        "colab_type": "code",
        "colab": {
          "base_uri": "https://localhost:8080/",
          "height": 202
        },
        "outputId": "8f5c4a66-2830-4c5f-d7df-1663424d5b06"
      },
      "cell_type": "code",
      "source": [
        "# 예측 결과를 저장하기 위해 데이터프레임에 담아 준다.\n",
        "output = pd.DataFrame(data={'votes_pos_neg_pred':y_pred})\n",
        "output.head()"
      ],
      "execution_count": 54,
      "outputs": [
        {
          "output_type": "execute_result",
          "data": {
            "text/html": [
              "<div>\n",
              "<style scoped>\n",
              "    .dataframe tbody tr th:only-of-type {\n",
              "        vertical-align: middle;\n",
              "    }\n",
              "\n",
              "    .dataframe tbody tr th {\n",
              "        vertical-align: top;\n",
              "    }\n",
              "\n",
              "    .dataframe thead th {\n",
              "        text-align: right;\n",
              "    }\n",
              "</style>\n",
              "<table border=\"1\" class=\"dataframe\">\n",
              "  <thead>\n",
              "    <tr style=\"text-align: right;\">\n",
              "      <th></th>\n",
              "      <th>votes_pos_neg_pred</th>\n",
              "    </tr>\n",
              "  </thead>\n",
              "  <tbody>\n",
              "    <tr>\n",
              "      <th>0</th>\n",
              "      <td>0</td>\n",
              "    </tr>\n",
              "    <tr>\n",
              "      <th>1</th>\n",
              "      <td>0</td>\n",
              "    </tr>\n",
              "    <tr>\n",
              "      <th>2</th>\n",
              "      <td>0</td>\n",
              "    </tr>\n",
              "    <tr>\n",
              "      <th>3</th>\n",
              "      <td>0</td>\n",
              "    </tr>\n",
              "    <tr>\n",
              "      <th>4</th>\n",
              "      <td>0</td>\n",
              "    </tr>\n",
              "  </tbody>\n",
              "</table>\n",
              "</div>"
            ],
            "text/plain": [
              "   votes_pos_neg_pred\n",
              "0                   0\n",
              "1                   0\n",
              "2                   0\n",
              "3                   0\n",
              "4                   0"
            ]
          },
          "metadata": {
            "tags": []
          },
          "execution_count": 54
        }
      ]
    },
    {
      "metadata": {
        "id": "3ac-3gaYGWOM",
        "colab_type": "code",
        "colab": {
          "base_uri": "https://localhost:8080/",
          "height": 73
        },
        "outputId": "c157cf75-041b-47a2-ebaf-a3c5f86c1091"
      },
      "cell_type": "code",
      "source": [
        "# 0과 1이 어떻게 집계 되었는지 확인한다.\n",
        "# 실제 데이터에는 답변 대상 건이 있는데 없는 것으로 예측되었다.\n",
        "output['votes_pos_neg_pred'].value_counts()"
      ],
      "execution_count": 55,
      "outputs": [
        {
          "output_type": "execute_result",
          "data": {
            "text/plain": [
              "0    2678\n",
              "1      13\n",
              "Name: votes_pos_neg_pred, dtype: int64"
            ]
          },
          "metadata": {
            "tags": []
          },
          "execution_count": 55
        }
      ]
    },
    {
      "metadata": {
        "id": "c0arvl9VGWOO",
        "colab_type": "code",
        "colab": {}
      },
      "cell_type": "code",
      "source": [
        "df_test['votes_pos_neg_pred'] = y_pred"
      ],
      "execution_count": 0,
      "outputs": []
    },
    {
      "metadata": {
        "id": "5leGuF_QGWOQ",
        "colab_type": "code",
        "colab": {
          "base_uri": "https://localhost:8080/",
          "height": 1207
        },
        "outputId": "a3760def-b8e7-4d75-ce09-94e6447f0bb4"
      },
      "cell_type": "code",
      "source": [
        "df_test['pred_diff'] = df_test['votes_pos_neg'] - df_test['votes_pos_neg_pred']\n",
        "df_test.head()"
      ],
      "execution_count": 57,
      "outputs": [
        {
          "output_type": "execute_result",
          "data": {
            "text/html": [
              "<div>\n",
              "<style scoped>\n",
              "    .dataframe tbody tr th:only-of-type {\n",
              "        vertical-align: middle;\n",
              "    }\n",
              "\n",
              "    .dataframe tbody tr th {\n",
              "        vertical-align: top;\n",
              "    }\n",
              "\n",
              "    .dataframe thead th {\n",
              "        text-align: right;\n",
              "    }\n",
              "</style>\n",
              "<table border=\"1\" class=\"dataframe\">\n",
              "  <thead>\n",
              "    <tr style=\"text-align: right;\">\n",
              "      <th></th>\n",
              "      <th>index</th>\n",
              "      <th>article_id</th>\n",
              "      <th>start</th>\n",
              "      <th>end</th>\n",
              "      <th>answered</th>\n",
              "      <th>votes</th>\n",
              "      <th>category</th>\n",
              "      <th>title</th>\n",
              "      <th>content</th>\n",
              "      <th>votes_pos_neg</th>\n",
              "      <th>content_preprocessing</th>\n",
              "      <th>content_preprocessing2</th>\n",
              "      <th>votes_pos_neg_pred</th>\n",
              "      <th>pred_diff</th>\n",
              "    </tr>\n",
              "  </thead>\n",
              "  <tbody>\n",
              "    <tr>\n",
              "      <th>6276</th>\n",
              "      <td>167702</td>\n",
              "      <td>207749</td>\n",
              "      <td>2018-04-20</td>\n",
              "      <td>2018-05-20</td>\n",
              "      <td>0</td>\n",
              "      <td>343</td>\n",
              "      <td>기타</td>\n",
              "      <td>조선일보 tv조선 폐간</td>\n",
              "      <td>조선일보는  친일언론으로 출발해 국가가 바로가는 일에 늘 언론의 역할을  져버린 채...</td>\n",
              "      <td>0</td>\n",
              "      <td>조선일보는  친일언론으로 출발해 국가가 바로가는 일에 늘 언론의 역할을  져버린 채...</td>\n",
              "      <td>조선일보는  친일언론으로 출발해 국가가 바로가는 일에 늘 언론의 역할을  져버린 채...</td>\n",
              "      <td>0</td>\n",
              "      <td>0</td>\n",
              "    </tr>\n",
              "    <tr>\n",
              "      <th>6277</th>\n",
              "      <td>167704</td>\n",
              "      <td>207751</td>\n",
              "      <td>2018-04-20</td>\n",
              "      <td>2018-05-20</td>\n",
              "      <td>0</td>\n",
              "      <td>330</td>\n",
              "      <td>행정</td>\n",
              "      <td>한국지엠 국민 혈세 투입금지 . 법정관리 검토해주세요</td>\n",
              "      <td>한국 GM의 국민 혈세를 투입하지말고\\n미국 GM 본사에서의 자금지원이 있도록 이끌...</td>\n",
              "      <td>0</td>\n",
              "      <td>한국 GM의 국민 혈세를 투입하지말고 미국 GM 본사에서의 자금지원이 있도록 이끌어...</td>\n",
              "      <td>한국 GM의 국민 혈세를 투입하지말고 미국 GM 본사에서의 자금지원이 있도록 이끌어...</td>\n",
              "      <td>0</td>\n",
              "      <td>0</td>\n",
              "    </tr>\n",
              "    <tr>\n",
              "      <th>6278</th>\n",
              "      <td>167713</td>\n",
              "      <td>207765</td>\n",
              "      <td>2018-04-20</td>\n",
              "      <td>2018-05-20</td>\n",
              "      <td>0</td>\n",
              "      <td>363</td>\n",
              "      <td>경제민주화</td>\n",
              "      <td>국민을 울린 씨그널엔터테인먼트 기업에 대해 아시나요?</td>\n",
              "      <td>대통령님 코스닥 상장사인 씨그널엔터테인먼트라는 연예 기획사가 있습니다\\n이기업은 그...</td>\n",
              "      <td>0</td>\n",
              "      <td>대통령님 코스닥 상장사인 씨그널엔터테인먼트라는 연예 기획사가 있습니다 이기업은 그동...</td>\n",
              "      <td>대통령님 코스닥 상장사인 씨그널엔터테인먼트라는 연예 기획사가 이기업은 그동안 수년간...</td>\n",
              "      <td>0</td>\n",
              "      <td>0</td>\n",
              "    </tr>\n",
              "    <tr>\n",
              "      <th>6279</th>\n",
              "      <td>167721</td>\n",
              "      <td>207778</td>\n",
              "      <td>2018-04-21</td>\n",
              "      <td>2018-05-21</td>\n",
              "      <td>0</td>\n",
              "      <td>706</td>\n",
              "      <td>문화/예술/체육/언론</td>\n",
              "      <td>문화 예술계 성폭력 가해자에 대한 국가 지원을 철회해 주십시오.</td>\n",
              "      <td>존경하는 문재인 대통령님께.\\n안녕하세요. 저는 지난 2월 극단 목화 오태석 연출의...</td>\n",
              "      <td>0</td>\n",
              "      <td>존경하는 문재인 대통령님께  안녕하세요  저는 지난  월 극단 목화 오태석 연출의 ...</td>\n",
              "      <td>존경하는 문재인 대통령님께  안녕하세요  지난  극단 목화 오태석 연출의 성추행 사...</td>\n",
              "      <td>0</td>\n",
              "      <td>0</td>\n",
              "    </tr>\n",
              "    <tr>\n",
              "      <th>6280</th>\n",
              "      <td>167724</td>\n",
              "      <td>207805</td>\n",
              "      <td>2018-04-21</td>\n",
              "      <td>2018-05-21</td>\n",
              "      <td>0</td>\n",
              "      <td>128</td>\n",
              "      <td>보건복지</td>\n",
              "      <td>흡연카페 합법화 및 전국에 흡연부스 설치를 청원합니다.</td>\n",
              "      <td>저는 비흡연자이며, 4살 딸 아이의 엄마입니다.\\n아이의 아빤 흡연자입니다.\\n담배...</td>\n",
              "      <td>0</td>\n",
              "      <td>저는 비흡연자이며   살 딸 아이의 엄마입니다  아이의 아빤 흡연자입니다  담배 인...</td>\n",
              "      <td>비흡연자이며   살 딸 아이의 엄마입니다  아이의 아빤 흡연자입니다  담배 인상으로...</td>\n",
              "      <td>0</td>\n",
              "      <td>0</td>\n",
              "    </tr>\n",
              "  </tbody>\n",
              "</table>\n",
              "</div>"
            ],
            "text/plain": [
              "       index  article_id      start        end  answered  votes     category  \\\n",
              "6276  167702      207749 2018-04-20 2018-05-20         0    343           기타   \n",
              "6277  167704      207751 2018-04-20 2018-05-20         0    330           행정   \n",
              "6278  167713      207765 2018-04-20 2018-05-20         0    363        경제민주화   \n",
              "6279  167721      207778 2018-04-21 2018-05-21         0    706  문화/예술/체육/언론   \n",
              "6280  167724      207805 2018-04-21 2018-05-21         0    128         보건복지   \n",
              "\n",
              "                                    title  \\\n",
              "6276                         조선일보 tv조선 폐간   \n",
              "6277        한국지엠 국민 혈세 투입금지 . 법정관리 검토해주세요   \n",
              "6278        국민을 울린 씨그널엔터테인먼트 기업에 대해 아시나요?   \n",
              "6279  문화 예술계 성폭력 가해자에 대한 국가 지원을 철회해 주십시오.   \n",
              "6280       흡연카페 합법화 및 전국에 흡연부스 설치를 청원합니다.   \n",
              "\n",
              "                                                content  votes_pos_neg  \\\n",
              "6276  조선일보는  친일언론으로 출발해 국가가 바로가는 일에 늘 언론의 역할을  져버린 채...              0   \n",
              "6277  한국 GM의 국민 혈세를 투입하지말고\\n미국 GM 본사에서의 자금지원이 있도록 이끌...              0   \n",
              "6278  대통령님 코스닥 상장사인 씨그널엔터테인먼트라는 연예 기획사가 있습니다\\n이기업은 그...              0   \n",
              "6279  존경하는 문재인 대통령님께.\\n안녕하세요. 저는 지난 2월 극단 목화 오태석 연출의...              0   \n",
              "6280  저는 비흡연자이며, 4살 딸 아이의 엄마입니다.\\n아이의 아빤 흡연자입니다.\\n담배...              0   \n",
              "\n",
              "                                  content_preprocessing  \\\n",
              "6276  조선일보는  친일언론으로 출발해 국가가 바로가는 일에 늘 언론의 역할을  져버린 채...   \n",
              "6277  한국 GM의 국민 혈세를 투입하지말고 미국 GM 본사에서의 자금지원이 있도록 이끌어...   \n",
              "6278  대통령님 코스닥 상장사인 씨그널엔터테인먼트라는 연예 기획사가 있습니다 이기업은 그동...   \n",
              "6279  존경하는 문재인 대통령님께  안녕하세요  저는 지난  월 극단 목화 오태석 연출의 ...   \n",
              "6280  저는 비흡연자이며   살 딸 아이의 엄마입니다  아이의 아빤 흡연자입니다  담배 인...   \n",
              "\n",
              "                                 content_preprocessing2  votes_pos_neg_pred  \\\n",
              "6276  조선일보는  친일언론으로 출발해 국가가 바로가는 일에 늘 언론의 역할을  져버린 채...                   0   \n",
              "6277  한국 GM의 국민 혈세를 투입하지말고 미국 GM 본사에서의 자금지원이 있도록 이끌어...                   0   \n",
              "6278  대통령님 코스닥 상장사인 씨그널엔터테인먼트라는 연예 기획사가 이기업은 그동안 수년간...                   0   \n",
              "6279  존경하는 문재인 대통령님께  안녕하세요  지난  극단 목화 오태석 연출의 성추행 사...                   0   \n",
              "6280  비흡연자이며   살 딸 아이의 엄마입니다  아이의 아빤 흡연자입니다  담배 인상으로...                   0   \n",
              "\n",
              "      pred_diff  \n",
              "6276          0  \n",
              "6277          0  \n",
              "6278          0  \n",
              "6279          0  \n",
              "6280          0  "
            ]
          },
          "metadata": {
            "tags": []
          },
          "execution_count": 57
        }
      ]
    },
    {
      "metadata": {
        "id": "FLNOi6I8GWOU",
        "colab_type": "code",
        "colab": {
          "base_uri": "https://localhost:8080/",
          "height": 92
        },
        "outputId": "63832516-9edf-4686-cdaf-8caca58cc489"
      },
      "cell_type": "code",
      "source": [
        "pred_diff = df_test['pred_diff'].value_counts()\n",
        "pred_diff"
      ],
      "execution_count": 58,
      "outputs": [
        {
          "output_type": "execute_result",
          "data": {
            "text/plain": [
              " 0    2218\n",
              " 1     462\n",
              "-1      11\n",
              "Name: pred_diff, dtype: int64"
            ]
          },
          "metadata": {
            "tags": []
          },
          "execution_count": 58
        }
      ]
    },
    {
      "metadata": {
        "id": "huEMcnq2GWOW",
        "colab_type": "code",
        "colab": {
          "base_uri": "https://localhost:8080/",
          "height": 36
        },
        "outputId": "6b0109e7-e2d4-4b33-d6b1-28fda93712cb"
      },
      "cell_type": "code",
      "source": [
        "print('전체 {}건의 데이터 중 {}건 예측'.format(y_pred.shape[0], pred_diff[0]))"
      ],
      "execution_count": 59,
      "outputs": [
        {
          "output_type": "stream",
          "text": [
            "전체 2691건의 데이터 중 2218건 예측\n"
          ],
          "name": "stdout"
        }
      ]
    },
    {
      "metadata": {
        "id": "j39m-qJMGWOY",
        "colab_type": "code",
        "colab": {
          "base_uri": "https://localhost:8080/",
          "height": 36
        },
        "outputId": "9627b6e4-2dd3-4b61-b09b-44f1e9ceb259"
      },
      "cell_type": "code",
      "source": [
        "acc = ( pred_diff[0] / y_pred.shape[0] ) *100 \n",
        "print('예측 비율 {}'.format(acc))"
      ],
      "execution_count": 60,
      "outputs": [
        {
          "output_type": "stream",
          "text": [
            "예측 비율 82.42289111854329\n"
          ],
          "name": "stdout"
        }
      ]
    },
    {
      "metadata": {
        "id": "8TvXZU7GGWOa",
        "colab_type": "code",
        "colab": {}
      },
      "cell_type": "code",
      "source": [
        ""
      ],
      "execution_count": 0,
      "outputs": []
    }
  ]
}