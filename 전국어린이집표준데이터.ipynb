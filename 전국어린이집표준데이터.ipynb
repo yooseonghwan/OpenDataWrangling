{
  "nbformat": 4,
  "nbformat_minor": 0,
  "metadata": {
    "colab": {
      "name": "apt_presale_price.ipynb",
      "version": "0.3.2",
      "provenance": []
    },
    "kernelspec": {
      "display_name": "Python 3",
      "language": "python",
      "name": "python3"
    }
  },
  "cells": [
    {
      "metadata": {
        "id": "bV-cLMEr_6yH",
        "colab_type": "text"
      },
      "cell_type": "markdown",
      "source": [
        "# 전국 신규 민간 아파트 분양가격 동향\n",
        "* 2015년 10월부터 2018년 4월까지\n",
        "* 주택분양보증을 받아 분양한 전체 민간 신규아파트 분양가격 동향\n",
        "* https://www.data.go.kr/dataset/3035522/fileData.do"
      ]
    },
    {
      "metadata": {
        "id": "qZOFMXrqAQHy",
        "colab_type": "code",
        "colab": {
          "base_uri": "https://localhost:8080/",
          "height": 1081
        },
        "outputId": "b57e1c2f-93b5-4e37-c9f8-93304acb8bd0"
      },
      "cell_type": "code",
      "source": [
        "# 추가 설치 \n",
        "!pip install plotnine"
      ],
      "execution_count": 0,
      "outputs": [
        {
          "output_type": "stream",
          "text": [
            "Collecting plotnine\n",
            "\u001b[?25l  Downloading https://files.pythonhosted.org/packages/fe/49/7af942bc63277dfca6ad397415f4cff60789c56d173b1f7edf0bd30e27e0/plotnine-0.4.0-py2.py3-none-any.whl (3.6MB)\n",
            "\u001b[K    100% |████████████████████████████████| 3.6MB 5.4MB/s \n",
            "\u001b[?25hRequirement already satisfied: six in /usr/local/lib/python3.6/dist-packages (from plotnine) (1.11.0)\n",
            "Requirement already satisfied: statsmodels>=0.8.0 in /usr/local/lib/python3.6/dist-packages (from plotnine) (0.8.0)\n",
            "Collecting descartes>=1.1.0 (from plotnine)\n",
            "  Downloading https://files.pythonhosted.org/packages/e5/b6/1ed2eb03989ae574584664985367ba70cd9cf8b32ee8cad0e8aaeac819f3/descartes-1.1.0-py3-none-any.whl\n",
            "Collecting scipy>=1.0.0 (from plotnine)\n",
            "\u001b[?25l  Downloading https://files.pythonhosted.org/packages/a8/0b/f163da98d3a01b3e0ef1cab8dd2123c34aee2bafbb1c5bffa354cc8a1730/scipy-1.1.0-cp36-cp36m-manylinux1_x86_64.whl (31.2MB)\n",
            "\u001b[K    100% |████████████████████████████████| 31.2MB 1.2MB/s \n",
            "\u001b[?25hRequirement already satisfied: numpy in /usr/local/lib/python3.6/dist-packages (from plotnine) (1.14.5)\n",
            "Requirement already satisfied: matplotlib>=2.1.0 in /usr/local/lib/python3.6/dist-packages (from plotnine) (2.1.2)\n",
            "Collecting geopandas>=0.3.0 (from plotnine)\n",
            "\u001b[?25l  Downloading https://files.pythonhosted.org/packages/24/11/d77c157c16909bd77557d00798b05a5b6615ed60acb5900fbe6a65d35e93/geopandas-0.4.0-py2.py3-none-any.whl (899kB)\n",
            "\u001b[K    100% |████████████████████████████████| 901kB 12.2MB/s \n",
            "\u001b[?25hRequirement already satisfied: pandas>=0.21.0 in /usr/local/lib/python3.6/dist-packages (from plotnine) (0.22.0)\n",
            "Collecting mizani>=0.4.5 (from plotnine)\n",
            "\u001b[?25l  Downloading https://files.pythonhosted.org/packages/52/01/8a3b4c6e45749674a1e5241174b4b63cd6435125e124bec275f3e02c96ac/mizani-0.4.6-py2.py3-none-any.whl (65kB)\n",
            "\u001b[K    100% |████████████████████████████████| 71kB 17.8MB/s \n",
            "\u001b[?25hRequirement already satisfied: patsy>=0.4.1 in /usr/local/lib/python3.6/dist-packages (from plotnine) (0.5.0)\n",
            "Requirement already satisfied: pytz in /usr/local/lib/python3.6/dist-packages (from matplotlib>=2.1.0->plotnine) (2018.5)\n",
            "Requirement already satisfied: python-dateutil>=2.1 in /usr/local/lib/python3.6/dist-packages (from matplotlib>=2.1.0->plotnine) (2.5.3)\n",
            "Requirement already satisfied: cycler>=0.10 in /usr/local/lib/python3.6/dist-packages (from matplotlib>=2.1.0->plotnine) (0.10.0)\n",
            "Requirement already satisfied: pyparsing!=2.0.4,!=2.1.2,!=2.1.6,>=2.0.1 in /usr/local/lib/python3.6/dist-packages (from matplotlib>=2.1.0->plotnine) (2.2.0)\n",
            "Collecting shapely (from geopandas>=0.3.0->plotnine)\n",
            "\u001b[?25l  Downloading https://files.pythonhosted.org/packages/38/b6/b53f19062afd49bb5abd049aeed36f13bf8d57ef8f3fa07a5203531a0252/Shapely-1.6.4.post2-cp36-cp36m-manylinux1_x86_64.whl (1.5MB)\n",
            "\u001b[K    100% |████████████████████████████████| 1.5MB 12.2MB/s \n",
            "\u001b[?25hCollecting pyproj (from geopandas>=0.3.0->plotnine)\n",
            "\u001b[?25l  Downloading https://files.pythonhosted.org/packages/29/72/5c1888c4948a0c7b736d10e0f0f69966e7c0874a660222ed0a2c2c6daa9f/pyproj-1.9.5.1.tar.gz (4.4MB)\n",
            "\u001b[K    100% |████████████████████████████████| 4.4MB 6.7MB/s \n",
            "\u001b[?25hCollecting fiona (from geopandas>=0.3.0->plotnine)\n",
            "\u001b[?25l  Downloading https://files.pythonhosted.org/packages/e3/bf/029958f4e3811ce7017fb5805d5203e8bde6c1816b902964acb2dec67863/Fiona-1.7.13-cp36-cp36m-manylinux1_x86_64.whl (15.8MB)\n",
            "\u001b[K    100% |████████████████████████████████| 15.8MB 2.1MB/s \n",
            "\u001b[?25hCollecting palettable (from mizani>=0.4.5->plotnine)\n",
            "\u001b[?25l  Downloading https://files.pythonhosted.org/packages/56/8a/84537c0354f0d1f03bf644b71bf8e0a50db9c1294181905721a5f3efbf66/palettable-3.1.1-py2.py3-none-any.whl (77kB)\n",
            "\u001b[K    100% |████████████████████████████████| 81kB 23.4MB/s \n",
            "\u001b[?25hCollecting munch (from fiona->geopandas>=0.3.0->plotnine)\n",
            "  Downloading https://files.pythonhosted.org/packages/68/f4/260ec98ea840757a0da09e0ed8135333d59b8dfebe9752a365b04857660a/munch-2.3.2.tar.gz\n",
            "Collecting cligj>=0.4 (from fiona->geopandas>=0.3.0->plotnine)\n",
            "  Downloading https://files.pythonhosted.org/packages/fc/05/e8384e1f7c8689cd1b91818a24cc860077c73368fb285ba53fbd8556ec98/cligj-0.4.0-py3-none-any.whl\n",
            "Collecting click-plugins (from fiona->geopandas>=0.3.0->plotnine)\n",
            "  Downloading https://files.pythonhosted.org/packages/77/05/da5c9e19457f20cadfe22c397cd3852577066066f63e40f2baa0831b1693/click-plugins-1.0.3.tar.gz\n",
            "Collecting click>=4.0 (from cligj>=0.4->fiona->geopandas>=0.3.0->plotnine)\n",
            "\u001b[?25l  Downloading https://files.pythonhosted.org/packages/34/c1/8806f99713ddb993c5366c362b2f908f18269f8d792aff1abfd700775a77/click-6.7-py2.py3-none-any.whl (71kB)\n",
            "\u001b[K    100% |████████████████████████████████| 71kB 18.8MB/s \n",
            "\u001b[?25hBuilding wheels for collected packages: pyproj, munch, click-plugins\n",
            "  Running setup.py bdist_wheel for pyproj ... \u001b[?25l-\b \b\\\b \b|\b \b/\b \b-\b \b\\\b \b|\b \b/\b \b-\b \b\\\b \b|\b \b/\b \b-\b \b\\\b \b|\b \b/\b \b-\b \b\\\b \b|\b \b/\b \b-\b \b\\\b \b|\b \b/\b \b-\b \b\\\b \b|\b \b/\b \b-\b \b\\\b \b|\b \b/\b \b-\b \b\\\b \b|\b \b/\b \b-\b \b\\\b \b|\b \b/\b \b-\b \b\\\b \b|\b \b/\b \b-\b \b\\\b \b|\b \b/\b \b-\b \b\\\b \b|\b \b/\b \b-\b \b\\\b \b|\b \b/\b \b-\b \b\\\b \b|\b \b/\b \b-\b \b\\\b \b|\b \b/\b \b-\b \b\\\b \b|\b \b/\b \b-\b \b\\\b \b|\b \b/\b \b-\b \b\\\b \b|\b \b/\b \b-\b \b\\\b \b|\b \b/\b \b-\b \b\\\b \b|\b \b/\b \b-\b \b\\\b \b|\b \b/\b \b-\b \b\\\b \b|\b \b/\b \b-\b \b\\\b \b|\b \b/\b \b-\b \b\\\b \b|\b \b/\b \b-\b \b\\\b \b|\b \b/\b \b-\b \b\\\b \b|\b \b/\b \b-\b \b\\\b \b|\b \b/\b \b-\b \b\\\b \b|\b \b/\b \b-\b \b\\\b \b|\b \b/\b \b-\b \b\\\b \b|\b \b/\b \b-\b \b\\\b \bdone\n",
            "\u001b[?25h  Stored in directory: /content/.cache/pip/wheels/89/77/ec/a537585d1022dafde0317dd19d33c4a30d4ee61e19f25ebd8e\n",
            "  Running setup.py bdist_wheel for munch ... \u001b[?25l-\b \bdone\n",
            "\u001b[?25h  Stored in directory: /content/.cache/pip/wheels/db/bf/bc/06a3e1bfe0ab27d2e720ceb3cff3159398d92644c0cec2c125\n",
            "  Running setup.py bdist_wheel for click-plugins ... \u001b[?25l-\b \bdone\n",
            "\u001b[?25h  Stored in directory: /content/.cache/pip/wheels/bc/86/aa/7680e54728998edc1e966a20249b920e582012ed6bdd3815c4\n",
            "Successfully built pyproj munch click-plugins\n",
            "Installing collected packages: descartes, scipy, shapely, pyproj, munch, click, cligj, click-plugins, fiona, geopandas, palettable, mizani, plotnine\n",
            "  Found existing installation: scipy 0.19.1\n",
            "    Uninstalling scipy-0.19.1:\n",
            "      Successfully uninstalled scipy-0.19.1\n",
            "Successfully installed click-6.7 click-plugins-1.0.3 cligj-0.4.0 descartes-1.1.0 fiona-1.7.13 geopandas-0.4.0 mizani-0.4.6 munch-2.3.2 palettable-3.1.1 plotnine-0.4.0 pyproj-1.9.5.1 scipy-1.1.0 shapely-1.6.4.post2\n"
          ],
          "name": "stdout"
        }
      ]
    },
    {
      "metadata": {
        "id": "WJBbqeha_6yK",
        "colab_type": "code",
        "colab": {}
      },
      "cell_type": "code",
      "source": [
        "import warnings\n",
        "warnings.filterwarnings('ignore')"
      ],
      "execution_count": 0,
      "outputs": []
    },
    {
      "metadata": {
        "id": "qwKtR63C_6yN",
        "colab_type": "code",
        "colab": {}
      },
      "cell_type": "code",
      "source": [
        "import pandas as pd\n",
        "import numpy as np\n",
        "import re\n",
        "from plotnine import *"
      ],
      "execution_count": 0,
      "outputs": []
    },
    {
      "metadata": {
        "id": "2reRpJEN_6yQ",
        "colab_type": "code",
        "colab": {
          "base_uri": "https://localhost:8080/",
          "height": 35
        },
        "outputId": "0cccb434-33b0-4cf5-e259-03a8a441e446"
      },
      "cell_type": "code",
      "source": [
        "%pwd\n",
        "#참고 : 서버 명령어 기재시 % 입력 후 서버 명령어 활용"
      ],
      "execution_count": 0,
      "outputs": [
        {
          "output_type": "execute_result",
          "data": {
            "text/plain": [
              "'/content'"
            ]
          },
          "metadata": {
            "tags": []
          },
          "execution_count": 5
        }
      ]
    },
    {
      "metadata": {
        "id": "jr3vh4VBDHnq",
        "colab_type": "code",
        "colab": {
          "resources": {
            "http://localhost:8080/nbextensions/google.colab/files.js": {
              "data": "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",
              "ok": true,
              "headers": [
                [
                  "content-type",
                  "application/javascript"
                ]
              ],
              "status": 200,
              "status_text": "OK"
            }
          },
          "base_uri": "https://localhost:8080/",
          "height": 93
        },
        "outputId": "0c81eb32-dd66-4ea6-e97d-c0af3e7b35e7"
      },
      "cell_type": "code",
      "source": [
        "# 로컬 파일 업로드 \n",
        "from google.colab import files\n",
        "\n",
        "uploaded = files.upload()\n",
        "\n",
        "for fn in uploaded.keys():\n",
        "  print('User uploaded file \"{name}\" with length {length} bytes'.format(\n",
        "      name=fn, length=len(uploaded[fn])))"
      ],
      "execution_count": 0,
      "outputs": [
        {
          "output_type": "display_data",
          "data": {
            "text/html": [
              "\n",
              "     <input type=\"file\" id=\"files-b48780ab-d333-4652-882c-2cb58057fc75\" name=\"files[]\" multiple disabled />\n",
              "     <output id=\"result-b48780ab-d333-4652-882c-2cb58057fc75\">\n",
              "      Upload widget is only available when the cell has been executed in the\n",
              "      current browser session. Please rerun this cell to enable.\n",
              "      </output>\n",
              "      <script src=\"/nbextensions/google.colab/files.js\"></script> "
            ],
            "text/plain": [
              "<IPython.core.display.HTML object>"
            ]
          },
          "metadata": {
            "tags": []
          }
        },
        {
          "output_type": "stream",
          "text": [
            "Saving 전국 평균 분양가격(2018.6월).csv to 전국 평균 분양가격(2018.6월).csv\n",
            "User uploaded file \"전국 평균 분양가격(2018.6월).csv\" with length 105382 bytes\n"
          ],
          "name": "stdout"
        }
      ]
    },
    {
      "metadata": {
        "id": "ckU6EXDr_6yV",
        "colab_type": "code",
        "colab": {
          "base_uri": "https://localhost:8080/",
          "height": 215
        },
        "outputId": "546ec13b-dd3d-4e20-8332-618a642fe65a"
      },
      "cell_type": "code",
      "source": [
        "%ls -alrt"
      ],
      "execution_count": 0,
      "outputs": [
        {
          "output_type": "stream",
          "text": [
            "total 140\r\n",
            "drwxr-xr-x 2 root root   4096 Aug 15 20:56 \u001b[0m\u001b[01;34msample_data\u001b[0m/\r\n",
            "lrwxrwxrwx 1 root root      8 Aug 15 20:56 \u001b[01;36mdatalab\u001b[0m -> \u001b[01;34m/content\u001b[0m/\r\n",
            "drwxr-xr-x 1 root root   4096 Aug 20 07:39 \u001b[01;34m..\u001b[0m/\r\n",
            "drwxr-xr-x 4 root root   4096 Aug 20 07:40 \u001b[01;34m.forever\u001b[0m/\r\n",
            "drwx------ 3 root root   4096 Aug 20 07:40 \u001b[01;34m.local\u001b[0m/\r\n",
            "drwxr-xr-x 5 root root   4096 Aug 20 07:40 \u001b[01;34m.ipython\u001b[0m/\r\n",
            "drwxr-xr-x 1 root root   4096 Aug 20 07:40 \u001b[01;34m.config\u001b[0m/\r\n",
            "drwx------ 4 root root   4096 Aug 20 07:40 \u001b[01;34m.cache\u001b[0m/\r\n",
            "drwxr-xr-x 1 root root   4096 Aug 20 07:44 \u001b[01;34m.\u001b[0m/\r\n",
            "-rw-r--r-- 1 root root 105382 Aug 20 07:44 전국 평균 분양가격(2018.6월).csv\r\n"
          ],
          "name": "stdout"
        }
      ]
    },
    {
      "metadata": {
        "id": "D9Ye6XGJ_6yY",
        "colab_type": "code",
        "colab": {
          "base_uri": "https://localhost:8080/",
          "height": 35
        },
        "outputId": "248e805e-8b8f-44ed-dcdc-f6ba46673075"
      },
      "cell_type": "code",
      "source": [
        "pre_sale = pd.read_csv('전국 평균 분양가격(2018.6월).csv', encoding='euc-kr')\n",
        "pre_sale.shape"
      ],
      "execution_count": 0,
      "outputs": [
        {
          "output_type": "execute_result",
          "data": {
            "text/plain": [
              "(2805, 5)"
            ]
          },
          "metadata": {
            "tags": []
          },
          "execution_count": 8
        }
      ]
    },
    {
      "metadata": {
        "id": "Y2HWvQ7s_6yb",
        "colab_type": "code",
        "colab": {
          "base_uri": "https://localhost:8080/",
          "height": 142
        },
        "outputId": "ef6ea63d-22e9-481c-ac95-147151d515b5"
      },
      "cell_type": "code",
      "source": [
        "pre_sale.head(3)\n",
        "#참고 : 머리 - 윗 부분 자료 검색"
      ],
      "execution_count": 0,
      "outputs": [
        {
          "output_type": "execute_result",
          "data": {
            "text/html": [
              "<div>\n",
              "<style scoped>\n",
              "    .dataframe tbody tr th:only-of-type {\n",
              "        vertical-align: middle;\n",
              "    }\n",
              "\n",
              "    .dataframe tbody tr th {\n",
              "        vertical-align: top;\n",
              "    }\n",
              "\n",
              "    .dataframe thead th {\n",
              "        text-align: right;\n",
              "    }\n",
              "</style>\n",
              "<table border=\"1\" class=\"dataframe\">\n",
              "  <thead>\n",
              "    <tr style=\"text-align: right;\">\n",
              "      <th></th>\n",
              "      <th>지역명</th>\n",
              "      <th>규모구분</th>\n",
              "      <th>연도</th>\n",
              "      <th>월</th>\n",
              "      <th>분양가격(㎡)</th>\n",
              "    </tr>\n",
              "  </thead>\n",
              "  <tbody>\n",
              "    <tr>\n",
              "      <th>0</th>\n",
              "      <td>서울</td>\n",
              "      <td>전체</td>\n",
              "      <td>2015</td>\n",
              "      <td>10</td>\n",
              "      <td>5841</td>\n",
              "    </tr>\n",
              "    <tr>\n",
              "      <th>1</th>\n",
              "      <td>서울</td>\n",
              "      <td>전용면적 60㎡이하</td>\n",
              "      <td>2015</td>\n",
              "      <td>10</td>\n",
              "      <td>5652</td>\n",
              "    </tr>\n",
              "    <tr>\n",
              "      <th>2</th>\n",
              "      <td>서울</td>\n",
              "      <td>전용면적 60㎡초과 85㎡이하</td>\n",
              "      <td>2015</td>\n",
              "      <td>10</td>\n",
              "      <td>5882</td>\n",
              "    </tr>\n",
              "  </tbody>\n",
              "</table>\n",
              "</div>"
            ],
            "text/plain": [
              "  지역명              규모구분    연도   월 분양가격(㎡)\n",
              "0  서울                전체  2015  10    5841\n",
              "1  서울        전용면적 60㎡이하  2015  10    5652\n",
              "2  서울  전용면적 60㎡초과 85㎡이하  2015  10    5882"
            ]
          },
          "metadata": {
            "tags": []
          },
          "execution_count": 9
        }
      ]
    },
    {
      "metadata": {
        "id": "ZaDaUN8t_6yi",
        "colab_type": "code",
        "colab": {
          "base_uri": "https://localhost:8080/",
          "height": 359
        },
        "outputId": "d38c8469-8119-45cb-e21c-228da87f0f13"
      },
      "cell_type": "code",
      "source": [
        "pre_sale.tail(10)\n",
        "#참고: 꼬리 - 뒷 부분 자료 검색"
      ],
      "execution_count": 0,
      "outputs": [
        {
          "output_type": "execute_result",
          "data": {
            "text/html": [
              "<div>\n",
              "<style scoped>\n",
              "    .dataframe tbody tr th:only-of-type {\n",
              "        vertical-align: middle;\n",
              "    }\n",
              "\n",
              "    .dataframe tbody tr th {\n",
              "        vertical-align: top;\n",
              "    }\n",
              "\n",
              "    .dataframe thead th {\n",
              "        text-align: right;\n",
              "    }\n",
              "</style>\n",
              "<table border=\"1\" class=\"dataframe\">\n",
              "  <thead>\n",
              "    <tr style=\"text-align: right;\">\n",
              "      <th></th>\n",
              "      <th>지역명</th>\n",
              "      <th>규모구분</th>\n",
              "      <th>연도</th>\n",
              "      <th>월</th>\n",
              "      <th>분양가격(㎡)</th>\n",
              "    </tr>\n",
              "  </thead>\n",
              "  <tbody>\n",
              "    <tr>\n",
              "      <th>2795</th>\n",
              "      <td>경남</td>\n",
              "      <td>전체</td>\n",
              "      <td>2018</td>\n",
              "      <td>6</td>\n",
              "      <td>2695</td>\n",
              "    </tr>\n",
              "    <tr>\n",
              "      <th>2796</th>\n",
              "      <td>경남</td>\n",
              "      <td>전용면적 60㎡이하</td>\n",
              "      <td>2018</td>\n",
              "      <td>6</td>\n",
              "      <td>2744</td>\n",
              "    </tr>\n",
              "    <tr>\n",
              "      <th>2797</th>\n",
              "      <td>경남</td>\n",
              "      <td>전용면적 60㎡초과 85㎡이하</td>\n",
              "      <td>2018</td>\n",
              "      <td>6</td>\n",
              "      <td>2673</td>\n",
              "    </tr>\n",
              "    <tr>\n",
              "      <th>2798</th>\n",
              "      <td>경남</td>\n",
              "      <td>전용면적 85㎡초과 102㎡이하</td>\n",
              "      <td>2018</td>\n",
              "      <td>6</td>\n",
              "      <td>2857</td>\n",
              "    </tr>\n",
              "    <tr>\n",
              "      <th>2799</th>\n",
              "      <td>경남</td>\n",
              "      <td>전용면적 102㎡초과</td>\n",
              "      <td>2018</td>\n",
              "      <td>6</td>\n",
              "      <td>2862</td>\n",
              "    </tr>\n",
              "    <tr>\n",
              "      <th>2800</th>\n",
              "      <td>제주</td>\n",
              "      <td>전체</td>\n",
              "      <td>2018</td>\n",
              "      <td>6</td>\n",
              "      <td>3925</td>\n",
              "    </tr>\n",
              "    <tr>\n",
              "      <th>2801</th>\n",
              "      <td>제주</td>\n",
              "      <td>전용면적 60㎡이하</td>\n",
              "      <td>2018</td>\n",
              "      <td>6</td>\n",
              "      <td>5462</td>\n",
              "    </tr>\n",
              "    <tr>\n",
              "      <th>2802</th>\n",
              "      <td>제주</td>\n",
              "      <td>전용면적 60㎡초과 85㎡이하</td>\n",
              "      <td>2018</td>\n",
              "      <td>6</td>\n",
              "      <td>3639</td>\n",
              "    </tr>\n",
              "    <tr>\n",
              "      <th>2803</th>\n",
              "      <td>제주</td>\n",
              "      <td>전용면적 85㎡초과 102㎡이하</td>\n",
              "      <td>2018</td>\n",
              "      <td>6</td>\n",
              "      <td>NaN</td>\n",
              "    </tr>\n",
              "    <tr>\n",
              "      <th>2804</th>\n",
              "      <td>제주</td>\n",
              "      <td>전용면적 102㎡초과</td>\n",
              "      <td>2018</td>\n",
              "      <td>6</td>\n",
              "      <td>3029</td>\n",
              "    </tr>\n",
              "  </tbody>\n",
              "</table>\n",
              "</div>"
            ],
            "text/plain": [
              "     지역명               규모구분    연도  월 분양가격(㎡)\n",
              "2795  경남                 전체  2018  6    2695\n",
              "2796  경남         전용면적 60㎡이하  2018  6    2744\n",
              "2797  경남   전용면적 60㎡초과 85㎡이하  2018  6    2673\n",
              "2798  경남  전용면적 85㎡초과 102㎡이하  2018  6    2857\n",
              "2799  경남        전용면적 102㎡초과  2018  6    2862\n",
              "2800  제주                 전체  2018  6    3925\n",
              "2801  제주         전용면적 60㎡이하  2018  6    5462\n",
              "2802  제주   전용면적 60㎡초과 85㎡이하  2018  6    3639\n",
              "2803  제주  전용면적 85㎡초과 102㎡이하  2018  6     NaN\n",
              "2804  제주        전용면적 102㎡초과  2018  6    3029"
            ]
          },
          "metadata": {
            "tags": []
          },
          "execution_count": 10
        }
      ]
    },
    {
      "metadata": {
        "id": "q7AZSN9j_6yl",
        "colab_type": "code",
        "colab": {
          "base_uri": "https://localhost:8080/",
          "height": 197
        },
        "outputId": "2c5af9a4-238e-43e7-d3b2-8cf02fefcb6c"
      },
      "cell_type": "code",
      "source": [
        "# 분양가격이 숫자 타입이 아닙니다. 숫자 타입으로 변경해줄 필요가 있겠어요.\n",
        "pre_sale.info()"
      ],
      "execution_count": 0,
      "outputs": [
        {
          "output_type": "stream",
          "text": [
            "<class 'pandas.core.frame.DataFrame'>\n",
            "RangeIndex: 2805 entries, 0 to 2804\n",
            "Data columns (total 5 columns):\n",
            "지역명        2805 non-null object\n",
            "규모구분       2805 non-null object\n",
            "연도         2805 non-null int64\n",
            "월          2805 non-null int64\n",
            "분양가격(㎡)    2674 non-null object\n",
            "dtypes: int64(2), object(3)\n",
            "memory usage: 109.6+ KB\n"
          ],
          "name": "stdout"
        }
      ]
    },
    {
      "metadata": {
        "id": "dJJ497WZ_6yp",
        "colab_type": "code",
        "colab": {}
      },
      "cell_type": "code",
      "source": [
        "pre_sale_price = pre_sale['분양가격(㎡)']"
      ],
      "execution_count": 0,
      "outputs": []
    },
    {
      "metadata": {
        "id": "FUBi0LV2_6ys",
        "colab_type": "code",
        "colab": {}
      },
      "cell_type": "code",
      "source": [
        "# 연도와 월은 카테고리 형태의 데이터이기 때문에 스트링 형태로 변경\n",
        "pre_sale['연도'] = pre_sale['연도'].astype(str)\n",
        "pre_sale['월'] = pre_sale['월'].astype(str)\n",
        "\n",
        "#참고 : astype 란 Numpy 형 변환 방법: .astype(형변환타입)"
      ],
      "execution_count": 0,
      "outputs": []
    },
    {
      "metadata": {
        "id": "KnA8J_5VF9D8",
        "colab_type": "code",
        "colab": {}
      },
      "cell_type": "code",
      "source": [
        "print(pre_sale_price)\n",
        "#빈 값들이 존재함"
      ],
      "execution_count": 0,
      "outputs": []
    },
    {
      "metadata": {
        "id": "aAXsUKfg_6yu",
        "colab_type": "code",
        "colab": {}
      },
      "cell_type": "code",
      "source": [
        "# 분양가격의 타입을 숫자로 변경해 줍니다.\n",
        "pre_sale['분양가격'] = pd.to_numeric(pre_sale_price, errors='coerce')\n",
        "\n",
        "\n",
        "# 평당 분양가격을 구해볼까요.\n",
        "pre_sale['평당분양가격'] = pre_sale['분양가격'] * 3.3\n",
        "\n",
        "\n",
        "#참고: pd.to_numeric , pd= pandas 의 to_numberic 활용 errors= 'coerce' : 숫자로만 변형, erros='ignore' : 에러무시함 , downcast='float' :가장 작은 float dtype , downcast='signed':  가장 작은 sign 사인 데이터"
      ],
      "execution_count": 0,
      "outputs": []
    },
    {
      "metadata": {
        "id": "ymqtJaL0_6yw",
        "colab_type": "code",
        "colab": {
          "base_uri": "https://localhost:8080/",
          "height": 233
        },
        "outputId": "4e08af32-ef63-48f8-ad9f-565732f39656"
      },
      "cell_type": "code",
      "source": [
        "pre_sale.info()"
      ],
      "execution_count": 0,
      "outputs": [
        {
          "output_type": "stream",
          "text": [
            "<class 'pandas.core.frame.DataFrame'>\n",
            "RangeIndex: 2805 entries, 0 to 2804\n",
            "Data columns (total 7 columns):\n",
            "지역명        2805 non-null object\n",
            "규모구분       2805 non-null object\n",
            "연도         2805 non-null object\n",
            "월          2805 non-null object\n",
            "분양가격(㎡)    2674 non-null object\n",
            "분양가격       2582 non-null float64\n",
            "평당분양가격     2582 non-null float64\n",
            "dtypes: float64(2), object(5)\n",
            "memory usage: 153.5+ KB\n"
          ],
          "name": "stdout"
        }
      ]
    },
    {
      "metadata": {
        "id": "gr5pHaMF_6yz",
        "colab_type": "code",
        "colab": {
          "base_uri": "https://localhost:8080/",
          "height": 161
        },
        "outputId": "16423878-5a9a-4a4a-a35d-d399e21019fa"
      },
      "cell_type": "code",
      "source": [
        "# 분양가격에 결측치가 많이 있어요.\n",
        "\n",
        "pre_sale.isnull()\n",
        "#참고 : insull 값이 있는 부분 False, True 로 표현\n",
        "\n",
        "pre_sale.isnull().sum()\n",
        "\n",
        "#참고 : insull 값이 있는 True 부분 1로 전환 후 sum \n"
      ],
      "execution_count": 0,
      "outputs": [
        {
          "output_type": "execute_result",
          "data": {
            "text/plain": [
              "지역명          0\n",
              "규모구분         0\n",
              "연도           0\n",
              "월            0\n",
              "분양가격(㎡)    131\n",
              "분양가격       223\n",
              "평당분양가격     223\n",
              "dtype: int64"
            ]
          },
          "metadata": {
            "tags": []
          },
          "execution_count": 21
        }
      ]
    },
    {
      "metadata": {
        "id": "eavr6RWy_6y2",
        "colab_type": "code",
        "colab": {
          "base_uri": "https://localhost:8080/",
          "height": 297
        },
        "outputId": "8d53feb9-6f81-4f0e-effb-daf9f54a5a04"
      },
      "cell_type": "code",
      "source": [
        "pre_sale.describe()"
      ],
      "execution_count": 0,
      "outputs": [
        {
          "output_type": "execute_result",
          "data": {
            "text/html": [
              "<div>\n",
              "<style scoped>\n",
              "    .dataframe tbody tr th:only-of-type {\n",
              "        vertical-align: middle;\n",
              "    }\n",
              "\n",
              "    .dataframe tbody tr th {\n",
              "        vertical-align: top;\n",
              "    }\n",
              "\n",
              "    .dataframe thead th {\n",
              "        text-align: right;\n",
              "    }\n",
              "</style>\n",
              "<table border=\"1\" class=\"dataframe\">\n",
              "  <thead>\n",
              "    <tr style=\"text-align: right;\">\n",
              "      <th></th>\n",
              "      <th>분양가격</th>\n",
              "      <th>평당분양가격</th>\n",
              "    </tr>\n",
              "  </thead>\n",
              "  <tbody>\n",
              "    <tr>\n",
              "      <th>count</th>\n",
              "      <td>2582.000000</td>\n",
              "      <td>2582.000000</td>\n",
              "    </tr>\n",
              "    <tr>\n",
              "      <th>mean</th>\n",
              "      <td>3056.522851</td>\n",
              "      <td>10086.525407</td>\n",
              "    </tr>\n",
              "    <tr>\n",
              "      <th>std</th>\n",
              "      <td>1110.111932</td>\n",
              "      <td>3663.369377</td>\n",
              "    </tr>\n",
              "    <tr>\n",
              "      <th>min</th>\n",
              "      <td>1868.000000</td>\n",
              "      <td>6164.400000</td>\n",
              "    </tr>\n",
              "    <tr>\n",
              "      <th>25%</th>\n",
              "      <td>2339.000000</td>\n",
              "      <td>7718.700000</td>\n",
              "    </tr>\n",
              "    <tr>\n",
              "      <th>50%</th>\n",
              "      <td>2738.500000</td>\n",
              "      <td>9037.050000</td>\n",
              "    </tr>\n",
              "    <tr>\n",
              "      <th>75%</th>\n",
              "      <td>3289.000000</td>\n",
              "      <td>10853.700000</td>\n",
              "    </tr>\n",
              "    <tr>\n",
              "      <th>max</th>\n",
              "      <td>8098.000000</td>\n",
              "      <td>26723.400000</td>\n",
              "    </tr>\n",
              "  </tbody>\n",
              "</table>\n",
              "</div>"
            ],
            "text/plain": [
              "              분양가격        평당분양가격\n",
              "count  2582.000000   2582.000000\n",
              "mean   3056.522851  10086.525407\n",
              "std    1110.111932   3663.369377\n",
              "min    1868.000000   6164.400000\n",
              "25%    2339.000000   7718.700000\n",
              "50%    2738.500000   9037.050000\n",
              "75%    3289.000000  10853.700000\n",
              "max    8098.000000  26723.400000"
            ]
          },
          "metadata": {
            "tags": []
          },
          "execution_count": 23
        }
      ]
    },
    {
      "metadata": {
        "id": "ViXvLwID_6y7",
        "colab_type": "code",
        "colab": {
          "base_uri": "https://localhost:8080/",
          "height": 35
        },
        "outputId": "ce989492-97c5-4ee0-ef38-bfbd88853264"
      },
      "cell_type": "code",
      "source": [
        "# 2017년 데이터만 봅니다.\n",
        "pre_sale_2017 = pre_sale.loc[pre_sale['연도'] == 2017]\n",
        "pre_sale_2017.shape"
      ],
      "execution_count": 0,
      "outputs": [
        {
          "output_type": "execute_result",
          "data": {
            "text/plain": [
              "(0, 7)"
            ]
          },
          "metadata": {
            "tags": []
          },
          "execution_count": 24
        }
      ]
    },
    {
      "metadata": {
        "id": "3WMzyXF1_6y_",
        "colab_type": "code",
        "colab": {
          "base_uri": "https://localhost:8080/",
          "height": 125
        },
        "outputId": "175df2f6-6565-4b66-f3c7-cd2f4e47059b"
      },
      "cell_type": "code",
      "source": [
        "# 같은 값을 갖고 있는 걸로 시도별로 동일하게 데이터가 들어 있는 것을 확인할 수 있습니다.\n",
        "pre_sale['규모구분'].value_counts()"
      ],
      "execution_count": 0,
      "outputs": [
        {
          "output_type": "execute_result",
          "data": {
            "text/plain": [
              "전용면적 102㎡초과          561\n",
              "전용면적 60㎡초과 85㎡이하     561\n",
              "전용면적 60㎡이하           561\n",
              "전체                   561\n",
              "전용면적 85㎡초과 102㎡이하    561\n",
              "Name: 규모구분, dtype: int64"
            ]
          },
          "metadata": {
            "tags": []
          },
          "execution_count": 25
        }
      ]
    },
    {
      "metadata": {
        "id": "UbWMN9hP_6zC",
        "colab_type": "text"
      },
      "cell_type": "markdown",
      "source": [
        "# 전국평균 분양가격"
      ]
    },
    {
      "metadata": {
        "id": "VwqB2EQM_6zC",
        "colab_type": "code",
        "colab": {
          "base_uri": "https://localhost:8080/",
          "height": 545
        },
        "outputId": "9257d096-00d3-455e-e384-efa71da40963"
      },
      "cell_type": "code",
      "source": [
        "# 분양가격만 봤을 때 2015년에서 2018년으로 갈수록 오른 것을 확인할 수 있습니다.\n",
        "pd.options.display.float_format = '{:,.0f}'.format\n",
        "pre_sale.groupby(pre_sale.연도).describe().T"
      ],
      "execution_count": 0,
      "outputs": [
        {
          "output_type": "execute_result",
          "data": {
            "text/html": [
              "<div>\n",
              "<style scoped>\n",
              "    .dataframe tbody tr th:only-of-type {\n",
              "        vertical-align: middle;\n",
              "    }\n",
              "\n",
              "    .dataframe tbody tr th {\n",
              "        vertical-align: top;\n",
              "    }\n",
              "\n",
              "    .dataframe thead th {\n",
              "        text-align: right;\n",
              "    }\n",
              "</style>\n",
              "<table border=\"1\" class=\"dataframe\">\n",
              "  <thead>\n",
              "    <tr style=\"text-align: right;\">\n",
              "      <th></th>\n",
              "      <th>연도</th>\n",
              "      <th>2015</th>\n",
              "      <th>2016</th>\n",
              "      <th>2017</th>\n",
              "      <th>2018</th>\n",
              "    </tr>\n",
              "  </thead>\n",
              "  <tbody>\n",
              "    <tr>\n",
              "      <th rowspan=\"8\" valign=\"top\">분양가격</th>\n",
              "      <th>count</th>\n",
              "      <td>243</td>\n",
              "      <td>984</td>\n",
              "      <td>899</td>\n",
              "      <td>456</td>\n",
              "    </tr>\n",
              "    <tr>\n",
              "      <th>mean</th>\n",
              "      <td>2,789</td>\n",
              "      <td>2,934</td>\n",
              "      <td>3,140</td>\n",
              "      <td>3,299</td>\n",
              "    </tr>\n",
              "    <tr>\n",
              "      <th>std</th>\n",
              "      <td>977</td>\n",
              "      <td>1,071</td>\n",
              "      <td>1,108</td>\n",
              "      <td>1,199</td>\n",
              "    </tr>\n",
              "    <tr>\n",
              "      <th>min</th>\n",
              "      <td>1,868</td>\n",
              "      <td>1,900</td>\n",
              "      <td>1,976</td>\n",
              "      <td>2,076</td>\n",
              "    </tr>\n",
              "    <tr>\n",
              "      <th>25%</th>\n",
              "      <td>2,225</td>\n",
              "      <td>2,282</td>\n",
              "      <td>2,365</td>\n",
              "      <td>2,470</td>\n",
              "    </tr>\n",
              "    <tr>\n",
              "      <th>50%</th>\n",
              "      <td>2,516</td>\n",
              "      <td>2,672</td>\n",
              "      <td>2,849</td>\n",
              "      <td>2,912</td>\n",
              "    </tr>\n",
              "    <tr>\n",
              "      <th>75%</th>\n",
              "      <td>3,026</td>\n",
              "      <td>3,148</td>\n",
              "      <td>3,456</td>\n",
              "      <td>3,647</td>\n",
              "    </tr>\n",
              "    <tr>\n",
              "      <th>max</th>\n",
              "      <td>7,092</td>\n",
              "      <td>8,096</td>\n",
              "      <td>7,887</td>\n",
              "      <td>8,098</td>\n",
              "    </tr>\n",
              "    <tr>\n",
              "      <th rowspan=\"8\" valign=\"top\">평당분양가격</th>\n",
              "      <th>count</th>\n",
              "      <td>243</td>\n",
              "      <td>984</td>\n",
              "      <td>899</td>\n",
              "      <td>456</td>\n",
              "    </tr>\n",
              "    <tr>\n",
              "      <th>mean</th>\n",
              "      <td>9,203</td>\n",
              "      <td>9,683</td>\n",
              "      <td>10,360</td>\n",
              "      <td>10,888</td>\n",
              "    </tr>\n",
              "    <tr>\n",
              "      <th>std</th>\n",
              "      <td>3,224</td>\n",
              "      <td>3,536</td>\n",
              "      <td>3,655</td>\n",
              "      <td>3,958</td>\n",
              "    </tr>\n",
              "    <tr>\n",
              "      <th>min</th>\n",
              "      <td>6,164</td>\n",
              "      <td>6,270</td>\n",
              "      <td>6,521</td>\n",
              "      <td>6,851</td>\n",
              "    </tr>\n",
              "    <tr>\n",
              "      <th>25%</th>\n",
              "      <td>7,342</td>\n",
              "      <td>7,531</td>\n",
              "      <td>7,804</td>\n",
              "      <td>8,153</td>\n",
              "    </tr>\n",
              "    <tr>\n",
              "      <th>50%</th>\n",
              "      <td>8,303</td>\n",
              "      <td>8,818</td>\n",
              "      <td>9,402</td>\n",
              "      <td>9,611</td>\n",
              "    </tr>\n",
              "    <tr>\n",
              "      <th>75%</th>\n",
              "      <td>9,984</td>\n",
              "      <td>10,390</td>\n",
              "      <td>11,405</td>\n",
              "      <td>12,036</td>\n",
              "    </tr>\n",
              "    <tr>\n",
              "      <th>max</th>\n",
              "      <td>23,404</td>\n",
              "      <td>26,717</td>\n",
              "      <td>26,027</td>\n",
              "      <td>26,723</td>\n",
              "    </tr>\n",
              "  </tbody>\n",
              "</table>\n",
              "</div>"
            ],
            "text/plain": [
              "연도             2015   2016   2017   2018\n",
              "분양가격   count    243    984    899    456\n",
              "       mean   2,789  2,934  3,140  3,299\n",
              "       std      977  1,071  1,108  1,199\n",
              "       min    1,868  1,900  1,976  2,076\n",
              "       25%    2,225  2,282  2,365  2,470\n",
              "       50%    2,516  2,672  2,849  2,912\n",
              "       75%    3,026  3,148  3,456  3,647\n",
              "       max    7,092  8,096  7,887  8,098\n",
              "평당분양가격 count    243    984    899    456\n",
              "       mean   9,203  9,683 10,360 10,888\n",
              "       std    3,224  3,536  3,655  3,958\n",
              "       min    6,164  6,270  6,521  6,851\n",
              "       25%    7,342  7,531  7,804  8,153\n",
              "       50%    8,303  8,818  9,402  9,611\n",
              "       75%    9,984 10,390 11,405 12,036\n",
              "       max   23,404 26,717 26,027 26,723"
            ]
          },
          "metadata": {
            "tags": []
          },
          "execution_count": 26
        }
      ]
    },
    {
      "metadata": {
        "id": "5CqmnFYkToWk",
        "colab_type": "code",
        "colab": {
          "base_uri": "https://localhost:8080/",
          "height": 1969
        },
        "outputId": "12d2c5b1-7302-43f5-9a95-8f602e23eb73"
      },
      "cell_type": "code",
      "source": [
        "pre_sale"
      ],
      "execution_count": 0,
      "outputs": [
        {
          "output_type": "execute_result",
          "data": {
            "text/html": [
              "<div>\n",
              "<style scoped>\n",
              "    .dataframe tbody tr th:only-of-type {\n",
              "        vertical-align: middle;\n",
              "    }\n",
              "\n",
              "    .dataframe tbody tr th {\n",
              "        vertical-align: top;\n",
              "    }\n",
              "\n",
              "    .dataframe thead th {\n",
              "        text-align: right;\n",
              "    }\n",
              "</style>\n",
              "<table border=\"1\" class=\"dataframe\">\n",
              "  <thead>\n",
              "    <tr style=\"text-align: right;\">\n",
              "      <th></th>\n",
              "      <th>지역명</th>\n",
              "      <th>규모구분</th>\n",
              "      <th>연도</th>\n",
              "      <th>월</th>\n",
              "      <th>분양가격(㎡)</th>\n",
              "      <th>분양가격</th>\n",
              "      <th>평당분양가격</th>\n",
              "    </tr>\n",
              "  </thead>\n",
              "  <tbody>\n",
              "    <tr>\n",
              "      <th>0</th>\n",
              "      <td>서울</td>\n",
              "      <td>전체</td>\n",
              "      <td>2015</td>\n",
              "      <td>10</td>\n",
              "      <td>5841</td>\n",
              "      <td>5,841</td>\n",
              "      <td>19,275</td>\n",
              "    </tr>\n",
              "    <tr>\n",
              "      <th>1</th>\n",
              "      <td>서울</td>\n",
              "      <td>전용면적 60㎡이하</td>\n",
              "      <td>2015</td>\n",
              "      <td>10</td>\n",
              "      <td>5652</td>\n",
              "      <td>5,652</td>\n",
              "      <td>18,652</td>\n",
              "    </tr>\n",
              "    <tr>\n",
              "      <th>2</th>\n",
              "      <td>서울</td>\n",
              "      <td>전용면적 60㎡초과 85㎡이하</td>\n",
              "      <td>2015</td>\n",
              "      <td>10</td>\n",
              "      <td>5882</td>\n",
              "      <td>5,882</td>\n",
              "      <td>19,411</td>\n",
              "    </tr>\n",
              "    <tr>\n",
              "      <th>3</th>\n",
              "      <td>서울</td>\n",
              "      <td>전용면적 85㎡초과 102㎡이하</td>\n",
              "      <td>2015</td>\n",
              "      <td>10</td>\n",
              "      <td>5721</td>\n",
              "      <td>5,721</td>\n",
              "      <td>18,879</td>\n",
              "    </tr>\n",
              "    <tr>\n",
              "      <th>4</th>\n",
              "      <td>서울</td>\n",
              "      <td>전용면적 102㎡초과</td>\n",
              "      <td>2015</td>\n",
              "      <td>10</td>\n",
              "      <td>5879</td>\n",
              "      <td>5,879</td>\n",
              "      <td>19,401</td>\n",
              "    </tr>\n",
              "    <tr>\n",
              "      <th>5</th>\n",
              "      <td>인천</td>\n",
              "      <td>전체</td>\n",
              "      <td>2015</td>\n",
              "      <td>10</td>\n",
              "      <td>3163</td>\n",
              "      <td>3,163</td>\n",
              "      <td>10,438</td>\n",
              "    </tr>\n",
              "    <tr>\n",
              "      <th>6</th>\n",
              "      <td>인천</td>\n",
              "      <td>전용면적 60㎡이하</td>\n",
              "      <td>2015</td>\n",
              "      <td>10</td>\n",
              "      <td>3488</td>\n",
              "      <td>3,488</td>\n",
              "      <td>11,510</td>\n",
              "    </tr>\n",
              "    <tr>\n",
              "      <th>7</th>\n",
              "      <td>인천</td>\n",
              "      <td>전용면적 60㎡초과 85㎡이하</td>\n",
              "      <td>2015</td>\n",
              "      <td>10</td>\n",
              "      <td>3119</td>\n",
              "      <td>3,119</td>\n",
              "      <td>10,293</td>\n",
              "    </tr>\n",
              "    <tr>\n",
              "      <th>8</th>\n",
              "      <td>인천</td>\n",
              "      <td>전용면적 85㎡초과 102㎡이하</td>\n",
              "      <td>2015</td>\n",
              "      <td>10</td>\n",
              "      <td>3545</td>\n",
              "      <td>3,545</td>\n",
              "      <td>11,698</td>\n",
              "    </tr>\n",
              "    <tr>\n",
              "      <th>9</th>\n",
              "      <td>인천</td>\n",
              "      <td>전용면적 102㎡초과</td>\n",
              "      <td>2015</td>\n",
              "      <td>10</td>\n",
              "      <td>3408</td>\n",
              "      <td>3,408</td>\n",
              "      <td>11,246</td>\n",
              "    </tr>\n",
              "    <tr>\n",
              "      <th>10</th>\n",
              "      <td>경기</td>\n",
              "      <td>전체</td>\n",
              "      <td>2015</td>\n",
              "      <td>10</td>\n",
              "      <td>3138</td>\n",
              "      <td>3,138</td>\n",
              "      <td>10,355</td>\n",
              "    </tr>\n",
              "    <tr>\n",
              "      <th>11</th>\n",
              "      <td>경기</td>\n",
              "      <td>전용면적 60㎡이하</td>\n",
              "      <td>2015</td>\n",
              "      <td>10</td>\n",
              "      <td>3126</td>\n",
              "      <td>3,126</td>\n",
              "      <td>10,316</td>\n",
              "    </tr>\n",
              "    <tr>\n",
              "      <th>12</th>\n",
              "      <td>경기</td>\n",
              "      <td>전용면적 60㎡초과 85㎡이하</td>\n",
              "      <td>2015</td>\n",
              "      <td>10</td>\n",
              "      <td>3239</td>\n",
              "      <td>3,239</td>\n",
              "      <td>10,689</td>\n",
              "    </tr>\n",
              "    <tr>\n",
              "      <th>13</th>\n",
              "      <td>경기</td>\n",
              "      <td>전용면적 85㎡초과 102㎡이하</td>\n",
              "      <td>2015</td>\n",
              "      <td>10</td>\n",
              "      <td>3496</td>\n",
              "      <td>3,496</td>\n",
              "      <td>11,537</td>\n",
              "    </tr>\n",
              "    <tr>\n",
              "      <th>14</th>\n",
              "      <td>경기</td>\n",
              "      <td>전용면적 102㎡초과</td>\n",
              "      <td>2015</td>\n",
              "      <td>10</td>\n",
              "      <td>3680</td>\n",
              "      <td>3,680</td>\n",
              "      <td>12,144</td>\n",
              "    </tr>\n",
              "    <tr>\n",
              "      <th>15</th>\n",
              "      <td>부산</td>\n",
              "      <td>전체</td>\n",
              "      <td>2015</td>\n",
              "      <td>10</td>\n",
              "      <td>3112</td>\n",
              "      <td>3,112</td>\n",
              "      <td>10,270</td>\n",
              "    </tr>\n",
              "    <tr>\n",
              "      <th>16</th>\n",
              "      <td>부산</td>\n",
              "      <td>전용면적 60㎡이하</td>\n",
              "      <td>2015</td>\n",
              "      <td>10</td>\n",
              "      <td>2950</td>\n",
              "      <td>2,950</td>\n",
              "      <td>9,735</td>\n",
              "    </tr>\n",
              "    <tr>\n",
              "      <th>17</th>\n",
              "      <td>부산</td>\n",
              "      <td>전용면적 60㎡초과 85㎡이하</td>\n",
              "      <td>2015</td>\n",
              "      <td>10</td>\n",
              "      <td>2999</td>\n",
              "      <td>2,999</td>\n",
              "      <td>9,897</td>\n",
              "    </tr>\n",
              "    <tr>\n",
              "      <th>18</th>\n",
              "      <td>부산</td>\n",
              "      <td>전용면적 85㎡초과 102㎡이하</td>\n",
              "      <td>2015</td>\n",
              "      <td>10</td>\n",
              "      <td>2957</td>\n",
              "      <td>2,957</td>\n",
              "      <td>9,758</td>\n",
              "    </tr>\n",
              "    <tr>\n",
              "      <th>19</th>\n",
              "      <td>부산</td>\n",
              "      <td>전용면적 102㎡초과</td>\n",
              "      <td>2015</td>\n",
              "      <td>10</td>\n",
              "      <td>3500</td>\n",
              "      <td>3,500</td>\n",
              "      <td>11,550</td>\n",
              "    </tr>\n",
              "    <tr>\n",
              "      <th>20</th>\n",
              "      <td>대구</td>\n",
              "      <td>전체</td>\n",
              "      <td>2015</td>\n",
              "      <td>10</td>\n",
              "      <td>2682</td>\n",
              "      <td>2,682</td>\n",
              "      <td>8,851</td>\n",
              "    </tr>\n",
              "    <tr>\n",
              "      <th>21</th>\n",
              "      <td>대구</td>\n",
              "      <td>전용면적 60㎡이하</td>\n",
              "      <td>2015</td>\n",
              "      <td>10</td>\n",
              "      <td>2614</td>\n",
              "      <td>2,614</td>\n",
              "      <td>8,626</td>\n",
              "    </tr>\n",
              "    <tr>\n",
              "      <th>22</th>\n",
              "      <td>대구</td>\n",
              "      <td>전용면적 60㎡초과 85㎡이하</td>\n",
              "      <td>2015</td>\n",
              "      <td>10</td>\n",
              "      <td>2696</td>\n",
              "      <td>2,696</td>\n",
              "      <td>8,897</td>\n",
              "    </tr>\n",
              "    <tr>\n",
              "      <th>23</th>\n",
              "      <td>대구</td>\n",
              "      <td>전용면적 85㎡초과 102㎡이하</td>\n",
              "      <td>2015</td>\n",
              "      <td>10</td>\n",
              "      <td>2557</td>\n",
              "      <td>2,557</td>\n",
              "      <td>8,438</td>\n",
              "    </tr>\n",
              "    <tr>\n",
              "      <th>24</th>\n",
              "      <td>대구</td>\n",
              "      <td>전용면적 102㎡초과</td>\n",
              "      <td>2015</td>\n",
              "      <td>10</td>\n",
              "      <td>2598</td>\n",
              "      <td>2,598</td>\n",
              "      <td>8,573</td>\n",
              "    </tr>\n",
              "    <tr>\n",
              "      <th>25</th>\n",
              "      <td>광주</td>\n",
              "      <td>전체</td>\n",
              "      <td>2015</td>\n",
              "      <td>10</td>\n",
              "      <td>2420</td>\n",
              "      <td>2,420</td>\n",
              "      <td>7,986</td>\n",
              "    </tr>\n",
              "    <tr>\n",
              "      <th>26</th>\n",
              "      <td>광주</td>\n",
              "      <td>전용면적 60㎡이하</td>\n",
              "      <td>2015</td>\n",
              "      <td>10</td>\n",
              "      <td>2253</td>\n",
              "      <td>2,253</td>\n",
              "      <td>7,435</td>\n",
              "    </tr>\n",
              "    <tr>\n",
              "      <th>27</th>\n",
              "      <td>광주</td>\n",
              "      <td>전용면적 60㎡초과 85㎡이하</td>\n",
              "      <td>2015</td>\n",
              "      <td>10</td>\n",
              "      <td>2439</td>\n",
              "      <td>2,439</td>\n",
              "      <td>8,049</td>\n",
              "    </tr>\n",
              "    <tr>\n",
              "      <th>28</th>\n",
              "      <td>광주</td>\n",
              "      <td>전용면적 85㎡초과 102㎡이하</td>\n",
              "      <td>2015</td>\n",
              "      <td>10</td>\n",
              "      <td></td>\n",
              "      <td>nan</td>\n",
              "      <td>nan</td>\n",
              "    </tr>\n",
              "    <tr>\n",
              "      <th>29</th>\n",
              "      <td>광주</td>\n",
              "      <td>전용면적 102㎡초과</td>\n",
              "      <td>2015</td>\n",
              "      <td>10</td>\n",
              "      <td></td>\n",
              "      <td>nan</td>\n",
              "      <td>nan</td>\n",
              "    </tr>\n",
              "    <tr>\n",
              "      <th>...</th>\n",
              "      <td>...</td>\n",
              "      <td>...</td>\n",
              "      <td>...</td>\n",
              "      <td>...</td>\n",
              "      <td>...</td>\n",
              "      <td>...</td>\n",
              "      <td>...</td>\n",
              "    </tr>\n",
              "    <tr>\n",
              "      <th>2775</th>\n",
              "      <td>충남</td>\n",
              "      <td>전체</td>\n",
              "      <td>2018</td>\n",
              "      <td>6</td>\n",
              "      <td>2467</td>\n",
              "      <td>2,467</td>\n",
              "      <td>8,141</td>\n",
              "    </tr>\n",
              "    <tr>\n",
              "      <th>2776</th>\n",
              "      <td>충남</td>\n",
              "      <td>전용면적 60㎡이하</td>\n",
              "      <td>2018</td>\n",
              "      <td>6</td>\n",
              "      <td>2452</td>\n",
              "      <td>2,452</td>\n",
              "      <td>8,092</td>\n",
              "    </tr>\n",
              "    <tr>\n",
              "      <th>2777</th>\n",
              "      <td>충남</td>\n",
              "      <td>전용면적 60㎡초과 85㎡이하</td>\n",
              "      <td>2018</td>\n",
              "      <td>6</td>\n",
              "      <td>2467</td>\n",
              "      <td>2,467</td>\n",
              "      <td>8,141</td>\n",
              "    </tr>\n",
              "    <tr>\n",
              "      <th>2778</th>\n",
              "      <td>충남</td>\n",
              "      <td>전용면적 85㎡초과 102㎡이하</td>\n",
              "      <td>2018</td>\n",
              "      <td>6</td>\n",
              "      <td>2657</td>\n",
              "      <td>2,657</td>\n",
              "      <td>8,768</td>\n",
              "    </tr>\n",
              "    <tr>\n",
              "      <th>2779</th>\n",
              "      <td>충남</td>\n",
              "      <td>전용면적 102㎡초과</td>\n",
              "      <td>2018</td>\n",
              "      <td>6</td>\n",
              "      <td>2580</td>\n",
              "      <td>2,580</td>\n",
              "      <td>8,514</td>\n",
              "    </tr>\n",
              "    <tr>\n",
              "      <th>2780</th>\n",
              "      <td>전북</td>\n",
              "      <td>전체</td>\n",
              "      <td>2018</td>\n",
              "      <td>6</td>\n",
              "      <td>2326</td>\n",
              "      <td>2,326</td>\n",
              "      <td>7,676</td>\n",
              "    </tr>\n",
              "    <tr>\n",
              "      <th>2781</th>\n",
              "      <td>전북</td>\n",
              "      <td>전용면적 60㎡이하</td>\n",
              "      <td>2018</td>\n",
              "      <td>6</td>\n",
              "      <td>2664</td>\n",
              "      <td>2,664</td>\n",
              "      <td>8,791</td>\n",
              "    </tr>\n",
              "    <tr>\n",
              "      <th>2782</th>\n",
              "      <td>전북</td>\n",
              "      <td>전용면적 60㎡초과 85㎡이하</td>\n",
              "      <td>2018</td>\n",
              "      <td>6</td>\n",
              "      <td>2300</td>\n",
              "      <td>2,300</td>\n",
              "      <td>7,590</td>\n",
              "    </tr>\n",
              "    <tr>\n",
              "      <th>2783</th>\n",
              "      <td>전북</td>\n",
              "      <td>전용면적 85㎡초과 102㎡이하</td>\n",
              "      <td>2018</td>\n",
              "      <td>6</td>\n",
              "      <td>2636</td>\n",
              "      <td>2,636</td>\n",
              "      <td>8,699</td>\n",
              "    </tr>\n",
              "    <tr>\n",
              "      <th>2784</th>\n",
              "      <td>전북</td>\n",
              "      <td>전용면적 102㎡초과</td>\n",
              "      <td>2018</td>\n",
              "      <td>6</td>\n",
              "      <td>2794</td>\n",
              "      <td>2,794</td>\n",
              "      <td>9,220</td>\n",
              "    </tr>\n",
              "    <tr>\n",
              "      <th>2785</th>\n",
              "      <td>전남</td>\n",
              "      <td>전체</td>\n",
              "      <td>2018</td>\n",
              "      <td>6</td>\n",
              "      <td>2356</td>\n",
              "      <td>2,356</td>\n",
              "      <td>7,775</td>\n",
              "    </tr>\n",
              "    <tr>\n",
              "      <th>2786</th>\n",
              "      <td>전남</td>\n",
              "      <td>전용면적 60㎡이하</td>\n",
              "      <td>2018</td>\n",
              "      <td>6</td>\n",
              "      <td>2228</td>\n",
              "      <td>2,228</td>\n",
              "      <td>7,352</td>\n",
              "    </tr>\n",
              "    <tr>\n",
              "      <th>2787</th>\n",
              "      <td>전남</td>\n",
              "      <td>전용면적 60㎡초과 85㎡이하</td>\n",
              "      <td>2018</td>\n",
              "      <td>6</td>\n",
              "      <td>2346</td>\n",
              "      <td>2,346</td>\n",
              "      <td>7,742</td>\n",
              "    </tr>\n",
              "    <tr>\n",
              "      <th>2788</th>\n",
              "      <td>전남</td>\n",
              "      <td>전용면적 85㎡초과 102㎡이하</td>\n",
              "      <td>2018</td>\n",
              "      <td>6</td>\n",
              "      <td>2627</td>\n",
              "      <td>2,627</td>\n",
              "      <td>8,669</td>\n",
              "    </tr>\n",
              "    <tr>\n",
              "      <th>2789</th>\n",
              "      <td>전남</td>\n",
              "      <td>전용면적 102㎡초과</td>\n",
              "      <td>2018</td>\n",
              "      <td>6</td>\n",
              "      <td>2469</td>\n",
              "      <td>2,469</td>\n",
              "      <td>8,148</td>\n",
              "    </tr>\n",
              "    <tr>\n",
              "      <th>2790</th>\n",
              "      <td>경북</td>\n",
              "      <td>전체</td>\n",
              "      <td>2018</td>\n",
              "      <td>6</td>\n",
              "      <td>2631</td>\n",
              "      <td>2,631</td>\n",
              "      <td>8,682</td>\n",
              "    </tr>\n",
              "    <tr>\n",
              "      <th>2791</th>\n",
              "      <td>경북</td>\n",
              "      <td>전용면적 60㎡이하</td>\n",
              "      <td>2018</td>\n",
              "      <td>6</td>\n",
              "      <td>2471</td>\n",
              "      <td>2,471</td>\n",
              "      <td>8,154</td>\n",
              "    </tr>\n",
              "    <tr>\n",
              "      <th>2792</th>\n",
              "      <td>경북</td>\n",
              "      <td>전용면적 60㎡초과 85㎡이하</td>\n",
              "      <td>2018</td>\n",
              "      <td>6</td>\n",
              "      <td>2614</td>\n",
              "      <td>2,614</td>\n",
              "      <td>8,626</td>\n",
              "    </tr>\n",
              "    <tr>\n",
              "      <th>2793</th>\n",
              "      <td>경북</td>\n",
              "      <td>전용면적 85㎡초과 102㎡이하</td>\n",
              "      <td>2018</td>\n",
              "      <td>6</td>\n",
              "      <td>NaN</td>\n",
              "      <td>nan</td>\n",
              "      <td>nan</td>\n",
              "    </tr>\n",
              "    <tr>\n",
              "      <th>2794</th>\n",
              "      <td>경북</td>\n",
              "      <td>전용면적 102㎡초과</td>\n",
              "      <td>2018</td>\n",
              "      <td>6</td>\n",
              "      <td>2903</td>\n",
              "      <td>2,903</td>\n",
              "      <td>9,580</td>\n",
              "    </tr>\n",
              "    <tr>\n",
              "      <th>2795</th>\n",
              "      <td>경남</td>\n",
              "      <td>전체</td>\n",
              "      <td>2018</td>\n",
              "      <td>6</td>\n",
              "      <td>2695</td>\n",
              "      <td>2,695</td>\n",
              "      <td>8,894</td>\n",
              "    </tr>\n",
              "    <tr>\n",
              "      <th>2796</th>\n",
              "      <td>경남</td>\n",
              "      <td>전용면적 60㎡이하</td>\n",
              "      <td>2018</td>\n",
              "      <td>6</td>\n",
              "      <td>2744</td>\n",
              "      <td>2,744</td>\n",
              "      <td>9,055</td>\n",
              "    </tr>\n",
              "    <tr>\n",
              "      <th>2797</th>\n",
              "      <td>경남</td>\n",
              "      <td>전용면적 60㎡초과 85㎡이하</td>\n",
              "      <td>2018</td>\n",
              "      <td>6</td>\n",
              "      <td>2673</td>\n",
              "      <td>2,673</td>\n",
              "      <td>8,821</td>\n",
              "    </tr>\n",
              "    <tr>\n",
              "      <th>2798</th>\n",
              "      <td>경남</td>\n",
              "      <td>전용면적 85㎡초과 102㎡이하</td>\n",
              "      <td>2018</td>\n",
              "      <td>6</td>\n",
              "      <td>2857</td>\n",
              "      <td>2,857</td>\n",
              "      <td>9,428</td>\n",
              "    </tr>\n",
              "    <tr>\n",
              "      <th>2799</th>\n",
              "      <td>경남</td>\n",
              "      <td>전용면적 102㎡초과</td>\n",
              "      <td>2018</td>\n",
              "      <td>6</td>\n",
              "      <td>2862</td>\n",
              "      <td>2,862</td>\n",
              "      <td>9,445</td>\n",
              "    </tr>\n",
              "    <tr>\n",
              "      <th>2800</th>\n",
              "      <td>제주</td>\n",
              "      <td>전체</td>\n",
              "      <td>2018</td>\n",
              "      <td>6</td>\n",
              "      <td>3925</td>\n",
              "      <td>3,925</td>\n",
              "      <td>12,952</td>\n",
              "    </tr>\n",
              "    <tr>\n",
              "      <th>2801</th>\n",
              "      <td>제주</td>\n",
              "      <td>전용면적 60㎡이하</td>\n",
              "      <td>2018</td>\n",
              "      <td>6</td>\n",
              "      <td>5462</td>\n",
              "      <td>5,462</td>\n",
              "      <td>18,025</td>\n",
              "    </tr>\n",
              "    <tr>\n",
              "      <th>2802</th>\n",
              "      <td>제주</td>\n",
              "      <td>전용면적 60㎡초과 85㎡이하</td>\n",
              "      <td>2018</td>\n",
              "      <td>6</td>\n",
              "      <td>3639</td>\n",
              "      <td>3,639</td>\n",
              "      <td>12,009</td>\n",
              "    </tr>\n",
              "    <tr>\n",
              "      <th>2803</th>\n",
              "      <td>제주</td>\n",
              "      <td>전용면적 85㎡초과 102㎡이하</td>\n",
              "      <td>2018</td>\n",
              "      <td>6</td>\n",
              "      <td>NaN</td>\n",
              "      <td>nan</td>\n",
              "      <td>nan</td>\n",
              "    </tr>\n",
              "    <tr>\n",
              "      <th>2804</th>\n",
              "      <td>제주</td>\n",
              "      <td>전용면적 102㎡초과</td>\n",
              "      <td>2018</td>\n",
              "      <td>6</td>\n",
              "      <td>3029</td>\n",
              "      <td>3,029</td>\n",
              "      <td>9,996</td>\n",
              "    </tr>\n",
              "  </tbody>\n",
              "</table>\n",
              "<p>2805 rows × 7 columns</p>\n",
              "</div>"
            ],
            "text/plain": [
              "     지역명               규모구분    연도   월 분양가격(㎡)  분양가격  평당분양가격\n",
              "0     서울                 전체  2015  10    5841 5,841  19,275\n",
              "1     서울         전용면적 60㎡이하  2015  10    5652 5,652  18,652\n",
              "2     서울   전용면적 60㎡초과 85㎡이하  2015  10    5882 5,882  19,411\n",
              "3     서울  전용면적 85㎡초과 102㎡이하  2015  10    5721 5,721  18,879\n",
              "4     서울        전용면적 102㎡초과  2015  10    5879 5,879  19,401\n",
              "5     인천                 전체  2015  10    3163 3,163  10,438\n",
              "6     인천         전용면적 60㎡이하  2015  10    3488 3,488  11,510\n",
              "7     인천   전용면적 60㎡초과 85㎡이하  2015  10    3119 3,119  10,293\n",
              "8     인천  전용면적 85㎡초과 102㎡이하  2015  10    3545 3,545  11,698\n",
              "9     인천        전용면적 102㎡초과  2015  10    3408 3,408  11,246\n",
              "10    경기                 전체  2015  10    3138 3,138  10,355\n",
              "11    경기         전용면적 60㎡이하  2015  10    3126 3,126  10,316\n",
              "12    경기   전용면적 60㎡초과 85㎡이하  2015  10    3239 3,239  10,689\n",
              "13    경기  전용면적 85㎡초과 102㎡이하  2015  10    3496 3,496  11,537\n",
              "14    경기        전용면적 102㎡초과  2015  10    3680 3,680  12,144\n",
              "15    부산                 전체  2015  10    3112 3,112  10,270\n",
              "16    부산         전용면적 60㎡이하  2015  10    2950 2,950   9,735\n",
              "17    부산   전용면적 60㎡초과 85㎡이하  2015  10    2999 2,999   9,897\n",
              "18    부산  전용면적 85㎡초과 102㎡이하  2015  10    2957 2,957   9,758\n",
              "19    부산        전용면적 102㎡초과  2015  10    3500 3,500  11,550\n",
              "20    대구                 전체  2015  10    2682 2,682   8,851\n",
              "21    대구         전용면적 60㎡이하  2015  10    2614 2,614   8,626\n",
              "22    대구   전용면적 60㎡초과 85㎡이하  2015  10    2696 2,696   8,897\n",
              "23    대구  전용면적 85㎡초과 102㎡이하  2015  10    2557 2,557   8,438\n",
              "24    대구        전용면적 102㎡초과  2015  10    2598 2,598   8,573\n",
              "25    광주                 전체  2015  10    2420 2,420   7,986\n",
              "26    광주         전용면적 60㎡이하  2015  10    2253 2,253   7,435\n",
              "27    광주   전용면적 60㎡초과 85㎡이하  2015  10    2439 2,439   8,049\n",
              "28    광주  전용면적 85㎡초과 102㎡이하  2015  10           nan     nan\n",
              "29    광주        전용면적 102㎡초과  2015  10           nan     nan\n",
              "...   ..                ...   ...  ..     ...   ...     ...\n",
              "2775  충남                 전체  2018   6    2467 2,467   8,141\n",
              "2776  충남         전용면적 60㎡이하  2018   6    2452 2,452   8,092\n",
              "2777  충남   전용면적 60㎡초과 85㎡이하  2018   6    2467 2,467   8,141\n",
              "2778  충남  전용면적 85㎡초과 102㎡이하  2018   6    2657 2,657   8,768\n",
              "2779  충남        전용면적 102㎡초과  2018   6    2580 2,580   8,514\n",
              "2780  전북                 전체  2018   6    2326 2,326   7,676\n",
              "2781  전북         전용면적 60㎡이하  2018   6    2664 2,664   8,791\n",
              "2782  전북   전용면적 60㎡초과 85㎡이하  2018   6    2300 2,300   7,590\n",
              "2783  전북  전용면적 85㎡초과 102㎡이하  2018   6    2636 2,636   8,699\n",
              "2784  전북        전용면적 102㎡초과  2018   6    2794 2,794   9,220\n",
              "2785  전남                 전체  2018   6    2356 2,356   7,775\n",
              "2786  전남         전용면적 60㎡이하  2018   6    2228 2,228   7,352\n",
              "2787  전남   전용면적 60㎡초과 85㎡이하  2018   6    2346 2,346   7,742\n",
              "2788  전남  전용면적 85㎡초과 102㎡이하  2018   6    2627 2,627   8,669\n",
              "2789  전남        전용면적 102㎡초과  2018   6    2469 2,469   8,148\n",
              "2790  경북                 전체  2018   6    2631 2,631   8,682\n",
              "2791  경북         전용면적 60㎡이하  2018   6    2471 2,471   8,154\n",
              "2792  경북   전용면적 60㎡초과 85㎡이하  2018   6    2614 2,614   8,626\n",
              "2793  경북  전용면적 85㎡초과 102㎡이하  2018   6     NaN   nan     nan\n",
              "2794  경북        전용면적 102㎡초과  2018   6    2903 2,903   9,580\n",
              "2795  경남                 전체  2018   6    2695 2,695   8,894\n",
              "2796  경남         전용면적 60㎡이하  2018   6    2744 2,744   9,055\n",
              "2797  경남   전용면적 60㎡초과 85㎡이하  2018   6    2673 2,673   8,821\n",
              "2798  경남  전용면적 85㎡초과 102㎡이하  2018   6    2857 2,857   9,428\n",
              "2799  경남        전용면적 102㎡초과  2018   6    2862 2,862   9,445\n",
              "2800  제주                 전체  2018   6    3925 3,925  12,952\n",
              "2801  제주         전용면적 60㎡이하  2018   6    5462 5,462  18,025\n",
              "2802  제주   전용면적 60㎡초과 85㎡이하  2018   6    3639 3,639  12,009\n",
              "2803  제주  전용면적 85㎡초과 102㎡이하  2018   6     NaN   nan     nan\n",
              "2804  제주        전용면적 102㎡초과  2018   6    3029 3,029   9,996\n",
              "\n",
              "[2805 rows x 7 columns]"
            ]
          },
          "metadata": {
            "tags": []
          },
          "execution_count": 28
        }
      ]
    },
    {
      "metadata": {
        "id": "UEl4SW_X_6zF",
        "colab_type": "text"
      },
      "cell_type": "markdown",
      "source": [
        "## 규모별 전국 평균 분양가격"
      ]
    },
    {
      "metadata": {
        "id": "lY-u39zu_6zF",
        "colab_type": "code",
        "colab": {
          "base_uri": "https://localhost:8080/",
          "height": 235
        },
        "outputId": "589beaa5-e15a-4dca-b7ba-992968f69a3e"
      },
      "cell_type": "code",
      "source": [
        "pre_sale.pivot_table('평당분양가격', '규모구분', '연도')"
      ],
      "execution_count": 0,
      "outputs": [
        {
          "output_type": "execute_result",
          "data": {
            "text/html": [
              "<div>\n",
              "<style scoped>\n",
              "    .dataframe tbody tr th:only-of-type {\n",
              "        vertical-align: middle;\n",
              "    }\n",
              "\n",
              "    .dataframe tbody tr th {\n",
              "        vertical-align: top;\n",
              "    }\n",
              "\n",
              "    .dataframe thead th {\n",
              "        text-align: right;\n",
              "    }\n",
              "</style>\n",
              "<table border=\"1\" class=\"dataframe\">\n",
              "  <thead>\n",
              "    <tr style=\"text-align: right;\">\n",
              "      <th>연도</th>\n",
              "      <th>2015</th>\n",
              "      <th>2016</th>\n",
              "      <th>2017</th>\n",
              "      <th>2018</th>\n",
              "    </tr>\n",
              "    <tr>\n",
              "      <th>규모구분</th>\n",
              "      <th></th>\n",
              "      <th></th>\n",
              "      <th></th>\n",
              "      <th></th>\n",
              "    </tr>\n",
              "  </thead>\n",
              "  <tbody>\n",
              "    <tr>\n",
              "      <th>전용면적 102㎡초과</th>\n",
              "      <td>9,837</td>\n",
              "      <td>10,389</td>\n",
              "      <td>11,334</td>\n",
              "      <td>11,260</td>\n",
              "    </tr>\n",
              "    <tr>\n",
              "      <th>전용면적 60㎡이하</th>\n",
              "      <td>8,952</td>\n",
              "      <td>9,399</td>\n",
              "      <td>10,246</td>\n",
              "      <td>10,957</td>\n",
              "    </tr>\n",
              "    <tr>\n",
              "      <th>전용면적 60㎡초과 85㎡이하</th>\n",
              "      <td>8,892</td>\n",
              "      <td>9,296</td>\n",
              "      <td>9,825</td>\n",
              "      <td>10,438</td>\n",
              "    </tr>\n",
              "    <tr>\n",
              "      <th>전용면적 85㎡초과 102㎡이하</th>\n",
              "      <td>9,519</td>\n",
              "      <td>10,122</td>\n",
              "      <td>10,540</td>\n",
              "      <td>11,457</td>\n",
              "    </tr>\n",
              "    <tr>\n",
              "      <th>전체</th>\n",
              "      <td>8,893</td>\n",
              "      <td>9,293</td>\n",
              "      <td>9,901</td>\n",
              "      <td>10,560</td>\n",
              "    </tr>\n",
              "  </tbody>\n",
              "</table>\n",
              "</div>"
            ],
            "text/plain": [
              "연도                 2015   2016   2017   2018\n",
              "규모구분                                        \n",
              "전용면적 102㎡초과       9,837 10,389 11,334 11,260\n",
              "전용면적 60㎡이하        8,952  9,399 10,246 10,957\n",
              "전용면적 60㎡초과 85㎡이하  8,892  9,296  9,825 10,438\n",
              "전용면적 85㎡초과 102㎡이하 9,519 10,122 10,540 11,457\n",
              "전체                8,893  9,293  9,901 10,560"
            ]
          },
          "metadata": {
            "tags": []
          },
          "execution_count": 27
        }
      ]
    },
    {
      "metadata": {
        "id": "36ATp78a_6zK",
        "colab_type": "text"
      },
      "cell_type": "markdown",
      "source": [
        "# 전국 분양가 변동금액\n",
        "규모구분이 전체로 되어있는 금액으로 연도별 변동금액을 살펴봅니다."
      ]
    },
    {
      "metadata": {
        "id": "8HxWPuGK_6zK",
        "colab_type": "code",
        "colab": {
          "base_uri": "https://localhost:8080/",
          "height": 576
        },
        "outputId": "79d9181e-dbe3-4d4e-afd3-45b76906455a"
      },
      "cell_type": "code",
      "source": [
        "# 규모구분에서 전체로 되어있는 데이터만 가져온다.\n",
        "region_year_all = pre_sale.loc[pre_sale['규모구분'] == '전체']\n",
        "region_year = region_year_all.pivot_table('평당분양가격', '지역명', '연도').reset_index()\n",
        "\n",
        "\n",
        "#region_year_all\n",
        "#참조 loc 는 인덱싱 규모구분 == 전체인 데이터만 저회\n",
        "\n",
        "#region_year\n",
        "#년도, 지역으로 정렬 reset_index란 - 재정렬 \n"
      ],
      "execution_count": 0,
      "outputs": [
        {
          "output_type": "execute_result",
          "data": {
            "text/html": [
              "<div>\n",
              "<style scoped>\n",
              "    .dataframe tbody tr th:only-of-type {\n",
              "        vertical-align: middle;\n",
              "    }\n",
              "\n",
              "    .dataframe tbody tr th {\n",
              "        vertical-align: top;\n",
              "    }\n",
              "\n",
              "    .dataframe thead th {\n",
              "        text-align: right;\n",
              "    }\n",
              "</style>\n",
              "<table border=\"1\" class=\"dataframe\">\n",
              "  <thead>\n",
              "    <tr style=\"text-align: right;\">\n",
              "      <th>연도</th>\n",
              "      <th>지역명</th>\n",
              "      <th>2015</th>\n",
              "      <th>2016</th>\n",
              "      <th>2017</th>\n",
              "      <th>2018</th>\n",
              "    </tr>\n",
              "  </thead>\n",
              "  <tbody>\n",
              "    <tr>\n",
              "      <th>0</th>\n",
              "      <td>강원</td>\n",
              "      <td>7,160</td>\n",
              "      <td>7,011</td>\n",
              "      <td>7,127</td>\n",
              "      <td>7,643</td>\n",
              "    </tr>\n",
              "    <tr>\n",
              "      <th>1</th>\n",
              "      <td>경기</td>\n",
              "      <td>10,377</td>\n",
              "      <td>11,220</td>\n",
              "      <td>11,850</td>\n",
              "      <td>12,854</td>\n",
              "    </tr>\n",
              "    <tr>\n",
              "      <th>2</th>\n",
              "      <td>경남</td>\n",
              "      <td>7,586</td>\n",
              "      <td>7,848</td>\n",
              "      <td>8,120</td>\n",
              "      <td>8,894</td>\n",
              "    </tr>\n",
              "    <tr>\n",
              "      <th>3</th>\n",
              "      <td>경북</td>\n",
              "      <td>7,171</td>\n",
              "      <td>7,361</td>\n",
              "      <td>7,795</td>\n",
              "      <td>8,262</td>\n",
              "    </tr>\n",
              "    <tr>\n",
              "      <th>4</th>\n",
              "      <td>광주</td>\n",
              "      <td>8,052</td>\n",
              "      <td>8,899</td>\n",
              "      <td>9,464</td>\n",
              "      <td>9,630</td>\n",
              "    </tr>\n",
              "    <tr>\n",
              "      <th>5</th>\n",
              "      <td>대구</td>\n",
              "      <td>9,232</td>\n",
              "      <td>10,310</td>\n",
              "      <td>11,456</td>\n",
              "      <td>11,652</td>\n",
              "    </tr>\n",
              "    <tr>\n",
              "      <th>6</th>\n",
              "      <td>대전</td>\n",
              "      <td>8,098</td>\n",
              "      <td>8,502</td>\n",
              "      <td>9,045</td>\n",
              "      <td>9,589</td>\n",
              "    </tr>\n",
              "    <tr>\n",
              "      <th>7</th>\n",
              "      <td>부산</td>\n",
              "      <td>10,307</td>\n",
              "      <td>10,430</td>\n",
              "      <td>11,578</td>\n",
              "      <td>12,710</td>\n",
              "    </tr>\n",
              "    <tr>\n",
              "      <th>8</th>\n",
              "      <td>서울</td>\n",
              "      <td>19,725</td>\n",
              "      <td>20,663</td>\n",
              "      <td>21,376</td>\n",
              "      <td>22,299</td>\n",
              "    </tr>\n",
              "    <tr>\n",
              "      <th>9</th>\n",
              "      <td>세종</td>\n",
              "      <td>8,750</td>\n",
              "      <td>8,860</td>\n",
              "      <td>9,135</td>\n",
              "      <td>10,382</td>\n",
              "    </tr>\n",
              "    <tr>\n",
              "      <th>10</th>\n",
              "      <td>울산</td>\n",
              "      <td>10,053</td>\n",
              "      <td>10,209</td>\n",
              "      <td>11,345</td>\n",
              "      <td>10,441</td>\n",
              "    </tr>\n",
              "    <tr>\n",
              "      <th>11</th>\n",
              "      <td>인천</td>\n",
              "      <td>10,484</td>\n",
              "      <td>10,532</td>\n",
              "      <td>10,737</td>\n",
              "      <td>11,218</td>\n",
              "    </tr>\n",
              "    <tr>\n",
              "      <th>12</th>\n",
              "      <td>전남</td>\n",
              "      <td>6,317</td>\n",
              "      <td>6,489</td>\n",
              "      <td>7,188</td>\n",
              "      <td>7,794</td>\n",
              "    </tr>\n",
              "    <tr>\n",
              "      <th>13</th>\n",
              "      <td>전북</td>\n",
              "      <td>6,703</td>\n",
              "      <td>6,418</td>\n",
              "      <td>7,058</td>\n",
              "      <td>7,552</td>\n",
              "    </tr>\n",
              "    <tr>\n",
              "      <th>14</th>\n",
              "      <td>제주</td>\n",
              "      <td>7,405</td>\n",
              "      <td>9,129</td>\n",
              "      <td>10,831</td>\n",
              "      <td>12,741</td>\n",
              "    </tr>\n",
              "    <tr>\n",
              "      <th>15</th>\n",
              "      <td>충남</td>\n",
              "      <td>7,115</td>\n",
              "      <td>7,331</td>\n",
              "      <td>7,456</td>\n",
              "      <td>7,973</td>\n",
              "    </tr>\n",
              "    <tr>\n",
              "      <th>16</th>\n",
              "      <td>충북</td>\n",
              "      <td>6,645</td>\n",
              "      <td>6,770</td>\n",
              "      <td>6,763</td>\n",
              "      <td>7,893</td>\n",
              "    </tr>\n",
              "  </tbody>\n",
              "</table>\n",
              "</div>"
            ],
            "text/plain": [
              "연도 지역명   2015   2016   2017   2018\n",
              "0   강원  7,160  7,011  7,127  7,643\n",
              "1   경기 10,377 11,220 11,850 12,854\n",
              "2   경남  7,586  7,848  8,120  8,894\n",
              "3   경북  7,171  7,361  7,795  8,262\n",
              "4   광주  8,052  8,899  9,464  9,630\n",
              "5   대구  9,232 10,310 11,456 11,652\n",
              "6   대전  8,098  8,502  9,045  9,589\n",
              "7   부산 10,307 10,430 11,578 12,710\n",
              "8   서울 19,725 20,663 21,376 22,299\n",
              "9   세종  8,750  8,860  9,135 10,382\n",
              "10  울산 10,053 10,209 11,345 10,441\n",
              "11  인천 10,484 10,532 10,737 11,218\n",
              "12  전남  6,317  6,489  7,188  7,794\n",
              "13  전북  6,703  6,418  7,058  7,552\n",
              "14  제주  7,405  9,129 10,831 12,741\n",
              "15  충남  7,115  7,331  7,456  7,973\n",
              "16  충북  6,645  6,770  6,763  7,893"
            ]
          },
          "metadata": {
            "tags": []
          },
          "execution_count": 32
        }
      ]
    },
    {
      "metadata": {
        "id": "LhhLiLjv_6zN",
        "colab_type": "code",
        "colab": {
          "base_uri": "https://localhost:8080/",
          "height": 630
        },
        "outputId": "8d93fcb5-79ba-4136-d5ee-8176e8b18583"
      },
      "cell_type": "code",
      "source": [
        "region_year['변동액'] = (region_year['2018'] - region_year['2015']).astype(int)\n",
        "\n",
        "#금액인 \"천원\" 단위이르모 \"원 단위로 변경\"\n",
        "max_delta_price = np.max(region_year['변동액'])*1000\n",
        "min_delta_price = np.min(region_year['변동액'])*1000\n",
        "mean_delta_price = np.mean(region_year['변동액'])*1000\n",
        "\n",
        "print('2015년~2018년까지 분양가는 계속 상승했으며, 상승액이 가장 큰 지역은 제주이며 상승액은 평당 {:,.0f}원이다.'.format(max_delta_price))\n",
        "print('상승액이 가장 작은 지역은 울산이며 평당 {:,.0f}원이다.'.format(min_delta_price))\n",
        "print('전국 평균 변동액은 평당 {:,.0f}원이다.'.format(mean_delta_price))\n",
        "\n",
        "region_year"
      ],
      "execution_count": 0,
      "outputs": [
        {
          "output_type": "stream",
          "text": [
            "2015년~2018년까지 분양가는 계속 상승했으며, 상승액이 가장 큰 지역은 제주이며 상승액은 평당 5,335,000원이다.\n",
            "상승액이 가장 작은 지역은 울산이며 평당 387,000원이다.\n",
            "전국 평균 변동액은 평당 1,666,647원이다.\n"
          ],
          "name": "stdout"
        },
        {
          "output_type": "execute_result",
          "data": {
            "text/html": [
              "<div>\n",
              "<style scoped>\n",
              "    .dataframe tbody tr th:only-of-type {\n",
              "        vertical-align: middle;\n",
              "    }\n",
              "\n",
              "    .dataframe tbody tr th {\n",
              "        vertical-align: top;\n",
              "    }\n",
              "\n",
              "    .dataframe thead th {\n",
              "        text-align: right;\n",
              "    }\n",
              "</style>\n",
              "<table border=\"1\" class=\"dataframe\">\n",
              "  <thead>\n",
              "    <tr style=\"text-align: right;\">\n",
              "      <th>연도</th>\n",
              "      <th>지역명</th>\n",
              "      <th>2015</th>\n",
              "      <th>2016</th>\n",
              "      <th>2017</th>\n",
              "      <th>2018</th>\n",
              "      <th>변동액</th>\n",
              "    </tr>\n",
              "  </thead>\n",
              "  <tbody>\n",
              "    <tr>\n",
              "      <th>0</th>\n",
              "      <td>강원</td>\n",
              "      <td>7,160</td>\n",
              "      <td>7,011</td>\n",
              "      <td>7,127</td>\n",
              "      <td>7,643</td>\n",
              "      <td>482</td>\n",
              "    </tr>\n",
              "    <tr>\n",
              "      <th>1</th>\n",
              "      <td>경기</td>\n",
              "      <td>10,377</td>\n",
              "      <td>11,220</td>\n",
              "      <td>11,850</td>\n",
              "      <td>12,854</td>\n",
              "      <td>2476</td>\n",
              "    </tr>\n",
              "    <tr>\n",
              "      <th>2</th>\n",
              "      <td>경남</td>\n",
              "      <td>7,586</td>\n",
              "      <td>7,848</td>\n",
              "      <td>8,120</td>\n",
              "      <td>8,894</td>\n",
              "      <td>1308</td>\n",
              "    </tr>\n",
              "    <tr>\n",
              "      <th>3</th>\n",
              "      <td>경북</td>\n",
              "      <td>7,171</td>\n",
              "      <td>7,361</td>\n",
              "      <td>7,795</td>\n",
              "      <td>8,262</td>\n",
              "      <td>1090</td>\n",
              "    </tr>\n",
              "    <tr>\n",
              "      <th>4</th>\n",
              "      <td>광주</td>\n",
              "      <td>8,052</td>\n",
              "      <td>8,899</td>\n",
              "      <td>9,464</td>\n",
              "      <td>9,630</td>\n",
              "      <td>1577</td>\n",
              "    </tr>\n",
              "    <tr>\n",
              "      <th>5</th>\n",
              "      <td>대구</td>\n",
              "      <td>9,232</td>\n",
              "      <td>10,310</td>\n",
              "      <td>11,456</td>\n",
              "      <td>11,652</td>\n",
              "      <td>2419</td>\n",
              "    </tr>\n",
              "    <tr>\n",
              "      <th>6</th>\n",
              "      <td>대전</td>\n",
              "      <td>8,098</td>\n",
              "      <td>8,502</td>\n",
              "      <td>9,045</td>\n",
              "      <td>9,589</td>\n",
              "      <td>1490</td>\n",
              "    </tr>\n",
              "    <tr>\n",
              "      <th>7</th>\n",
              "      <td>부산</td>\n",
              "      <td>10,307</td>\n",
              "      <td>10,430</td>\n",
              "      <td>11,578</td>\n",
              "      <td>12,710</td>\n",
              "      <td>2402</td>\n",
              "    </tr>\n",
              "    <tr>\n",
              "      <th>8</th>\n",
              "      <td>서울</td>\n",
              "      <td>19,725</td>\n",
              "      <td>20,663</td>\n",
              "      <td>21,376</td>\n",
              "      <td>22,299</td>\n",
              "      <td>2574</td>\n",
              "    </tr>\n",
              "    <tr>\n",
              "      <th>9</th>\n",
              "      <td>세종</td>\n",
              "      <td>8,750</td>\n",
              "      <td>8,860</td>\n",
              "      <td>9,135</td>\n",
              "      <td>10,382</td>\n",
              "      <td>1631</td>\n",
              "    </tr>\n",
              "    <tr>\n",
              "      <th>10</th>\n",
              "      <td>울산</td>\n",
              "      <td>10,053</td>\n",
              "      <td>10,209</td>\n",
              "      <td>11,345</td>\n",
              "      <td>10,441</td>\n",
              "      <td>387</td>\n",
              "    </tr>\n",
              "    <tr>\n",
              "      <th>11</th>\n",
              "      <td>인천</td>\n",
              "      <td>10,484</td>\n",
              "      <td>10,532</td>\n",
              "      <td>10,737</td>\n",
              "      <td>11,218</td>\n",
              "      <td>734</td>\n",
              "    </tr>\n",
              "    <tr>\n",
              "      <th>12</th>\n",
              "      <td>전남</td>\n",
              "      <td>6,317</td>\n",
              "      <td>6,489</td>\n",
              "      <td>7,188</td>\n",
              "      <td>7,794</td>\n",
              "      <td>1476</td>\n",
              "    </tr>\n",
              "    <tr>\n",
              "      <th>13</th>\n",
              "      <td>전북</td>\n",
              "      <td>6,703</td>\n",
              "      <td>6,418</td>\n",
              "      <td>7,058</td>\n",
              "      <td>7,552</td>\n",
              "      <td>848</td>\n",
              "    </tr>\n",
              "    <tr>\n",
              "      <th>14</th>\n",
              "      <td>제주</td>\n",
              "      <td>7,405</td>\n",
              "      <td>9,129</td>\n",
              "      <td>10,831</td>\n",
              "      <td>12,741</td>\n",
              "      <td>5335</td>\n",
              "    </tr>\n",
              "    <tr>\n",
              "      <th>15</th>\n",
              "      <td>충남</td>\n",
              "      <td>7,115</td>\n",
              "      <td>7,331</td>\n",
              "      <td>7,456</td>\n",
              "      <td>7,973</td>\n",
              "      <td>857</td>\n",
              "    </tr>\n",
              "    <tr>\n",
              "      <th>16</th>\n",
              "      <td>충북</td>\n",
              "      <td>6,645</td>\n",
              "      <td>6,770</td>\n",
              "      <td>6,763</td>\n",
              "      <td>7,893</td>\n",
              "      <td>1247</td>\n",
              "    </tr>\n",
              "  </tbody>\n",
              "</table>\n",
              "</div>"
            ],
            "text/plain": [
              "연도 지역명   2015   2016   2017   2018   변동액\n",
              "0   강원  7,160  7,011  7,127  7,643   482\n",
              "1   경기 10,377 11,220 11,850 12,854  2476\n",
              "2   경남  7,586  7,848  8,120  8,894  1308\n",
              "3   경북  7,171  7,361  7,795  8,262  1090\n",
              "4   광주  8,052  8,899  9,464  9,630  1577\n",
              "5   대구  9,232 10,310 11,456 11,652  2419\n",
              "6   대전  8,098  8,502  9,045  9,589  1490\n",
              "7   부산 10,307 10,430 11,578 12,710  2402\n",
              "8   서울 19,725 20,663 21,376 22,299  2574\n",
              "9   세종  8,750  8,860  9,135 10,382  1631\n",
              "10  울산 10,053 10,209 11,345 10,441   387\n",
              "11  인천 10,484 10,532 10,737 11,218   734\n",
              "12  전남  6,317  6,489  7,188  7,794  1476\n",
              "13  전북  6,703  6,418  7,058  7,552   848\n",
              "14  제주  7,405  9,129 10,831 12,741  5335\n",
              "15  충남  7,115  7,331  7,456  7,973   857\n",
              "16  충북  6,645  6,770  6,763  7,893  1247"
            ]
          },
          "metadata": {
            "tags": []
          },
          "execution_count": 35
        }
      ]
    },
    {
      "metadata": {
        "id": "7GCPvOpN_6zQ",
        "colab_type": "text"
      },
      "cell_type": "markdown",
      "source": [
        "# 연도별 변동 그래프"
      ]
    },
    {
      "metadata": {
        "id": "6voKuhYWU8xw",
        "colab_type": "code",
        "colab": {
          "base_uri": "https://localhost:8080/",
          "height": 181
        },
        "outputId": "928a20ee-4c2e-4345-862a-2cbb4869f970"
      },
      "cell_type": "code",
      "source": [
        "# 그래프를 노트북 안에 그리기 위해 설정\n",
        "%matplotlib inline\n",
        "\n",
        "# 필요한 패키지와 라이브러리를 가져옴\n",
        "import matplotlib as mpl\n",
        "import matplotlib.pyplot as plt\n",
        "import matplotlib.font_manager as fm\n",
        "\n",
        "# 그래프에서 마이너스 폰트 깨지는 문제에 대한 대처\n",
        "mpl.rcParams['axes.unicode_minus'] = False\n",
        "\n",
        "print ('버전: ', mpl.__version__)\n",
        "print ('설치 위치: ', mpl.__file__)\n",
        "print ('설정 위치: ', mpl.get_configdir())\n",
        "print ('캐시 위치: ', mpl.get_cachedir())\n",
        "print ('설정 파일 위치: ', mpl.matplotlib_fname())\n",
        "\n",
        "font_list = fm.findSystemFonts(fontpaths=None, fontext='ttf')\n",
        "\n",
        "# ttf 폰트 전체개수\n",
        "f = [f.name for f in fm.fontManager.ttflist]\n",
        "print(len(font_list))\n",
        "\n",
        "print(f)\n",
        "\n",
        "[(f.name, f.fname) for f in fm.fontManager.ttflist if 'Nanum' in f.name]"
      ],
      "execution_count": 0,
      "outputs": [
        {
          "output_type": "stream",
          "text": [
            "버전:  2.1.2\n",
            "설치 위치:  /usr/local/lib/python3.6/dist-packages/matplotlib/__init__.py\n",
            "설정 위치:  /content/.config/matplotlib\n",
            "캐시 위치:  /content/.cache/matplotlib\n",
            "설정 파일 위치:  /usr/local/lib/python3.6/dist-packages/matplotlib/mpl-data/matplotlibrc\n",
            "65\n",
            "['STIXSizeThreeSym', 'DejaVu Sans', 'STIXGeneral', 'STIXSizeOneSym', 'cmsy10', 'STIXGeneral', 'STIXNonUnicode', 'DejaVu Sans Mono', 'DejaVu Sans Mono', 'cmb10', 'DejaVu Sans Mono', 'DejaVu Serif', 'cmmi10', 'STIXSizeFourSym', 'STIXGeneral', 'STIXNonUnicode', 'STIXSizeTwoSym', 'STIXGeneral', 'DejaVu Serif Display', 'STIXSizeFourSym', 'STIXNonUnicode', 'STIXNonUnicode', 'cmr10', 'DejaVu Sans', 'STIXSizeThreeSym', 'STIXSizeOneSym', 'DejaVu Sans Mono', 'STIXSizeFiveSym', 'DejaVu Serif', 'DejaVu Sans Display', 'cmtt10', 'DejaVu Sans', 'DejaVu Sans', 'cmex10', 'STIXSizeTwoSym', 'DejaVu Serif', 'cmss10', 'DejaVu Serif', 'Liberation Sans', 'Liberation Sans', 'Liberation Serif', 'Liberation Mono', 'Liberation Sans Narrow', 'Liberation Serif', 'Liberation Serif', 'Liberation Serif', 'Liberation Sans Narrow', 'Liberation Mono', 'Liberation Sans', 'Liberation Mono', 'Liberation Sans', 'Liberation Mono', 'Liberation Sans Narrow', 'Liberation Sans Narrow']\n"
          ],
          "name": "stdout"
        },
        {
          "output_type": "execute_result",
          "data": {
            "text/plain": [
              "[]"
            ]
          },
          "metadata": {
            "tags": []
          },
          "execution_count": 112
        }
      ]
    },
    {
      "metadata": {
        "id": "7k13azXaYGlS",
        "colab_type": "code",
        "colab": {
          "base_uri": "https://localhost:8080/",
          "height": 647
        },
        "outputId": "49a0e48a-bcee-470a-9eec-6fe5c16928d9"
      },
      "cell_type": "code",
      "source": [
        "!apt-get install fonts-nanum*"
      ],
      "execution_count": 0,
      "outputs": [
        {
          "output_type": "stream",
          "text": [
            "Reading package lists... Done\n",
            "Building dependency tree       \n",
            "Reading state information... Done\n",
            "Note, selecting 'fonts-nanum-eco' for glob 'fonts-nanum*'\n",
            "Note, selecting 'fonts-nanum' for glob 'fonts-nanum*'\n",
            "Note, selecting 'fonts-nanum-gothic-light' for glob 'fonts-nanum*'\n",
            "Note, selecting 'fonts-nanum-coding' for glob 'fonts-nanum*'\n",
            "Note, selecting 'fonts-nanum-extra' for glob 'fonts-nanum*'\n",
            "The following NEW packages will be installed:\n",
            "  fonts-nanum fonts-nanum-coding fonts-nanum-eco fonts-nanum-extra\n",
            "0 upgraded, 4 newly installed, 0 to remove and 0 not upgraded.\n",
            "Need to get 36.0 MB of archives.\n",
            "After this operation, 140 MB of additional disk space will be used.\n",
            "Get:1 http://archive.ubuntu.com/ubuntu artful/main amd64 fonts-nanum all 20161025-1 [9,129 kB]\n",
            "Get:2 http://archive.ubuntu.com/ubuntu artful/universe amd64 fonts-nanum-eco all 1.000-6 [14.0 MB]\n",
            "Get:3 http://archive.ubuntu.com/ubuntu artful/main amd64 fonts-nanum-extra all 20161025-1 [11.7 MB]\n",
            "Get:4 http://archive.ubuntu.com/ubuntu artful/main amd64 fonts-nanum-coding all 2.5-1 [1,083 kB]\n",
            "Fetched 36.0 MB in 3s (11.5 MB/s)\n",
            "Selecting previously unselected package fonts-nanum.\n",
            "(Reading database ... 18408 files and directories currently installed.)\n",
            "Preparing to unpack .../fonts-nanum_20161025-1_all.deb ...\n",
            "Unpacking fonts-nanum (20161025-1) ...\n",
            "Selecting previously unselected package fonts-nanum-eco.\n",
            "Preparing to unpack .../fonts-nanum-eco_1.000-6_all.deb ...\n",
            "Unpacking fonts-nanum-eco (1.000-6) ...\n",
            "Selecting previously unselected package fonts-nanum-extra.\n",
            "Preparing to unpack .../fonts-nanum-extra_20161025-1_all.deb ...\n",
            "Unpacking fonts-nanum-extra (20161025-1) ...\n",
            "Selecting previously unselected package fonts-nanum-coding.\n",
            "Preparing to unpack .../fonts-nanum-coding_2.5-1_all.deb ...\n",
            "Unpacking fonts-nanum-coding (2.5-1) ...\n",
            "Setting up fonts-nanum-extra (20161025-1) ...\n",
            "Setting up fonts-nanum (20161025-1) ...\n",
            "Setting up fonts-nanum-coding (2.5-1) ...\n",
            "Setting up fonts-nanum-eco (1.000-6) ...\n"
          ],
          "name": "stdout"
        }
      ]
    },
    {
      "metadata": {
        "id": "XBdu9uRkY-qF",
        "colab_type": "code",
        "colab": {
          "base_uri": "https://localhost:8080/",
          "height": 35
        },
        "outputId": "8e7e9fa6-f29c-47ba-e69f-53d56661936b"
      },
      "cell_type": "code",
      "source": [
        "!fc-cache -f -v"
      ],
      "execution_count": 0,
      "outputs": [
        {
          "output_type": "stream",
          "text": [
            "/bin/sh: 1: fc-cache: not found\r\n"
          ],
          "name": "stdout"
        }
      ]
    },
    {
      "metadata": {
        "id": "V7PZOZOfYbQy",
        "colab_type": "code",
        "colab": {
          "base_uri": "https://localhost:8080/",
          "height": 557
        },
        "outputId": "dda71074-57bf-429b-a803-ec8ac5b633dc"
      },
      "cell_type": "code",
      "source": [
        "!ls -alrt /usr/share/fonts/truetype/nanum/"
      ],
      "execution_count": 0,
      "outputs": [
        {
          "output_type": "stream",
          "text": [
            "total 136992\r\n",
            "-rw-r--r-- 1 root root  7024632 Oct 29  2011 NanumMyeongjoEco.ttf\r\n",
            "-rw-r--r-- 1 root root 10635180 Oct 29  2011 NanumMyeongjoEcoExtraBold.ttf\r\n",
            "-rw-r--r-- 1 root root  9809868 Oct 29  2011 NanumMyeongjoEcoBold.ttf\r\n",
            "-rw-r--r-- 1 root root  7783984 Oct 29  2011 NanumGothicEco.ttf\r\n",
            "-rw-r--r-- 1 root root 11571064 Oct 29  2011 NanumGothicEcoExtraBold.ttf\r\n",
            "-rw-r--r-- 1 root root 11021172 Oct 29  2011 NanumGothicEcoBold.ttf\r\n",
            "-rw-r--r-- 1 root root  1800792 Oct 21  2016 NanumGothicCoding-Bold.ttf\r\n",
            "-rw-r--r-- 1 root root  2779112 Oct 21  2016 NanumGothicCoding.ttf\r\n",
            "-rw-r--r-- 1 root root   723640 Feb 20  2017 NanumSquareR.ttf\r\n",
            "-rw-r--r-- 1 root root   750932 Feb 20  2017 NanumSquareL.ttf\r\n",
            "-rw-r--r-- 1 root root   726684 Feb 20  2017 NanumSquareEB.ttf\r\n",
            "-rw-r--r-- 1 root root   733500 Feb 20  2017 NanumSquareB.ttf\r\n",
            "-rw-r--r-- 1 root root  3548656 Feb 20  2017 NanumPen.ttf\r\n",
            "-rw-r--r-- 1 root root  3839464 Feb 20  2017 NanumMyeongjo.ttf\r\n",
            "-rw-r--r-- 1 root root  4788696 Feb 20  2017 NanumMyeongjoExtraBold.ttf\r\n",
            "-rw-r--r-- 1 root root  4183592 Feb 20  2017 NanumMyeongjoBold.ttf\r\n",
            "-rw-r--r-- 1 root root  4691820 Feb 20  2017 NanumGothic.ttf\r\n",
            "-rw-r--r-- 1 root root  1523188 Feb 20  2017 NanumGothicLight.ttf\r\n",
            "-rw-r--r-- 1 root root  4526920 Feb 20  2017 NanumGothicExtraBold.ttf\r\n",
            "-rw-r--r-- 1 root root  4642244 Feb 20  2017 NanumGothicBold.ttf\r\n",
            "-rw-r--r-- 1 root root  3745376 Feb 20  2017 NanumBrush.ttf\r\n",
            "-rw-r--r-- 1 root root 11033840 Feb 20  2017 NanumBarunpenR.ttf\r\n",
            "-rw-r--r-- 1 root root 10028540 Feb 20  2017 NanumBarunpenB.ttf\r\n",
            "-rw-r--r-- 1 root root  4790084 Feb 20  2017 NanumBarunGothicUltraLight.ttf\r\n",
            "-rw-r--r-- 1 root root  4184028 Feb 20  2017 NanumBarunGothic.ttf\r\n",
            "-rw-r--r-- 1 root root  4917332 Feb 20  2017 NanumBarunGothicLight.ttf\r\n",
            "-rw-r--r-- 1 root root  4413912 Feb 20  2017 NanumBarunGothicBold.ttf\r\n",
            "drwxr-xr-x 1 root root     4096 Aug 20 08:08 ..\r\n",
            "drwxr-xr-x 2 root root     4096 Aug 20 08:08 .\r\n"
          ],
          "name": "stdout"
        }
      ]
    },
    {
      "metadata": {
        "id": "1jFxvAA9d2QA",
        "colab_type": "code",
        "colab": {
          "base_uri": "https://localhost:8080/",
          "height": 1259
        },
        "outputId": "0729ec84-0e14-458a-b199-68cabea44e1a"
      },
      "cell_type": "code",
      "source": [
        "!ls -alrt /usr/local/lib/python3.6/dist-packages/matplotlib/mpl-data/fonts/ttf"
      ],
      "execution_count": 0,
      "outputs": [
        {
          "output_type": "stream",
          "text": [
            "total 143816\r\n",
            "-rw-r--r-- 1 root staff    15704 Aug 15 20:47 STIXSizTwoSymReg.ttf\r\n",
            "-rw-r--r-- 1 root staff    12116 Aug 15 20:47 STIXSizTwoSymBol.ttf\r\n",
            "-rw-r--r-- 1 root staff    15836 Aug 15 20:47 STIXSizThreeSymReg.ttf\r\n",
            "-rw-r--r-- 1 root staff    19760 Aug 15 20:47 STIXSizOneSymReg.ttf\r\n",
            "-rw-r--r-- 1 root staff    12556 Aug 15 20:47 STIXSizOneSymBol.ttf\r\n",
            "-rw-r--r-- 1 root staff    15972 Aug 15 20:47 STIXSizFourSymReg.ttf\r\n",
            "-rw-r--r-- 1 root staff    12228 Aug 15 20:47 STIXSizFourSymBol.ttf\r\n",
            "-rw-r--r-- 1 root staff    13656 Aug 15 20:47 STIXSizFiveSymReg.ttf\r\n",
            "-rw-r--r-- 1 root staff    59108 Aug 15 20:47 STIXNonUni.ttf\r\n",
            "-rw-r--r-- 1 root staff    46752 Aug 15 20:47 STIXNonUniIta.ttf\r\n",
            "-rw-r--r-- 1 root staff    30512 Aug 15 20:47 STIXNonUniBol.ttf\r\n",
            "-rw-r--r-- 1 root staff    41272 Aug 15 20:47 STIXNonUniBolIta.ttf\r\n",
            "-rw-r--r-- 1 root staff   175040 Aug 15 20:47 STIXGeneralItalic.ttf\r\n",
            "-rw-r--r-- 1 root staff   237360 Aug 15 20:47 STIXGeneralBol.ttf\r\n",
            "-rw-r--r-- 1 root staff   181152 Aug 15 20:47 STIXGeneralBolIta.ttf\r\n",
            "-rw-r--r-- 1 root staff     5475 Aug 15 20:47 LICENSE_STIX\r\n",
            "-rw-r--r-- 1 root staff   379740 Aug 15 20:47 DejaVuSerif.ttf\r\n",
            "-rw-r--r-- 1 root staff   345612 Aug 15 20:47 DejaVuSerif-Italic.ttf\r\n",
            "-rw-r--r-- 1 root staff    14300 Aug 15 20:47 DejaVuSerifDisplay.ttf\r\n",
            "-rw-r--r-- 1 root staff   355692 Aug 15 20:47 DejaVuSerif-Bold.ttf\r\n",
            "-rw-r--r-- 1 root staff   347064 Aug 15 20:47 DejaVuSerif-BoldItalic.ttf\r\n",
            "-rw-r--r-- 1 root staff   756072 Aug 15 20:47 DejaVuSans.ttf\r\n",
            "-rw-r--r-- 1 root staff   633840 Aug 15 20:47 DejaVuSans-Oblique.ttf\r\n",
            "-rw-r--r-- 1 root staff   251472 Aug 15 20:47 DejaVuSansMono-Oblique.ttf\r\n",
            "-rw-r--r-- 1 root staff   253116 Aug 15 20:47 DejaVuSansMono-BoldOblique.ttf\r\n",
            "-rw-r--r-- 1 root staff   641720 Aug 15 20:47 DejaVuSans-BoldOblique.ttf\r\n",
            "-rw-r--r-- 1 root staff    28136 Aug 15 20:47 cmtt10.ttf\r\n",
            "-rw-r--r-- 1 root staff    32560 Aug 15 20:47 cmmi10.ttf\r\n",
            "-rw-r--r-- 1 root staff    21092 Aug 15 20:47 cmex10.ttf\r\n",
            "-rw-r--r-- 1 root staff    12192 Aug 15 20:47 STIXSizThreeSymBol.ttf\r\n",
            "-rw-r--r-- 1 root staff   448228 Aug 15 20:47 STIXGeneral.ttf\r\n",
            "-rw-r--r-- 1 root staff   340240 Aug 15 20:47 DejaVuSansMono.ttf\r\n",
            "-rw-r--r-- 1 root staff   331536 Aug 15 20:47 DejaVuSansMono-Bold.ttf\r\n",
            "-rw-r--r-- 1 root staff    25712 Aug 15 20:47 DejaVuSansDisplay.ttf\r\n",
            "-rw-r--r-- 1 root staff   704128 Aug 15 20:47 DejaVuSans-Bold.ttf\r\n",
            "-rw-r--r-- 1 root staff    29396 Aug 15 20:47 cmsy10.ttf\r\n",
            "-rw-r--r-- 1 root staff    20376 Aug 15 20:47 cmss10.ttf\r\n",
            "-rw-r--r-- 1 root staff    26348 Aug 15 20:47 cmr10.ttf\r\n",
            "-rw-r--r-- 1 root staff    25680 Aug 15 20:47 cmb10.ttf\r\n",
            "drwxr-sr-x 1 root staff     4096 Aug 15 20:49 ..\r\n",
            "-rw-r--r-- 1 root staff  4184028 Aug 20 08:33 NanumBarunGothic.ttf\r\n",
            "-rw-r--r-- 1 root staff  4413912 Aug 20 08:33 NanumBarunGothicBold.ttf\r\n",
            "-rw-r--r-- 1 root staff  4917332 Aug 20 08:33 NanumBarunGothicLight.ttf\r\n",
            "-rw-r--r-- 1 root staff  4790084 Aug 20 08:33 NanumBarunGothicUltraLight.ttf\r\n",
            "-rw-r--r-- 1 root staff 10028540 Aug 20 08:33 NanumBarunpenB.ttf\r\n",
            "-rw-r--r-- 1 root staff 11033840 Aug 20 08:33 NanumBarunpenR.ttf\r\n",
            "-rw-r--r-- 1 root staff  3745376 Aug 20 08:33 NanumBrush.ttf\r\n",
            "-rw-r--r-- 1 root staff  4691820 Aug 20 08:33 NanumGothic.ttf\r\n",
            "-rw-r--r-- 1 root staff  4642244 Aug 20 08:33 NanumGothicBold.ttf\r\n",
            "-rw-r--r-- 1 root staff  1800792 Aug 20 08:33 NanumGothicCoding-Bold.ttf\r\n",
            "-rw-r--r-- 1 root staff  2779112 Aug 20 08:33 NanumGothicCoding.ttf\r\n",
            "-rw-r--r-- 1 root staff  7783984 Aug 20 08:33 NanumGothicEco.ttf\r\n",
            "-rw-r--r-- 1 root staff 11021172 Aug 20 08:33 NanumGothicEcoBold.ttf\r\n",
            "-rw-r--r-- 1 root staff 11571064 Aug 20 08:33 NanumGothicEcoExtraBold.ttf\r\n",
            "-rw-r--r-- 1 root staff  4526920 Aug 20 08:33 NanumGothicExtraBold.ttf\r\n",
            "-rw-r--r-- 1 root staff  1523188 Aug 20 08:33 NanumGothicLight.ttf\r\n",
            "-rw-r--r-- 1 root staff  3839464 Aug 20 08:33 NanumMyeongjo.ttf\r\n",
            "-rw-r--r-- 1 root staff  4183592 Aug 20 08:33 NanumMyeongjoBold.ttf\r\n",
            "-rw-r--r-- 1 root staff  7024632 Aug 20 08:33 NanumMyeongjoEco.ttf\r\n",
            "-rw-r--r-- 1 root staff  9809868 Aug 20 08:33 NanumMyeongjoEcoBold.ttf\r\n",
            "-rw-r--r-- 1 root staff 10635180 Aug 20 08:33 NanumMyeongjoEcoExtraBold.ttf\r\n",
            "-rw-r--r-- 1 root staff  4788696 Aug 20 08:33 NanumMyeongjoExtraBold.ttf\r\n",
            "-rw-r--r-- 1 root staff  3548656 Aug 20 08:33 NanumPen.ttf\r\n",
            "-rw-r--r-- 1 root staff   733500 Aug 20 08:33 NanumSquareB.ttf\r\n",
            "-rw-r--r-- 1 root staff   726684 Aug 20 08:33 NanumSquareEB.ttf\r\n",
            "-rw-r--r-- 1 root staff   750932 Aug 20 08:33 NanumSquareL.ttf\r\n",
            "drwxr-sr-x 1 root staff     4096 Aug 20 08:33 .\r\n",
            "-rw-r--r-- 1 root staff   723640 Aug 20 08:33 NanumSquareR.ttf\r\n"
          ],
          "name": "stdout"
        }
      ]
    },
    {
      "metadata": {
        "id": "tc2n6FMoY1Zp",
        "colab_type": "code",
        "colab": {}
      },
      "cell_type": "code",
      "source": [
        "!cp /usr/share/fonts/truetype/nanum/*.ttf /usr/local/lib/python3.6/dist-packages/matplotlib/mpl-data/fonts/ttf/"
      ],
      "execution_count": 0,
      "outputs": []
    },
    {
      "metadata": {
        "id": "_T6kCG6QeGwa",
        "colab_type": "code",
        "colab": {
          "base_uri": "https://localhost:8080/",
          "height": 433
        },
        "outputId": "3197e60b-c902-4fb0-be38-5d45052fd3b6"
      },
      "cell_type": "code",
      "source": [
        "# 기본 설정 읽기\n",
        "import matplotlib.pyplot as plt\n",
        "\n",
        "\n",
        "\n",
        "#NanumGothic = fm.FontProperties(fname='/usr/share/fonts/truetype/nanum/NanumGothic.ttf')\n",
        "\n",
        "\n",
        "for key in plt.rcParamsDefault.keys():\n",
        "    if 'font' in key:\n",
        "        print(\"{}: {}\".format(key, plt.rcParamsDefault[key]))\n",
        "        \n",
        "        \n",
        "font_path = '/usr/share/fonts/truetype/nanum/NanumGothic.ttf'\n",
        "font_name = fm.FontProperties(fname=font_path).get_name()\n",
        "plt.rcParams['font.family'] = font_name\n",
        "plt.rcParams['font.size'] = 10      \n",
        "\n",
        "\n",
        "# size, family\n",
        "print('# 설정되어있는 폰트 사이즈')\n",
        "print (plt.rcParams['font.size'] ) \n",
        "print('# 설정되어있는 폰트 글꼴')\n",
        "print (plt.rcParams['font.family'] )"
      ],
      "execution_count": 0,
      "outputs": [
        {
          "output_type": "stream",
          "text": [
            "font.cursive: ['Apple Chancery', 'Textile', 'Zapf Chancery', 'Sand', 'Script MT', 'Felipa', 'cursive']\n",
            "font.family: ['sans-serif']\n",
            "font.fantasy: ['Comic Sans MS', 'Chicago', 'Charcoal', 'ImpactWestern', 'Humor Sans', 'xkcd', 'fantasy']\n",
            "font.monospace: ['DejaVu Sans Mono', 'Bitstream Vera Sans Mono', 'Computer Modern Typewriter', 'Andale Mono', 'Nimbus Mono L', 'Courier New', 'Courier', 'Fixed', 'Terminal', 'monospace']\n",
            "font.sans-serif: ['DejaVu Sans', 'Bitstream Vera Sans', 'Computer Modern Sans Serif', 'Lucida Grande', 'Verdana', 'Geneva', 'Lucid', 'Arial', 'Helvetica', 'Avant Garde', 'sans-serif']\n",
            "font.serif: ['DejaVu Serif', 'Bitstream Vera Serif', 'Computer Modern Roman', 'New Century Schoolbook', 'Century Schoolbook L', 'Utopia', 'ITC Bookman', 'Bookman', 'Nimbus Roman No9 L', 'Times New Roman', 'Times', 'Palatino', 'Charter', 'serif']\n",
            "font.size: 10.0\n",
            "font.stretch: normal\n",
            "font.style: normal\n",
            "font.variant: normal\n",
            "font.weight: normal\n",
            "legend.fontsize: medium\n",
            "mathtext.fontset: dejavusans\n",
            "pdf.fonttype: 3\n",
            "pdf.use14corefonts: False\n",
            "pgf.rcfonts: True\n",
            "ps.fonttype: 3\n",
            "svg.fonttype: path\n",
            "# 설정되어있는 폰트 사이즈\n",
            "10.0\n",
            "# 설정되어있는 폰트 글꼴\n",
            "['NanumGothic']\n"
          ],
          "name": "stdout"
        }
      ]
    },
    {
      "metadata": {
        "id": "aTLCDJSW_6zR",
        "colab_type": "code",
        "colab": {
          "base_uri": "https://localhost:8080/",
          "height": 430
        },
        "outputId": "9470f02b-157d-4a7a-ad1b-7fd39fe626e3"
      },
      "cell_type": "code",
      "source": [
        "\n",
        "(ggplot(region_year_all, aes(x='지역명', y='평당분양가격', fill='연도'))\n",
        " + geom_bar(stat='identity', position='dodge')\n",
        " + ggtitle('2015-2018년 신규 민간 아파트 분양가격')\n",
        " + theme(text=element_text(family='NanumGothic' ),\n",
        "         figure_size=(8, 4))\n",
        ")\n",
        "\n",
        "# 한글이 깨짐 "
      ],
      "execution_count": 0,
      "outputs": [
        {
          "output_type": "display_data",
          "data": {
            "image/png": "[encoded data removed]",
            "text/plain": [
              "<matplotlib.figure.Figure at 0x7f96396e54e0>"
            ]
          },
          "metadata": {
            "tags": []
          }
        },
        {
          "output_type": "execute_result",
          "data": {
            "text/plain": [
              "<ggplot: (8767695854747)>"
            ]
          },
          "metadata": {
            "tags": []
          },
          "execution_count": 185
        }
      ]
    },
    {
      "metadata": {
        "id": "9IGY5gPivHRU",
        "colab_type": "code",
        "colab": {
          "base_uri": "https://localhost:8080/",
          "height": 286
        },
        "outputId": "1234fa3d-4714-4059-847e-e8d51bb64fd0"
      },
      "cell_type": "code",
      "source": [
        "import matplotlib.pyplot as plt\n",
        "import matplotlib.font_manager as fm\n",
        "\n",
        "font_path = '/usr/share/fonts/truetype/nanum/NanumBarunGothic.ttf'\n",
        "fontprop = fm.FontProperties(fname=font_path, size=18)\n",
        "\n",
        "plt.ylabel('가격', fontproperties=fontprop)\n",
        "plt.title('가격변동 추이', fontproperties=fontprop)\n",
        "plt.plot(range(50), data, 'r')\n",
        "plt.show()"
      ],
      "execution_count": 0,
      "outputs": [
        {
          "output_type": "display_data",
          "data": {
            "image/png": "[encoded data removed]",
            "text/plain": [
              "<matplotlib.figure.Figure at 0x7f96360b2f60>"
            ]
          },
          "metadata": {
            "tags": []
          }
        }
      ]
    },
    {
      "metadata": {
        "id": "Wf_yDb06_6zT",
        "colab_type": "text"
      },
      "cell_type": "markdown",
      "source": [
        "## 지역별 평당 분양가격 합계\n",
        "* 아래 데이터로 어느정도 규모로 분양사업이 이루어졌는지를 봅니다.\n",
        "* 전체 데이터로 봤을 때 서울, 경기, 부산, 제주에 분양 사업이 다른 지역에 비해 규모가 큰 것으로 보여지지만 분양가격대비로 나눠볼 필요가 있습니다."
      ]
    },
    {
      "metadata": {
        "id": "RTQBa7Ic_6zT",
        "colab_type": "code",
        "colab": {
          "base_uri": "https://localhost:8080/",
          "height": 235
        },
        "outputId": "8d424d2d-f0de-4478-d87b-12f14c82f411"
      },
      "cell_type": "code",
      "source": [
        "pre_sale.pivot_table('평당분양가격', '규모구분', '지역명')"
      ],
      "execution_count": 0,
      "outputs": [
        {
          "output_type": "execute_result",
          "data": {
            "text/html": [
              "<div>\n",
              "<style scoped>\n",
              "    .dataframe tbody tr th:only-of-type {\n",
              "        vertical-align: middle;\n",
              "    }\n",
              "\n",
              "    .dataframe tbody tr th {\n",
              "        vertical-align: top;\n",
              "    }\n",
              "\n",
              "    .dataframe thead th {\n",
              "        text-align: right;\n",
              "    }\n",
              "</style>\n",
              "<table border=\"1\" class=\"dataframe\">\n",
              "  <thead>\n",
              "    <tr style=\"text-align: right;\">\n",
              "      <th>지역명</th>\n",
              "      <th>강원</th>\n",
              "      <th>경기</th>\n",
              "      <th>경남</th>\n",
              "      <th>경북</th>\n",
              "      <th>광주</th>\n",
              "      <th>대구</th>\n",
              "      <th>대전</th>\n",
              "      <th>부산</th>\n",
              "      <th>서울</th>\n",
              "      <th>세종</th>\n",
              "      <th>울산</th>\n",
              "      <th>인천</th>\n",
              "      <th>전남</th>\n",
              "      <th>전북</th>\n",
              "      <th>제주</th>\n",
              "      <th>충남</th>\n",
              "      <th>충북</th>\n",
              "    </tr>\n",
              "    <tr>\n",
              "      <th>규모구분</th>\n",
              "      <th></th>\n",
              "      <th></th>\n",
              "      <th></th>\n",
              "      <th></th>\n",
              "      <th></th>\n",
              "      <th></th>\n",
              "      <th></th>\n",
              "      <th></th>\n",
              "      <th></th>\n",
              "      <th></th>\n",
              "      <th></th>\n",
              "      <th></th>\n",
              "      <th></th>\n",
              "      <th></th>\n",
              "      <th></th>\n",
              "      <th></th>\n",
              "      <th></th>\n",
              "    </tr>\n",
              "  </thead>\n",
              "  <tbody>\n",
              "    <tr>\n",
              "      <th>전용면적 102㎡초과</th>\n",
              "      <td>7,871</td>\n",
              "      <td>13,601</td>\n",
              "      <td>9,222</td>\n",
              "      <td>8,586</td>\n",
              "      <td>10,381</td>\n",
              "      <td>12,303</td>\n",
              "      <td>14,282</td>\n",
              "      <td>12,584</td>\n",
              "      <td>22,035</td>\n",
              "      <td>9,259</td>\n",
              "      <td>9,974</td>\n",
              "      <td>13,836</td>\n",
              "      <td>7,550</td>\n",
              "      <td>7,793</td>\n",
              "      <td>10,435</td>\n",
              "      <td>8,477</td>\n",
              "      <td>7,900</td>\n",
              "    </tr>\n",
              "    <tr>\n",
              "      <th>전용면적 60㎡이하</th>\n",
              "      <td>7,185</td>\n",
              "      <td>12,300</td>\n",
              "      <td>8,320</td>\n",
              "      <td>7,646</td>\n",
              "      <td>8,494</td>\n",
              "      <td>11,254</td>\n",
              "      <td>8,816</td>\n",
              "      <td>10,656</td>\n",
              "      <td>21,976</td>\n",
              "      <td>9,071</td>\n",
              "      <td>8,965</td>\n",
              "      <td>10,853</td>\n",
              "      <td>6,980</td>\n",
              "      <td>7,184</td>\n",
              "      <td>14,700</td>\n",
              "      <td>7,772</td>\n",
              "      <td>6,951</td>\n",
              "    </tr>\n",
              "    <tr>\n",
              "      <th>전용면적 60㎡초과 85㎡이하</th>\n",
              "      <td>7,216</td>\n",
              "      <td>11,650</td>\n",
              "      <td>8,088</td>\n",
              "      <td>7,657</td>\n",
              "      <td>9,159</td>\n",
              "      <td>10,889</td>\n",
              "      <td>8,779</td>\n",
              "      <td>11,135</td>\n",
              "      <td>20,718</td>\n",
              "      <td>9,237</td>\n",
              "      <td>10,651</td>\n",
              "      <td>10,719</td>\n",
              "      <td>6,943</td>\n",
              "      <td>6,868</td>\n",
              "      <td>9,908</td>\n",
              "      <td>7,484</td>\n",
              "      <td>7,019</td>\n",
              "    </tr>\n",
              "    <tr>\n",
              "      <th>전용면적 85㎡초과 102㎡이하</th>\n",
              "      <td>7,612</td>\n",
              "      <td>12,029</td>\n",
              "      <td>9,834</td>\n",
              "      <td>8,776</td>\n",
              "      <td>9,296</td>\n",
              "      <td>9,497</td>\n",
              "      <td>9,037</td>\n",
              "      <td>10,971</td>\n",
              "      <td>23,714</td>\n",
              "      <td>9,210</td>\n",
              "      <td>8,861</td>\n",
              "      <td>11,286</td>\n",
              "      <td>7,858</td>\n",
              "      <td>7,739</td>\n",
              "      <td>10,744</td>\n",
              "      <td>9,102</td>\n",
              "      <td>8,145</td>\n",
              "    </tr>\n",
              "    <tr>\n",
              "      <th>전체</th>\n",
              "      <td>7,183</td>\n",
              "      <td>11,664</td>\n",
              "      <td>8,113</td>\n",
              "      <td>7,661</td>\n",
              "      <td>9,151</td>\n",
              "      <td>10,854</td>\n",
              "      <td>8,854</td>\n",
              "      <td>11,241</td>\n",
              "      <td>21,127</td>\n",
              "      <td>9,230</td>\n",
              "      <td>10,628</td>\n",
              "      <td>10,727</td>\n",
              "      <td>6,958</td>\n",
              "      <td>6,877</td>\n",
              "      <td>10,230</td>\n",
              "      <td>7,474</td>\n",
              "      <td>6,966</td>\n",
              "    </tr>\n",
              "  </tbody>\n",
              "</table>\n",
              "</div>"
            ],
            "text/plain": [
              "지역명                  강원     경기    경남    경북     광주     대구     대전     부산     서울  \\\n",
              "규모구분                                                                            \n",
              "전용면적 102㎡초과       7,871 13,601 9,222 8,586 10,381 12,303 14,282 12,584 22,035   \n",
              "전용면적 60㎡이하        7,185 12,300 8,320 7,646  8,494 11,254  8,816 10,656 21,976   \n",
              "전용면적 60㎡초과 85㎡이하  7,216 11,650 8,088 7,657  9,159 10,889  8,779 11,135 20,718   \n",
              "전용면적 85㎡초과 102㎡이하 7,612 12,029 9,834 8,776  9,296  9,497  9,037 10,971 23,714   \n",
              "전체                7,183 11,664 8,113 7,661  9,151 10,854  8,854 11,241 21,127   \n",
              "\n",
              "지역명                  세종     울산     인천    전남    전북     제주    충남    충북  \n",
              "규모구분                                                                  \n",
              "전용면적 102㎡초과       9,259  9,974 13,836 7,550 7,793 10,435 8,477 7,900  \n",
              "전용면적 60㎡이하        9,071  8,965 10,853 6,980 7,184 14,700 7,772 6,951  \n",
              "전용면적 60㎡초과 85㎡이하  9,237 10,651 10,719 6,943 6,868  9,908 7,484 7,019  \n",
              "전용면적 85㎡초과 102㎡이하 9,210  8,861 11,286 7,858 7,739 10,744 9,102 8,145  \n",
              "전체                9,230 10,628 10,727 6,958 6,877 10,230 7,474 6,966  "
            ]
          },
          "metadata": {
            "tags": []
          },
          "execution_count": 37
        }
      ]
    },
    {
      "metadata": {
        "id": "YFNx3yUS_6zX",
        "colab_type": "text"
      },
      "cell_type": "markdown",
      "source": [
        "## 규모별 "
      ]
    },
    {
      "metadata": {
        "id": "-vk0ku2A_6zY",
        "colab_type": "code",
        "colab": {
          "base_uri": "https://localhost:8080/",
          "height": 430
        },
        "outputId": "fb6ece68-b122-4dee-b6f2-c418557f7eaf"
      },
      "cell_type": "code",
      "source": [
        "# 서울의 경우 전용면적 85㎡초과 102㎡이하가 분양가격이 가장 비싸게 나옵니다.\n",
        "\n",
        "\n",
        "(ggplot(pre_sale, aes(x='지역명', y='평당분양가격', fill='규모구분'))\n",
        " + geom_bar(stat='identity', position='dodge')\n",
        " + ggtitle('규모별 신규 민간 아파트 분양가격')\n",
        " + theme(text=element_text(family=font_path),figure_size=(8, 4))\n",
        ")"
      ],
      "execution_count": 0,
      "outputs": [
        {
          "output_type": "display_data",
          "data": {
            "image/png": "[encoded data removed]",
            "text/plain": [
              "<matplotlib.figure.Figure at 0x7f9635836550>"
            ]
          },
          "metadata": {
            "tags": []
          }
        },
        {
          "output_type": "execute_result",
          "data": {
            "text/plain": [
              "<ggplot: (-9223363269159581254)>"
            ]
          },
          "metadata": {
            "tags": []
          },
          "execution_count": 167
        }
      ]
    },
    {
      "metadata": {
        "id": "sb-3cFSV_6zb",
        "colab_type": "code",
        "colab": {
          "base_uri": "https://localhost:8080/",
          "height": 1060
        },
        "outputId": "d9690b57-d971-419c-e04a-0964d32ca0ac"
      },
      "cell_type": "code",
      "source": [
        "# 위에 그린 그래프를 지역별로 나눠 봅니다.\n",
        "(ggplot(pre_sale)\n",
        " + aes(x='연도', y='평당분양가격', fill='규모구분')\n",
        " + geom_bar(stat='identity', position='dodge')\n",
        " + facet_wrap('지역명')\n",
        " + theme(text=element_text(family='NanumBarunGothic'),\n",
        "         axis_text_x=element_text(rotation=70),\n",
        "         figure_size=(12, 12))\n",
        ")"
      ],
      "execution_count": 0,
      "outputs": [
        {
          "output_type": "display_data",
          "data": {
            "image/png": "[encoded data removed]",
            "text/plain": [
              "<matplotlib.figure.Figure at 0x7f96374dfb38>"
            ]
          },
          "metadata": {
            "tags": []
          }
        },
        {
          "output_type": "execute_result",
          "data": {
            "text/plain": [
              "<ggplot: (8767695692506)>"
            ]
          },
          "metadata": {
            "tags": []
          },
          "execution_count": 141
        }
      ]
    },
    {
      "metadata": {
        "id": "vZm2OByM_6zd",
        "colab_type": "code",
        "colab": {
          "base_uri": "https://localhost:8080/",
          "height": 584
        },
        "outputId": "18527ba9-117d-44d7-d784-3fab26d202b1"
      },
      "cell_type": "code",
      "source": [
        "# 박스플롯을 그려봅니다.\n",
        "(ggplot(pre_sale, aes(x='지역명', y='평당분양가격', fill='규모구분'))\n",
        " + geom_boxplot()\n",
        " + ggtitle('전국 규모별 신규 민간 아파트 분양가격')\n",
        " + theme(text=element_text(family='NanumBarunGothic'),\n",
        "         figure_size=(12, 6))\n",
        ")"
      ],
      "execution_count": 0,
      "outputs": [
        {
          "output_type": "display_data",
          "data": {
            "image/png": "[encoded data removed]",
            "text/plain": [
              "<matplotlib.figure.Figure at 0x7f9635e27860>"
            ]
          },
          "metadata": {
            "tags": []
          }
        },
        {
          "output_type": "execute_result",
          "data": {
            "text/plain": [
              "<ggplot: (-9223363269158783933)>"
            ]
          },
          "metadata": {
            "tags": []
          },
          "execution_count": 142
        }
      ]
    },
    {
      "metadata": {
        "id": "OC8wJsZi_6zg",
        "colab_type": "code",
        "colab": {}
      },
      "cell_type": "code",
      "source": [
        "pre_sale_seoul = pre_sale.loc[pre_sale['지역명']=='서울']\n",
        "(ggplot(pre_sale_seoul)\n",
        " + aes(x='연도', y='평당분양가격', fill='규모구분')\n",
        " + ggtitle('서울 연도/규모별 신규 민간 아파트 분양가격')\n",
        " + geom_boxplot()\n",
        " + theme(text=element_text(family='NanumBarunGothic'))\n",
        ")"
      ],
      "execution_count": 0,
      "outputs": []
    },
    {
      "metadata": {
        "id": "XpkWKepv_6zi",
        "colab_type": "code",
        "colab": {}
      },
      "cell_type": "code",
      "source": [
        "# 2015년에서 2018년까지 분양가 차이가 가장 컸던 제주를 봅니다.\n",
        "(ggplot(pre_sale.loc[pre_sale['지역명']=='제주'])\n",
        " + aes(x='연도', y='평당분양가격', fill='규모구분')\n",
        " + geom_boxplot()\n",
        " + theme(text=element_text(family='NanumBarunGothic'))\n",
        ")"
      ],
      "execution_count": 0,
      "outputs": []
    },
    {
      "metadata": {
        "id": "Ln9_ZHKE_6zk",
        "colab_type": "code",
        "colab": {}
      },
      "cell_type": "code",
      "source": [
        "# 2015년에서 2018년까지 분양가 차이가 가장 작았던 울산을 봅니다.\n",
        "(ggplot(pre_sale.loc[pre_sale['지역명']=='울산'])\n",
        " + aes(x='연도', y='평당분양가격', fill='규모구분')\n",
        " + geom_boxplot()\n",
        " + theme(text=element_text(family='NanumBarunGothic'))\n",
        ")"
      ],
      "execution_count": 0,
      "outputs": []
    },
    {
      "metadata": {
        "id": "ls5SHhf5_6zm",
        "colab_type": "text"
      },
      "cell_type": "markdown",
      "source": [
        "# 2013년 12월~2015년 9월 3.3㎡당 분양가격\n",
        "* 2015년 10월부터 2018년 4월까지 데이터는 평당 분양가로 조정을 해주었었는데 이 데이터는 평당 분양가가 들어가 있다."
      ]
    },
    {
      "metadata": {
        "id": "5_FaVdAP_6zn",
        "colab_type": "code",
        "colab": {}
      },
      "cell_type": "code",
      "source": [
        "df = pd.read_csv('data/apt_price/지역별_3.3㎡당_평균_분양가격_천원__15.09월.csv', \\\n",
        "                 encoding='euc-kr', skiprows=1, header=0)\n",
        "df.shape"
      ],
      "execution_count": 0,
      "outputs": []
    },
    {
      "metadata": {
        "id": "NM3zsLmf_6zr",
        "colab_type": "code",
        "colab": {}
      },
      "cell_type": "code",
      "source": [
        "# pandas에서 보기 쉽게 컬럼을 변경해 줄 필요가 있다.\n",
        "df"
      ],
      "execution_count": 0,
      "outputs": []
    },
    {
      "metadata": {
        "id": "ZbzVQprb_6zt",
        "colab_type": "code",
        "colab": {}
      },
      "cell_type": "code",
      "source": [
        "year = df.iloc[0]\n",
        "month = df.iloc[1]"
      ],
      "execution_count": 0,
      "outputs": []
    },
    {
      "metadata": {
        "id": "RQDnux5u_6zu",
        "colab_type": "code",
        "colab": {}
      },
      "cell_type": "code",
      "source": [
        "# 결측치를 채워준다.\n",
        "year"
      ],
      "execution_count": 0,
      "outputs": []
    },
    {
      "metadata": {
        "id": "xp-VnJ08_6zw",
        "colab_type": "code",
        "colab": {}
      },
      "cell_type": "code",
      "source": [
        "# 컬럼을 새로 만들어 주기 위해 0번째와 1번째 행을 합쳐준다.\n",
        "for i, y in enumerate(year):\n",
        "    if i > 2 and i < 15:\n",
        "        year[i] = '2014년 ' + month[i]\n",
        "    elif i >= 15:\n",
        "        year[i] = '2015년 ' + month[i]\n",
        "    elif i == 2 :\n",
        "        year[i] =  year[i] + ' ' + month[i]\n",
        "    elif i == 1:\n",
        "        year[i] = '시군구'\n",
        "        \n",
        "print(year)"
      ],
      "execution_count": 0,
      "outputs": []
    },
    {
      "metadata": {
        "id": "lnO96BTL_6zy",
        "colab_type": "code",
        "colab": {}
      },
      "cell_type": "code",
      "source": [
        "df.columns = year"
      ],
      "execution_count": 0,
      "outputs": []
    },
    {
      "metadata": {
        "id": "VHHPkpS8_6zz",
        "colab_type": "code",
        "colab": {}
      },
      "cell_type": "code",
      "source": [
        "df = df.drop(df.index[[0,1]])\n",
        "df"
      ],
      "execution_count": 0,
      "outputs": []
    },
    {
      "metadata": {
        "id": "HAm-lKYb_6z1",
        "colab_type": "code",
        "colab": {}
      },
      "cell_type": "code",
      "source": [
        "# 지역 컬럼을 새로 만들어 시도와 시군구를 합쳐준다.\n",
        "df['구분'] = df['구분'].fillna('')\n",
        "df['시군구'] = df['시군구'].fillna('')"
      ],
      "execution_count": 0,
      "outputs": []
    },
    {
      "metadata": {
        "id": "YajWfAhp_6z5",
        "colab_type": "code",
        "colab": {}
      },
      "cell_type": "code",
      "source": [
        "df['지역'] = df['구분'] + df['시군구']"
      ],
      "execution_count": 0,
      "outputs": []
    },
    {
      "metadata": {
        "id": "l2fnvRDJ_6z7",
        "colab_type": "code",
        "colab": {}
      },
      "cell_type": "code",
      "source": [
        "df['지역']"
      ],
      "execution_count": 0,
      "outputs": []
    },
    {
      "metadata": {
        "id": "2UrUSVYi_6z-",
        "colab_type": "code",
        "colab": {}
      },
      "cell_type": "code",
      "source": [
        "melt_columns = df.columns.copy()\n",
        "melt_columns"
      ],
      "execution_count": 0,
      "outputs": []
    },
    {
      "metadata": {
        "id": "NgpsH0RU_60B",
        "colab_type": "code",
        "colab": {}
      },
      "cell_type": "code",
      "source": [
        "df_2013_2015 = pd.melt(df, id_vars=['지역'], value_vars=['2013년 12월', '2014년 1월', '2014년 2월', '2014년 3월',\n",
        "       '2014년 4월', '2014년 5월', '2014년 6월', '2014년 7월', '2014년 8월',\n",
        "       '2014년 9월', '2014년 10월', '2014년 11월', '2014년 12월', '2015년 1월',\n",
        "       '2015년 2월', '2015년 3월', '2015년 4월', '2015년 5월', '2015년 6월',\n",
        "       '2015년 7월', '2015년 8월', '2015년 9월'])\n",
        "df_2013_2015.head()"
      ],
      "execution_count": 0,
      "outputs": []
    },
    {
      "metadata": {
        "id": "cReI0ijI_60E",
        "colab_type": "code",
        "colab": {}
      },
      "cell_type": "code",
      "source": [
        "df_2013_2015.columns = ['지역', '기간', '분양가']\n",
        "df_2013_2015.head()"
      ],
      "execution_count": 0,
      "outputs": []
    },
    {
      "metadata": {
        "id": "oC-fpB5Y_60H",
        "colab_type": "code",
        "colab": {}
      },
      "cell_type": "code",
      "source": [
        "df_2013_2015['연도'] = df_2013_2015['기간'].apply(lambda year_month : year_month.split('년')[0])\n",
        "df_2013_2015['월'] = df_2013_2015['기간'].apply(lambda year_month : re.sub('월', '', year_month.split('년')[1]).strip())"
      ],
      "execution_count": 0,
      "outputs": []
    },
    {
      "metadata": {
        "id": "2NFbN-Kc_60L",
        "colab_type": "code",
        "colab": {}
      },
      "cell_type": "code",
      "source": [
        "df_2013_2015.head()"
      ],
      "execution_count": 0,
      "outputs": []
    },
    {
      "metadata": {
        "id": "hehHbGtc_60M",
        "colab_type": "text"
      },
      "cell_type": "markdown",
      "source": [
        "## 지역명 강원과 부산 정리"
      ]
    },
    {
      "metadata": {
        "id": "z-syRLki_60N",
        "colab_type": "code",
        "colab": {}
      },
      "cell_type": "code",
      "source": [
        "df_2013_2015['지역'].value_counts()"
      ],
      "execution_count": 0,
      "outputs": []
    },
    {
      "metadata": {
        "id": "OfFECqk1_60P",
        "colab_type": "code",
        "colab": {}
      },
      "cell_type": "code",
      "source": [
        "df_2013_2015['지역'] = df_2013_2015['지역'].apply(lambda x: re.sub('6대광역시부산','부산', x))\n",
        "df_2013_2015['지역'] = df_2013_2015['지역'].apply(lambda x: re.sub('지방강원','강원', x))\n",
        "df_2013_2015['지역'].value_counts()"
      ],
      "execution_count": 0,
      "outputs": []
    },
    {
      "metadata": {
        "id": "LLcXeggK_60Q",
        "colab_type": "code",
        "colab": {}
      },
      "cell_type": "code",
      "source": [
        "df_2013_2015.describe()"
      ],
      "execution_count": 0,
      "outputs": []
    },
    {
      "metadata": {
        "id": "yJ4QSOGa_60R",
        "colab_type": "code",
        "colab": {}
      },
      "cell_type": "code",
      "source": [
        "df_2013_2015['분양가격'] = df_2013_2015['분양가'].str.replace(',', '').astype(int)"
      ],
      "execution_count": 0,
      "outputs": []
    },
    {
      "metadata": {
        "id": "ssuQ-YEN_60V",
        "colab_type": "code",
        "colab": {}
      },
      "cell_type": "code",
      "source": [
        "(ggplot(df_2013_2015, aes(x='지역', y='분양가격', fill='연도'))\n",
        " + geom_boxplot()\n",
        " + theme(text=element_text(family='NanumBarunGothic'),\n",
        "         figure_size=(12, 6))\n",
        ")"
      ],
      "execution_count": 0,
      "outputs": []
    },
    {
      "metadata": {
        "id": "LIm2znO__60X",
        "colab_type": "code",
        "colab": {}
      },
      "cell_type": "code",
      "source": [
        "(ggplot(df_2013_2015, aes(x='지역', y='분양가격', fill='연도'))\n",
        " + geom_bar(stat='identity', position='dodge')\n",
        " + theme(text=element_text(family='NanumBarunGothic'),\n",
        "         figure_size=(12, 6))\n",
        ")"
      ],
      "execution_count": 0,
      "outputs": []
    },
    {
      "metadata": {
        "id": "UJWyHMsT_60Z",
        "colab_type": "text"
      },
      "cell_type": "markdown",
      "source": [
        "## 이제 2013년부터 2018년 4월까지 데이터를 합칠 준비가 됨"
      ]
    },
    {
      "metadata": {
        "id": "_RyNEv77_60Z",
        "colab_type": "code",
        "colab": {}
      },
      "cell_type": "code",
      "source": [
        "df_2015_2018 = pre_sale.loc[pre_sale['규모구분'] == '전체']\n",
        "print(df_2015_2018.shape)\n",
        "df_2015_2018.head()"
      ],
      "execution_count": 0,
      "outputs": []
    },
    {
      "metadata": {
        "id": "Aiz171Bt_60b",
        "colab_type": "code",
        "colab": {}
      },
      "cell_type": "code",
      "source": [
        "df_2013_2015.columns"
      ],
      "execution_count": 0,
      "outputs": []
    },
    {
      "metadata": {
        "id": "RBDH5iq4_60c",
        "colab_type": "code",
        "colab": {}
      },
      "cell_type": "code",
      "source": [
        "df_2013_2015_prepare = df_2013_2015[['지역', '연도', '월', '분양가격']]\n",
        "df_2013_2015_prepare.head()"
      ],
      "execution_count": 0,
      "outputs": []
    },
    {
      "metadata": {
        "id": "4SDT56aL_60d",
        "colab_type": "code",
        "colab": {}
      },
      "cell_type": "code",
      "source": [
        "df_2013_2015_prepare.columns = ['지역명', '연도', '월', '평당분양가격']"
      ],
      "execution_count": 0,
      "outputs": []
    },
    {
      "metadata": {
        "id": "ilC-oaQR_60f",
        "colab_type": "code",
        "colab": {}
      },
      "cell_type": "code",
      "source": [
        "df_2015_2018.columns"
      ],
      "execution_count": 0,
      "outputs": []
    },
    {
      "metadata": {
        "id": "VW09tw9B_60g",
        "colab_type": "code",
        "colab": {}
      },
      "cell_type": "code",
      "source": [
        "df_2015_2018_prepare = df_2015_2018[['지역명', '연도', '월', '평당분양가격']]\n",
        "df_2015_2018_prepare.head()"
      ],
      "execution_count": 0,
      "outputs": []
    },
    {
      "metadata": {
        "id": "S-FRRvdo_60j",
        "colab_type": "code",
        "colab": {}
      },
      "cell_type": "code",
      "source": [
        "df_2015_2018_prepare.describe()"
      ],
      "execution_count": 0,
      "outputs": []
    },
    {
      "metadata": {
        "id": "GozMobPt_60k",
        "colab_type": "code",
        "colab": {}
      },
      "cell_type": "code",
      "source": [
        "df_2013_2018 = pd.concat([df_2013_2015_prepare, df_2015_2018_prepare])\n",
        "df_2013_2018.shape"
      ],
      "execution_count": 0,
      "outputs": []
    },
    {
      "metadata": {
        "id": "DwGphbIt_60m",
        "colab_type": "code",
        "colab": {}
      },
      "cell_type": "code",
      "source": [
        "df_2013_2018.head()"
      ],
      "execution_count": 0,
      "outputs": []
    },
    {
      "metadata": {
        "id": "4zjba9gx_60n",
        "colab_type": "code",
        "colab": {}
      },
      "cell_type": "code",
      "source": [
        "df_2013_2018.tail()"
      ],
      "execution_count": 0,
      "outputs": []
    },
    {
      "metadata": {
        "id": "0eq9b_1o_60o",
        "colab_type": "code",
        "colab": {}
      },
      "cell_type": "code",
      "source": [
        "df_2013_2015_region= df_2013_2015_prepare['지역명'].unique()\n",
        "df_2013_2015_region"
      ],
      "execution_count": 0,
      "outputs": []
    },
    {
      "metadata": {
        "id": "sW0_VId7_60p",
        "colab_type": "code",
        "colab": {}
      },
      "cell_type": "code",
      "source": [
        "df_2015_2018_region = df_2015_2018_prepare['지역명'].unique()\n",
        "df_2015_2018_region"
      ],
      "execution_count": 0,
      "outputs": []
    },
    {
      "metadata": {
        "id": "CsP2Yxhh_60r",
        "colab_type": "code",
        "colab": {}
      },
      "cell_type": "code",
      "source": [
        "exclude_region = [region for region in df_2013_2015_region if not region in df_2015_2018_region] \n",
        "exclude_region"
      ],
      "execution_count": 0,
      "outputs": []
    },
    {
      "metadata": {
        "id": "chUtZxXM_60s",
        "colab_type": "code",
        "colab": {}
      },
      "cell_type": "code",
      "source": [
        "df_2013_2018.shape"
      ],
      "execution_count": 0,
      "outputs": []
    },
    {
      "metadata": {
        "id": "sZRIBKGu_60v",
        "colab_type": "code",
        "colab": {}
      },
      "cell_type": "code",
      "source": [
        "df_2013_2018.loc[df_2013_2018['지역명'].str.match('전국|수도권')].head()"
      ],
      "execution_count": 0,
      "outputs": []
    },
    {
      "metadata": {
        "id": "ZWY_FMQ8_60x",
        "colab_type": "code",
        "colab": {}
      },
      "cell_type": "code",
      "source": [
        "df_2013_2018.drop(df_2013_2018.loc[df_2013_2018['지역명'].str.match('전국|수도권')].index, axis=0, inplace=True)\n",
        "df_2013_2018.drop(df_2013_2018.loc[df_2013_2018['지역명'] == ''].index, axis=0, inplace=True)"
      ],
      "execution_count": 0,
      "outputs": []
    },
    {
      "metadata": {
        "id": "IYixDZ0I_60y",
        "colab_type": "code",
        "colab": {}
      },
      "cell_type": "code",
      "source": [
        "(ggplot(df_2013_2018, aes(x='연도', y='평당분양가격'))\n",
        " + geom_bar(stat='identity', position='dodge')\n",
        " + theme(text=element_text(family='NanumBarunGothic'))\n",
        ")"
      ],
      "execution_count": 0,
      "outputs": []
    },
    {
      "metadata": {
        "id": "bSg8bo5k_600",
        "colab_type": "code",
        "colab": {}
      },
      "cell_type": "code",
      "source": [
        "(ggplot(df_2013_2018, aes(x='지역명', y='평당분양가격', fill='연도'))\n",
        " + geom_bar(stat='identity', position='dodge')\n",
        " + theme(text=element_text(family='NanumBarunGothic'),\n",
        "         figure_size=(12, 6))\n",
        ")"
      ],
      "execution_count": 0,
      "outputs": []
    },
    {
      "metadata": {
        "id": "0HsLeSfD_602",
        "colab_type": "code",
        "colab": {}
      },
      "cell_type": "code",
      "source": [
        "(ggplot(df_2013_2018)\n",
        " + aes(x='연도', y='평당분양가격')\n",
        " + geom_boxplot()\n",
        " + theme(text=element_text(family='NanumBarunGothic'))\n",
        ")"
      ],
      "execution_count": 0,
      "outputs": []
    },
    {
      "metadata": {
        "id": "tV57dWWO_606",
        "colab_type": "code",
        "colab": {}
      },
      "cell_type": "code",
      "source": [
        "df_2013_2018_jeju = df_2013_2018.loc[df_2013_2018['지역명'] == '제주']\n",
        "(ggplot(df_2013_2018_jeju)\n",
        " + aes(x='연도', y='평당분양가격')\n",
        " + geom_boxplot()\n",
        " + theme(text=element_text(family='NanumBarunGothic'))\n",
        ")"
      ],
      "execution_count": 0,
      "outputs": []
    },
    {
      "metadata": {
        "id": "p6J7ksII_606",
        "colab_type": "code",
        "colab": {}
      },
      "cell_type": "code",
      "source": [
        "(ggplot(df_2013_2018)\n",
        " + aes(x='연도', y='평당분양가격')\n",
        " + geom_boxplot()\n",
        " + facet_wrap('지역명')\n",
        " + theme(text=element_text(family='NanumBarunGothic'),\n",
        "         axis_text_x=element_text(rotation=70),\n",
        "         figure_size=(12, 12))\n",
        ")"
      ],
      "execution_count": 0,
      "outputs": []
    },
    {
      "metadata": {
        "id": "1CSXxbyl_607",
        "colab_type": "code",
        "colab": {}
      },
      "cell_type": "code",
      "source": [
        ""
      ],
      "execution_count": 0,
      "outputs": []
    }
  ]
}