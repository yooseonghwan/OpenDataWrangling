{
  "nbformat": 4,
  "nbformat_minor": 0,
  "metadata": {
    "colab": {
      "name": "apt_presale_price.ipynb",
      "version": "0.3.2",
      "provenance": []
    },
    "kernelspec": {
      "display_name": "Python 3",
      "language": "python",
      "name": "python3"
    }
  },
  "cells": [
    {
      "metadata": {
        "id": "bV-cLMEr_6yH",
        "colab_type": "text"
      },
      "cell_type": "markdown",
      "source": [
        "# 전국 어린이집 표준데이터\n",
        "* https://www.data.go.kr/dataset/3035522/fileData.do"
      ]
    },
    {
      "metadata": {
        "id": "qZOFMXrqAQHy",
        "colab_type": "code",
        "colab": {}
      },
      "cell_type": "code",
      "source": [
        "# 추가 설치 \n",
        "!pip install plotnine\n",
        "!pip install folium"
      ],
      "execution_count": 0,
      "outputs": []
    },
    {
      "metadata": {
        "id": "WJBbqeha_6yK",
        "colab_type": "code",
        "colab": {}
      },
      "cell_type": "code",
      "source": [
        "import warnings\n",
        "warnings.filterwarnings('ignore')"
      ],
      "execution_count": 0,
      "outputs": []
    },
    {
      "metadata": {
        "id": "qwKtR63C_6yN",
        "colab_type": "code",
        "colab": {}
      },
      "cell_type": "code",
      "source": [
        "import pandas as pd\n",
        "import numpy as np\n",
        "from plotnine import *\n",
        "import re\n",
        "from plotnine import *\n",
        "\n",
        "\n"
      ],
      "execution_count": 0,
      "outputs": []
    },
    {
      "metadata": {
        "id": "2reRpJEN_6yQ",
        "colab_type": "code",
        "colab": {
          "base_uri": "https://localhost:8080/",
          "height": 33
        },
        "outputId": "e60732d6-dfb3-430c-ab7e-bcc5a62b3ea9"
      },
      "cell_type": "code",
      "source": [
        "%pwd\n",
        "#참고 : 서버 명령어 기재시 % 입력 후 서버 명령어 활용"
      ],
      "execution_count": 4,
      "outputs": [
        {
          "output_type": "execute_result",
          "data": {
            "text/plain": [
              "'/content'"
            ]
          },
          "metadata": {
            "tags": []
          },
          "execution_count": 4
        }
      ]
    },
    {
      "metadata": {
        "id": "jr3vh4VBDHnq",
        "colab_type": "code",
        "colab": {
          "resources": {
            "http://localhost:8080/nbextensions/google.colab/files.js": {
              "data": "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",
              "ok": true,
              "headers": [
                [
                  "content-type",
                  "application/javascript"
                ]
              ],
              "status": 200,
              "status_text": "OK"
            }
          },
          "base_uri": "https://localhost:8080/",
          "height": 90
        },
        "outputId": "e115a153-39e8-4ed5-f257-b6d5fe757fd9"
      },
      "cell_type": "code",
      "source": [
        "# 로컬 파일 업로드 \n",
        "from google.colab import files\n",
        "\n",
        "uploaded = files.upload()\n",
        "\n",
        "for fn in uploaded.keys():\n",
        "  print('User uploaded file \"{name}\" with length {length} bytes'.format(\n",
        "      name=fn, length=len(uploaded[fn])))"
      ],
      "execution_count": 9,
      "outputs": [
        {
          "output_type": "display_data",
          "data": {
            "text/html": [
              "\n",
              "     <input type=\"file\" id=\"files-df376db2-a5e1-4e6e-af4b-62f9e13efa00\" name=\"files[]\" multiple disabled />\n",
              "     <output id=\"result-df376db2-a5e1-4e6e-af4b-62f9e13efa00\">\n",
              "      Upload widget is only available when the cell has been executed in the\n",
              "      current browser session. Please rerun this cell to enable.\n",
              "      </output>\n",
              "      <script src=\"/nbextensions/google.colab/files.js\"></script> "
            ],
            "text/plain": [
              "<IPython.core.display.HTML object>"
            ]
          },
          "metadata": {
            "tags": []
          }
        },
        {
          "output_type": "stream",
          "text": [
            "Saving 전국어린이집표준데이터.csv to 전국어린이집표준데이터.csv\n",
            "User uploaded file \"전국어린이집표준데이터.csv\" with length 6986572 bytes\n"
          ],
          "name": "stdout"
        }
      ]
    },
    {
      "metadata": {
        "id": "ckU6EXDr_6yV",
        "colab_type": "code",
        "colab": {
          "base_uri": "https://localhost:8080/",
          "height": 216
        },
        "outputId": "08375436-4967-441b-895f-d7d59f0e3395"
      },
      "cell_type": "code",
      "source": [
        "%ls -alrt"
      ],
      "execution_count": 10,
      "outputs": [
        {
          "output_type": "stream",
          "text": [
            "total 23428\r\n",
            "drwxr-xr-x 2 root root     4096 Aug 15 20:56 \u001b[0m\u001b[01;34msample_data\u001b[0m/\r\n",
            "lrwxrwxrwx 1 root root        8 Aug 15 20:56 \u001b[01;36mdatalab\u001b[0m -> \u001b[01;34m/content\u001b[0m/\r\n",
            "drwxr-xr-x 1 root root     4096 Aug 20 19:36 \u001b[01;34m..\u001b[0m/\r\n",
            "drwxr-xr-x 4 root root     4096 Aug 20 19:37 \u001b[01;34m.forever\u001b[0m/\r\n",
            "drwx------ 3 root root     4096 Aug 20 19:37 \u001b[01;34m.local\u001b[0m/\r\n",
            "drwxr-xr-x 5 root root     4096 Aug 21 02:12 \u001b[01;34m.ipython\u001b[0m/\r\n",
            "drwxr-xr-x 1 root root     4096 Aug 21 02:12 \u001b[01;34m.config\u001b[0m/\r\n",
            "drwx------ 4 root root     4096 Aug 21 02:12 \u001b[01;34m.cache\u001b[0m/\r\n",
            "-rw-r--r-- 1 root root 16964608 Aug 21 04:42 전국어린이집표준데이터.xls\r\n",
            "drwxr-xr-x 1 root root     4096 Aug 21 04:43 \u001b[01;34m.\u001b[0m/\r\n",
            "-rw-r--r-- 1 root root  6986572 Aug 21 04:44 전국어린이집표준데이터.csv\r\n"
          ],
          "name": "stdout"
        }
      ]
    },
    {
      "metadata": {
        "id": "D9Ye6XGJ_6yY",
        "colab_type": "code",
        "colab": {
          "base_uri": "https://localhost:8080/",
          "height": 33
        },
        "outputId": "a2cd4a90-e859-4b0a-ca5f-a91c5c736587"
      },
      "cell_type": "code",
      "source": [
        "pre_sale = pd.read_csv('전국어린이집표준데이터.csv', encoding='euc-kr')\n",
        "pre_sale.shape"
      ],
      "execution_count": 131,
      "outputs": [
        {
          "output_type": "execute_result",
          "data": {
            "text/plain": [
              "(43429, 18)"
            ]
          },
          "metadata": {
            "tags": []
          },
          "execution_count": 131
        }
      ]
    },
    {
      "metadata": {
        "id": "Y2HWvQ7s_6yb",
        "colab_type": "code",
        "colab": {
          "base_uri": "https://localhost:8080/",
          "height": 204
        },
        "outputId": "3ee5f4b8-5517-4d94-b502-552a11f95ea5"
      },
      "cell_type": "code",
      "source": [
        "pre_sale.head(3)\n",
        "#참고 : 머리 - 윗 부분 자료 검색"
      ],
      "execution_count": 132,
      "outputs": [
        {
          "output_type": "execute_result",
          "data": {
            "text/html": [
              "<div>\n",
              "<style scoped>\n",
              "    .dataframe tbody tr th:only-of-type {\n",
              "        vertical-align: middle;\n",
              "    }\n",
              "\n",
              "    .dataframe tbody tr th {\n",
              "        vertical-align: top;\n",
              "    }\n",
              "\n",
              "    .dataframe thead th {\n",
              "        text-align: right;\n",
              "    }\n",
              "</style>\n",
              "<table border=\"1\" class=\"dataframe\">\n",
              "  <thead>\n",
              "    <tr style=\"text-align: right;\">\n",
              "      <th></th>\n",
              "      <th>어린이집명</th>\n",
              "      <th>시도명</th>\n",
              "      <th>시군구명</th>\n",
              "      <th>어린이집유형구분</th>\n",
              "      <th>정원수</th>\n",
              "      <th>보육교직원수</th>\n",
              "      <th>소재지도로명주소</th>\n",
              "      <th>어린이집전화번호</th>\n",
              "      <th>어린이집팩스번호</th>\n",
              "      <th>보육실수</th>\n",
              "      <th>놀이터수</th>\n",
              "      <th>CCTV설치수</th>\n",
              "      <th>통학차량운영여부</th>\n",
              "      <th>홈페이지주소</th>\n",
              "      <th>데이터기준일자</th>\n",
              "      <th>위도</th>\n",
              "      <th>경도</th>\n",
              "      <th>Unnamed: 17</th>\n",
              "    </tr>\n",
              "  </thead>\n",
              "  <tbody>\n",
              "    <tr>\n",
              "      <th>0</th>\n",
              "      <td>e-편한세상2단지어린이집</td>\n",
              "      <td>울산광역시</td>\n",
              "      <td>동구</td>\n",
              "      <td>민간</td>\n",
              "      <td>35</td>\n",
              "      <td>9.0</td>\n",
              "      <td>울산광역시 동구 봉수로 290 e-편한세상2단지어린이집(전하동)</td>\n",
              "      <td>052-234-2273</td>\n",
              "      <td>052-234-2274</td>\n",
              "      <td>4</td>\n",
              "      <td>0</td>\n",
              "      <td>5</td>\n",
              "      <td>Y</td>\n",
              "      <td>http://www.childcare.go.kr</td>\n",
              "      <td>2018-01-01</td>\n",
              "      <td>35.512506</td>\n",
              "      <td>129.423556</td>\n",
              "      <td>NaN</td>\n",
              "    </tr>\n",
              "    <tr>\n",
              "      <th>1</th>\n",
              "      <td>e-편한세상어린이집</td>\n",
              "      <td>울산광역시</td>\n",
              "      <td>동구</td>\n",
              "      <td>민간</td>\n",
              "      <td>43</td>\n",
              "      <td>9.0</td>\n",
              "      <td>울산광역시 동구 봉수로 290 e-편한세상 관리동 어린이집(전하동)</td>\n",
              "      <td>052-233-6711</td>\n",
              "      <td>052-233-6711</td>\n",
              "      <td>5</td>\n",
              "      <td>0</td>\n",
              "      <td>5</td>\n",
              "      <td>N</td>\n",
              "      <td>http://www.childcare.go.kr</td>\n",
              "      <td>2018-01-01</td>\n",
              "      <td>35.512506</td>\n",
              "      <td>129.423556</td>\n",
              "      <td>NaN</td>\n",
              "    </tr>\n",
              "    <tr>\n",
              "      <th>2</th>\n",
              "      <td>i예담어린이집</td>\n",
              "      <td>울산광역시</td>\n",
              "      <td>동구</td>\n",
              "      <td>민간</td>\n",
              "      <td>59</td>\n",
              "      <td>11.0</td>\n",
              "      <td>울산광역시 동구 월봉1길 26 (방어동)</td>\n",
              "      <td>052-201-5857</td>\n",
              "      <td>052-201-5857</td>\n",
              "      <td>8</td>\n",
              "      <td>2</td>\n",
              "      <td>12</td>\n",
              "      <td>Y</td>\n",
              "      <td>http://www.childcare.go.kr</td>\n",
              "      <td>2018-01-01</td>\n",
              "      <td>35.488844</td>\n",
              "      <td>129.419293</td>\n",
              "      <td>NaN</td>\n",
              "    </tr>\n",
              "  </tbody>\n",
              "</table>\n",
              "</div>"
            ],
            "text/plain": [
              "           어린이집명    시도명 시군구명 어린이집유형구분  정원수  보육교직원수  \\\n",
              "0  e-편한세상2단지어린이집  울산광역시   동구       민간   35     9.0   \n",
              "1     e-편한세상어린이집  울산광역시   동구       민간   43     9.0   \n",
              "2        i예담어린이집  울산광역시   동구       민간   59    11.0   \n",
              "\n",
              "                                소재지도로명주소      어린이집전화번호      어린이집팩스번호 보육실수  \\\n",
              "0    울산광역시 동구 봉수로 290 e-편한세상2단지어린이집(전하동)  052-234-2273  052-234-2274    4   \n",
              "1  울산광역시 동구 봉수로 290 e-편한세상 관리동 어린이집(전하동)  052-233-6711  052-233-6711    5   \n",
              "2                 울산광역시 동구 월봉1길 26 (방어동)  052-201-5857  052-201-5857    8   \n",
              "\n",
              "  놀이터수 CCTV설치수 통학차량운영여부                      홈페이지주소     데이터기준일자         위도  \\\n",
              "0    0       5        Y  http://www.childcare.go.kr  2018-01-01  35.512506   \n",
              "1    0       5        N  http://www.childcare.go.kr  2018-01-01  35.512506   \n",
              "2    2      12        Y  http://www.childcare.go.kr  2018-01-01  35.488844   \n",
              "\n",
              "           경도  Unnamed: 17  \n",
              "0  129.423556          NaN  \n",
              "1  129.423556          NaN  \n",
              "2  129.419293          NaN  "
            ]
          },
          "metadata": {
            "tags": []
          },
          "execution_count": 132
        }
      ]
    },
    {
      "metadata": {
        "id": "ZaDaUN8t_6yi",
        "colab_type": "code",
        "colab": {
          "base_uri": "https://localhost:8080/",
          "height": 531
        },
        "outputId": "fe7785e1-bb92-46cc-f9ba-9ef4eb507941"
      },
      "cell_type": "code",
      "source": [
        "pre_sale.tail(10)\n",
        "#참고: 꼬리 - 뒷 부분 자료 검색"
      ],
      "execution_count": 133,
      "outputs": [
        {
          "output_type": "execute_result",
          "data": {
            "text/html": [
              "<div>\n",
              "<style scoped>\n",
              "    .dataframe tbody tr th:only-of-type {\n",
              "        vertical-align: middle;\n",
              "    }\n",
              "\n",
              "    .dataframe tbody tr th {\n",
              "        vertical-align: top;\n",
              "    }\n",
              "\n",
              "    .dataframe thead th {\n",
              "        text-align: right;\n",
              "    }\n",
              "</style>\n",
              "<table border=\"1\" class=\"dataframe\">\n",
              "  <thead>\n",
              "    <tr style=\"text-align: right;\">\n",
              "      <th></th>\n",
              "      <th>어린이집명</th>\n",
              "      <th>시도명</th>\n",
              "      <th>시군구명</th>\n",
              "      <th>어린이집유형구분</th>\n",
              "      <th>정원수</th>\n",
              "      <th>보육교직원수</th>\n",
              "      <th>소재지도로명주소</th>\n",
              "      <th>어린이집전화번호</th>\n",
              "      <th>어린이집팩스번호</th>\n",
              "      <th>보육실수</th>\n",
              "      <th>놀이터수</th>\n",
              "      <th>CCTV설치수</th>\n",
              "      <th>통학차량운영여부</th>\n",
              "      <th>홈페이지주소</th>\n",
              "      <th>데이터기준일자</th>\n",
              "      <th>위도</th>\n",
              "      <th>경도</th>\n",
              "      <th>Unnamed: 17</th>\n",
              "    </tr>\n",
              "  </thead>\n",
              "  <tbody>\n",
              "    <tr>\n",
              "      <th>43419</th>\n",
              "      <td>초롱별어린이집</td>\n",
              "      <td>인천광역시</td>\n",
              "      <td>부평구</td>\n",
              "      <td>가정</td>\n",
              "      <td>13</td>\n",
              "      <td>3.0</td>\n",
              "      <td>인천광역시 부평구 경인로1118번길 67 110동 101호(일신동, 일신주공아파트)</td>\n",
              "      <td>032-504-4606</td>\n",
              "      <td>NaN</td>\n",
              "      <td>3</td>\n",
              "      <td>0</td>\n",
              "      <td>4</td>\n",
              "      <td>N</td>\n",
              "      <td>NaN</td>\n",
              "      <td>2017-01-17</td>\n",
              "      <td>37.482139</td>\n",
              "      <td>126.742909</td>\n",
              "      <td>NaN</td>\n",
              "    </tr>\n",
              "    <tr>\n",
              "      <th>43420</th>\n",
              "      <td>친구사랑어린이집</td>\n",
              "      <td>인천광역시</td>\n",
              "      <td>부평구</td>\n",
              "      <td>가정</td>\n",
              "      <td>20</td>\n",
              "      <td>5.0</td>\n",
              "      <td>인천광역시 부평구 부평문화로 37 10동 104호(부평동, 동아1차아파트)</td>\n",
              "      <td>032-523-9605</td>\n",
              "      <td>NaN</td>\n",
              "      <td>3</td>\n",
              "      <td>0</td>\n",
              "      <td>4</td>\n",
              "      <td>N</td>\n",
              "      <td>NaN</td>\n",
              "      <td>2017-01-17</td>\n",
              "      <td>37.492770</td>\n",
              "      <td>126.719081</td>\n",
              "      <td>NaN</td>\n",
              "    </tr>\n",
              "    <tr>\n",
              "      <th>43421</th>\n",
              "      <td>커가는꿈나무어린이집</td>\n",
              "      <td>인천광역시</td>\n",
              "      <td>부평구</td>\n",
              "      <td>민간</td>\n",
              "      <td>37</td>\n",
              "      <td>12.0</td>\n",
              "      <td>인천광역시 부평구 부흥북로35번길 14 (부평동)</td>\n",
              "      <td>032-506-4799</td>\n",
              "      <td>NaN</td>\n",
              "      <td>5</td>\n",
              "      <td>0</td>\n",
              "      <td>6</td>\n",
              "      <td>N</td>\n",
              "      <td>NaN</td>\n",
              "      <td>2017-01-17</td>\n",
              "      <td>37.501956</td>\n",
              "      <td>126.726153</td>\n",
              "      <td>NaN</td>\n",
              "    </tr>\n",
              "    <tr>\n",
              "      <th>43422</th>\n",
              "      <td>코람데오어린이집</td>\n",
              "      <td>인천광역시</td>\n",
              "      <td>부평구</td>\n",
              "      <td>가정</td>\n",
              "      <td>20</td>\n",
              "      <td>6.0</td>\n",
              "      <td>인천광역시 부평구 체육관로 57 601동 101호(삼산동, 삼산타운6단지)</td>\n",
              "      <td>032-277-1035</td>\n",
              "      <td>NaN</td>\n",
              "      <td>3</td>\n",
              "      <td>0</td>\n",
              "      <td>4</td>\n",
              "      <td>Y</td>\n",
              "      <td>NaN</td>\n",
              "      <td>2017-01-17</td>\n",
              "      <td>37.508692</td>\n",
              "      <td>126.737670</td>\n",
              "      <td>NaN</td>\n",
              "    </tr>\n",
              "    <tr>\n",
              "      <th>43423</th>\n",
              "      <td>코코어린이집</td>\n",
              "      <td>인천광역시</td>\n",
              "      <td>부평구</td>\n",
              "      <td>가정</td>\n",
              "      <td>13</td>\n",
              "      <td>3.0</td>\n",
              "      <td>인천광역시 부평구 부개로 11 505동 102호(부개동, 부개주공5단지아파트)</td>\n",
              "      <td>032-330-9647</td>\n",
              "      <td>NaN</td>\n",
              "      <td>3</td>\n",
              "      <td>0</td>\n",
              "      <td>4</td>\n",
              "      <td>N</td>\n",
              "      <td>NaN</td>\n",
              "      <td>2017-01-17</td>\n",
              "      <td>37.499394</td>\n",
              "      <td>126.737567</td>\n",
              "      <td>NaN</td>\n",
              "    </tr>\n",
              "    <tr>\n",
              "      <th>43424</th>\n",
              "      <td>크니크니어린이집</td>\n",
              "      <td>인천광역시</td>\n",
              "      <td>부평구</td>\n",
              "      <td>가정</td>\n",
              "      <td>14</td>\n",
              "      <td>3.0</td>\n",
              "      <td>인천광역시 부평구 굴포로 81 101동 101호(갈산동, 주공1단지아파트)</td>\n",
              "      <td>032-264-6004</td>\n",
              "      <td>NaN</td>\n",
              "      <td>2</td>\n",
              "      <td>0</td>\n",
              "      <td>3</td>\n",
              "      <td>N</td>\n",
              "      <td>NaN</td>\n",
              "      <td>2017-01-17</td>\n",
              "      <td>37.511968</td>\n",
              "      <td>126.730904</td>\n",
              "      <td>NaN</td>\n",
              "    </tr>\n",
              "    <tr>\n",
              "      <th>43425</th>\n",
              "      <td>큰나무어린이집</td>\n",
              "      <td>인천광역시</td>\n",
              "      <td>부평구</td>\n",
              "      <td>가정</td>\n",
              "      <td>20</td>\n",
              "      <td>5.0</td>\n",
              "      <td>인천광역시 부평구 안남로 272 101동 101호 (청천동, 금호아파트)</td>\n",
              "      <td>070-8887-0053</td>\n",
              "      <td>NaN</td>\n",
              "      <td>3</td>\n",
              "      <td>0</td>\n",
              "      <td>4</td>\n",
              "      <td>N</td>\n",
              "      <td>NaN</td>\n",
              "      <td>2017-01-17</td>\n",
              "      <td>37.506564</td>\n",
              "      <td>126.710723</td>\n",
              "      <td>NaN</td>\n",
              "    </tr>\n",
              "    <tr>\n",
              "      <th>43426</th>\n",
              "      <td>큰별아이어린이집</td>\n",
              "      <td>인천광역시</td>\n",
              "      <td>부평구</td>\n",
              "      <td>민간</td>\n",
              "      <td>93</td>\n",
              "      <td>14.0</td>\n",
              "      <td>인천광역시 부평구 안남로253번길 44 (4층 건물전체) (산곡동)</td>\n",
              "      <td>032-330-1500</td>\n",
              "      <td>NaN</td>\n",
              "      <td>6</td>\n",
              "      <td>1</td>\n",
              "      <td>11</td>\n",
              "      <td>Y</td>\n",
              "      <td>NaN</td>\n",
              "      <td>2017-01-17</td>\n",
              "      <td>37.506155</td>\n",
              "      <td>126.706757</td>\n",
              "      <td>NaN</td>\n",
              "    </tr>\n",
              "    <tr>\n",
              "      <th>43427</th>\n",
              "      <td>큰별어린이집</td>\n",
              "      <td>인천광역시</td>\n",
              "      <td>부평구</td>\n",
              "      <td>가정</td>\n",
              "      <td>13</td>\n",
              "      <td>6.0</td>\n",
              "      <td>인천광역시 부평구 길주남로 143 109동 101호(부개동, 부개주공1단지아파트)</td>\n",
              "      <td>032-361-5146</td>\n",
              "      <td>NaN</td>\n",
              "      <td>3</td>\n",
              "      <td>0</td>\n",
              "      <td>4</td>\n",
              "      <td>N</td>\n",
              "      <td>NaN</td>\n",
              "      <td>2017-01-17</td>\n",
              "      <td>37.505259</td>\n",
              "      <td>126.738012</td>\n",
              "      <td>NaN</td>\n",
              "    </tr>\n",
              "    <tr>\n",
              "      <th>43428</th>\n",
              "      <td>큰빛어린이집</td>\n",
              "      <td>인천광역시</td>\n",
              "      <td>부평구</td>\n",
              "      <td>민간</td>\n",
              "      <td>46</td>\n",
              "      <td>9.0</td>\n",
              "      <td>인천광역시 부평구 길주남로102번길 11-9 (2층 건물전체) (부평동)</td>\n",
              "      <td>032-361-3020</td>\n",
              "      <td>NaN</td>\n",
              "      <td>6</td>\n",
              "      <td>0</td>\n",
              "      <td>8</td>\n",
              "      <td>Y</td>\n",
              "      <td>NaN</td>\n",
              "      <td>2017-01-17</td>\n",
              "      <td>37.503598</td>\n",
              "      <td>126.733562</td>\n",
              "      <td>NaN</td>\n",
              "    </tr>\n",
              "  </tbody>\n",
              "</table>\n",
              "</div>"
            ],
            "text/plain": [
              "            어린이집명    시도명 시군구명 어린이집유형구분  정원수  보육교직원수  \\\n",
              "43419     초롱별어린이집  인천광역시  부평구       가정   13     3.0   \n",
              "43420    친구사랑어린이집  인천광역시  부평구       가정   20     5.0   \n",
              "43421  커가는꿈나무어린이집  인천광역시  부평구       민간   37    12.0   \n",
              "43422    코람데오어린이집  인천광역시  부평구       가정   20     6.0   \n",
              "43423      코코어린이집  인천광역시  부평구       가정   13     3.0   \n",
              "43424    크니크니어린이집  인천광역시  부평구       가정   14     3.0   \n",
              "43425     큰나무어린이집  인천광역시  부평구       가정   20     5.0   \n",
              "43426    큰별아이어린이집  인천광역시  부평구       민간   93    14.0   \n",
              "43427      큰별어린이집  인천광역시  부평구       가정   13     6.0   \n",
              "43428      큰빛어린이집  인천광역시  부평구       민간   46     9.0   \n",
              "\n",
              "                                             소재지도로명주소       어린이집전화번호 어린이집팩스번호  \\\n",
              "43419  인천광역시 부평구 경인로1118번길 67 110동 101호(일신동, 일신주공아파트)   032-504-4606      NaN   \n",
              "43420       인천광역시 부평구 부평문화로 37 10동 104호(부평동, 동아1차아파트)   032-523-9605      NaN   \n",
              "43421                     인천광역시 부평구 부흥북로35번길 14 (부평동)   032-506-4799      NaN   \n",
              "43422       인천광역시 부평구 체육관로 57 601동 101호(삼산동, 삼산타운6단지)   032-277-1035      NaN   \n",
              "43423     인천광역시 부평구 부개로 11 505동 102호(부개동, 부개주공5단지아파트)   032-330-9647      NaN   \n",
              "43424       인천광역시 부평구 굴포로 81 101동 101호(갈산동, 주공1단지아파트)   032-264-6004      NaN   \n",
              "43425        인천광역시 부평구 안남로 272 101동 101호 (청천동, 금호아파트)  070-8887-0053      NaN   \n",
              "43426           인천광역시 부평구 안남로253번길 44 (4층 건물전체) (산곡동)   032-330-1500      NaN   \n",
              "43427   인천광역시 부평구 길주남로 143 109동 101호(부개동, 부개주공1단지아파트)   032-361-5146      NaN   \n",
              "43428        인천광역시 부평구 길주남로102번길 11-9 (2층 건물전체) (부평동)   032-361-3020      NaN   \n",
              "\n",
              "      보육실수 놀이터수 CCTV설치수 통학차량운영여부 홈페이지주소     데이터기준일자         위도          경도  \\\n",
              "43419    3    0       4        N    NaN  2017-01-17  37.482139  126.742909   \n",
              "43420    3    0       4        N    NaN  2017-01-17  37.492770  126.719081   \n",
              "43421    5    0       6        N    NaN  2017-01-17  37.501956  126.726153   \n",
              "43422    3    0       4        Y    NaN  2017-01-17  37.508692  126.737670   \n",
              "43423    3    0       4        N    NaN  2017-01-17  37.499394  126.737567   \n",
              "43424    2    0       3        N    NaN  2017-01-17  37.511968  126.730904   \n",
              "43425    3    0       4        N    NaN  2017-01-17  37.506564  126.710723   \n",
              "43426    6    1      11        Y    NaN  2017-01-17  37.506155  126.706757   \n",
              "43427    3    0       4        N    NaN  2017-01-17  37.505259  126.738012   \n",
              "43428    6    0       8        Y    NaN  2017-01-17  37.503598  126.733562   \n",
              "\n",
              "       Unnamed: 17  \n",
              "43419          NaN  \n",
              "43420          NaN  \n",
              "43421          NaN  \n",
              "43422          NaN  \n",
              "43423          NaN  \n",
              "43424          NaN  \n",
              "43425          NaN  \n",
              "43426          NaN  \n",
              "43427          NaN  \n",
              "43428          NaN  "
            ]
          },
          "metadata": {
            "tags": []
          },
          "execution_count": 133
        }
      ]
    },
    {
      "metadata": {
        "id": "q7AZSN9j_6yl",
        "colab_type": "code",
        "colab": {
          "base_uri": "https://localhost:8080/",
          "height": 400
        },
        "outputId": "ef4a0a0d-2970-4a55-a176-b6bd8185eb8c"
      },
      "cell_type": "code",
      "source": [
        "# 분양가격이 숫자 타입이 아닙니다. 숫자 타입으로 변경해줄 필요가 있겠어요.\n",
        "pre_sale.info()"
      ],
      "execution_count": 134,
      "outputs": [
        {
          "output_type": "stream",
          "text": [
            "<class 'pandas.core.frame.DataFrame'>\n",
            "RangeIndex: 43429 entries, 0 to 43428\n",
            "Data columns (total 18 columns):\n",
            "어린이집명          43429 non-null object\n",
            "시도명            43429 non-null object\n",
            "시군구명           43429 non-null object\n",
            "어린이집유형구분       43429 non-null object\n",
            "정원수            43429 non-null int64\n",
            "보육교직원수         41378 non-null float64\n",
            "소재지도로명주소       43429 non-null object\n",
            "어린이집전화번호       43424 non-null object\n",
            "어린이집팩스번호       19669 non-null object\n",
            "보육실수           30141 non-null object\n",
            "놀이터수           25156 non-null object\n",
            "CCTV설치수        30772 non-null object\n",
            "통학차량운영여부       34371 non-null object\n",
            "홈페이지주소         5220 non-null object\n",
            "데이터기준일자        43429 non-null object\n",
            "위도             31789 non-null float64\n",
            "경도             31789 non-null float64\n",
            "Unnamed: 17    0 non-null float64\n",
            "dtypes: float64(4), int64(1), object(13)\n",
            "memory usage: 6.0+ MB\n"
          ],
          "name": "stdout"
        }
      ]
    },
    {
      "metadata": {
        "id": "ijdkfvsjzlhi",
        "colab_type": "code",
        "colab": {
          "base_uri": "https://localhost:8080/",
          "height": 250
        },
        "outputId": "71d6b180-87fa-4c67-98e4-922ab8ad0706"
      },
      "cell_type": "code",
      "source": [
        "pre_sale_clean = pre_sale.drop(columns=['어린이집팩스번호','소재지도로명주소','어린이집전화번호','시군구명','보육실수','놀이터수','홈페이지주소','어린이집팩스번호','CCTV설치수','데이터기준일자','소재지도로명주소','통학차량운영여부','Unnamed: 17'])\n",
        "\n",
        "\n",
        "pre_sale_clean2 = pre_sale_clean.drop(columns=[[7]], axix=1)\n",
        "\n",
        "\n",
        "pre_sale_clean2.info()\n",
        "pre_sale_clean2.columns"
      ],
      "execution_count": 136,
      "outputs": [
        {
          "output_type": "stream",
          "text": [
            "<class 'pandas.core.frame.DataFrame'>\n",
            "RangeIndex: 43429 entries, 0 to 43428\n",
            "Data columns (total 8 columns):\n",
            "어린이집명          43429 non-null object\n",
            "시도명            43429 non-null object\n",
            "어린이집유형구분       43429 non-null object\n",
            "정원수            43429 non-null int64\n",
            "보육교직원수         41378 non-null float64\n",
            "위도             31789 non-null float64\n",
            "경도             31789 non-null float64\n",
            "Unnamed: 17    0 non-null float64\n",
            "dtypes: float64(4), int64(1), object(3)\n",
            "memory usage: 2.7+ MB\n"
          ],
          "name": "stdout"
        },
        {
          "output_type": "execute_result",
          "data": {
            "text/plain": [
              "Index(['어린이집명', '시도명', '어린이집유형구분', '정원수', '보육교직원수', '위도', '경도', 'Unnamed: 17'], dtype='object')"
            ]
          },
          "metadata": {
            "tags": []
          },
          "execution_count": 136
        }
      ]
    },
    {
      "metadata": {
        "id": "CjmEOwsE2CAU",
        "colab_type": "code",
        "colab": {
          "base_uri": "https://localhost:8080/",
          "height": 33
        },
        "outputId": "3a1bc38b-95ed-4ad8-f944-80885deb9455"
      },
      "cell_type": "code",
      "source": [
        ""
      ],
      "execution_count": 116,
      "outputs": [
        {
          "output_type": "execute_result",
          "data": {
            "text/plain": [
              "Index(['어린이집명', '시도명', '어린이집유형구분', '정원수', '보육교직원수', '위도', '경도', 'Unnamed: 17'], dtype='object')"
            ]
          },
          "metadata": {
            "tags": []
          },
          "execution_count": 116
        }
      ]
    },
    {
      "metadata": {
        "id": "ZZ4WphgQ0_M4",
        "colab_type": "code",
        "colab": {
          "base_uri": "https://localhost:8080/",
          "height": 647
        },
        "outputId": "53dd7b45-98ab-4ed8-eb73-f8cf212988f6"
      },
      "cell_type": "code",
      "source": [
        "pre_sale_clean.head(20)"
      ],
      "execution_count": 117,
      "outputs": [
        {
          "output_type": "execute_result",
          "data": {
            "text/html": [
              "<div>\n",
              "<style scoped>\n",
              "    .dataframe tbody tr th:only-of-type {\n",
              "        vertical-align: middle;\n",
              "    }\n",
              "\n",
              "    .dataframe tbody tr th {\n",
              "        vertical-align: top;\n",
              "    }\n",
              "\n",
              "    .dataframe thead th {\n",
              "        text-align: right;\n",
              "    }\n",
              "</style>\n",
              "<table border=\"1\" class=\"dataframe\">\n",
              "  <thead>\n",
              "    <tr style=\"text-align: right;\">\n",
              "      <th></th>\n",
              "      <th>어린이집명</th>\n",
              "      <th>시도명</th>\n",
              "      <th>어린이집유형구분</th>\n",
              "      <th>정원수</th>\n",
              "      <th>보육교직원수</th>\n",
              "      <th>위도</th>\n",
              "      <th>경도</th>\n",
              "      <th>Unnamed: 17</th>\n",
              "    </tr>\n",
              "  </thead>\n",
              "  <tbody>\n",
              "    <tr>\n",
              "      <th>0</th>\n",
              "      <td>e-편한세상2단지어린이집</td>\n",
              "      <td>울산광역시</td>\n",
              "      <td>민간</td>\n",
              "      <td>35</td>\n",
              "      <td>9.0</td>\n",
              "      <td>35.512506</td>\n",
              "      <td>129.423556</td>\n",
              "      <td>NaN</td>\n",
              "    </tr>\n",
              "    <tr>\n",
              "      <th>1</th>\n",
              "      <td>e-편한세상어린이집</td>\n",
              "      <td>울산광역시</td>\n",
              "      <td>민간</td>\n",
              "      <td>43</td>\n",
              "      <td>9.0</td>\n",
              "      <td>35.512506</td>\n",
              "      <td>129.423556</td>\n",
              "      <td>NaN</td>\n",
              "    </tr>\n",
              "    <tr>\n",
              "      <th>2</th>\n",
              "      <td>i예담어린이집</td>\n",
              "      <td>울산광역시</td>\n",
              "      <td>민간</td>\n",
              "      <td>59</td>\n",
              "      <td>11.0</td>\n",
              "      <td>35.488844</td>\n",
              "      <td>129.419293</td>\n",
              "      <td>NaN</td>\n",
              "    </tr>\n",
              "    <tr>\n",
              "      <th>3</th>\n",
              "      <td>THE자람어린이집</td>\n",
              "      <td>울산광역시</td>\n",
              "      <td>민간</td>\n",
              "      <td>41</td>\n",
              "      <td>8.0</td>\n",
              "      <td>35.492059</td>\n",
              "      <td>129.419641</td>\n",
              "      <td>NaN</td>\n",
              "    </tr>\n",
              "    <tr>\n",
              "      <th>4</th>\n",
              "      <td>가온어린이집</td>\n",
              "      <td>울산광역시</td>\n",
              "      <td>가정</td>\n",
              "      <td>19</td>\n",
              "      <td>5.0</td>\n",
              "      <td>35.517116</td>\n",
              "      <td>129.426247</td>\n",
              "      <td>NaN</td>\n",
              "    </tr>\n",
              "    <tr>\n",
              "      <th>5</th>\n",
              "      <td>고은솔어린이집</td>\n",
              "      <td>울산광역시</td>\n",
              "      <td>가정</td>\n",
              "      <td>19</td>\n",
              "      <td>4.0</td>\n",
              "      <td>35.528267</td>\n",
              "      <td>129.432848</td>\n",
              "      <td>NaN</td>\n",
              "    </tr>\n",
              "    <tr>\n",
              "      <th>6</th>\n",
              "      <td>구름빵어린이집</td>\n",
              "      <td>울산광역시</td>\n",
              "      <td>가정</td>\n",
              "      <td>14</td>\n",
              "      <td>4.0</td>\n",
              "      <td>35.546838</td>\n",
              "      <td>129.425613</td>\n",
              "      <td>NaN</td>\n",
              "    </tr>\n",
              "    <tr>\n",
              "      <th>7</th>\n",
              "      <td>꼬마대통령어린이집</td>\n",
              "      <td>울산광역시</td>\n",
              "      <td>민간</td>\n",
              "      <td>49</td>\n",
              "      <td>9.0</td>\n",
              "      <td>35.503181</td>\n",
              "      <td>129.420755</td>\n",
              "      <td>NaN</td>\n",
              "    </tr>\n",
              "    <tr>\n",
              "      <th>8</th>\n",
              "      <td>꼬마또래어린이집</td>\n",
              "      <td>울산광역시</td>\n",
              "      <td>민간</td>\n",
              "      <td>38</td>\n",
              "      <td>5.0</td>\n",
              "      <td>35.482306</td>\n",
              "      <td>129.411025</td>\n",
              "      <td>NaN</td>\n",
              "    </tr>\n",
              "    <tr>\n",
              "      <th>9</th>\n",
              "      <td>꼬마별어린이집</td>\n",
              "      <td>울산광역시</td>\n",
              "      <td>가정</td>\n",
              "      <td>13</td>\n",
              "      <td>5.0</td>\n",
              "      <td>35.527429</td>\n",
              "      <td>129.429737</td>\n",
              "      <td>NaN</td>\n",
              "    </tr>\n",
              "    <tr>\n",
              "      <th>10</th>\n",
              "      <td>꼬마성어린이집</td>\n",
              "      <td>울산광역시</td>\n",
              "      <td>민간</td>\n",
              "      <td>96</td>\n",
              "      <td>15.0</td>\n",
              "      <td>35.545798</td>\n",
              "      <td>129.425890</td>\n",
              "      <td>NaN</td>\n",
              "    </tr>\n",
              "    <tr>\n",
              "      <th>11</th>\n",
              "      <td>꼬마숲어린이집</td>\n",
              "      <td>울산광역시</td>\n",
              "      <td>가정</td>\n",
              "      <td>18</td>\n",
              "      <td>5.0</td>\n",
              "      <td>35.525485</td>\n",
              "      <td>129.425159</td>\n",
              "      <td>NaN</td>\n",
              "    </tr>\n",
              "    <tr>\n",
              "      <th>12</th>\n",
              "      <td>꼬마친구어린이집</td>\n",
              "      <td>울산광역시</td>\n",
              "      <td>가정</td>\n",
              "      <td>19</td>\n",
              "      <td>7.0</td>\n",
              "      <td>35.492577</td>\n",
              "      <td>129.421499</td>\n",
              "      <td>NaN</td>\n",
              "    </tr>\n",
              "    <tr>\n",
              "      <th>13</th>\n",
              "      <td>꼬망피아어린이집</td>\n",
              "      <td>울산광역시</td>\n",
              "      <td>가정</td>\n",
              "      <td>19</td>\n",
              "      <td>8.0</td>\n",
              "      <td>35.482885</td>\n",
              "      <td>129.415378</td>\n",
              "      <td>NaN</td>\n",
              "    </tr>\n",
              "    <tr>\n",
              "      <th>14</th>\n",
              "      <td>꽃누리어린이집</td>\n",
              "      <td>울산광역시</td>\n",
              "      <td>민간</td>\n",
              "      <td>34</td>\n",
              "      <td>7.0</td>\n",
              "      <td>35.482839</td>\n",
              "      <td>129.413746</td>\n",
              "      <td>NaN</td>\n",
              "    </tr>\n",
              "    <tr>\n",
              "      <th>15</th>\n",
              "      <td>꽃동산어린이집</td>\n",
              "      <td>울산광역시</td>\n",
              "      <td>민간</td>\n",
              "      <td>39</td>\n",
              "      <td>6.0</td>\n",
              "      <td>35.511030</td>\n",
              "      <td>129.426523</td>\n",
              "      <td>NaN</td>\n",
              "    </tr>\n",
              "    <tr>\n",
              "      <th>16</th>\n",
              "      <td>꽃바위어린이집</td>\n",
              "      <td>울산광역시</td>\n",
              "      <td>국공립</td>\n",
              "      <td>80</td>\n",
              "      <td>14.0</td>\n",
              "      <td>35.483293</td>\n",
              "      <td>129.413200</td>\n",
              "      <td>NaN</td>\n",
              "    </tr>\n",
              "    <tr>\n",
              "      <th>17</th>\n",
              "      <td>꾸러기어린이집</td>\n",
              "      <td>울산광역시</td>\n",
              "      <td>민간</td>\n",
              "      <td>93</td>\n",
              "      <td>11.0</td>\n",
              "      <td>35.485092</td>\n",
              "      <td>129.416603</td>\n",
              "      <td>NaN</td>\n",
              "    </tr>\n",
              "    <tr>\n",
              "      <th>18</th>\n",
              "      <td>꿈과사랑어린이집</td>\n",
              "      <td>울산광역시</td>\n",
              "      <td>민간</td>\n",
              "      <td>31</td>\n",
              "      <td>7.0</td>\n",
              "      <td>35.484440</td>\n",
              "      <td>129.420342</td>\n",
              "      <td>NaN</td>\n",
              "    </tr>\n",
              "    <tr>\n",
              "      <th>19</th>\n",
              "      <td>꿈사랑어린이집</td>\n",
              "      <td>울산광역시</td>\n",
              "      <td>민간</td>\n",
              "      <td>55</td>\n",
              "      <td>7.0</td>\n",
              "      <td>35.497913</td>\n",
              "      <td>129.420486</td>\n",
              "      <td>NaN</td>\n",
              "    </tr>\n",
              "  </tbody>\n",
              "</table>\n",
              "</div>"
            ],
            "text/plain": [
              "            어린이집명    시도명 어린이집유형구분  정원수  보육교직원수         위도          경도  \\\n",
              "0   e-편한세상2단지어린이집  울산광역시       민간   35     9.0  35.512506  129.423556   \n",
              "1      e-편한세상어린이집  울산광역시       민간   43     9.0  35.512506  129.423556   \n",
              "2         i예담어린이집  울산광역시       민간   59    11.0  35.488844  129.419293   \n",
              "3       THE자람어린이집  울산광역시       민간   41     8.0  35.492059  129.419641   \n",
              "4          가온어린이집  울산광역시       가정   19     5.0  35.517116  129.426247   \n",
              "5         고은솔어린이집  울산광역시       가정   19     4.0  35.528267  129.432848   \n",
              "6         구름빵어린이집  울산광역시       가정   14     4.0  35.546838  129.425613   \n",
              "7       꼬마대통령어린이집  울산광역시       민간   49     9.0  35.503181  129.420755   \n",
              "8        꼬마또래어린이집  울산광역시       민간   38     5.0  35.482306  129.411025   \n",
              "9         꼬마별어린이집  울산광역시       가정   13     5.0  35.527429  129.429737   \n",
              "10        꼬마성어린이집  울산광역시       민간   96    15.0  35.545798  129.425890   \n",
              "11        꼬마숲어린이집  울산광역시       가정   18     5.0  35.525485  129.425159   \n",
              "12       꼬마친구어린이집  울산광역시       가정   19     7.0  35.492577  129.421499   \n",
              "13       꼬망피아어린이집  울산광역시       가정   19     8.0  35.482885  129.415378   \n",
              "14        꽃누리어린이집  울산광역시       민간   34     7.0  35.482839  129.413746   \n",
              "15        꽃동산어린이집  울산광역시       민간   39     6.0  35.511030  129.426523   \n",
              "16        꽃바위어린이집  울산광역시      국공립   80    14.0  35.483293  129.413200   \n",
              "17        꾸러기어린이집  울산광역시       민간   93    11.0  35.485092  129.416603   \n",
              "18       꿈과사랑어린이집  울산광역시       민간   31     7.0  35.484440  129.420342   \n",
              "19        꿈사랑어린이집  울산광역시       민간   55     7.0  35.497913  129.420486   \n",
              "\n",
              "    Unnamed: 17  \n",
              "0           NaN  \n",
              "1           NaN  \n",
              "2           NaN  \n",
              "3           NaN  \n",
              "4           NaN  \n",
              "5           NaN  \n",
              "6           NaN  \n",
              "7           NaN  \n",
              "8           NaN  \n",
              "9           NaN  \n",
              "10          NaN  \n",
              "11          NaN  \n",
              "12          NaN  \n",
              "13          NaN  \n",
              "14          NaN  \n",
              "15          NaN  \n",
              "16          NaN  \n",
              "17          NaN  \n",
              "18          NaN  \n",
              "19          NaN  "
            ]
          },
          "metadata": {
            "tags": []
          },
          "execution_count": 117
        }
      ]
    },
    {
      "metadata": {
        "id": "dJJ497WZ_6yp",
        "colab_type": "code",
        "colab": {
          "base_uri": "https://localhost:8080/",
          "height": 400
        },
        "outputId": "43dff66a-98d2-4809-f8b8-87620bb21f00"
      },
      "cell_type": "code",
      "source": [
        "pre_sale_clean.info()"
      ],
      "execution_count": 95,
      "outputs": [
        {
          "output_type": "stream",
          "text": [
            "<class 'pandas.core.frame.DataFrame'>\n",
            "Int64Index: 43428 entries, 0 to 43428\n",
            "Data columns (total 18 columns):\n",
            "어린이집명          43428 non-null object\n",
            "시도명            43428 non-null object\n",
            "시군구명           43428 non-null object\n",
            "어린이집유형구분       43428 non-null object\n",
            "정원수            43428 non-null int64\n",
            "보육교직원수         41377 non-null float64\n",
            "소재지도로명주소       43428 non-null object\n",
            "어린이집전화번호       43423 non-null object\n",
            "어린이집팩스번호       19668 non-null object\n",
            "보육실수           30140 non-null object\n",
            "놀이터수           25155 non-null object\n",
            "CCTV설치수        30771 non-null object\n",
            "통학차량운영여부       34370 non-null object\n",
            "홈페이지주소         5219 non-null object\n",
            "데이터기준일자        43428 non-null object\n",
            "위도             31788 non-null float64\n",
            "경도             31788 non-null float64\n",
            "Unnamed: 17    0 non-null float64\n",
            "dtypes: float64(4), int64(1), object(13)\n",
            "memory usage: 6.3+ MB\n"
          ],
          "name": "stdout"
        }
      ]
    },
    {
      "metadata": {
        "id": "H1lCqeGk5gEB",
        "colab_type": "code",
        "colab": {
          "base_uri": "https://localhost:8080/",
          "height": 487
        },
        "outputId": "c7701256-61d1-4e20-b4dd-e67afa326ff7"
      },
      "cell_type": "code",
      "source": [
        "import  missingno  as msno\n",
        "\n",
        "msno.matrix(pre_sale_clean, figsize=(18,6))"
      ],
      "execution_count": 137,
      "outputs": [
        {
          "output_type": "execute_result",
          "data": {
            "text/plain": [
              "<matplotlib.axes._subplots.AxesSubplot at 0x7fbed5d413c8>"
            ]
          },
          "metadata": {
            "tags": []
          },
          "execution_count": 137
        },
        {
          "output_type": "display_data",
          "data": {
            "image/png": "[encoded data removed]",
            "text/plain": [
              "<matplotlib.figure.Figure at 0x7fbed7927978>"
            ]
          },
          "metadata": {
            "tags": []
          }
        }
      ]
    },
    {
      "metadata": {
        "id": "1KK-xIBa6D9m",
        "colab_type": "code",
        "colab": {
          "base_uri": "https://localhost:8080/",
          "height": 33
        },
        "outputId": "ef5716a6-03d4-46c8-e06a-32d62a10e425"
      },
      "cell_type": "code",
      "source": [
        "pre_sale_clean.columns"
      ],
      "execution_count": 138,
      "outputs": [
        {
          "output_type": "execute_result",
          "data": {
            "text/plain": [
              "Index(['어린이집명', '시도명', '어린이집유형구분', '정원수', '보육교직원수', '위도', '경도', 'Unnamed: 17'], dtype='object')"
            ]
          },
          "metadata": {
            "tags": []
          },
          "execution_count": 138
        }
      ]
    },
    {
      "metadata": {
        "id": "6J9GhZ-D6GbJ",
        "colab_type": "code",
        "colab": {}
      },
      "cell_type": "code",
      "source": [
        ""
      ],
      "execution_count": 0,
      "outputs": []
    },
    {
      "metadata": {
        "id": "wnb9wk5N5uYR",
        "colab_type": "code",
        "colab": {}
      },
      "cell_type": "code",
      "source": [
        "\n",
        "#한글 \n",
        "\n",
        "#!apt -qq -y install fonts-nanum > /dev/null\n",
        "import matplotlib.font_manager as fm\n",
        "fontpath = '/usr/share/fonts/truetype/nanum/NanumBarunGothic.ttf'\n",
        "font = fm.FontProperties(fname=fontpath, size=9)\n",
        "\n",
        "from plotnine import *\n",
        "import plotnine\n",
        "\n",
        "# 기본 글꼴 변경\n",
        "import matplotlib as mpl\n",
        "mpl.font_manager._rebuild()\n",
        "mpl.pyplot.rc('font', family='NanumBarunGothic')"
      ],
      "execution_count": 0,
      "outputs": []
    },
    {
      "metadata": {
        "id": "KnA8J_5VF9D8",
        "colab_type": "code",
        "colab": {
          "base_uri": "https://localhost:8080/",
          "height": 250
        },
        "outputId": "9aa82757-03ed-41df-c907-7c8cc7abd477"
      },
      "cell_type": "code",
      "source": [
        "pre_sale_clean.isnull().sum()"
      ],
      "execution_count": 84,
      "outputs": [
        {
          "output_type": "execute_result",
          "data": {
            "text/plain": [
              "어린이집명              0\n",
              "시도명                0\n",
              "시군구명               0\n",
              "어린이집유형구분           0\n",
              "정원수                0\n",
              "보육교직원수          2051\n",
              "소재지도로명주소           0\n",
              "어린이집전화번호           5\n",
              "통학차량운영여부        9058\n",
              "데이터기준일자            0\n",
              "위도             11640\n",
              "경도             11640\n",
              "Unnamed: 17    43429\n",
              "dtype: int64"
            ]
          },
          "metadata": {
            "tags": []
          },
          "execution_count": 84
        }
      ]
    },
    {
      "metadata": {
        "id": "eavr6RWy_6y2",
        "colab_type": "code",
        "colab": {
          "base_uri": "https://localhost:8080/",
          "height": 287
        },
        "outputId": "ff6fa370-51b3-441d-83d9-dc75873f1121"
      },
      "cell_type": "code",
      "source": [
        "pre_sale_clean.describe()\n"
      ],
      "execution_count": 161,
      "outputs": [
        {
          "output_type": "execute_result",
          "data": {
            "text/html": [
              "<div>\n",
              "<style scoped>\n",
              "    .dataframe tbody tr th:only-of-type {\n",
              "        vertical-align: middle;\n",
              "    }\n",
              "\n",
              "    .dataframe tbody tr th {\n",
              "        vertical-align: top;\n",
              "    }\n",
              "\n",
              "    .dataframe thead th {\n",
              "        text-align: right;\n",
              "    }\n",
              "</style>\n",
              "<table border=\"1\" class=\"dataframe\">\n",
              "  <thead>\n",
              "    <tr style=\"text-align: right;\">\n",
              "      <th></th>\n",
              "      <th>정원수</th>\n",
              "      <th>보육교직원수</th>\n",
              "      <th>위도</th>\n",
              "      <th>경도</th>\n",
              "      <th>Unnamed: 17</th>\n",
              "    </tr>\n",
              "  </thead>\n",
              "  <tbody>\n",
              "    <tr>\n",
              "      <th>count</th>\n",
              "      <td>43429.000000</td>\n",
              "      <td>41378.000000</td>\n",
              "      <td>31789.000000</td>\n",
              "      <td>31789.000000</td>\n",
              "      <td>0.0</td>\n",
              "    </tr>\n",
              "    <tr>\n",
              "      <th>mean</th>\n",
              "      <td>43.395266</td>\n",
              "      <td>7.874595</td>\n",
              "      <td>36.134339</td>\n",
              "      <td>127.770968</td>\n",
              "      <td>NaN</td>\n",
              "    </tr>\n",
              "    <tr>\n",
              "      <th>std</th>\n",
              "      <td>39.931992</td>\n",
              "      <td>5.035621</td>\n",
              "      <td>1.032709</td>\n",
              "      <td>0.936334</td>\n",
              "      <td>NaN</td>\n",
              "    </tr>\n",
              "    <tr>\n",
              "      <th>min</th>\n",
              "      <td>0.000000</td>\n",
              "      <td>0.000000</td>\n",
              "      <td>33.214438</td>\n",
              "      <td>124.663775</td>\n",
              "      <td>NaN</td>\n",
              "    </tr>\n",
              "    <tr>\n",
              "      <th>25%</th>\n",
              "      <td>19.000000</td>\n",
              "      <td>5.000000</td>\n",
              "      <td>35.229622</td>\n",
              "      <td>126.948985</td>\n",
              "      <td>NaN</td>\n",
              "    </tr>\n",
              "    <tr>\n",
              "      <th>50%</th>\n",
              "      <td>20.000000</td>\n",
              "      <td>6.000000</td>\n",
              "      <td>35.873497</td>\n",
              "      <td>127.402924</td>\n",
              "      <td>NaN</td>\n",
              "    </tr>\n",
              "    <tr>\n",
              "      <th>75%</th>\n",
              "      <td>53.000000</td>\n",
              "      <td>10.000000</td>\n",
              "      <td>37.372355</td>\n",
              "      <td>128.689469</td>\n",
              "      <td>NaN</td>\n",
              "    </tr>\n",
              "    <tr>\n",
              "      <th>max</th>\n",
              "      <td>489.000000</td>\n",
              "      <td>71.000000</td>\n",
              "      <td>38.495819</td>\n",
              "      <td>130.908834</td>\n",
              "      <td>NaN</td>\n",
              "    </tr>\n",
              "  </tbody>\n",
              "</table>\n",
              "</div>"
            ],
            "text/plain": [
              "                정원수        보육교직원수            위도            경도  Unnamed: 17\n",
              "count  43429.000000  41378.000000  31789.000000  31789.000000          0.0\n",
              "mean      43.395266      7.874595     36.134339    127.770968          NaN\n",
              "std       39.931992      5.035621      1.032709      0.936334          NaN\n",
              "min        0.000000      0.000000     33.214438    124.663775          NaN\n",
              "25%       19.000000      5.000000     35.229622    126.948985          NaN\n",
              "50%       20.000000      6.000000     35.873497    127.402924          NaN\n",
              "75%       53.000000     10.000000     37.372355    128.689469          NaN\n",
              "max      489.000000     71.000000     38.495819    130.908834          NaN"
            ]
          },
          "metadata": {
            "tags": []
          },
          "execution_count": 161
        }
      ]
    },
    {
      "metadata": {
        "id": "cJGf2efp9w_J",
        "colab_type": "code",
        "colab": {
          "base_uri": "https://localhost:8080/",
          "height": 466
        },
        "outputId": "bd9a6397-28be-4fef-b910-46a2c5a2724e"
      },
      "cell_type": "code",
      "source": [
        "(ggplot(pre_sale_clean)\n",
        " + aes(x='경도', y='위도')\n",
        " + geom_point()\n",
        " + theme(text=element_text(family='NanumBarunGothic'))\n",
        ")"
      ],
      "execution_count": 141,
      "outputs": [
        {
          "output_type": "display_data",
          "data": {
            "image/png": "[encoded data removed]",
            "text/plain": [
              "<matplotlib.figure.Figure at 0x7fbed5abd2b0>"
            ]
          },
          "metadata": {
            "tags": []
          }
        },
        {
          "output_type": "execute_result",
          "data": {
            "text/plain": [
              "<ggplot: (-9223363258254287279)>"
            ]
          },
          "metadata": {
            "tags": []
          },
          "execution_count": 141
        }
      ]
    },
    {
      "metadata": {
        "id": "rRveOJP598Ns",
        "colab_type": "code",
        "colab": {}
      },
      "cell_type": "code",
      "source": [
        "pre_sale_clean_seoul = pre_sale_clean.loc[pre_sale_clean['시도명'] == '서울특별시']"
      ],
      "execution_count": 0,
      "outputs": []
    },
    {
      "metadata": {
        "id": "gRHzwf81-Hk7",
        "colab_type": "code",
        "colab": {
          "base_uri": "https://localhost:8080/",
          "height": 466
        },
        "outputId": "f4bb4b4e-fe56-49ba-8777-70d1cce8026d"
      },
      "cell_type": "code",
      "source": [
        "(ggplot(pre_sale_clean_seoul)\n",
        " + aes(x='경도', y='위도')\n",
        " + geom_point()\n",
        " + theme(text=element_text(family='NanumBarunGothic'))\n",
        ")"
      ],
      "execution_count": 143,
      "outputs": [
        {
          "output_type": "display_data",
          "data": {
            "image/png": "[encoded data removed]",
            "text/plain": [
              "<matplotlib.figure.Figure at 0x7fbed5a78a90>"
            ]
          },
          "metadata": {
            "tags": []
          }
        },
        {
          "output_type": "execute_result",
          "data": {
            "text/plain": [
              "<ggplot: (8778600237523)>"
            ]
          },
          "metadata": {
            "tags": []
          },
          "execution_count": 143
        }
      ]
    },
    {
      "metadata": {
        "id": "Jqf_jlK3-uSH",
        "colab_type": "code",
        "colab": {
          "base_uri": "https://localhost:8080/",
          "height": 466
        },
        "outputId": "161567e0-6e97-47b2-e7a3-aea019b60227"
      },
      "cell_type": "code",
      "source": [
        "(ggplot(pre_sale_clean_seoul )\n",
        " + aes(x='경도', y='위도', color='정원수')\n",
        " + geom_point(alpha=0.4, size=0.4)\n",
        " + theme(text=element_text(fontproperties=font))\n",
        " + scale_fill_gradient(low = 'green', high = 'red') \n",
        ")"
      ],
      "execution_count": 159,
      "outputs": [
        {
          "output_type": "display_data",
          "data": {
            "image/png": "[encoded data removed]",
            "text/plain": [
              "<matplotlib.figure.Figure at 0x7fbed523dba8>"
            ]
          },
          "metadata": {
            "tags": []
          }
        },
        {
          "output_type": "execute_result",
          "data": {
            "text/plain": [
              "<ggplot: (8778600263919)>"
            ]
          },
          "metadata": {
            "tags": []
          },
          "execution_count": 159
        }
      ]
    },
    {
      "metadata": {
        "id": "mnJDuTlS-PB4",
        "colab_type": "code",
        "colab": {
          "base_uri": "https://localhost:8080/",
          "height": 33
        },
        "outputId": "54f4271e-cdba-44e0-d2b9-b32a9f546b69"
      },
      "cell_type": "code",
      "source": [
        "pre_sale_clean_seoul.shape"
      ],
      "execution_count": 144,
      "outputs": [
        {
          "output_type": "execute_result",
          "data": {
            "text/plain": [
              "(5636, 8)"
            ]
          },
          "metadata": {
            "tags": []
          },
          "execution_count": 144
        }
      ]
    },
    {
      "metadata": {
        "id": "ViXvLwID_6y7",
        "colab_type": "code",
        "colab": {
          "base_uri": "https://localhost:8080/",
          "height": 197
        },
        "outputId": "01cea325-e1c4-405e-a730-32f8781a5e55"
      },
      "cell_type": "code",
      "source": [
        "pre_sale_clean_seoul.head(100)"
      ],
      "execution_count": 145,
      "outputs": [
        {
          "output_type": "execute_result",
          "data": {
            "text/html": [
              "<div>\n",
              "<style scoped>\n",
              "    .dataframe tbody tr th:only-of-type {\n",
              "        vertical-align: middle;\n",
              "    }\n",
              "\n",
              "    .dataframe tbody tr th {\n",
              "        vertical-align: top;\n",
              "    }\n",
              "\n",
              "    .dataframe thead th {\n",
              "        text-align: right;\n",
              "    }\n",
              "</style>\n",
              "<table border=\"1\" class=\"dataframe\">\n",
              "  <thead>\n",
              "    <tr style=\"text-align: right;\">\n",
              "      <th></th>\n",
              "      <th>어린이집명</th>\n",
              "      <th>시도명</th>\n",
              "      <th>어린이집유형구분</th>\n",
              "      <th>정원수</th>\n",
              "      <th>보육교직원수</th>\n",
              "      <th>위도</th>\n",
              "      <th>경도</th>\n",
              "      <th>Unnamed: 17</th>\n",
              "    </tr>\n",
              "  </thead>\n",
              "  <tbody>\n",
              "    <tr>\n",
              "      <th>430</th>\n",
              "      <td>가연어린이집</td>\n",
              "      <td>서울특별시</td>\n",
              "      <td>가정</td>\n",
              "      <td>18</td>\n",
              "      <td>4.0</td>\n",
              "      <td>37.615827</td>\n",
              "      <td>126.928566</td>\n",
              "      <td>NaN</td>\n",
              "    </tr>\n",
              "    <tr>\n",
              "      <th>431</th>\n",
              "      <td>곤지곤지어린이집</td>\n",
              "      <td>서울특별시</td>\n",
              "      <td>가정</td>\n",
              "      <td>17</td>\n",
              "      <td>3.0</td>\n",
              "      <td>37.602024</td>\n",
              "      <td>126.912336</td>\n",
              "      <td>NaN</td>\n",
              "    </tr>\n",
              "    <tr>\n",
              "      <th>432</th>\n",
              "      <td>기린어린이집</td>\n",
              "      <td>서울특별시</td>\n",
              "      <td>가정</td>\n",
              "      <td>19</td>\n",
              "      <td>7.0</td>\n",
              "      <td>37.625411</td>\n",
              "      <td>126.929803</td>\n",
              "      <td>NaN</td>\n",
              "    </tr>\n",
              "    <tr>\n",
              "      <th>433</th>\n",
              "      <td>기쁨어린이집</td>\n",
              "      <td>서울특별시</td>\n",
              "      <td>가정</td>\n",
              "      <td>19</td>\n",
              "      <td>4.0</td>\n",
              "      <td>37.597919</td>\n",
              "      <td>126.907467</td>\n",
              "      <td>NaN</td>\n",
              "    </tr>\n",
              "    <tr>\n",
              "      <th>434</th>\n",
              "      <td>리틀 초콜릿어린이집</td>\n",
              "      <td>서울특별시</td>\n",
              "      <td>가정</td>\n",
              "      <td>19</td>\n",
              "      <td>5.0</td>\n",
              "      <td>NaN</td>\n",
              "      <td>NaN</td>\n",
              "      <td>NaN</td>\n",
              "    </tr>\n",
              "  </tbody>\n",
              "</table>\n",
              "</div>"
            ],
            "text/plain": [
              "          어린이집명    시도명 어린이집유형구분  정원수  보육교직원수         위도          경도  \\\n",
              "430      가연어린이집  서울특별시       가정   18     4.0  37.615827  126.928566   \n",
              "431    곤지곤지어린이집  서울특별시       가정   17     3.0  37.602024  126.912336   \n",
              "432      기린어린이집  서울특별시       가정   19     7.0  37.625411  126.929803   \n",
              "433      기쁨어린이집  서울특별시       가정   19     4.0  37.597919  126.907467   \n",
              "434  리틀 초콜릿어린이집  서울특별시       가정   19     5.0        NaN         NaN   \n",
              "\n",
              "     Unnamed: 17  \n",
              "430          NaN  \n",
              "431          NaN  \n",
              "432          NaN  \n",
              "433          NaN  \n",
              "434          NaN  "
            ]
          },
          "metadata": {
            "tags": []
          },
          "execution_count": 145
        }
      ]
    },
    {
      "metadata": {
        "id": "UEl4SW_X_6zF",
        "colab_type": "text"
      },
      "cell_type": "markdown",
      "source": [
        "## 규모별 전국 평균 분양가격"
      ]
    },
    {
      "metadata": {
        "id": "yVa3c2fZ_m6N",
        "colab_type": "code",
        "colab": {}
      },
      "cell_type": "code",
      "source": [
        ""
      ],
      "execution_count": 0,
      "outputs": []
    },
    {
      "metadata": {
        "id": "36ATp78a_6zK",
        "colab_type": "text"
      },
      "cell_type": "markdown",
      "source": [
        "# 전국 분양가 변동금액\n",
        "규모구분이 전체로 되어있는 금액으로 연도별 변동금액을 살펴봅니다."
      ]
    },
    {
      "metadata": {
        "id": "8HxWPuGK_6zK",
        "colab_type": "code",
        "colab": {
          "base_uri": "https://localhost:8080/",
          "height": 576
        },
        "outputId": "79d9181e-dbe3-4d4e-afd3-45b76906455a"
      },
      "cell_type": "code",
      "source": [
        "# 규모구분에서 전체로 되어있는 데이터만 가져온다.\n",
        "region_year_all = pre_sale.loc[pre_sale['규모구분'] == '전체']\n",
        "region_year = region_year_all.pivot_table('평당분양가격', '지역명', '연도').reset_index()\n",
        "\n",
        "\n",
        "#region_year_all\n",
        "#참조 loc 는 인덱싱 규모구분 == 전체인 데이터만 저회\n",
        "\n",
        "#region_year\n",
        "#년도, 지역으로 정렬 reset_index란 - 재정렬 \n"
      ],
      "execution_count": 0,
      "outputs": [
        {
          "output_type": "execute_result",
          "data": {
            "text/html": [
              "<div>\n",
              "<style scoped>\n",
              "    .dataframe tbody tr th:only-of-type {\n",
              "        vertical-align: middle;\n",
              "    }\n",
              "\n",
              "    .dataframe tbody tr th {\n",
              "        vertical-align: top;\n",
              "    }\n",
              "\n",
              "    .dataframe thead th {\n",
              "        text-align: right;\n",
              "    }\n",
              "</style>\n",
              "<table border=\"1\" class=\"dataframe\">\n",
              "  <thead>\n",
              "    <tr style=\"text-align: right;\">\n",
              "      <th>연도</th>\n",
              "      <th>지역명</th>\n",
              "      <th>2015</th>\n",
              "      <th>2016</th>\n",
              "      <th>2017</th>\n",
              "      <th>2018</th>\n",
              "    </tr>\n",
              "  </thead>\n",
              "  <tbody>\n",
              "    <tr>\n",
              "      <th>0</th>\n",
              "      <td>강원</td>\n",
              "      <td>7,160</td>\n",
              "      <td>7,011</td>\n",
              "      <td>7,127</td>\n",
              "      <td>7,643</td>\n",
              "    </tr>\n",
              "    <tr>\n",
              "      <th>1</th>\n",
              "      <td>경기</td>\n",
              "      <td>10,377</td>\n",
              "      <td>11,220</td>\n",
              "      <td>11,850</td>\n",
              "      <td>12,854</td>\n",
              "    </tr>\n",
              "    <tr>\n",
              "      <th>2</th>\n",
              "      <td>경남</td>\n",
              "      <td>7,586</td>\n",
              "      <td>7,848</td>\n",
              "      <td>8,120</td>\n",
              "      <td>8,894</td>\n",
              "    </tr>\n",
              "    <tr>\n",
              "      <th>3</th>\n",
              "      <td>경북</td>\n",
              "      <td>7,171</td>\n",
              "      <td>7,361</td>\n",
              "      <td>7,795</td>\n",
              "      <td>8,262</td>\n",
              "    </tr>\n",
              "    <tr>\n",
              "      <th>4</th>\n",
              "      <td>광주</td>\n",
              "      <td>8,052</td>\n",
              "      <td>8,899</td>\n",
              "      <td>9,464</td>\n",
              "      <td>9,630</td>\n",
              "    </tr>\n",
              "    <tr>\n",
              "      <th>5</th>\n",
              "      <td>대구</td>\n",
              "      <td>9,232</td>\n",
              "      <td>10,310</td>\n",
              "      <td>11,456</td>\n",
              "      <td>11,652</td>\n",
              "    </tr>\n",
              "    <tr>\n",
              "      <th>6</th>\n",
              "      <td>대전</td>\n",
              "      <td>8,098</td>\n",
              "      <td>8,502</td>\n",
              "      <td>9,045</td>\n",
              "      <td>9,589</td>\n",
              "    </tr>\n",
              "    <tr>\n",
              "      <th>7</th>\n",
              "      <td>부산</td>\n",
              "      <td>10,307</td>\n",
              "      <td>10,430</td>\n",
              "      <td>11,578</td>\n",
              "      <td>12,710</td>\n",
              "    </tr>\n",
              "    <tr>\n",
              "      <th>8</th>\n",
              "      <td>서울</td>\n",
              "      <td>19,725</td>\n",
              "      <td>20,663</td>\n",
              "      <td>21,376</td>\n",
              "      <td>22,299</td>\n",
              "    </tr>\n",
              "    <tr>\n",
              "      <th>9</th>\n",
              "      <td>세종</td>\n",
              "      <td>8,750</td>\n",
              "      <td>8,860</td>\n",
              "      <td>9,135</td>\n",
              "      <td>10,382</td>\n",
              "    </tr>\n",
              "    <tr>\n",
              "      <th>10</th>\n",
              "      <td>울산</td>\n",
              "      <td>10,053</td>\n",
              "      <td>10,209</td>\n",
              "      <td>11,345</td>\n",
              "      <td>10,441</td>\n",
              "    </tr>\n",
              "    <tr>\n",
              "      <th>11</th>\n",
              "      <td>인천</td>\n",
              "      <td>10,484</td>\n",
              "      <td>10,532</td>\n",
              "      <td>10,737</td>\n",
              "      <td>11,218</td>\n",
              "    </tr>\n",
              "    <tr>\n",
              "      <th>12</th>\n",
              "      <td>전남</td>\n",
              "      <td>6,317</td>\n",
              "      <td>6,489</td>\n",
              "      <td>7,188</td>\n",
              "      <td>7,794</td>\n",
              "    </tr>\n",
              "    <tr>\n",
              "      <th>13</th>\n",
              "      <td>전북</td>\n",
              "      <td>6,703</td>\n",
              "      <td>6,418</td>\n",
              "      <td>7,058</td>\n",
              "      <td>7,552</td>\n",
              "    </tr>\n",
              "    <tr>\n",
              "      <th>14</th>\n",
              "      <td>제주</td>\n",
              "      <td>7,405</td>\n",
              "      <td>9,129</td>\n",
              "      <td>10,831</td>\n",
              "      <td>12,741</td>\n",
              "    </tr>\n",
              "    <tr>\n",
              "      <th>15</th>\n",
              "      <td>충남</td>\n",
              "      <td>7,115</td>\n",
              "      <td>7,331</td>\n",
              "      <td>7,456</td>\n",
              "      <td>7,973</td>\n",
              "    </tr>\n",
              "    <tr>\n",
              "      <th>16</th>\n",
              "      <td>충북</td>\n",
              "      <td>6,645</td>\n",
              "      <td>6,770</td>\n",
              "      <td>6,763</td>\n",
              "      <td>7,893</td>\n",
              "    </tr>\n",
              "  </tbody>\n",
              "</table>\n",
              "</div>"
            ],
            "text/plain": [
              "연도 지역명   2015   2016   2017   2018\n",
              "0   강원  7,160  7,011  7,127  7,643\n",
              "1   경기 10,377 11,220 11,850 12,854\n",
              "2   경남  7,586  7,848  8,120  8,894\n",
              "3   경북  7,171  7,361  7,795  8,262\n",
              "4   광주  8,052  8,899  9,464  9,630\n",
              "5   대구  9,232 10,310 11,456 11,652\n",
              "6   대전  8,098  8,502  9,045  9,589\n",
              "7   부산 10,307 10,430 11,578 12,710\n",
              "8   서울 19,725 20,663 21,376 22,299\n",
              "9   세종  8,750  8,860  9,135 10,382\n",
              "10  울산 10,053 10,209 11,345 10,441\n",
              "11  인천 10,484 10,532 10,737 11,218\n",
              "12  전남  6,317  6,489  7,188  7,794\n",
              "13  전북  6,703  6,418  7,058  7,552\n",
              "14  제주  7,405  9,129 10,831 12,741\n",
              "15  충남  7,115  7,331  7,456  7,973\n",
              "16  충북  6,645  6,770  6,763  7,893"
            ]
          },
          "metadata": {
            "tags": []
          },
          "execution_count": 32
        }
      ]
    },
    {
      "metadata": {
        "id": "LhhLiLjv_6zN",
        "colab_type": "code",
        "colab": {
          "base_uri": "https://localhost:8080/",
          "height": 630
        },
        "outputId": "8d93fcb5-79ba-4136-d5ee-8176e8b18583"
      },
      "cell_type": "code",
      "source": [
        "region_year['변동액'] = (region_year['2018'] - region_year['2015']).astype(int)\n",
        "\n",
        "#금액인 \"천원\" 단위이르모 \"원 단위로 변경\"\n",
        "max_delta_price = np.max(region_year['변동액'])*1000\n",
        "min_delta_price = np.min(region_year['변동액'])*1000\n",
        "mean_delta_price = np.mean(region_year['변동액'])*1000\n",
        "\n",
        "print('2015년~2018년까지 분양가는 계속 상승했으며, 상승액이 가장 큰 지역은 제주이며 상승액은 평당 {:,.0f}원이다.'.format(max_delta_price))\n",
        "print('상승액이 가장 작은 지역은 울산이며 평당 {:,.0f}원이다.'.format(min_delta_price))\n",
        "print('전국 평균 변동액은 평당 {:,.0f}원이다.'.format(mean_delta_price))\n",
        "\n",
        "region_year"
      ],
      "execution_count": 0,
      "outputs": [
        {
          "output_type": "stream",
          "text": [
            "2015년~2018년까지 분양가는 계속 상승했으며, 상승액이 가장 큰 지역은 제주이며 상승액은 평당 5,335,000원이다.\n",
            "상승액이 가장 작은 지역은 울산이며 평당 387,000원이다.\n",
            "전국 평균 변동액은 평당 1,666,647원이다.\n"
          ],
          "name": "stdout"
        },
        {
          "output_type": "execute_result",
          "data": {
            "text/html": [
              "<div>\n",
              "<style scoped>\n",
              "    .dataframe tbody tr th:only-of-type {\n",
              "        vertical-align: middle;\n",
              "    }\n",
              "\n",
              "    .dataframe tbody tr th {\n",
              "        vertical-align: top;\n",
              "    }\n",
              "\n",
              "    .dataframe thead th {\n",
              "        text-align: right;\n",
              "    }\n",
              "</style>\n",
              "<table border=\"1\" class=\"dataframe\">\n",
              "  <thead>\n",
              "    <tr style=\"text-align: right;\">\n",
              "      <th>연도</th>\n",
              "      <th>지역명</th>\n",
              "      <th>2015</th>\n",
              "      <th>2016</th>\n",
              "      <th>2017</th>\n",
              "      <th>2018</th>\n",
              "      <th>변동액</th>\n",
              "    </tr>\n",
              "  </thead>\n",
              "  <tbody>\n",
              "    <tr>\n",
              "      <th>0</th>\n",
              "      <td>강원</td>\n",
              "      <td>7,160</td>\n",
              "      <td>7,011</td>\n",
              "      <td>7,127</td>\n",
              "      <td>7,643</td>\n",
              "      <td>482</td>\n",
              "    </tr>\n",
              "    <tr>\n",
              "      <th>1</th>\n",
              "      <td>경기</td>\n",
              "      <td>10,377</td>\n",
              "      <td>11,220</td>\n",
              "      <td>11,850</td>\n",
              "      <td>12,854</td>\n",
              "      <td>2476</td>\n",
              "    </tr>\n",
              "    <tr>\n",
              "      <th>2</th>\n",
              "      <td>경남</td>\n",
              "      <td>7,586</td>\n",
              "      <td>7,848</td>\n",
              "      <td>8,120</td>\n",
              "      <td>8,894</td>\n",
              "      <td>1308</td>\n",
              "    </tr>\n",
              "    <tr>\n",
              "      <th>3</th>\n",
              "      <td>경북</td>\n",
              "      <td>7,171</td>\n",
              "      <td>7,361</td>\n",
              "      <td>7,795</td>\n",
              "      <td>8,262</td>\n",
              "      <td>1090</td>\n",
              "    </tr>\n",
              "    <tr>\n",
              "      <th>4</th>\n",
              "      <td>광주</td>\n",
              "      <td>8,052</td>\n",
              "      <td>8,899</td>\n",
              "      <td>9,464</td>\n",
              "      <td>9,630</td>\n",
              "      <td>1577</td>\n",
              "    </tr>\n",
              "    <tr>\n",
              "      <th>5</th>\n",
              "      <td>대구</td>\n",
              "      <td>9,232</td>\n",
              "      <td>10,310</td>\n",
              "      <td>11,456</td>\n",
              "      <td>11,652</td>\n",
              "      <td>2419</td>\n",
              "    </tr>\n",
              "    <tr>\n",
              "      <th>6</th>\n",
              "      <td>대전</td>\n",
              "      <td>8,098</td>\n",
              "      <td>8,502</td>\n",
              "      <td>9,045</td>\n",
              "      <td>9,589</td>\n",
              "      <td>1490</td>\n",
              "    </tr>\n",
              "    <tr>\n",
              "      <th>7</th>\n",
              "      <td>부산</td>\n",
              "      <td>10,307</td>\n",
              "      <td>10,430</td>\n",
              "      <td>11,578</td>\n",
              "      <td>12,710</td>\n",
              "      <td>2402</td>\n",
              "    </tr>\n",
              "    <tr>\n",
              "      <th>8</th>\n",
              "      <td>서울</td>\n",
              "      <td>19,725</td>\n",
              "      <td>20,663</td>\n",
              "      <td>21,376</td>\n",
              "      <td>22,299</td>\n",
              "      <td>2574</td>\n",
              "    </tr>\n",
              "    <tr>\n",
              "      <th>9</th>\n",
              "      <td>세종</td>\n",
              "      <td>8,750</td>\n",
              "      <td>8,860</td>\n",
              "      <td>9,135</td>\n",
              "      <td>10,382</td>\n",
              "      <td>1631</td>\n",
              "    </tr>\n",
              "    <tr>\n",
              "      <th>10</th>\n",
              "      <td>울산</td>\n",
              "      <td>10,053</td>\n",
              "      <td>10,209</td>\n",
              "      <td>11,345</td>\n",
              "      <td>10,441</td>\n",
              "      <td>387</td>\n",
              "    </tr>\n",
              "    <tr>\n",
              "      <th>11</th>\n",
              "      <td>인천</td>\n",
              "      <td>10,484</td>\n",
              "      <td>10,532</td>\n",
              "      <td>10,737</td>\n",
              "      <td>11,218</td>\n",
              "      <td>734</td>\n",
              "    </tr>\n",
              "    <tr>\n",
              "      <th>12</th>\n",
              "      <td>전남</td>\n",
              "      <td>6,317</td>\n",
              "      <td>6,489</td>\n",
              "      <td>7,188</td>\n",
              "      <td>7,794</td>\n",
              "      <td>1476</td>\n",
              "    </tr>\n",
              "    <tr>\n",
              "      <th>13</th>\n",
              "      <td>전북</td>\n",
              "      <td>6,703</td>\n",
              "      <td>6,418</td>\n",
              "      <td>7,058</td>\n",
              "      <td>7,552</td>\n",
              "      <td>848</td>\n",
              "    </tr>\n",
              "    <tr>\n",
              "      <th>14</th>\n",
              "      <td>제주</td>\n",
              "      <td>7,405</td>\n",
              "      <td>9,129</td>\n",
              "      <td>10,831</td>\n",
              "      <td>12,741</td>\n",
              "      <td>5335</td>\n",
              "    </tr>\n",
              "    <tr>\n",
              "      <th>15</th>\n",
              "      <td>충남</td>\n",
              "      <td>7,115</td>\n",
              "      <td>7,331</td>\n",
              "      <td>7,456</td>\n",
              "      <td>7,973</td>\n",
              "      <td>857</td>\n",
              "    </tr>\n",
              "    <tr>\n",
              "      <th>16</th>\n",
              "      <td>충북</td>\n",
              "      <td>6,645</td>\n",
              "      <td>6,770</td>\n",
              "      <td>6,763</td>\n",
              "      <td>7,893</td>\n",
              "      <td>1247</td>\n",
              "    </tr>\n",
              "  </tbody>\n",
              "</table>\n",
              "</div>"
            ],
            "text/plain": [
              "연도 지역명   2015   2016   2017   2018   변동액\n",
              "0   강원  7,160  7,011  7,127  7,643   482\n",
              "1   경기 10,377 11,220 11,850 12,854  2476\n",
              "2   경남  7,586  7,848  8,120  8,894  1308\n",
              "3   경북  7,171  7,361  7,795  8,262  1090\n",
              "4   광주  8,052  8,899  9,464  9,630  1577\n",
              "5   대구  9,232 10,310 11,456 11,652  2419\n",
              "6   대전  8,098  8,502  9,045  9,589  1490\n",
              "7   부산 10,307 10,430 11,578 12,710  2402\n",
              "8   서울 19,725 20,663 21,376 22,299  2574\n",
              "9   세종  8,750  8,860  9,135 10,382  1631\n",
              "10  울산 10,053 10,209 11,345 10,441   387\n",
              "11  인천 10,484 10,532 10,737 11,218   734\n",
              "12  전남  6,317  6,489  7,188  7,794  1476\n",
              "13  전북  6,703  6,418  7,058  7,552   848\n",
              "14  제주  7,405  9,129 10,831 12,741  5335\n",
              "15  충남  7,115  7,331  7,456  7,973   857\n",
              "16  충북  6,645  6,770  6,763  7,893  1247"
            ]
          },
          "metadata": {
            "tags": []
          },
          "execution_count": 35
        }
      ]
    },
    {
      "metadata": {
        "id": "7GCPvOpN_6zQ",
        "colab_type": "text"
      },
      "cell_type": "markdown",
      "source": [
        "# 연도별 변동 그래프"
      ]
    },
    {
      "metadata": {
        "id": "6voKuhYWU8xw",
        "colab_type": "code",
        "colab": {
          "base_uri": "https://localhost:8080/",
          "height": 181
        },
        "outputId": "928a20ee-4c2e-4345-862a-2cbb4869f970"
      },
      "cell_type": "code",
      "source": [
        "# 그래프를 노트북 안에 그리기 위해 설정\n",
        "%matplotlib inline\n",
        "\n",
        "# 필요한 패키지와 라이브러리를 가져옴\n",
        "import matplotlib as mpl\n",
        "import matplotlib.pyplot as plt\n",
        "import matplotlib.font_manager as fm\n",
        "\n",
        "# 그래프에서 마이너스 폰트 깨지는 문제에 대한 대처\n",
        "mpl.rcParams['axes.unicode_minus'] = False\n",
        "\n",
        "print ('버전: ', mpl.__version__)\n",
        "print ('설치 위치: ', mpl.__file__)\n",
        "print ('설정 위치: ', mpl.get_configdir())\n",
        "print ('캐시 위치: ', mpl.get_cachedir())\n",
        "print ('설정 파일 위치: ', mpl.matplotlib_fname())\n",
        "\n",
        "font_list = fm.findSystemFonts(fontpaths=None, fontext='ttf')\n",
        "\n",
        "# ttf 폰트 전체개수\n",
        "f = [f.name for f in fm.fontManager.ttflist]\n",
        "print(len(font_list))\n",
        "\n",
        "print(f)\n",
        "\n",
        "[(f.name, f.fname) for f in fm.fontManager.ttflist if 'Nanum' in f.name]"
      ],
      "execution_count": 0,
      "outputs": [
        {
          "output_type": "stream",
          "text": [
            "버전:  2.1.2\n",
            "설치 위치:  /usr/local/lib/python3.6/dist-packages/matplotlib/__init__.py\n",
            "설정 위치:  /content/.config/matplotlib\n",
            "캐시 위치:  /content/.cache/matplotlib\n",
            "설정 파일 위치:  /usr/local/lib/python3.6/dist-packages/matplotlib/mpl-data/matplotlibrc\n",
            "65\n",
            "['STIXSizeThreeSym', 'DejaVu Sans', 'STIXGeneral', 'STIXSizeOneSym', 'cmsy10', 'STIXGeneral', 'STIXNonUnicode', 'DejaVu Sans Mono', 'DejaVu Sans Mono', 'cmb10', 'DejaVu Sans Mono', 'DejaVu Serif', 'cmmi10', 'STIXSizeFourSym', 'STIXGeneral', 'STIXNonUnicode', 'STIXSizeTwoSym', 'STIXGeneral', 'DejaVu Serif Display', 'STIXSizeFourSym', 'STIXNonUnicode', 'STIXNonUnicode', 'cmr10', 'DejaVu Sans', 'STIXSizeThreeSym', 'STIXSizeOneSym', 'DejaVu Sans Mono', 'STIXSizeFiveSym', 'DejaVu Serif', 'DejaVu Sans Display', 'cmtt10', 'DejaVu Sans', 'DejaVu Sans', 'cmex10', 'STIXSizeTwoSym', 'DejaVu Serif', 'cmss10', 'DejaVu Serif', 'Liberation Sans', 'Liberation Sans', 'Liberation Serif', 'Liberation Mono', 'Liberation Sans Narrow', 'Liberation Serif', 'Liberation Serif', 'Liberation Serif', 'Liberation Sans Narrow', 'Liberation Mono', 'Liberation Sans', 'Liberation Mono', 'Liberation Sans', 'Liberation Mono', 'Liberation Sans Narrow', 'Liberation Sans Narrow']\n"
          ],
          "name": "stdout"
        },
        {
          "output_type": "execute_result",
          "data": {
            "text/plain": [
              "[]"
            ]
          },
          "metadata": {
            "tags": []
          },
          "execution_count": 112
        }
      ]
    },
    {
      "metadata": {
        "id": "7k13azXaYGlS",
        "colab_type": "code",
        "colab": {
          "base_uri": "https://localhost:8080/",
          "height": 647
        },
        "outputId": "49a0e48a-bcee-470a-9eec-6fe5c16928d9"
      },
      "cell_type": "code",
      "source": [
        "!apt-get install fonts-nanum*"
      ],
      "execution_count": 0,
      "outputs": [
        {
          "output_type": "stream",
          "text": [
            "Reading package lists... Done\n",
            "Building dependency tree       \n",
            "Reading state information... Done\n",
            "Note, selecting 'fonts-nanum-eco' for glob 'fonts-nanum*'\n",
            "Note, selecting 'fonts-nanum' for glob 'fonts-nanum*'\n",
            "Note, selecting 'fonts-nanum-gothic-light' for glob 'fonts-nanum*'\n",
            "Note, selecting 'fonts-nanum-coding' for glob 'fonts-nanum*'\n",
            "Note, selecting 'fonts-nanum-extra' for glob 'fonts-nanum*'\n",
            "The following NEW packages will be installed:\n",
            "  fonts-nanum fonts-nanum-coding fonts-nanum-eco fonts-nanum-extra\n",
            "0 upgraded, 4 newly installed, 0 to remove and 0 not upgraded.\n",
            "Need to get 36.0 MB of archives.\n",
            "After this operation, 140 MB of additional disk space will be used.\n",
            "Get:1 http://archive.ubuntu.com/ubuntu artful/main amd64 fonts-nanum all 20161025-1 [9,129 kB]\n",
            "Get:2 http://archive.ubuntu.com/ubuntu artful/universe amd64 fonts-nanum-eco all 1.000-6 [14.0 MB]\n",
            "Get:3 http://archive.ubuntu.com/ubuntu artful/main amd64 fonts-nanum-extra all 20161025-1 [11.7 MB]\n",
            "Get:4 http://archive.ubuntu.com/ubuntu artful/main amd64 fonts-nanum-coding all 2.5-1 [1,083 kB]\n",
            "Fetched 36.0 MB in 3s (11.5 MB/s)\n",
            "Selecting previously unselected package fonts-nanum.\n",
            "(Reading database ... 18408 files and directories currently installed.)\n",
            "Preparing to unpack .../fonts-nanum_20161025-1_all.deb ...\n",
            "Unpacking fonts-nanum (20161025-1) ...\n",
            "Selecting previously unselected package fonts-nanum-eco.\n",
            "Preparing to unpack .../fonts-nanum-eco_1.000-6_all.deb ...\n",
            "Unpacking fonts-nanum-eco (1.000-6) ...\n",
            "Selecting previously unselected package fonts-nanum-extra.\n",
            "Preparing to unpack .../fonts-nanum-extra_20161025-1_all.deb ...\n",
            "Unpacking fonts-nanum-extra (20161025-1) ...\n",
            "Selecting previously unselected package fonts-nanum-coding.\n",
            "Preparing to unpack .../fonts-nanum-coding_2.5-1_all.deb ...\n",
            "Unpacking fonts-nanum-coding (2.5-1) ...\n",
            "Setting up fonts-nanum-extra (20161025-1) ...\n",
            "Setting up fonts-nanum (20161025-1) ...\n",
            "Setting up fonts-nanum-coding (2.5-1) ...\n",
            "Setting up fonts-nanum-eco (1.000-6) ...\n"
          ],
          "name": "stdout"
        }
      ]
    },
    {
      "metadata": {
        "id": "XBdu9uRkY-qF",
        "colab_type": "code",
        "colab": {
          "base_uri": "https://localhost:8080/",
          "height": 35
        },
        "outputId": "8e7e9fa6-f29c-47ba-e69f-53d56661936b"
      },
      "cell_type": "code",
      "source": [
        "!fc-cache -f -v"
      ],
      "execution_count": 0,
      "outputs": [
        {
          "output_type": "stream",
          "text": [
            "/bin/sh: 1: fc-cache: not found\r\n"
          ],
          "name": "stdout"
        }
      ]
    },
    {
      "metadata": {
        "id": "V7PZOZOfYbQy",
        "colab_type": "code",
        "colab": {
          "base_uri": "https://localhost:8080/",
          "height": 557
        },
        "outputId": "dda71074-57bf-429b-a803-ec8ac5b633dc"
      },
      "cell_type": "code",
      "source": [
        "!ls -alrt /usr/share/fonts/truetype/nanum/"
      ],
      "execution_count": 0,
      "outputs": [
        {
          "output_type": "stream",
          "text": [
            "total 136992\r\n",
            "-rw-r--r-- 1 root root  7024632 Oct 29  2011 NanumMyeongjoEco.ttf\r\n",
            "-rw-r--r-- 1 root root 10635180 Oct 29  2011 NanumMyeongjoEcoExtraBold.ttf\r\n",
            "-rw-r--r-- 1 root root  9809868 Oct 29  2011 NanumMyeongjoEcoBold.ttf\r\n",
            "-rw-r--r-- 1 root root  7783984 Oct 29  2011 NanumGothicEco.ttf\r\n",
            "-rw-r--r-- 1 root root 11571064 Oct 29  2011 NanumGothicEcoExtraBold.ttf\r\n",
            "-rw-r--r-- 1 root root 11021172 Oct 29  2011 NanumGothicEcoBold.ttf\r\n",
            "-rw-r--r-- 1 root root  1800792 Oct 21  2016 NanumGothicCoding-Bold.ttf\r\n",
            "-rw-r--r-- 1 root root  2779112 Oct 21  2016 NanumGothicCoding.ttf\r\n",
            "-rw-r--r-- 1 root root   723640 Feb 20  2017 NanumSquareR.ttf\r\n",
            "-rw-r--r-- 1 root root   750932 Feb 20  2017 NanumSquareL.ttf\r\n",
            "-rw-r--r-- 1 root root   726684 Feb 20  2017 NanumSquareEB.ttf\r\n",
            "-rw-r--r-- 1 root root   733500 Feb 20  2017 NanumSquareB.ttf\r\n",
            "-rw-r--r-- 1 root root  3548656 Feb 20  2017 NanumPen.ttf\r\n",
            "-rw-r--r-- 1 root root  3839464 Feb 20  2017 NanumMyeongjo.ttf\r\n",
            "-rw-r--r-- 1 root root  4788696 Feb 20  2017 NanumMyeongjoExtraBold.ttf\r\n",
            "-rw-r--r-- 1 root root  4183592 Feb 20  2017 NanumMyeongjoBold.ttf\r\n",
            "-rw-r--r-- 1 root root  4691820 Feb 20  2017 NanumGothic.ttf\r\n",
            "-rw-r--r-- 1 root root  1523188 Feb 20  2017 NanumGothicLight.ttf\r\n",
            "-rw-r--r-- 1 root root  4526920 Feb 20  2017 NanumGothicExtraBold.ttf\r\n",
            "-rw-r--r-- 1 root root  4642244 Feb 20  2017 NanumGothicBold.ttf\r\n",
            "-rw-r--r-- 1 root root  3745376 Feb 20  2017 NanumBrush.ttf\r\n",
            "-rw-r--r-- 1 root root 11033840 Feb 20  2017 NanumBarunpenR.ttf\r\n",
            "-rw-r--r-- 1 root root 10028540 Feb 20  2017 NanumBarunpenB.ttf\r\n",
            "-rw-r--r-- 1 root root  4790084 Feb 20  2017 NanumBarunGothicUltraLight.ttf\r\n",
            "-rw-r--r-- 1 root root  4184028 Feb 20  2017 NanumBarunGothic.ttf\r\n",
            "-rw-r--r-- 1 root root  4917332 Feb 20  2017 NanumBarunGothicLight.ttf\r\n",
            "-rw-r--r-- 1 root root  4413912 Feb 20  2017 NanumBarunGothicBold.ttf\r\n",
            "drwxr-xr-x 1 root root     4096 Aug 20 08:08 ..\r\n",
            "drwxr-xr-x 2 root root     4096 Aug 20 08:08 .\r\n"
          ],
          "name": "stdout"
        }
      ]
    },
    {
      "metadata": {
        "id": "1jFxvAA9d2QA",
        "colab_type": "code",
        "colab": {
          "base_uri": "https://localhost:8080/",
          "height": 1259
        },
        "outputId": "0729ec84-0e14-458a-b199-68cabea44e1a"
      },
      "cell_type": "code",
      "source": [
        "!ls -alrt /usr/local/lib/python3.6/dist-packages/matplotlib/mpl-data/fonts/ttf"
      ],
      "execution_count": 0,
      "outputs": [
        {
          "output_type": "stream",
          "text": [
            "total 143816\r\n",
            "-rw-r--r-- 1 root staff    15704 Aug 15 20:47 STIXSizTwoSymReg.ttf\r\n",
            "-rw-r--r-- 1 root staff    12116 Aug 15 20:47 STIXSizTwoSymBol.ttf\r\n",
            "-rw-r--r-- 1 root staff    15836 Aug 15 20:47 STIXSizThreeSymReg.ttf\r\n",
            "-rw-r--r-- 1 root staff    19760 Aug 15 20:47 STIXSizOneSymReg.ttf\r\n",
            "-rw-r--r-- 1 root staff    12556 Aug 15 20:47 STIXSizOneSymBol.ttf\r\n",
            "-rw-r--r-- 1 root staff    15972 Aug 15 20:47 STIXSizFourSymReg.ttf\r\n",
            "-rw-r--r-- 1 root staff    12228 Aug 15 20:47 STIXSizFourSymBol.ttf\r\n",
            "-rw-r--r-- 1 root staff    13656 Aug 15 20:47 STIXSizFiveSymReg.ttf\r\n",
            "-rw-r--r-- 1 root staff    59108 Aug 15 20:47 STIXNonUni.ttf\r\n",
            "-rw-r--r-- 1 root staff    46752 Aug 15 20:47 STIXNonUniIta.ttf\r\n",
            "-rw-r--r-- 1 root staff    30512 Aug 15 20:47 STIXNonUniBol.ttf\r\n",
            "-rw-r--r-- 1 root staff    41272 Aug 15 20:47 STIXNonUniBolIta.ttf\r\n",
            "-rw-r--r-- 1 root staff   175040 Aug 15 20:47 STIXGeneralItalic.ttf\r\n",
            "-rw-r--r-- 1 root staff   237360 Aug 15 20:47 STIXGeneralBol.ttf\r\n",
            "-rw-r--r-- 1 root staff   181152 Aug 15 20:47 STIXGeneralBolIta.ttf\r\n",
            "-rw-r--r-- 1 root staff     5475 Aug 15 20:47 LICENSE_STIX\r\n",
            "-rw-r--r-- 1 root staff   379740 Aug 15 20:47 DejaVuSerif.ttf\r\n",
            "-rw-r--r-- 1 root staff   345612 Aug 15 20:47 DejaVuSerif-Italic.ttf\r\n",
            "-rw-r--r-- 1 root staff    14300 Aug 15 20:47 DejaVuSerifDisplay.ttf\r\n",
            "-rw-r--r-- 1 root staff   355692 Aug 15 20:47 DejaVuSerif-Bold.ttf\r\n",
            "-rw-r--r-- 1 root staff   347064 Aug 15 20:47 DejaVuSerif-BoldItalic.ttf\r\n",
            "-rw-r--r-- 1 root staff   756072 Aug 15 20:47 DejaVuSans.ttf\r\n",
            "-rw-r--r-- 1 root staff   633840 Aug 15 20:47 DejaVuSans-Oblique.ttf\r\n",
            "-rw-r--r-- 1 root staff   251472 Aug 15 20:47 DejaVuSansMono-Oblique.ttf\r\n",
            "-rw-r--r-- 1 root staff   253116 Aug 15 20:47 DejaVuSansMono-BoldOblique.ttf\r\n",
            "-rw-r--r-- 1 root staff   641720 Aug 15 20:47 DejaVuSans-BoldOblique.ttf\r\n",
            "-rw-r--r-- 1 root staff    28136 Aug 15 20:47 cmtt10.ttf\r\n",
            "-rw-r--r-- 1 root staff    32560 Aug 15 20:47 cmmi10.ttf\r\n",
            "-rw-r--r-- 1 root staff    21092 Aug 15 20:47 cmex10.ttf\r\n",
            "-rw-r--r-- 1 root staff    12192 Aug 15 20:47 STIXSizThreeSymBol.ttf\r\n",
            "-rw-r--r-- 1 root staff   448228 Aug 15 20:47 STIXGeneral.ttf\r\n",
            "-rw-r--r-- 1 root staff   340240 Aug 15 20:47 DejaVuSansMono.ttf\r\n",
            "-rw-r--r-- 1 root staff   331536 Aug 15 20:47 DejaVuSansMono-Bold.ttf\r\n",
            "-rw-r--r-- 1 root staff    25712 Aug 15 20:47 DejaVuSansDisplay.ttf\r\n",
            "-rw-r--r-- 1 root staff   704128 Aug 15 20:47 DejaVuSans-Bold.ttf\r\n",
            "-rw-r--r-- 1 root staff    29396 Aug 15 20:47 cmsy10.ttf\r\n",
            "-rw-r--r-- 1 root staff    20376 Aug 15 20:47 cmss10.ttf\r\n",
            "-rw-r--r-- 1 root staff    26348 Aug 15 20:47 cmr10.ttf\r\n",
            "-rw-r--r-- 1 root staff    25680 Aug 15 20:47 cmb10.ttf\r\n",
            "drwxr-sr-x 1 root staff     4096 Aug 15 20:49 ..\r\n",
            "-rw-r--r-- 1 root staff  4184028 Aug 20 08:33 NanumBarunGothic.ttf\r\n",
            "-rw-r--r-- 1 root staff  4413912 Aug 20 08:33 NanumBarunGothicBold.ttf\r\n",
            "-rw-r--r-- 1 root staff  4917332 Aug 20 08:33 NanumBarunGothicLight.ttf\r\n",
            "-rw-r--r-- 1 root staff  4790084 Aug 20 08:33 NanumBarunGothicUltraLight.ttf\r\n",
            "-rw-r--r-- 1 root staff 10028540 Aug 20 08:33 NanumBarunpenB.ttf\r\n",
            "-rw-r--r-- 1 root staff 11033840 Aug 20 08:33 NanumBarunpenR.ttf\r\n",
            "-rw-r--r-- 1 root staff  3745376 Aug 20 08:33 NanumBrush.ttf\r\n",
            "-rw-r--r-- 1 root staff  4691820 Aug 20 08:33 NanumGothic.ttf\r\n",
            "-rw-r--r-- 1 root staff  4642244 Aug 20 08:33 NanumGothicBold.ttf\r\n",
            "-rw-r--r-- 1 root staff  1800792 Aug 20 08:33 NanumGothicCoding-Bold.ttf\r\n",
            "-rw-r--r-- 1 root staff  2779112 Aug 20 08:33 NanumGothicCoding.ttf\r\n",
            "-rw-r--r-- 1 root staff  7783984 Aug 20 08:33 NanumGothicEco.ttf\r\n",
            "-rw-r--r-- 1 root staff 11021172 Aug 20 08:33 NanumGothicEcoBold.ttf\r\n",
            "-rw-r--r-- 1 root staff 11571064 Aug 20 08:33 NanumGothicEcoExtraBold.ttf\r\n",
            "-rw-r--r-- 1 root staff  4526920 Aug 20 08:33 NanumGothicExtraBold.ttf\r\n",
            "-rw-r--r-- 1 root staff  1523188 Aug 20 08:33 NanumGothicLight.ttf\r\n",
            "-rw-r--r-- 1 root staff  3839464 Aug 20 08:33 NanumMyeongjo.ttf\r\n",
            "-rw-r--r-- 1 root staff  4183592 Aug 20 08:33 NanumMyeongjoBold.ttf\r\n",
            "-rw-r--r-- 1 root staff  7024632 Aug 20 08:33 NanumMyeongjoEco.ttf\r\n",
            "-rw-r--r-- 1 root staff  9809868 Aug 20 08:33 NanumMyeongjoEcoBold.ttf\r\n",
            "-rw-r--r-- 1 root staff 10635180 Aug 20 08:33 NanumMyeongjoEcoExtraBold.ttf\r\n",
            "-rw-r--r-- 1 root staff  4788696 Aug 20 08:33 NanumMyeongjoExtraBold.ttf\r\n",
            "-rw-r--r-- 1 root staff  3548656 Aug 20 08:33 NanumPen.ttf\r\n",
            "-rw-r--r-- 1 root staff   733500 Aug 20 08:33 NanumSquareB.ttf\r\n",
            "-rw-r--r-- 1 root staff   726684 Aug 20 08:33 NanumSquareEB.ttf\r\n",
            "-rw-r--r-- 1 root staff   750932 Aug 20 08:33 NanumSquareL.ttf\r\n",
            "drwxr-sr-x 1 root staff     4096 Aug 20 08:33 .\r\n",
            "-rw-r--r-- 1 root staff   723640 Aug 20 08:33 NanumSquareR.ttf\r\n"
          ],
          "name": "stdout"
        }
      ]
    },
    {
      "metadata": {
        "id": "tc2n6FMoY1Zp",
        "colab_type": "code",
        "colab": {}
      },
      "cell_type": "code",
      "source": [
        "!cp /usr/share/fonts/truetype/nanum/*.ttf /usr/local/lib/python3.6/dist-packages/matplotlib/mpl-data/fonts/ttf/"
      ],
      "execution_count": 0,
      "outputs": []
    },
    {
      "metadata": {
        "id": "_T6kCG6QeGwa",
        "colab_type": "code",
        "colab": {
          "base_uri": "https://localhost:8080/",
          "height": 433
        },
        "outputId": "3197e60b-c902-4fb0-be38-5d45052fd3b6"
      },
      "cell_type": "code",
      "source": [
        "# 기본 설정 읽기\n",
        "import matplotlib.pyplot as plt\n",
        "\n",
        "\n",
        "\n",
        "#NanumGothic = fm.FontProperties(fname='/usr/share/fonts/truetype/nanum/NanumGothic.ttf')\n",
        "\n",
        "\n",
        "for key in plt.rcParamsDefault.keys():\n",
        "    if 'font' in key:\n",
        "        print(\"{}: {}\".format(key, plt.rcParamsDefault[key]))\n",
        "        \n",
        "        \n",
        "font_path = '/usr/share/fonts/truetype/nanum/NanumGothic.ttf'\n",
        "font_name = fm.FontProperties(fname=font_path).get_name()\n",
        "plt.rcParams['font.family'] = font_name\n",
        "plt.rcParams['font.size'] = 10      \n",
        "\n",
        "\n",
        "# size, family\n",
        "print('# 설정되어있는 폰트 사이즈')\n",
        "print (plt.rcParams['font.size'] ) \n",
        "print('# 설정되어있는 폰트 글꼴')\n",
        "print (plt.rcParams['font.family'] )"
      ],
      "execution_count": 0,
      "outputs": [
        {
          "output_type": "stream",
          "text": [
            "font.cursive: ['Apple Chancery', 'Textile', 'Zapf Chancery', 'Sand', 'Script MT', 'Felipa', 'cursive']\n",
            "font.family: ['sans-serif']\n",
            "font.fantasy: ['Comic Sans MS', 'Chicago', 'Charcoal', 'ImpactWestern', 'Humor Sans', 'xkcd', 'fantasy']\n",
            "font.monospace: ['DejaVu Sans Mono', 'Bitstream Vera Sans Mono', 'Computer Modern Typewriter', 'Andale Mono', 'Nimbus Mono L', 'Courier New', 'Courier', 'Fixed', 'Terminal', 'monospace']\n",
            "font.sans-serif: ['DejaVu Sans', 'Bitstream Vera Sans', 'Computer Modern Sans Serif', 'Lucida Grande', 'Verdana', 'Geneva', 'Lucid', 'Arial', 'Helvetica', 'Avant Garde', 'sans-serif']\n",
            "font.serif: ['DejaVu Serif', 'Bitstream Vera Serif', 'Computer Modern Roman', 'New Century Schoolbook', 'Century Schoolbook L', 'Utopia', 'ITC Bookman', 'Bookman', 'Nimbus Roman No9 L', 'Times New Roman', 'Times', 'Palatino', 'Charter', 'serif']\n",
            "font.size: 10.0\n",
            "font.stretch: normal\n",
            "font.style: normal\n",
            "font.variant: normal\n",
            "font.weight: normal\n",
            "legend.fontsize: medium\n",
            "mathtext.fontset: dejavusans\n",
            "pdf.fonttype: 3\n",
            "pdf.use14corefonts: False\n",
            "pgf.rcfonts: True\n",
            "ps.fonttype: 3\n",
            "svg.fonttype: path\n",
            "# 설정되어있는 폰트 사이즈\n",
            "10.0\n",
            "# 설정되어있는 폰트 글꼴\n",
            "['NanumGothic']\n"
          ],
          "name": "stdout"
        }
      ]
    }
  ]
}